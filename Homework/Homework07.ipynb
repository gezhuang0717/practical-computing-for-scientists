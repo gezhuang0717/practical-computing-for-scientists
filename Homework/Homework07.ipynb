{
  "nbformat": 4,
  "nbformat_minor": 0,
  "metadata": {
    "colab": {
      "name": "Homework07.ipynb",
      "version": "0.3.2",
      "provenance": [],
      "collapsed_sections": [],
      "include_colab_link": true
    },
    "kernelspec": {
      "name": "python3",
      "display_name": "Python 3"
    }
  },
  "cells": [
    {
      "cell_type": "markdown",
      "metadata": {
        "id": "view-in-github",
        "colab_type": "text"
      },
      "source": [
        "<a href=\"https://colab.research.google.com/github/wdconinc/practical-computing-for-scientists/blob/master/Homework/Homework07.ipynb\" target=\"_parent\"><img src=\"https://colab.research.google.com/assets/colab-badge.svg\" alt=\"Open In Colab\"/></a>"
      ]
    },
    {
      "metadata": {
        "id": "LBVsNNlF14aD",
        "colab_type": "text"
      },
      "cell_type": "markdown",
      "source": [
        "# Homework #07"
      ]
    },
    {
      "metadata": {
        "id": "-sgGf4EM14aE",
        "colab_type": "code",
        "colab": {}
      },
      "cell_type": "code",
      "source": [
        "%matplotlib inline\n",
        "import numpy as np\n",
        "import scipy as sp\n",
        "import matplotlib.pyplot as plt\n",
        "import math"
      ],
      "execution_count": 0,
      "outputs": []
    },
    {
      "metadata": {
        "id": "znhWUAjt14aH",
        "colab_type": "text"
      },
      "cell_type": "markdown",
      "source": [
        "##Problem 7.1 (6 points)"
      ]
    },
    {
      "metadata": {
        "id": "sQ3CuNF314aI",
        "colab_type": "text"
      },
      "cell_type": "markdown",
      "source": [
        "Plot $f(x)=(x^2+2x+3y)e^{-(x^2+y^2)}$ as a `contourf` using some colormap other than the default and find its integral over the unit circle."
      ]
    },
    {
      "metadata": {
        "id": "uWt26RcK14aJ",
        "colab_type": "code",
        "colab": {}
      },
      "cell_type": "code",
      "source": [
        ""
      ],
      "execution_count": 0,
      "outputs": []
    },
    {
      "metadata": {
        "id": "eAG5D_UE14aL",
        "colab_type": "text"
      },
      "cell_type": "markdown",
      "source": [
        "##Problem 7.2 (6 points)"
      ]
    },
    {
      "metadata": {
        "id": "KEVD1jVR14aM",
        "colab_type": "text"
      },
      "cell_type": "markdown",
      "source": [
        "In quantum mechanics knowing the wavefunction $\\psi(x)$ allows us to compute the expectation value of various operators. In particular, we can compute the variance in the position of a particle, which is a measure of the (square of the) uncertainty in the position:\n",
        "\n",
        "$$\\sigma_x^2 = \\int x^2  |\\psi(x)|^2 dx - \\left [ \\int x |\\psi(x)|^2 dx \\right]^2$$\n",
        "\n",
        "Compute the uncertainty $\\sigma_x$ for the $n=1$ energy level of the harmonic oscillator. You'll recall that the wavefunction is real and is given by:\n",
        "\n",
        "$$\\psi_n(x)=\\frac{1}{\\sqrt[4]{\\pi}}\\frac{1}{\\sqrt{2^n n!}} H_n(x) e^{-x^2/2}$$\n",
        "\n",
        "Here $H_n$ are the _Hermite polynomials_. Note, I haven't taken care of the normalization, so you'll need to divide $\\sigma_x^2$ by $\\int |\\psi(x)|^2 dx$. In principle the range of integration is $[-\\infty,+\\infty]$ but looking back at your previous homework you can see that a limited range around zero will do (plot the wavefunction if this isn't clear)."
      ]
    },
    {
      "metadata": {
        "id": "M4UodYPF14aM",
        "colab_type": "code",
        "colab": {}
      },
      "cell_type": "code",
      "source": [
        ""
      ],
      "execution_count": 0,
      "outputs": []
    },
    {
      "metadata": {
        "id": "zHbx4b5_14aO",
        "colab_type": "text"
      },
      "cell_type": "markdown",
      "source": [
        "##Problem 7.3 (8 points)"
      ]
    },
    {
      "metadata": {
        "id": "HxDcM-1s14aP",
        "colab_type": "text"
      },
      "cell_type": "markdown",
      "source": [
        "Simpson's rule is like the trapezoid rule, but with 3 points. It says:\n",
        "\n",
        "$$ \\int_{x_0}^{x_2} f(x)dx \\approx h \\left [\\frac{1}{6} f(x_0) + \\frac{2}{3} f(x_1) + \\frac{1}{6} f(x_2) \\right ] $$\n",
        "where $h=x_2-x_0$ and $x_1$ is the midpoint between $x_0$ and $x_2$.\n",
        "\n",
        "Write a function `simp(f,a,b,n)` which integrates the function $f(x)$ over the interval $[a,b]$ by dividing it into $n$ subintervals.\n",
        "\n",
        "Then, to prove it works, integrate $e^{-x}$ and $\\sin\\pi x$ over the interval $[0,1]$. Make sure your answer matches the one found with `scipy.integrate.quad` to within 5 decimal places."
      ]
    },
    {
      "metadata": {
        "id": "GnCd3VET14aP",
        "colab_type": "code",
        "colab": {}
      },
      "cell_type": "code",
      "source": [
        ""
      ],
      "execution_count": 0,
      "outputs": []
    }
  ]
}