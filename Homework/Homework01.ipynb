{
  "nbformat": 4,
  "nbformat_minor": 0,
  "metadata": {
    "colab": {
      "name": "homework01.ipynb",
      "version": "0.3.2",
      "provenance": [],
      "include_colab_link": true
    }
  },
  "cells": [
    {
      "cell_type": "markdown",
      "metadata": {
        "id": "view-in-github",
        "colab_type": "text"
      },
      "source": [
        "<a href=\"https://colab.research.google.com/github/wdconinc/practical-computing-for-scientists/blob/master/Homework/Homework01.ipynb\" target=\"_parent\"><img src=\"https://colab.research.google.com/assets/colab-badge.svg\" alt=\"Open In Colab\"/></a>"
      ]
    },
    {
      "metadata": {
        "id": "xvdiDlOIlt0x",
        "colab_type": "text"
      },
      "cell_type": "markdown",
      "source": [
        "#Homework #1"
      ]
    },
    {
      "metadata": {
        "id": "3TrGJ5U5lt0z",
        "colab_type": "code",
        "colab": {}
      },
      "cell_type": "code",
      "source": [
        "#Import a standard set of modules\n",
        "%matplotlib inline\n",
        "import numpy as np\n",
        "import scipy as sp\n",
        "import matplotlib.pyplot as plt\n",
        "import math"
      ],
      "execution_count": 0,
      "outputs": []
    },
    {
      "metadata": {
        "id": "zZfV-OU5lt03",
        "colab_type": "text"
      },
      "cell_type": "markdown",
      "source": [
        "## Problem 1.1  (2 points)\n",
        "\n",
        "Find the value of the expression\n",
        "\n",
        "$$ 2.5^4 + \\ln (3/4) $$"
      ]
    },
    {
      "metadata": {
        "id": "wYFm3Mmplt03",
        "colab_type": "code",
        "colab": {}
      },
      "cell_type": "code",
      "source": [
        ""
      ],
      "execution_count": 0,
      "outputs": []
    },
    {
      "metadata": {
        "id": "dKZjdbj5lt06",
        "colab_type": "text"
      },
      "cell_type": "markdown",
      "source": [
        "## Problem 1.2 (2 points)\n",
        "Find the value of the expression\n",
        "\n",
        "$$ \\sin(\\pi /4 ) + \\tan(2\\pi/3)$$"
      ]
    },
    {
      "metadata": {
        "id": "1ll5Uecelt07",
        "colab_type": "code",
        "colab": {}
      },
      "cell_type": "code",
      "source": [
        ""
      ],
      "execution_count": 0,
      "outputs": []
    },
    {
      "metadata": {
        "id": "CkoA4o2Slt09",
        "colab_type": "text"
      },
      "cell_type": "markdown",
      "source": [
        "## Problem 1.3 (2 points)\n",
        "\n",
        "Find the value of the expression\n",
        "\n",
        "$$ e^{1.7} + \\log_{10}(4) $$"
      ]
    },
    {
      "metadata": {
        "id": "8w4ymP8Nlt0-",
        "colab_type": "code",
        "colab": {}
      },
      "cell_type": "code",
      "source": [
        ""
      ],
      "execution_count": 0,
      "outputs": []
    },
    {
      "metadata": {
        "id": "YrELDsEBlt1B",
        "colab_type": "text"
      },
      "cell_type": "markdown",
      "source": [
        "## Problem 1.4 (2 points)\n",
        "\n",
        "Find the value of the expression\n",
        "\n",
        "$$ \\cos^{2}(2\\pi/3) $$"
      ]
    },
    {
      "metadata": {
        "id": "tlWQuTILlt1C",
        "colab_type": "code",
        "colab": {}
      },
      "cell_type": "code",
      "source": [
        ""
      ],
      "execution_count": 0,
      "outputs": []
    },
    {
      "metadata": {
        "id": "J79uKi-Blt1E",
        "colab_type": "text"
      },
      "cell_type": "markdown",
      "source": [
        "## Problem 1.5 (4 points)\n",
        "\n",
        "Starting with the example from our first class, plot the function \n",
        "\n",
        "$$ \\cos x \\sin 2x $$\n",
        "\n",
        "for $0 < x < 8$.  Make the line dashed with a green color. Hint: `help(plt.plot)`"
      ]
    },
    {
      "metadata": {
        "id": "XPnb94R6lt1F",
        "colab_type": "code",
        "colab": {}
      },
      "cell_type": "code",
      "source": [
        ""
      ],
      "execution_count": 0,
      "outputs": []
    },
    {
      "metadata": {
        "id": "O7MiHYbult1H",
        "colab_type": "text"
      },
      "cell_type": "markdown",
      "source": [
        "## Problem 1.6 (4 points)\n",
        "\n",
        "Write a function to convert the temperature in Fahrenheit to Celsius:\n",
        "\n",
        "$$ C = \\frac{5}{9} (F - 32) $$\n",
        "\n",
        "Call the function `FtoC`.  Also write a function to convert Celsius to Fahrenheit, called `CtoF`.  \n",
        "\n",
        "* Compute the result of each for values of 0, 32, 50, and 100. \n",
        "\n",
        "* Verify that \n",
        "```Python \n",
        "CtoF( FtoC(T) ) == T\n",
        "```\n",
        "\n",
        "* Then, make a plot of the temperature in Celsius as a function of the temperature in Fahrenheit, for $ 0 < T < 100 ^\\circ F$."
      ]
    },
    {
      "metadata": {
        "id": "MhktseAllt1I",
        "colab_type": "code",
        "colab": {}
      },
      "cell_type": "code",
      "source": [
        ""
      ],
      "execution_count": 0,
      "outputs": []
    },
    {
      "metadata": {
        "id": "EiQk9Qmilt1K",
        "colab_type": "text"
      },
      "cell_type": "markdown",
      "source": [
        "## Problem 1.7 (4 points)\n",
        "\n",
        "We can also work with complex numbers. In python these are written as `a + bj` where `a` and `b` are real numbers. Note, python uses `j` for the imaginary number ($j=\\sqrt{-1}$) rather than `i`. Unfortunately, the standard functions in the `math` module do not work with complex numbers.  Instead, you need to import the `cmath` module.  Do this and then compute:\n",
        "\n",
        "$$e^{i\\pi}$$\n",
        "\n",
        "Also define a function $f(x)$ and compute:\n",
        "\n",
        "$$f(x) = \\frac{1}{2} \\left[ e^{ix} + e^{-ix}\\right]$$ \n",
        "\n",
        "for $x={0,\\pi/4, \\pi/2,3\\pi/4,\\pi}$. Looking at the output, what's a better known name for $f(x)$?\n",
        "\n",
        "_Note, $f(x)$ is a good candidate for a `lambda` function._"
      ]
    },
    {
      "metadata": {
        "id": "ti8aVFLMlt1M",
        "colab_type": "code",
        "colab": {}
      },
      "cell_type": "code",
      "source": [
        ""
      ],
      "execution_count": 0,
      "outputs": []
    }
  ]
}