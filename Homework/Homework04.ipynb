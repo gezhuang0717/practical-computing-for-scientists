{
  "nbformat": 4,
  "nbformat_minor": 0,
  "metadata": {
    "colab": {
      "name": "homework04.ipynb",
      "version": "0.3.2",
      "provenance": [],
      "collapsed_sections": [],
      "include_colab_link": true
    },
    "kernelspec": {
      "name": "python3",
      "display_name": "Python 3"
    }
  },
  "cells": [
    {
      "cell_type": "markdown",
      "metadata": {
        "id": "view-in-github",
        "colab_type": "text"
      },
      "source": [
        "<a href=\"https://colab.research.google.com/github/wdconinc/practical-computing-for-scientists/blob/master/Homework/Homework04.ipynb\" target=\"_parent\"><img src=\"https://colab.research.google.com/assets/colab-badge.svg\" alt=\"Open In Colab\"/></a>"
      ]
    },
    {
      "metadata": {
        "id": "S22_-YEAluhb",
        "colab_type": "text"
      },
      "cell_type": "markdown",
      "source": [
        "#Homework #04"
      ]
    },
    {
      "metadata": {
        "id": "P18BuyYTluhd",
        "colab_type": "code",
        "colab": {}
      },
      "cell_type": "code",
      "source": [
        "%matplotlib inline\n",
        "import numpy as np\n",
        "import scipy as sp\n",
        "import matplotlib.pyplot as plt\n",
        "import math"
      ],
      "execution_count": 0,
      "outputs": []
    },
    {
      "metadata": {
        "id": "aUhbxVatluhh",
        "colab_type": "text"
      },
      "cell_type": "markdown",
      "source": [
        "## Problem 4.1 (4 points)\n",
        "\n",
        "_Plotting wavefunctions. Using special functions._\n",
        "\n",
        "The Schrodinger equation for the harmonic oscillator, with potential $V=\\frac{1}{2} \\omega^2 m x^2$, is:\n",
        "\n",
        "$$ \\frac{\\mathrm{d}^2 \\psi}{\\mathrm{d}\\xi^2} = (\\xi^2 - K)\\psi $$\n",
        "\n",
        "where $\\xi \\equiv \\sqrt{\\frac{m \\omega}{\\hbar}}x$  the x coordinate in units of $\\sqrt{\\frac{\\hbar}{m \\omega}}$ and $K\\equiv \\frac{2E}{\\hbar\\omega}$ is the energy in units of $\\hbar \\omega/2$. The equation has solutions for discrete (i.e., quantized) energies \n",
        "\n",
        "$$E_n = (n +\\frac{1}{2}) \\hbar \\omega  \\qquad n=0,1,2,\\ldots$$.\n",
        "\n",
        "The corresponding wavefunctions (disregarding normalization) are:\n",
        "\n",
        "$$\\psi_n(\\xi)=\\frac{1}{\\sqrt[4]{\\pi}}\\frac{1}{\\sqrt{2^n n!}} H_n(\\xi) e^{-\\xi^2/2}$$\n",
        "\n",
        "Here $H_n$ are the _Hermite polynomials_.\n",
        "\n",
        "\n",
        "1. Plot $\\psi_n(\\xi)$ for $n \\in 0..3$ and $-4<\\xi<4$. You'll need to `import scipy.special as sf` and then use `sf.eval_hermite` or `sf.hermite`. You'll also want to use `sf.factorial` and `exp`, `power` and `pi` from `scipy`.  Label both axes and give a legend to your plot indicating which value of `n` corresponds to which curve.\n",
        "2. Physically, the square of the wavefunction is the important thing. It's proportional to the probability of finding the particle at each position $\\xi$. Plot $|\\psi_n(\\xi)|^{2}$ for $n \\in 0..3$ and $-4<\\xi<4$. Also label and provide a legend.\n",
        "\n",
        "Note: In classical physics the potential $V(x)\\leq E$, which in this problem corresponds to $$\\frac{m\\omega^2}{2} x^2 \\leq (n+1/2)\\hbar \\omega$$  or\n",
        "\n",
        "$$ |\\xi| \\leq \\sqrt{2(n+1/2)} $$\n",
        "\n",
        "In quantum mechanics there is a non-zero probability of finding the particle in the classically forbidden region."
      ]
    },
    {
      "metadata": {
        "id": "q3K2xIRwluhi",
        "colab_type": "code",
        "outputId": "0dba04df-1f9a-406f-ee65-71a7c6157525",
        "colab": {
          "base_uri": "https://localhost:8080/",
          "height": 283
        }
      },
      "cell_type": "code",
      "source": [
        "x = np.linspace(-4.0, 4.0, 200)\n",
        "plt.plot(x, (sp.special.eval_hermite(2,x) * sp.exp(-x**2/2))**2)"
      ],
      "execution_count": 0,
      "outputs": [
        {
          "output_type": "execute_result",
          "data": {
            "text/plain": [
              "[<matplotlib.lines.Line2D at 0x7f6728e43ac8>]"
            ]
          },
          "metadata": {
            "tags": []
          },
          "execution_count": 4
        },
        {
          "output_type": "display_data",
          "data": {
            "image/png": "[encoded data removed]",
            "text/plain": [
              "<matplotlib.figure.Figure at 0x7f6728eb3828>"
            ]
          },
          "metadata": {
            "tags": []
          }
        }
      ]
    },
    {
      "metadata": {
        "id": "6VjXRx4Zluhl",
        "colab_type": "text"
      },
      "cell_type": "markdown",
      "source": [
        "## Problem 4.2 (3 points)\n",
        "\n",
        "_Using informal arguments_\n",
        "\n",
        "Write a function `polynomial` which implements a polynomial function of arbitrary integer order $n$:\n",
        "\n",
        "$$ f(x) = c_0 + c_1 x + c_2 x^2 + \\cdots + c_n x^n $$\n",
        "\n",
        "The function should take $x$ as a formal argument and the constants $\\{c_i\\}$ as informal arguments. You will have to use the `*args` function argument (see Lecture 5). The `enumerate` builtin function will also be convenient in order to get the power $i$ to go along with each $c_i$. Recall, you can index tuples just like arrays by using [].\n",
        "\n",
        "Test your function by plotting:\n",
        "\n",
        "$$ f(x) = 1 + 2 x^2 $$\n",
        "\n",
        "over the range (-3,3)."
      ]
    },
    {
      "metadata": {
        "id": "8cXd12Dzluhm",
        "colab_type": "code",
        "colab": {}
      },
      "cell_type": "code",
      "source": [
        ""
      ],
      "execution_count": 0,
      "outputs": []
    },
    {
      "metadata": {
        "id": "vC4b2IHvluho",
        "colab_type": "text"
      },
      "cell_type": "markdown",
      "source": [
        "## Problem 4.3 (4 points)\n",
        "\n",
        "The Legendre polynomials $P_i(x)$ occur quite often in physics, for example in the solution to Schroedinger's equation in spherical coordinates. They are defined by the first two terms:\n",
        "\n",
        "$$ P_0(x) = 1 \\qquad \\mbox{and} \\qquad P_1(x) = x $$\n",
        "\n",
        "and the recursion relation\n",
        "\n",
        "$$ P_{n+1}(x) = \\frac{2n+1}{n+1} x P_{n}(x) - \\frac{n}{n+1} P_{n-1}(x) $$\n",
        "\n",
        "Define a recursive function `legendre(n,x)` to represent the Legendre polynomial for arbitrary integer order $n$.  Plot the result for $n\\in 0\\ldots 5$ and $-1<x<+1$.\n",
        "\n",
        "Now, there is a technical difficulty here.  For $P_0$ we want to return 1. But, recall that the function will be used in the `plt.plot` command to make an array. So, if `x` has length `N` then $P_0(x)$ must also have length `N`.  This can be done by returning `np.array([1]*len(x))` or `np.ones(len(x))`.\n"
      ]
    },
    {
      "metadata": {
        "id": "zCksAg4tluhp",
        "colab_type": "code",
        "colab": {}
      },
      "cell_type": "code",
      "source": [
        ""
      ],
      "execution_count": 0,
      "outputs": []
    },
    {
      "metadata": {
        "id": "dxg-uOdiluhs",
        "colab_type": "text"
      },
      "cell_type": "markdown",
      "source": [
        "## Problem 4.4 (3 points)\n",
        "\n",
        "The Hermite polynomials are solutions to Hermite's differential equation:\n",
        "\n",
        "$$ H''_n(x) -2x H'_n(x) = - 2n H_n(x) $$\n",
        "\n",
        "Verify this by plotting the difference of the left-hand and right hand sides as a function of x for $n\\in 2\\ldots 5$. In addition to the first derivative introduced in class you will need to code up a function `DD(f,x)` to take the second derivative:\n",
        "\n",
        "$$ f''(x) = \\frac{f(x+h) - 2f(x) + f(x-h)}{h^2} $$\n",
        "\n",
        "Now, there is a technical difficulty.  I would like to do this:\n",
        "\n",
        "```\n",
        "#define D and DD\n",
        "import scipy.special as sf\n",
        "x = np.linspace(-1,1,100)\n",
        "plt.plot(x,DD(sf.eval_hermite(3,x),x) - 2*x*D(sf.eval_hermite(3,x),x) + 2*3*sf.eval_hermite(3,x))\n",
        "```\n",
        "\n",
        "But, Python will complain bitterly about being asked to take the derivative of a `np.ndarray`.  The issue is that we specify the order of the hermite polynomial when the function is called. And, if the function is called, it returns an array. But, the derivative functions take the function itself as an argument and don't know that the function is to be called as `f(n,x)` rather than `f(x)`. So what to do? There is a techical workaround: use a lambda to make a new function `hn(x)` in which the value of n is fixed. For example:\n",
        "\n",
        "```\n",
        "h3 = lambda x: sf.eval_hermite(3,x)\n",
        "```\n",
        "\n",
        "That will work as expected (try plotting just `h3(x)`). You'll notice some jitter around 0. Try playing with the size of h.\n",
        "\n",
        "### Bonus point (1 point)\n",
        "\n",
        "There is another workaround that is, arguably, even more elegant: rewrite your derivative function to return a function (using lambda) instead of a list of values. Then you will be able to use `sf.hermite(3)` directly. You will end up with some interesting looking syntax, like `D(D(sf.hermite(3)))(x)`."
      ]
    },
    {
      "metadata": {
        "id": "gUzxrFprluht",
        "colab_type": "code",
        "colab": {}
      },
      "cell_type": "code",
      "source": [
        ""
      ],
      "execution_count": 0,
      "outputs": []
    },
    {
      "metadata": {
        "id": "eQNcTPnQluhv",
        "colab_type": "text"
      },
      "cell_type": "markdown",
      "source": [
        "## Problem 4.5 (2 points)\n",
        "\n",
        "Suppose I add $x_1=1.2340\\times 10^6$ and $x_2= 0.6100010$ as 32-bit floating point numbers in order to get a new quantity $y$.\n",
        "\n",
        "a. How many bits of precision are lost from $x_2$?\n",
        "\n",
        "b. What is the estimated roundoff error on $y$?\n",
        "\n",
        "_Note: 32-bit numbers encode the mantissa 1.F with 24 bits; 23 are used for F._\n",
        "\n",
        "You should feel free to use the IEEE 754 calculator http://www.h-schmidt.net/FloatConverter/IEEE754.html\n"
      ]
    },
    {
      "metadata": {
        "id": "E46sRsesluhx",
        "colab_type": "code",
        "colab": {}
      },
      "cell_type": "code",
      "source": [
        ""
      ],
      "execution_count": 0,
      "outputs": []
    },
    {
      "metadata": {
        "id": "cqz8pdgtluhz",
        "colab_type": "text"
      },
      "cell_type": "markdown",
      "source": [
        "## Problem 4.6 (4 points)\n",
        "\n",
        "Describe how this sorting algorithm works in a paragraph. Feel free to insert any print statements."
      ]
    },
    {
      "metadata": {
        "id": "WA8jJf5Xluh0",
        "colab_type": "code",
        "outputId": "18d1a803-40ae-4a9d-ff8c-14492433fa40",
        "colab": {
          "base_uri": "https://localhost:8080/",
          "height": 1129
        }
      },
      "cell_type": "code",
      "source": [
        "def mysort(L, start = 0, end = None):\n",
        "    if end == None:\n",
        "        end = len(L)\n",
        "    if start < end-1:\n",
        "        x = mysplit(L, start, end)\n",
        "        print(\"in mysort: \", L)\n",
        "        mysort(L, start, x)\n",
        "        mysort(L, x+1, end)\n",
        "\n",
        "def mysplit(L, start, end):\n",
        "    val_first = L[start]\n",
        "    h = start\n",
        "    print(\"before manipulation in mysplit: \", L)\n",
        "    for i in range(start+1, end):\n",
        "        if L[i] < val_first:\n",
        "            h += 1\n",
        "            L[i], L[h] = L[h], L[i]\n",
        "            print(\"during manipulation in mysplit: \", L)\n",
        "    L[h], L[start] = L[start], L[h]\n",
        "    print(\"after manipulation in mysplit: \", L)\n",
        "    return h\n",
        "\n",
        "A = [28, 82, 23, 44, 59,  4, 60, 25, 81, 74, 61, 32, 74,  4, 62, 86, 48, 28, 89, 22]\n",
        "\n",
        "mysort(A)\n",
        "print(A)"
      ],
      "execution_count": 0,
      "outputs": [
        {
          "output_type": "stream",
          "text": [
            "before manipulation in mysplit:  [28, 82, 23, 44, 59, 4, 60, 25, 81, 74, 61, 32, 74, 4, 62, 86, 48, 28, 89, 22]\n",
            "during manipulation in mysplit:  [28, 23, 82, 44, 59, 4, 60, 25, 81, 74, 61, 32, 74, 4, 62, 86, 48, 28, 89, 22]\n",
            "during manipulation in mysplit:  [28, 23, 4, 44, 59, 82, 60, 25, 81, 74, 61, 32, 74, 4, 62, 86, 48, 28, 89, 22]\n",
            "during manipulation in mysplit:  [28, 23, 4, 25, 59, 82, 60, 44, 81, 74, 61, 32, 74, 4, 62, 86, 48, 28, 89, 22]\n",
            "during manipulation in mysplit:  [28, 23, 4, 25, 4, 82, 60, 44, 81, 74, 61, 32, 74, 59, 62, 86, 48, 28, 89, 22]\n",
            "during manipulation in mysplit:  [28, 23, 4, 25, 4, 22, 60, 44, 81, 74, 61, 32, 74, 59, 62, 86, 48, 28, 89, 82]\n",
            "after manipulation in mysplit:  [22, 23, 4, 25, 4, 28, 60, 44, 81, 74, 61, 32, 74, 59, 62, 86, 48, 28, 89, 82]\n",
            "in mysort:  [22, 23, 4, 25, 4, 28, 60, 44, 81, 74, 61, 32, 74, 59, 62, 86, 48, 28, 89, 82]\n",
            "before manipulation in mysplit:  [22, 23, 4, 25, 4, 28, 60, 44, 81, 74, 61, 32, 74, 59, 62, 86, 48, 28, 89, 82]\n",
            "during manipulation in mysplit:  [22, 4, 23, 25, 4, 28, 60, 44, 81, 74, 61, 32, 74, 59, 62, 86, 48, 28, 89, 82]\n",
            "during manipulation in mysplit:  [22, 4, 4, 25, 23, 28, 60, 44, 81, 74, 61, 32, 74, 59, 62, 86, 48, 28, 89, 82]\n",
            "after manipulation in mysplit:  [4, 4, 22, 25, 23, 28, 60, 44, 81, 74, 61, 32, 74, 59, 62, 86, 48, 28, 89, 82]\n",
            "in mysort:  [4, 4, 22, 25, 23, 28, 60, 44, 81, 74, 61, 32, 74, 59, 62, 86, 48, 28, 89, 82]\n",
            "before manipulation in mysplit:  [4, 4, 22, 25, 23, 28, 60, 44, 81, 74, 61, 32, 74, 59, 62, 86, 48, 28, 89, 82]\n",
            "after manipulation in mysplit:  [4, 4, 22, 25, 23, 28, 60, 44, 81, 74, 61, 32, 74, 59, 62, 86, 48, 28, 89, 82]\n",
            "in mysort:  [4, 4, 22, 25, 23, 28, 60, 44, 81, 74, 61, 32, 74, 59, 62, 86, 48, 28, 89, 82]\n",
            "before manipulation in mysplit:  [4, 4, 22, 25, 23, 28, 60, 44, 81, 74, 61, 32, 74, 59, 62, 86, 48, 28, 89, 82]\n",
            "during manipulation in mysplit:  [4, 4, 22, 25, 23, 28, 60, 44, 81, 74, 61, 32, 74, 59, 62, 86, 48, 28, 89, 82]\n",
            "after manipulation in mysplit:  [4, 4, 22, 23, 25, 28, 60, 44, 81, 74, 61, 32, 74, 59, 62, 86, 48, 28, 89, 82]\n",
            "in mysort:  [4, 4, 22, 23, 25, 28, 60, 44, 81, 74, 61, 32, 74, 59, 62, 86, 48, 28, 89, 82]\n",
            "before manipulation in mysplit:  [4, 4, 22, 23, 25, 28, 60, 44, 81, 74, 61, 32, 74, 59, 62, 86, 48, 28, 89, 82]\n",
            "during manipulation in mysplit:  [4, 4, 22, 23, 25, 28, 60, 44, 81, 74, 61, 32, 74, 59, 62, 86, 48, 28, 89, 82]\n",
            "during manipulation in mysplit:  [4, 4, 22, 23, 25, 28, 60, 44, 32, 74, 61, 81, 74, 59, 62, 86, 48, 28, 89, 82]\n",
            "during manipulation in mysplit:  [4, 4, 22, 23, 25, 28, 60, 44, 32, 59, 61, 81, 74, 74, 62, 86, 48, 28, 89, 82]\n",
            "during manipulation in mysplit:  [4, 4, 22, 23, 25, 28, 60, 44, 32, 59, 48, 81, 74, 74, 62, 86, 61, 28, 89, 82]\n",
            "during manipulation in mysplit:  [4, 4, 22, 23, 25, 28, 60, 44, 32, 59, 48, 28, 74, 74, 62, 86, 61, 81, 89, 82]\n",
            "after manipulation in mysplit:  [4, 4, 22, 23, 25, 28, 28, 44, 32, 59, 48, 60, 74, 74, 62, 86, 61, 81, 89, 82]\n",
            "in mysort:  [4, 4, 22, 23, 25, 28, 28, 44, 32, 59, 48, 60, 74, 74, 62, 86, 61, 81, 89, 82]\n",
            "before manipulation in mysplit:  [4, 4, 22, 23, 25, 28, 28, 44, 32, 59, 48, 60, 74, 74, 62, 86, 61, 81, 89, 82]\n",
            "after manipulation in mysplit:  [4, 4, 22, 23, 25, 28, 28, 44, 32, 59, 48, 60, 74, 74, 62, 86, 61, 81, 89, 82]\n",
            "in mysort:  [4, 4, 22, 23, 25, 28, 28, 44, 32, 59, 48, 60, 74, 74, 62, 86, 61, 81, 89, 82]\n",
            "before manipulation in mysplit:  [4, 4, 22, 23, 25, 28, 28, 44, 32, 59, 48, 60, 74, 74, 62, 86, 61, 81, 89, 82]\n",
            "during manipulation in mysplit:  [4, 4, 22, 23, 25, 28, 28, 44, 32, 59, 48, 60, 74, 74, 62, 86, 61, 81, 89, 82]\n",
            "after manipulation in mysplit:  [4, 4, 22, 23, 25, 28, 28, 32, 44, 59, 48, 60, 74, 74, 62, 86, 61, 81, 89, 82]\n",
            "in mysort:  [4, 4, 22, 23, 25, 28, 28, 32, 44, 59, 48, 60, 74, 74, 62, 86, 61, 81, 89, 82]\n",
            "before manipulation in mysplit:  [4, 4, 22, 23, 25, 28, 28, 32, 44, 59, 48, 60, 74, 74, 62, 86, 61, 81, 89, 82]\n",
            "during manipulation in mysplit:  [4, 4, 22, 23, 25, 28, 28, 32, 44, 59, 48, 60, 74, 74, 62, 86, 61, 81, 89, 82]\n",
            "after manipulation in mysplit:  [4, 4, 22, 23, 25, 28, 28, 32, 44, 48, 59, 60, 74, 74, 62, 86, 61, 81, 89, 82]\n",
            "in mysort:  [4, 4, 22, 23, 25, 28, 28, 32, 44, 48, 59, 60, 74, 74, 62, 86, 61, 81, 89, 82]\n",
            "before manipulation in mysplit:  [4, 4, 22, 23, 25, 28, 28, 32, 44, 48, 59, 60, 74, 74, 62, 86, 61, 81, 89, 82]\n",
            "during manipulation in mysplit:  [4, 4, 22, 23, 25, 28, 28, 32, 44, 48, 59, 60, 74, 62, 74, 86, 61, 81, 89, 82]\n",
            "during manipulation in mysplit:  [4, 4, 22, 23, 25, 28, 28, 32, 44, 48, 59, 60, 74, 62, 61, 86, 74, 81, 89, 82]\n",
            "after manipulation in mysplit:  [4, 4, 22, 23, 25, 28, 28, 32, 44, 48, 59, 60, 61, 62, 74, 86, 74, 81, 89, 82]\n",
            "in mysort:  [4, 4, 22, 23, 25, 28, 28, 32, 44, 48, 59, 60, 61, 62, 74, 86, 74, 81, 89, 82]\n",
            "before manipulation in mysplit:  [4, 4, 22, 23, 25, 28, 28, 32, 44, 48, 59, 60, 61, 62, 74, 86, 74, 81, 89, 82]\n",
            "after manipulation in mysplit:  [4, 4, 22, 23, 25, 28, 28, 32, 44, 48, 59, 60, 61, 62, 74, 86, 74, 81, 89, 82]\n",
            "in mysort:  [4, 4, 22, 23, 25, 28, 28, 32, 44, 48, 59, 60, 61, 62, 74, 86, 74, 81, 89, 82]\n",
            "before manipulation in mysplit:  [4, 4, 22, 23, 25, 28, 28, 32, 44, 48, 59, 60, 61, 62, 74, 86, 74, 81, 89, 82]\n",
            "during manipulation in mysplit:  [4, 4, 22, 23, 25, 28, 28, 32, 44, 48, 59, 60, 61, 62, 74, 86, 74, 81, 89, 82]\n",
            "during manipulation in mysplit:  [4, 4, 22, 23, 25, 28, 28, 32, 44, 48, 59, 60, 61, 62, 74, 86, 74, 81, 89, 82]\n",
            "during manipulation in mysplit:  [4, 4, 22, 23, 25, 28, 28, 32, 44, 48, 59, 60, 61, 62, 74, 86, 74, 81, 82, 89]\n",
            "after manipulation in mysplit:  [4, 4, 22, 23, 25, 28, 28, 32, 44, 48, 59, 60, 61, 62, 74, 82, 74, 81, 86, 89]\n",
            "in mysort:  [4, 4, 22, 23, 25, 28, 28, 32, 44, 48, 59, 60, 61, 62, 74, 82, 74, 81, 86, 89]\n",
            "before manipulation in mysplit:  [4, 4, 22, 23, 25, 28, 28, 32, 44, 48, 59, 60, 61, 62, 74, 82, 74, 81, 86, 89]\n",
            "during manipulation in mysplit:  [4, 4, 22, 23, 25, 28, 28, 32, 44, 48, 59, 60, 61, 62, 74, 82, 74, 81, 86, 89]\n",
            "during manipulation in mysplit:  [4, 4, 22, 23, 25, 28, 28, 32, 44, 48, 59, 60, 61, 62, 74, 82, 74, 81, 86, 89]\n",
            "after manipulation in mysplit:  [4, 4, 22, 23, 25, 28, 28, 32, 44, 48, 59, 60, 61, 62, 74, 81, 74, 82, 86, 89]\n",
            "in mysort:  [4, 4, 22, 23, 25, 28, 28, 32, 44, 48, 59, 60, 61, 62, 74, 81, 74, 82, 86, 89]\n",
            "before manipulation in mysplit:  [4, 4, 22, 23, 25, 28, 28, 32, 44, 48, 59, 60, 61, 62, 74, 81, 74, 82, 86, 89]\n",
            "during manipulation in mysplit:  [4, 4, 22, 23, 25, 28, 28, 32, 44, 48, 59, 60, 61, 62, 74, 81, 74, 82, 86, 89]\n",
            "after manipulation in mysplit:  [4, 4, 22, 23, 25, 28, 28, 32, 44, 48, 59, 60, 61, 62, 74, 74, 81, 82, 86, 89]\n",
            "in mysort:  [4, 4, 22, 23, 25, 28, 28, 32, 44, 48, 59, 60, 61, 62, 74, 74, 81, 82, 86, 89]\n",
            "[4, 4, 22, 23, 25, 28, 28, 32, 44, 48, 59, 60, 61, 62, 74, 74, 81, 82, 86, 89]\n"
          ],
          "name": "stdout"
        }
      ]
    },
    {
      "metadata": {
        "id": "7G8zUG8RrB8Q",
        "colab_type": "code",
        "colab": {}
      },
      "cell_type": "code",
      "source": [
        ""
      ],
      "execution_count": 0,
      "outputs": []
    }
  ]
}