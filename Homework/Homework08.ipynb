{
  "nbformat": 4,
  "nbformat_minor": 0,
  "metadata": {
    "colab": {
      "name": "Homework08.ipynb",
      "version": "0.3.2",
      "provenance": [],
      "collapsed_sections": [],
      "include_colab_link": true
    },
    "kernelspec": {
      "name": "python3",
      "display_name": "Python 3"
    }
  },
  "cells": [
    {
      "cell_type": "markdown",
      "metadata": {
        "id": "view-in-github",
        "colab_type": "text"
      },
      "source": [
        "<a href=\"https://colab.research.google.com/github/wdconinc/practical-computing-for-scientists/blob/master/Homework/Homework08.ipynb\" target=\"_parent\"><img src=\"https://colab.research.google.com/assets/colab-badge.svg\" alt=\"Open In Colab\"/></a>"
      ]
    },
    {
      "metadata": {
        "id": "bobFc20O189m",
        "colab_type": "text"
      },
      "cell_type": "markdown",
      "source": [
        "# Homework #08"
      ]
    },
    {
      "metadata": {
        "id": "fD5A-iry189n",
        "colab_type": "code",
        "colab": {}
      },
      "cell_type": "code",
      "source": [
        "%matplotlib inline\n",
        "import numpy as np\n",
        "import scipy as sp\n",
        "import matplotlib.pyplot as plt\n",
        "import math\n",
        "import scipy.integrate as ig"
      ],
      "execution_count": 0,
      "outputs": []
    },
    {
      "metadata": {
        "id": "MbvcFTvC189p",
        "colab_type": "text"
      },
      "cell_type": "markdown",
      "source": [
        "##Problem 8.1 (6 points)"
      ]
    },
    {
      "metadata": {
        "id": "9yQFcM5F189q",
        "colab_type": "text"
      },
      "cell_type": "markdown",
      "source": [
        "Solve Chebyshev's ODE using the numerical techniques from class. The ODE is\n",
        "\n",
        "$$(1-x^2)y'' - xy' + n^2 y =0$$\n",
        "\n",
        "Plot the result on [0,+0.99] for $n=1\\ldots3$. Make a label indicating $n$ for each curve. The initial conditions are $y(0)=[0,-1,0]$ and $y'(0)=[1,0,-3]$ for $n=[1,2,3]$."
      ]
    },
    {
      "metadata": {
        "id": "Mb9Sy9Jy189q",
        "colab_type": "code",
        "colab": {}
      },
      "cell_type": "code",
      "source": [
        ""
      ],
      "execution_count": 0,
      "outputs": []
    },
    {
      "metadata": {
        "id": "KiBrXKs0189t",
        "colab_type": "text"
      },
      "cell_type": "markdown",
      "source": [
        "##Problem 8.2 (7 points)"
      ]
    },
    {
      "metadata": {
        "id": "ZB80lOt5189u",
        "colab_type": "text"
      },
      "cell_type": "markdown",
      "source": [
        "As we know, air density varies with altitude. As I derived in class, the dependence is:\n",
        "\n",
        "$$ \\rho(y) = \\rho_0 \\exp\\left(-\\frac{Mg}{R}\\frac{y}{T_0-Ly}\\right)$$\n",
        "With\n",
        "$M=2.9\\times 10^{-2}~$kg/mol as the molar mass of air, $R=8.3~$J/mol K is the gas constant, $T_0=288~$K is the temperature at $y_0$ and $L=6.5\\times 10^{-3}~$K/m controls the dependence of temperature on altitude.\n",
        "\n",
        "Include this effect in the differential equation for projectile motion in the vertical direction. Then answer:\n",
        "\n",
        "1. Without drag how long does a ball which rises to 1000m stay in flight? You should be able to compute this by hand.\n",
        "\n",
        "2. With normal air drag, as in class, how long does a ball thrown upward with the same velocity as in (1) stay in flight? You will have to eyeball the y=0 point (zoom in with `plt.xlim` and `plt.ylim`)\n",
        "\n",
        "3. About how high does it go?\n",
        "\n",
        "4. Now add in the dependence of altitude on density. How long does the ball stay in flight and how high does it go?\n"
      ]
    },
    {
      "metadata": {
        "id": "lS-IQTkT189u",
        "colab_type": "code",
        "colab": {}
      },
      "cell_type": "code",
      "source": [
        ""
      ],
      "execution_count": 0,
      "outputs": []
    },
    {
      "metadata": {
        "id": "SyKc6FGX189w",
        "colab_type": "text"
      },
      "cell_type": "markdown",
      "source": [
        "##Problem 8.3 (7 points)"
      ]
    },
    {
      "metadata": {
        "id": "umSiA_oa189x",
        "colab_type": "text"
      },
      "cell_type": "markdown",
      "source": [
        "Look at the fight of a baseball (as in class), but now consider 2D motion. Imagine that the ball is batted with an initial velocity of 80m/s and an angle of 45 degrees. Plot the ball's trajectory. How far away does the ball land? Estimate by zooming in and eyeballing. Note, the drag force is still dependent on $v^2 = v_x^2 + v_y^2$ but the direction of the force has components opposing the motion in both x and y. If you are confused, do the problem first without any drag at all and make sure you get the PHYS 101 answer."
      ]
    },
    {
      "metadata": {
        "id": "QdHpzqnO189y",
        "colab_type": "code",
        "colab": {}
      },
      "cell_type": "code",
      "source": [
        ""
      ],
      "execution_count": 0,
      "outputs": []
    }
  ]
}