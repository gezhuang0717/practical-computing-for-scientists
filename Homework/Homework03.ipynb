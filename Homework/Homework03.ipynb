{
  "nbformat": 4,
  "nbformat_minor": 0,
  "metadata": {
    "colab": {
      "name": "homework03.ipynb",
      "version": "0.3.2",
      "provenance": [],
      "collapsed_sections": [],
      "include_colab_link": true
    },
    "kernelspec": {
      "name": "python3",
      "display_name": "Python 3"
    }
  },
  "cells": [
    {
      "cell_type": "markdown",
      "metadata": {
        "id": "view-in-github",
        "colab_type": "text"
      },
      "source": [
        "<a href=\"https://colab.research.google.com/github/wdconinc/practical-computing-for-scientists/blob/master/Homework/Homework03.ipynb\" target=\"_parent\"><img src=\"https://colab.research.google.com/assets/colab-badge.svg\" alt=\"Open In Colab\"/></a>"
      ]
    },
    {
      "metadata": {
        "id": "cCNenxnOj_Ja",
        "colab_type": "text"
      },
      "cell_type": "markdown",
      "source": [
        "#Homework #03"
      ]
    },
    {
      "metadata": {
        "id": "xzuUAXL5j_Jc",
        "colab_type": "code",
        "colab": {}
      },
      "cell_type": "code",
      "source": [
        "%matplotlib inline\n",
        "import numpy as np\n",
        "import scipy as sp\n",
        "import matplotlib.pyplot as plt"
      ],
      "execution_count": 0,
      "outputs": []
    },
    {
      "metadata": {
        "id": "KFozUyAHj_Jj",
        "colab_type": "text"
      },
      "cell_type": "markdown",
      "source": [
        "## Problem 3.1 (4 points)\n",
        "\n",
        "Write a function `my_min(L)` that takes an array `L` of real numbers or integers and returns the smallest value in the array. Write the function \"from scratch\", without using any `min` function defined in the python libraries. (You can, however, use library functions to test your function).\n",
        "\n",
        "Test your function on the array `A` below and show the result."
      ]
    },
    {
      "metadata": {
        "id": "-gC5BK7yj_Jk",
        "colab_type": "code",
        "colab": {}
      },
      "cell_type": "code",
      "source": [
        "A = [12, 45, 23, 22, 42, 15, 17, 15, 73, 36,  7, 13, 38, 43, 53, 86, 40, 45, 63, 74]"
      ],
      "execution_count": 0,
      "outputs": []
    },
    {
      "metadata": {
        "id": "H4Nnl3W6j_Jn",
        "colab_type": "text"
      },
      "cell_type": "markdown",
      "source": [
        "## Problem 3.2 (4 points)\n",
        "\n",
        "Write a function `biggest_gap(L)` that takes a list L of real numbers or integers and finds the largest difference $|a-b|$ between two adjacent elements $a$ and $b$. The function should return $|a-b|$ and the index of the second element in the list.\n",
        "\n",
        "As an example, a correctly written `biggest_gap` should return `25,2` when run on `L=[7, 13, 38, 43, 53]`.\n",
        "\n",
        "Test your function on the array `A` above and show the result.\n"
      ]
    },
    {
      "metadata": {
        "id": "9oShUgNZj_Jn",
        "colab_type": "code",
        "colab": {}
      },
      "cell_type": "code",
      "source": [
        ""
      ],
      "execution_count": 0,
      "outputs": []
    },
    {
      "metadata": {
        "id": "3QMgACbKj_Jr",
        "colab_type": "text"
      },
      "cell_type": "markdown",
      "source": [
        "## Problem 3.3 (6 points)\n",
        "\n",
        "Following the procedure we used in class, convert the following table into a `numpy` `ndarray`. Then, use array arithmetic to compute a new array:\n",
        "\n",
        "$$ X= \\frac{V}{I^2 r^2} $$\n",
        "\n",
        "Here $r$ is the average of the measurements `R` and `L` in the table. Finally, write a function `mean_rms` which takes in an array of real numbers $X=\\{x_i\\}$ and computes the mean $\\bar{x}$ and the RMS (root-mean-square), conventionally denoted as $\\sigma$. The RMS is defined as:\n",
        "\n",
        "$$ \\sigma = \\frac{1}{\\sqrt{N-1}}\\sqrt{\\sum_{i=0}^{N} (\\bar{x} - x_i)^2 }$$\n",
        "\n",
        "Your function should compute the mean and RMS \"from scratch\" using one or more `for` loops and return $\\bar{x},\\sigma$."
      ]
    },
    {
      "metadata": {
        "id": "pg4xYwqrj_Jr",
        "colab_type": "code",
        "colab": {}
      },
      "cell_type": "code",
      "source": [
        "# data     Va(V), I(A), R(cm), L(cm)\n",
        "raw_data = [(275, 1.30, 4.1, 3.1),\n",
        "            (275, 1.20, 4.7, 3.7),\n",
        "            (275, 1.10, 5.3, 4.0),\n",
        "            (275, 1.40, 3.7, 3.3),\n",
        "            (275, 1.50, 3.3, 2.9),\n",
        "            (285, 1.50, 3.5, 2.8),\n",
        "            (285, 1.40, 3.7, 3.0),\n",
        "            (285, 1.30, 4.2, 3.4),\n",
        "            (285, 1.20, 4.6, 3.9),\n",
        "            (285, 1.10, 4.9, 4.2)]"
      ],
      "execution_count": 0,
      "outputs": []
    },
    {
      "metadata": {
        "id": "aE8TDBehj_Jt",
        "colab_type": "text"
      },
      "cell_type": "markdown",
      "source": [
        "## Problem 3.4 (2 points)\n",
        "\n",
        "Write a function `print_even_odd` which takes a list of integers and prints each element in the list along with `even` if the element is even or `odd` if odd.\n",
        "\n",
        "The output of the function on `L = [0,1,2,3]` should look like\n",
        "```\n",
        "0 even\n",
        "1 odd\n",
        "2 even\n",
        "3 odd\n",
        "```\n",
        "To test if an element is even use the modulus operator `%`:\n",
        "```Python\n",
        "n%2 == 0 # element is even\n",
        "n%2 != 0 # element is odd\n",
        "```\n",
        "\n",
        "Test your functions on the list of integers between 0 and 20, inclusive."
      ]
    },
    {
      "metadata": {
        "id": "XtHiCwVoj_Jv",
        "colab_type": "code",
        "colab": {}
      },
      "cell_type": "code",
      "source": [
        ""
      ],
      "execution_count": 0,
      "outputs": []
    },
    {
      "metadata": {
        "id": "UwenrZSSj_Jz",
        "colab_type": "text"
      },
      "cell_type": "markdown",
      "source": [
        "## Problem 3.5 (4 points)\n",
        "\n",
        "Start by writing a function `get_even(L)` which takes a list of integers and returns the even ones in a new list. \n",
        "\n",
        "Then, write a more general function `get_even_odd(L,want_even)` which returns a list of the even integers if `want_even` is `True` and a list of the odd integers if `want_even` is `False`.  Define the function so that `want_even` is `True` by default.\n",
        "\n",
        "Test your functions on the list of integers between 0 and 20, inclusive."
      ]
    },
    {
      "metadata": {
        "id": "SUY-W3gdj_J0",
        "colab_type": "code",
        "colab": {}
      },
      "cell_type": "code",
      "source": [
        ""
      ],
      "execution_count": 0,
      "outputs": []
    }
  ]
}