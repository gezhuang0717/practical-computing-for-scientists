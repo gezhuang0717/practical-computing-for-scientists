{
  "nbformat": 4,
  "nbformat_minor": 0,
  "metadata": {
    "colab": {
      "name": "homework02.ipynb",
      "version": "0.3.2",
      "provenance": [],
      "collapsed_sections": [
        "IcuYxQ25jLqg",
        "7iGIkowQjLqj",
        "-5u-ZiJOjLqm"
      ],
      "include_colab_link": true
    },
    "kernelspec": {
      "name": "python3",
      "display_name": "Python 3"
    }
  },
  "cells": [
    {
      "cell_type": "markdown",
      "metadata": {
        "id": "view-in-github",
        "colab_type": "text"
      },
      "source": [
        "<a href=\"https://colab.research.google.com/github/wdconinc/practical-computing-for-scientists/blob/master/Homework/Homework02.ipynb\" target=\"_parent\"><img src=\"https://colab.research.google.com/assets/colab-badge.svg\" alt=\"Open In Colab\"/></a>"
      ]
    },
    {
      "metadata": {
        "id": "xTB91qfdjLqX",
        "colab_type": "text"
      },
      "cell_type": "markdown",
      "source": [
        "#Homework #02"
      ]
    },
    {
      "metadata": {
        "id": "-syhN_oSjLqZ",
        "colab_type": "code",
        "colab": {}
      },
      "cell_type": "code",
      "source": [
        "%matplotlib inline\n",
        "import numpy as np\n",
        "import scipy as sp\n",
        "import matplotlib.pyplot as plt"
      ],
      "execution_count": 0,
      "outputs": []
    },
    {
      "metadata": {
        "id": "x9HkwmCejLqd",
        "colab_type": "text"
      },
      "cell_type": "markdown",
      "source": [
        "## Problem 2.1 (6 points)\n",
        "Write a function `fib(n)` that computes the Fibonacci sequence up to integer order `n`. The sequence is defined by a recursion relation:\n",
        "\n",
        "$$F_n = F_{n-1} + F_{n-2}$$ \n",
        "\n",
        "with $F_0 = 0$ and $F_1 = 1$ being the first two numbers in the sequence. Your function should return the sequence in a list.\n",
        "\n",
        "Verify your formula by plotting $F_n/F_{n-1}$ on the y axis vs $n \\in 3\\ldots 10$ on the x axis. The graph should look like points joined by a line and the points should approach the golden ratio:\n",
        "\n",
        "$$\\varphi = \\frac{1+\\sqrt{5}}{2}$$\n",
        "\n",
        "Also, in the same figure, draw a horizontal line depicting the golden ratio. Label both the x and y axes."
      ]
    },
    {
      "metadata": {
        "id": "QIhEHXfPjLqe",
        "colab_type": "code",
        "colab": {}
      },
      "cell_type": "code",
      "source": [
        ""
      ],
      "execution_count": 0,
      "outputs": []
    },
    {
      "metadata": {
        "id": "IcuYxQ25jLqg",
        "colab_type": "text"
      },
      "cell_type": "markdown",
      "source": [
        "## Problem 2.2 (4 points)\n",
        "\n",
        "Write a function `quadratic_roots(a,b,c)` which solves the quadratic equation\n",
        "\n",
        "$$ a x^2 + b x + c =0$$\n",
        "\n",
        "for any real input parameters `a,b,c`. The function should return the two roots and must handle the case in which one or both roots are complex. Use the `sqrt` function from `numpy.lib.scimath` which will return real values if it can and complex otherwise. "
      ]
    },
    {
      "metadata": {
        "id": "Bh1I0O5zjLqg",
        "colab_type": "code",
        "colab": {}
      },
      "cell_type": "code",
      "source": [
        ""
      ],
      "execution_count": 0,
      "outputs": []
    },
    {
      "metadata": {
        "id": "7iGIkowQjLqj",
        "colab_type": "text"
      },
      "cell_type": "markdown",
      "source": [
        "## Problem 2.3 (6 points)\n",
        "\n",
        "Write a function `letter_grade` to take in a numerical score and return letter grades according to the following rubric:\n",
        "\n",
        "letter grade | numerical score (%)\n",
        "-------------|----------------\n",
        "A| >=90\n",
        "B| >=80\n",
        "C| >=70\n",
        "D| >=60\n",
        "F| <60 \n",
        "\n",
        "This is is what we did in class, except that your function needs to have two additional features: \n",
        "1. Your function needs to take an additional argument `in_pct` which defaults to `True`. If `in_pct` is True the function treats the inputs as being in percent. Otherwise, it assumes the score is a fraction of 1.\n",
        "2. Your function needs to take an additional argument `pf` that implements Pass/Fail grading. Pass is A-D and is signified by the function returning P.  By default `pf=False`."
      ]
    },
    {
      "metadata": {
        "id": "inMZAwpbjLqk",
        "colab_type": "code",
        "colab": {}
      },
      "cell_type": "code",
      "source": [
        ""
      ],
      "execution_count": 0,
      "outputs": []
    },
    {
      "metadata": {
        "id": "-5u-ZiJOjLqm",
        "colab_type": "text"
      },
      "cell_type": "markdown",
      "source": [
        "## Problem 2.4 (4 points)\n",
        "\n",
        "Write a function `gravity` that evaluates \n",
        "\n",
        "$$y(t) = v_0 t - \\frac{1}{2} g t^2$$\n",
        "\n",
        "at `n` uniformly spaced times between $t=0$ and $t=2v_0/g$. The program should take arguments `n`, `v0` and `g` and return two lists: `t` and `y`.\n",
        "\n",
        "Plot the result for n=20, $v_0=1$ and $g=10$.\n"
      ]
    },
    {
      "metadata": {
        "id": "nuvp3VD7jLqo",
        "colab_type": "code",
        "colab": {}
      },
      "cell_type": "code",
      "source": [
        ""
      ],
      "execution_count": 0,
      "outputs": []
    }
  ]
}