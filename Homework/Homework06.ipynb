{
  "nbformat": 4,
  "nbformat_minor": 0,
  "metadata": {
    "colab": {
      "name": "Homework06.ipynb",
      "version": "0.3.2",
      "provenance": [],
      "collapsed_sections": [],
      "include_colab_link": true
    },
    "kernelspec": {
      "name": "python3",
      "display_name": "Python 3"
    }
  },
  "cells": [
    {
      "cell_type": "markdown",
      "metadata": {
        "id": "view-in-github",
        "colab_type": "text"
      },
      "source": [
        "<a href=\"https://colab.research.google.com/github/wdconinc/practical-computing-for-scientists/blob/master/Homework/Homework06.ipynb\" target=\"_parent\"><img src=\"https://colab.research.google.com/assets/colab-badge.svg\" alt=\"Open In Colab\"/></a>"
      ]
    },
    {
      "metadata": {
        "id": "VhmdwEDpAA67",
        "colab_type": "text"
      },
      "cell_type": "markdown",
      "source": [
        "#Homework #06"
      ]
    },
    {
      "metadata": {
        "id": "3txgm00KAA6-",
        "colab_type": "code",
        "colab": {}
      },
      "cell_type": "code",
      "source": [
        "%matplotlib inline\n",
        "import numpy as np\n",
        "import scipy as sp\n",
        "import matplotlib.pyplot as plt\n",
        "import math"
      ],
      "execution_count": 0,
      "outputs": []
    },
    {
      "metadata": {
        "id": "UnPdJjNeAA7E",
        "colab_type": "text"
      },
      "cell_type": "markdown",
      "source": [
        "### Problem 6.1 (5 points)\n",
        "\n",
        "**Spherical harmonics**\n",
        "\n",
        "_Become acquainted with the spherical harmonics. Make a 2d plot._\n",
        "\n",
        "The spherical harmonics $Y_{l}^{m}(\\theta,\\phi)$ are important special functions used to describe the wavefunction of the hydrogen atom, and, more generally, appear in quantum mechanical problems involving angular momentum. \n",
        "\n",
        "You can access the spherical harmonics in `scipy` as `scipy.special.sph_harm()` where the function takes keyword parameters `theta`,`phi`,`n`,`m`.\n",
        "\n",
        "(a) Look up the functional form of the harmonics so you know what you are dealing with: http://en.wikipedia.org/wiki/Table_of_spherical_harmonics\n",
        "\n",
        "Note, they are complex valued functions!\n",
        "\n",
        "(b) Note, if you look at the `scipy` documentation\n",
        "\n",
        "http://docs.scipy.org/doc/scipy/reference/generated/scipy.special.sph_harm.html#scipy.special.sph_harm\n",
        "\n",
        "it says something rather annoying: in `scipy`, `theta` refers to the azimuthal angle (the longitude) and `phi` refers to the polar angle (the latitude). This is the opposite convention that we normally follow.\n",
        "\n",
        "(c) The parameter `n` in the `scipy` function is normally called $\\ell$. In quantum mechanics it represents the amount of angular momentum (e.g., of an electron - proton pair in hydrogen).\n",
        "\n",
        "For this problem I want you to plot the real and imaginary portions of the spherical harmonics for $(\\ell,m)=(1,1),(2,1)$ in the $\\phi,\\theta$ plane, using a filled in countor plot ( `plt.contourf`) with 50 contour levels (so it looks pretty).\n",
        "\n",
        "This class is about learning new skills that will help you in later classes and research. So this problem is kind of a walkthrough.\n",
        "\n",
        "* Create a grid of points like this:\n",
        "```\n",
        "real_theta, real_phi = np.mgrid[0:math.pi:101j, 0:2*math.pi:101j]\n",
        "```\n",
        "\n",
        "* You want to call the function using this keyword syntax:\n",
        "```\n",
        "sf.sph_harm(theta = real_phi, phi = real_theta, n = 2, m = 0)\n",
        "```\n",
        "This supplies the `Z` array to the plotting function.\n",
        "\n",
        "* To get the real and imaginary parts you need to call `np.real(Z)` or `np.imag(Z)`\n",
        "\n",
        "**Plot format**\n",
        "\n",
        "Let's plot the 4 figures in a grid. Do it like this:\n",
        "```\n",
        "plt.subplot(2,2,1)\n",
        "# plot real part of (1,1)\n",
        "plt.subplot(2,2,2)\n",
        "# plot imaginary part of (1,1)\n",
        "plt.subplot(2,2,3)\n",
        "# plot real part of (2,1)\n",
        "plt.subplot(2,2,4)\n",
        "# plot imaginary part of (2,1)\n",
        "```"
      ]
    },
    {
      "metadata": {
        "id": "K5i20dT9AA7H",
        "colab_type": "code",
        "colab": {}
      },
      "cell_type": "code",
      "source": [
        ""
      ],
      "execution_count": 0,
      "outputs": []
    },
    {
      "metadata": {
        "id": "VXfTNzCzAA7N",
        "colab_type": "text"
      },
      "cell_type": "markdown",
      "source": [
        "### Problem 6.2 (5 points)\n",
        "_Finding the minimum of a function_\n",
        "\n",
        "Find the minimim of $f(x)=1-x^2 e^{-x}$ (call this function `myf`) using the golden search routine from class, modified to do two things: \n",
        "\n",
        "* The minimization algorithm should not print any debugging output to the screen\n",
        "\n",
        "* It should also return the location of the minimum and the iteration number\n",
        "\n",
        "Now:\n",
        "* Plot the function from $x=[0,10]$\n",
        "\n",
        "* Call the function and print out the minimum and the number of iterations (be careful of the +1) for an initial bracketing interval of 0.5 and 4.0."
      ]
    },
    {
      "metadata": {
        "id": "4Gp_Sn-UAA7P",
        "colab_type": "code",
        "colab": {}
      },
      "cell_type": "code",
      "source": [
        "myf = lambda x: 1 - x**2 * np.exp(-x)"
      ],
      "execution_count": 0,
      "outputs": []
    },
    {
      "metadata": {
        "id": "jdxbLZCLAA7U",
        "colab_type": "text"
      },
      "cell_type": "markdown",
      "source": [
        "### Problem 6.3 (5 points)\n",
        "\n",
        "Following on from 6.2, now run the `newton_optimize` routine on `myf`.\n",
        "\n",
        "* Modify `newton_optimize` to take only a single x value as the starting point for the minimization.\n",
        "* Include an additional argument to `newton_optimize` called `debug` with the default value `false`. When `debug` is true print out the status of the minimization like this:\n",
        "```\n",
        "i:1 xbar:3.636715 x:12.353410 df(xbar):0.156775 ddf(xbar):-0.017986\n",
        "```\n",
        "* Modify `newton_optimize` to return the number of iterations\n",
        "\n",
        "Now run `newton_optimze` with different starting points\n",
        " * In what range does it converge to the correct minimum?\n",
        " * In what range does it find a different solution?\n",
        " * Where doesn't it converge?  Why?"
      ]
    },
    {
      "metadata": {
        "id": "w_-DFv9OAA7W",
        "colab_type": "code",
        "colab": {}
      },
      "cell_type": "code",
      "source": [
        ""
      ],
      "execution_count": 0,
      "outputs": []
    },
    {
      "metadata": {
        "id": "B27-ex_kAA7b",
        "colab_type": "text"
      },
      "cell_type": "markdown",
      "source": [
        "### Problem 6.4 (5 points)\n",
        "_Rotations via matrices. Playing with matrices._\n",
        "\n",
        "* Define a 2-dimensionmatrix R that does a 45 degree rotation in the counter clockwise direction and print it.\n",
        "\n",
        "* Define a row vector V1 that points along the x axis and has length 1. \n",
        "\n",
        "* Print V1 as both a column and row matrix.\n",
        "\n",
        "* Rotate V1 with R, printing out the result. Do this in two ways. One in which the output shows a row vector, the other in which the output shows a column vector. Use V1 and R, and the `dot()` member function of V1 and/or R, or the `*` operator.\n",
        "\n",
        "* Show (by printing the result) that rotating V1 with R and then rotating the result with $R^{-1}$ returns V1. The inverse of a rotation matrix just corresponds to rotating in the opposite direction by the same amount. Nice.\n",
        "\n",
        "* Define V2 as V1 rotated with R. Prove that rotations preserve the norm by calling `np.sum()` on the dot product V2 with its transpose."
      ]
    },
    {
      "metadata": {
        "id": "0nBTGS4bAA7d",
        "colab_type": "code",
        "colab": {}
      },
      "cell_type": "code",
      "source": [
        "import numpy.matlib as ml"
      ],
      "execution_count": 0,
      "outputs": []
    }
  ]
}