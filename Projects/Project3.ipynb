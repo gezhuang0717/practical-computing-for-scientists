{
  "nbformat": 4,
  "nbformat_minor": 0,
  "metadata": {
    "colab": {
      "name": "Project 3: Agent-Based Models: Schelling Model of Segregation.ipynb",
      "version": "0.3.2",
      "provenance": [],
      "collapsed_sections": [
        "yy4SeU8nXWYY",
        "uxXpkK-Y7yjd",
        "Sk694ZX-b5zz",
        "ecqL0P6S72uy",
        "mA0Wp4ptCtrU",
        "E_oH_L8J77WC",
        "cseaYvu8C6JU",
        "7QOPifEm7-zc",
        "xfoAt716DGam",
        "qKx3gyl98I3J",
        "_ajlGrIlE9N0",
        "CgHFETFV8OGS",
        "rMTNbHeaFIbm",
        "CIcfrShZ8THf",
        "NJnabHAXFWTr",
        "2HUiuxom8aM6",
        "pRjc5PSepuFS",
        "Hrphx_Afep1h",
        "gKYTvuorfaCX",
        "WhOJaeNlffbC",
        "bEPwL3NtIgzQ",
        "nLApk8OCTR8A",
        "HccOAa_sa3fE",
        "9g05Q7zPfY9N",
        "9mU_H_QTY7Bt"
      ],
      "include_colab_link": true
    },
    "kernelspec": {
      "name": "python3",
      "display_name": "Python 3"
    }
  },
  "cells": [
    {
      "cell_type": "markdown",
      "metadata": {
        "id": "view-in-github",
        "colab_type": "text"
      },
      "source": [
        "<a href=\"https://colab.research.google.com/github/wdconinc/practical-computing-for-scientists/blob/master/Projects/Project3.ipynb\" target=\"_parent\"><img src=\"https://colab.research.google.com/assets/colab-badge.svg\" alt=\"Open In Colab\"/></a>"
      ]
    },
    {
      "metadata": {
        "id": "FCHN8b4vWT7L",
        "colab_type": "text"
      },
      "cell_type": "markdown",
      "source": [
        "# Project #3 - Agent-Based Models: Schelling Model of Segregation"
      ]
    },
    {
      "metadata": {
        "id": "BLC8TSBVW4eY",
        "colab_type": "text"
      },
      "cell_type": "markdown",
      "source": [
        "In this project you will explore [agent-based models](https://en.wikipedia.org/wiki/Agent-based_model) in a simulation of dynamics in society. An agent-based model is a class of computational models for simulating the actions and interactions of autonomous agents (both individual or collective entities such as organizations or groups) with a view to assessing their effects on the system as a whole."
      ]
    },
    {
      "metadata": {
        "id": "Tf2ECV_jaSV6",
        "colab_type": "code",
        "colab": {}
      },
      "cell_type": "code",
      "source": [
        "import numpy as np\n",
        "import matplotlib.pyplot as plt"
      ],
      "execution_count": 0,
      "outputs": []
    },
    {
      "metadata": {
        "id": "yy4SeU8nXWYY",
        "colab_type": "text"
      },
      "cell_type": "markdown",
      "source": [
        "## The Schelling Model"
      ]
    },
    {
      "metadata": {
        "id": "b5k_E2QYXZGm",
        "colab_type": "text"
      },
      "cell_type": "markdown",
      "source": [
        "The Schelling (1971) segregation model is a classic of agent-based modeling, demonstrating how agents following simple rules lead to the emergence of qualitatively different macro-level outcomes. Agents are randomly placed on a grid. There are two types of agents, one constituting the majority and the other the minority. All agents want a certain number (generally 3) of their 8 surrounding neighbors to be of the same type in order for them to be happy. Unhappy agents will move to a random available grid space. While individual agents do not have a preference for a segregated outcome (e.g. they would be happy with 3 similar neighbors and 5 different ones), the aggregate outcome is nevertheless heavily segregated.\n",
        "\n",
        "Reference: [T. Schelling, \"Dynamic Models of Segregation,\" Journal of Mathematical Sociology, 1, 1971 pp. 143–186](https://www.stat.berkeley.edu/~aldous/157/Papers/Schelling_Seg_Models.pdf).\n",
        "\n",
        "I also want to call out the following two references, by Joanna Schug, associate professor of psychology at W&M:\n",
        "- [To affinity and beyond! How our preference to be among similar people interacts with our social ecology, The Inquisitive Mind, vol 6, issue 26 (2015)](http://www.in-mind.org/article/to-affinity-and-beyond-how-our-preference-to-be-among-similar-people-interacts-with-our)\n",
        "- [Schelling's Model of ResidentialSegregation, Wolfram Demonstration](http://demonstrations.wolfram.com/SchellingsModelOfResidentialSegregation/)\n",
        "\n"
      ]
    },
    {
      "metadata": {
        "id": "4uzB6Int7wce",
        "colab_type": "text"
      },
      "cell_type": "markdown",
      "source": [
        "In this project we will store the agent-based models on a grid and encode their identity as an integer number (with zero representing an empty location). This will be easier than using a Go board with pennies, which is how Schelling reportedly first did this simulation."
      ]
    },
    {
      "metadata": {
        "id": "uxXpkK-Y7yjd",
        "colab_type": "text"
      },
      "cell_type": "markdown",
      "source": [
        "### Initialize the grid of agents"
      ]
    },
    {
      "metadata": {
        "id": "cu-jD_8WbCYk",
        "colab_type": "text"
      },
      "cell_type": "markdown",
      "source": [
        "Create a function `initialize_grid(shape, prob)` that fills a grid with shape in argument `shape` (a tuple with two elements) and with a probability in argument `prob` (a list in which all elements sum up to 1). You may find the function `np.random.choice` useful."
      ]
    },
    {
      "metadata": {
        "id": "oafTwSkMbZzo",
        "colab_type": "code",
        "colab": {}
      },
      "cell_type": "code",
      "source": [
        ""
      ],
      "execution_count": 0,
      "outputs": []
    },
    {
      "metadata": {
        "id": "Sk694ZX-b5zz",
        "colab_type": "text"
      },
      "cell_type": "markdown",
      "source": [
        "#### Test case"
      ]
    },
    {
      "metadata": {
        "id": "YI2SJRTRBUEv",
        "colab_type": "text"
      },
      "cell_type": "markdown",
      "source": [
        "With the function you defined above, the following commands should create a grid of $30 \\times 30$, filled for 25% with members of group 1 and for 25% with members of group 2."
      ]
    },
    {
      "metadata": {
        "id": "Pk2BpdyGby32",
        "colab_type": "code",
        "colab": {}
      },
      "cell_type": "code",
      "source": [
        "M = 30\n",
        "N = 30\n",
        "P = [0.5, 0.25, 0.25]\n",
        "\n",
        "# Initialize the grid\n",
        "grid = initialize_grid((M,N), P)\n",
        "\n",
        "# Plot the grid as an image\n",
        "plt.imshow(grid)"
      ],
      "execution_count": 0,
      "outputs": []
    },
    {
      "metadata": {
        "id": "ecqL0P6S72uy",
        "colab_type": "text"
      },
      "cell_type": "markdown",
      "source": [
        "### Classify the neighbors"
      ]
    },
    {
      "metadata": {
        "id": "60wTrBBBZYqw",
        "colab_type": "text"
      },
      "cell_type": "markdown",
      "source": [
        "Create a function `neighbors(grid, i, j)` that returns the list of neighbors of each group for location $(i,j)$. The function must return, for example, $[1, 4, 3]$ if there is 1 neighboring location that is empty, 4 neighboring locations that have a member of group 1, and 3 neighboring locations that have a member of group 2.\n",
        "\n",
        "Note: Assume that the world wraps around at the edges and your world is topologically equivalent to a torus. You can then use `(i + 1) % M` to wrap around past the higher edge. To visualize this, consider this [video of Conway's game of life on a torus](https://www.youtube.com/watch?v=lxIeaotWIks). John Conway's [game of life](https://en.wikipedia.org/wiki/Conway's_Game_of_Life) is one of the the first agent-based models developed."
      ]
    },
    {
      "metadata": {
        "id": "orYwrugKZeQh",
        "colab_type": "code",
        "colab": {}
      },
      "cell_type": "code",
      "source": [
        ""
      ],
      "execution_count": 0,
      "outputs": []
    },
    {
      "metadata": {
        "id": "mA0Wp4ptCtrU",
        "colab_type": "text"
      },
      "cell_type": "markdown",
      "source": [
        "#### Test case"
      ]
    },
    {
      "metadata": {
        "id": "lVqktgpdeJk-",
        "colab_type": "text"
      },
      "cell_type": "markdown",
      "source": [
        "With the function you defined above, the following commands should return the number 8 (since the values in the list that `neighbors` returns must add up to 8)."
      ]
    },
    {
      "metadata": {
        "id": "CgIyspWxaPE_",
        "colab_type": "code",
        "colab": {}
      },
      "cell_type": "code",
      "source": [
        "print(np.sum(neighbors(grid, 30, 30)))"
      ],
      "execution_count": 0,
      "outputs": []
    },
    {
      "metadata": {
        "id": "E_oH_L8J77WC",
        "colab_type": "text"
      },
      "cell_type": "markdown",
      "source": [
        "### Determine happiness of an agent"
      ]
    },
    {
      "metadata": {
        "id": "-vj5Lykqew0e",
        "colab_type": "text"
      },
      "cell_type": "markdown",
      "source": [
        "Create a function `unhappy_lt3(grid, i, j)` that returns `True` if the agent at location $(i,j)$ is unhappy, i.e. when it is surrounded by less than 3 agents of its own group. An empty location will always be happy."
      ]
    },
    {
      "metadata": {
        "id": "2Sf7T7JOjksP",
        "colab_type": "code",
        "colab": {}
      },
      "cell_type": "code",
      "source": [
        ""
      ],
      "execution_count": 0,
      "outputs": []
    },
    {
      "metadata": {
        "id": "cseaYvu8C6JU",
        "colab_type": "text"
      },
      "cell_type": "markdown",
      "source": [
        "#### Test case"
      ]
    },
    {
      "metadata": {
        "id": "sEHM5TKUfL7R",
        "colab_type": "text"
      },
      "cell_type": "markdown",
      "source": [
        "With the function you defined above, the following command should either return `True` or `False`, depending on the group of the agent and its neighbors."
      ]
    },
    {
      "metadata": {
        "id": "ufWPfyZifKrg",
        "colab_type": "code",
        "colab": {}
      },
      "cell_type": "code",
      "source": [
        "print(grid[1, 1], neighbors(grid, 1, 1), unhappy_lt3(grid, 1, 1))"
      ],
      "execution_count": 0,
      "outputs": []
    },
    {
      "metadata": {
        "id": "7QOPifEm7-zc",
        "colab_type": "text"
      },
      "cell_type": "markdown",
      "source": [
        "### Setup some rules for moving unhappy agents"
      ]
    },
    {
      "metadata": {
        "colab_type": "text",
        "id": "gIDJD_jVgsAV"
      },
      "cell_type": "markdown",
      "source": [
        "Create a function `move_random(grid, i, j)` that moves the agent at location $(i,j)$ to a random empty position. Your function must return a tuple with the new location. Make sure you explicitly exclude staying in the same place."
      ]
    },
    {
      "metadata": {
        "id": "FRqFACU2gw-l",
        "colab_type": "code",
        "colab": {}
      },
      "cell_type": "code",
      "source": [
        ""
      ],
      "execution_count": 0,
      "outputs": []
    },
    {
      "metadata": {
        "id": "I8aid8VBf9mg",
        "colab_type": "text"
      },
      "cell_type": "markdown",
      "source": [
        "Create a function `move_closest(grid, i, j)` that moves the agent at location $(i,j)$ to the closest empty position (and in a random direction if there are multiple). You can use the [Manhattan distance](https://en.wiktionary.org/wiki/Manhattan_distance) to determine the closest empty location. Your function must return a tuple with the new location."
      ]
    },
    {
      "metadata": {
        "id": "4jCUO7cFgoQc",
        "colab_type": "code",
        "colab": {}
      },
      "cell_type": "code",
      "source": [
        ""
      ],
      "execution_count": 0,
      "outputs": []
    },
    {
      "metadata": {
        "id": "xfoAt716DGam",
        "colab_type": "text"
      },
      "cell_type": "markdown",
      "source": [
        "#### Test case"
      ]
    },
    {
      "metadata": {
        "colab_type": "text",
        "id": "k96OBb1Dmvg7"
      },
      "cell_type": "markdown",
      "source": [
        "With the functions you defined above, the following command should show the move of an agent from one location to a random location. Note that sometimes this test command will pick an empty cell so nothing will appear to move."
      ]
    },
    {
      "metadata": {
        "id": "vyLRn1xjkX4F",
        "colab_type": "code",
        "colab": {}
      },
      "cell_type": "code",
      "source": [
        "grid_before = grid.copy()\n",
        "shape = np.shape(grid)\n",
        "i, j = np.random.randint(shape[0]), np.random.randint(shape[1])\n",
        "move_random(grid, i, j)\n",
        "grid_after = grid.copy()\n",
        "plt.imshow(grid_after - grid_before)"
      ],
      "execution_count": 0,
      "outputs": []
    },
    {
      "metadata": {
        "colab_type": "text",
        "id": "IGpVd9lSm7cS"
      },
      "cell_type": "markdown",
      "source": [
        "With the functions you defined above, the following command should show the move of an agent from one location to a location nearby. Note that sometimes the test command will pick an empty cell so nothing will appear to move."
      ]
    },
    {
      "metadata": {
        "colab_type": "code",
        "id": "4HE6R2Dnm7cV",
        "colab": {}
      },
      "cell_type": "code",
      "source": [
        "grid_before = grid.copy()\n",
        "shape = np.shape(grid)\n",
        "i, j = np.random.randint(shape[0]), np.random.randint(shape[1])\n",
        "move_closest(grid, i, j)\n",
        "grid_after = grid.copy()\n",
        "plt.imshow(grid_after - grid_before)"
      ],
      "execution_count": 0,
      "outputs": []
    },
    {
      "metadata": {
        "id": "qKx3gyl98I3J",
        "colab_type": "text"
      },
      "cell_type": "markdown",
      "source": [
        "### Run a single step in the agent-based model simulation"
      ]
    },
    {
      "metadata": {
        "id": "LSganiRbnwkD",
        "colab_type": "text"
      },
      "cell_type": "markdown",
      "source": [
        "Now we develop the rest of the model. Write a function `step(grid, unhappy, move)` that evolves the grid based on the functions `unhappy` and `move` which take the syntax as defined above. The function must return the number of moves."
      ]
    },
    {
      "metadata": {
        "id": "1Ep_dFX-oUna",
        "colab_type": "code",
        "colab": {}
      },
      "cell_type": "code",
      "source": [
        ""
      ],
      "execution_count": 0,
      "outputs": []
    },
    {
      "metadata": {
        "id": "_ajlGrIlE9N0",
        "colab_type": "text"
      },
      "cell_type": "markdown",
      "source": [
        "#### Test case"
      ]
    },
    {
      "metadata": {
        "colab_type": "text",
        "id": "NFX_QO9i0Zke"
      },
      "cell_type": "markdown",
      "source": [
        "With the function you defined above, the following command should show the move of a large number of agents from one location to a location nearby. If you keep repeating this command (with Ctrl-Enter) you should see the number of unhappy agents who move steadily decrease."
      ]
    },
    {
      "metadata": {
        "id": "Xt7RGoNTouXc",
        "colab_type": "code",
        "colab": {}
      },
      "cell_type": "code",
      "source": [
        "grid_before = grid.copy()\n",
        "moves = step(grid, unhappy_lt3, move_closest)\n",
        "print(moves)\n",
        "grid_after = grid.copy()\n",
        "plt.imshow(grid_after - grid_before)\n",
        "plt.show()\n",
        "plt.imshow(grid_after)\n",
        "plt.show()"
      ],
      "execution_count": 0,
      "outputs": []
    },
    {
      "metadata": {
        "id": "CgHFETFV8OGS",
        "colab_type": "text"
      },
      "cell_type": "markdown",
      "source": [
        "### Create a happiness metric for all agents"
      ]
    },
    {
      "metadata": {
        "id": "-r6i6d7ozjMq",
        "colab_type": "text"
      },
      "cell_type": "markdown",
      "source": [
        "In order to study the dynamics of our population, we need to calculate some metrics. We will start with a simple one: the fraction of happy agents. Create a function `metric_happiness(grid, unhappy)` that returns the fraction of happy agents out of the total of all agents (don't include empty locations)."
      ]
    },
    {
      "metadata": {
        "id": "2MXPMuVTzjst",
        "colab_type": "code",
        "colab": {}
      },
      "cell_type": "code",
      "source": [
        ""
      ],
      "execution_count": 0,
      "outputs": []
    },
    {
      "metadata": {
        "id": "rMTNbHeaFIbm",
        "colab_type": "text"
      },
      "cell_type": "markdown",
      "source": [
        "#### Test case"
      ]
    },
    {
      "metadata": {
        "id": "lH2stHev0WMA",
        "colab_type": "text"
      },
      "cell_type": "markdown",
      "source": [
        "Test the happiness metric above by calculating how happy your population is."
      ]
    },
    {
      "metadata": {
        "id": "xpmvVm4t1Bbh",
        "colab_type": "code",
        "colab": {}
      },
      "cell_type": "code",
      "source": [
        "print(\"Happiness metric =\", 100 * metric_happiness(grid, unhappy_lt3), \"%\")"
      ],
      "execution_count": 0,
      "outputs": []
    },
    {
      "metadata": {
        "id": "CIcfrShZ8THf",
        "colab_type": "text"
      },
      "cell_type": "markdown",
      "source": [
        "### Create the full simulation"
      ]
    },
    {
      "metadata": {
        "id": "APbB1we7rGmb",
        "colab_type": "text"
      },
      "cell_type": "markdown",
      "source": [
        "Finally, create function `simulate(shape, prob, unhappy, move, metric = None, N = 100)` that initalizes a new grid and evolves it until stable (no moves in a step), or until $N$ steps have been completed. The fuction should return the grid and number of steps.\n",
        "\n",
        "If the metric is specified, assume is a function with calling syntax `metric(grid, unhappy)` which should be run after each step. A numpy array with the outputs should be returned (suitably shaped in case the metric returns a list or numpy array itself, which you can assume to be 1-dimensional)."
      ]
    },
    {
      "metadata": {
        "id": "38t0XtsoruL1",
        "colab_type": "code",
        "colab": {}
      },
      "cell_type": "code",
      "source": [
        ""
      ],
      "execution_count": 0,
      "outputs": []
    },
    {
      "metadata": {
        "id": "NJnabHAXFWTr",
        "colab_type": "text"
      },
      "cell_type": "markdown",
      "source": [
        "#### Test case"
      ]
    },
    {
      "metadata": {
        "id": "xZzMpD_69UcA",
        "colab_type": "text"
      },
      "cell_type": "markdown",
      "source": [
        "Now run the full simulation on a $100 \\times 100$ grid starting from a population density of 80%, evenly distributed between two groups, using the default happiness rule (lt3)."
      ]
    },
    {
      "metadata": {
        "id": "yLc1w41xsdCL",
        "colab_type": "code",
        "colab": {}
      },
      "cell_type": "code",
      "source": [
        "grid, steps = simulate((100,100), [0.10, 0.45, 0.45], unhappy_lt3, move_random, N = 200)\n",
        "print(\"Number of steps =\", steps)\n",
        "plt.imshow(grid, cmap = 'hot_r')"
      ],
      "execution_count": 0,
      "outputs": []
    },
    {
      "metadata": {
        "id": "vtskcMmT9mBU",
        "colab_type": "text"
      },
      "cell_type": "markdown",
      "source": [
        "What do you observe? Describe in a text box. You may find the [Parable of the Polygons](https://ncase.me/polygons/) an apt explanation."
      ]
    },
    {
      "metadata": {
        "id": "lqcIMtUN9qCz",
        "colab_type": "text"
      },
      "cell_type": "markdown",
      "source": [
        "..."
      ]
    },
    {
      "metadata": {
        "id": "2HUiuxom8aM6",
        "colab_type": "text"
      },
      "cell_type": "markdown",
      "source": [
        "### Run simulations with different unhappiness criteria"
      ]
    },
    {
      "metadata": {
        "id": "8Rk-U5dt8iUx",
        "colab_type": "text"
      },
      "cell_type": "markdown",
      "source": [
        "How is our outcome affected by the happiness rules?\n",
        "- Write a function `unhappy_lt2` under which an agent will be unhappy when less than 2 of its neighbors is of the same group.\n",
        "- Write a function `unhappy_lt4` under which an agent will be unhappy when less than 4 of its neighbors is of the same group.\n",
        "\n",
        "For both cases run a simulation."
      ]
    },
    {
      "metadata": {
        "id": "GBggO0Y_vyBz",
        "colab_type": "code",
        "colab": {}
      },
      "cell_type": "code",
      "source": [
        ""
      ],
      "execution_count": 0,
      "outputs": []
    },
    {
      "metadata": {
        "id": "E-CBShLQv1By",
        "colab_type": "code",
        "colab": {}
      },
      "cell_type": "code",
      "source": [
        ""
      ],
      "execution_count": 0,
      "outputs": []
    },
    {
      "metadata": {
        "id": "KJZNOq05v-I4",
        "colab_type": "code",
        "colab": {}
      },
      "cell_type": "code",
      "source": [
        ""
      ],
      "execution_count": 0,
      "outputs": []
    },
    {
      "metadata": {
        "id": "mBOIyIYDwB8m",
        "colab_type": "code",
        "colab": {}
      },
      "cell_type": "code",
      "source": [
        ""
      ],
      "execution_count": 0,
      "outputs": []
    },
    {
      "metadata": {
        "id": "p2zFy7ywFi_T",
        "colab_type": "text"
      },
      "cell_type": "markdown",
      "source": [
        "We can also create differences in the happiness criteria between groups, though the groups will be less likely to reach an equilibrium due to competing desires. "
      ]
    },
    {
      "metadata": {
        "id": "Iwv3fkQOxUBe",
        "colab_type": "code",
        "colab": {}
      },
      "cell_type": "code",
      "source": [
        ""
      ],
      "execution_count": 0,
      "outputs": []
    },
    {
      "metadata": {
        "id": "M-9JHSCjxeuW",
        "colab_type": "code",
        "colab": {}
      },
      "cell_type": "code",
      "source": [
        ""
      ],
      "execution_count": 0,
      "outputs": []
    },
    {
      "metadata": {
        "id": "pRjc5PSepuFS",
        "colab_type": "text"
      },
      "cell_type": "markdown",
      "source": [
        "## Developing segregation metrics"
      ]
    },
    {
      "metadata": {
        "id": "OcWywMNUGP7K",
        "colab_type": "text"
      },
      "cell_type": "markdown",
      "source": [
        "We introduced the happiness metric above but we didn't look yet at the evolution of it."
      ]
    },
    {
      "metadata": {
        "id": "avfzmh69Gkcg",
        "colab_type": "code",
        "colab": {}
      },
      "cell_type": "code",
      "source": [
        "grid, steps, happiness_lt3 = simulate((100,100), [0.10, 0.45, 0.45], unhappy_lt3, move_random, metric = metric_happiness, N = 200)\n",
        "print(\"Number of steps =\", steps)\n",
        "plt.imshow(grid, cmap = 'hot_r')\n",
        "plt.show()\n",
        "plt.plot(happiness_lt3)\n",
        "plt.xlabel(\"Iteration\")\n",
        "plt.ylabel(\"Happiness\")\n",
        "plt.show()"
      ],
      "execution_count": 0,
      "outputs": []
    },
    {
      "metadata": {
        "id": "idyFUyexpzfU",
        "colab_type": "text"
      },
      "cell_type": "markdown",
      "source": [
        "In order to study how the model changes over time, develop at least one other metric. You could consider:\n",
        "- `metric_homophily(grid,unhappy)`: this returns the number of agents that have only neighbors within their group.\n",
        "- `metric_islands(grid,unhappy)`: this returns the number of disconnected islands of a single group (agents that are connected at a corner are assumed to form a connection).\n",
        "- `metric_compactness(grid,unhappy)`: this returns a sorted (large to small) list of the compactness of each population island. You can use any measure of compactness (Convex Hull, Reock, Polsby-Popper, moment of inertia)."
      ]
    },
    {
      "metadata": {
        "id": "NgZT74erF84U",
        "colab_type": "code",
        "colab": {}
      },
      "cell_type": "code",
      "source": [
        ""
      ],
      "execution_count": 0,
      "outputs": []
    },
    {
      "metadata": {
        "id": "Hrphx_Afep1h",
        "colab_type": "text"
      },
      "cell_type": "markdown",
      "source": [
        "## Impact of initial distribution"
      ]
    },
    {
      "metadata": {
        "id": "0C15E8YkHhsh",
        "colab_type": "text"
      },
      "cell_type": "markdown",
      "source": [
        "Now that we have a working simulation, we can study all kinds of things! How does the ultimate happiness depend on the initial distribution of empty, group 1, and group 2 agents? Create a 2-dimensional contour plot in fraction of group 1 and fraction of group 2 agents that shows the asymptotic happiness for the population."
      ]
    },
    {
      "metadata": {
        "id": "wlEAn_jgIA-W",
        "colab_type": "code",
        "colab": {}
      },
      "cell_type": "code",
      "source": [
        ""
      ],
      "execution_count": 0,
      "outputs": []
    },
    {
      "metadata": {
        "id": "gKYTvuorfaCX",
        "colab_type": "text"
      },
      "cell_type": "markdown",
      "source": [
        "## Impact of different preferences"
      ]
    },
    {
      "metadata": {
        "id": "v4BYwor4Iedj",
        "colab_type": "text"
      },
      "cell_type": "markdown",
      "source": [
        ""
      ]
    },
    {
      "metadata": {
        "id": "WhOJaeNlffbC",
        "colab_type": "text"
      },
      "cell_type": "markdown",
      "source": [
        "## Impact of preferring diversity"
      ]
    },
    {
      "metadata": {
        "id": "vIDl30ekIG03",
        "colab_type": "text"
      },
      "cell_type": "markdown",
      "source": [
        "What happens when agents are unhappy both when surrounded by less than 3 agents of their group AND when there are more than 6 agents of their group (they prefer some diversity)?"
      ]
    },
    {
      "metadata": {
        "id": "LVkNDFC8IY8J",
        "colab_type": "code",
        "colab": {}
      },
      "cell_type": "code",
      "source": [
        ""
      ],
      "execution_count": 0,
      "outputs": []
    },
    {
      "metadata": {
        "id": "bEPwL3NtIgzQ",
        "colab_type": "text"
      },
      "cell_type": "markdown",
      "source": [
        "## Impact of < your choice >"
      ]
    },
    {
      "metadata": {
        "id": "Sf9peEBWIq8s",
        "colab_type": "text"
      },
      "cell_type": "markdown",
      "source": [
        "Perform at least one additional study of a quantity that you find interesting. This could involve:\n",
        "- Reaching an asymptotic equilibrium in one condition and determining the time to reach equilibrium when the criteria for happiness change.\n",
        "- Introducing more than two groups in various proportions.\n",
        "- Introducing some groups that are diversity-averse and some groups that are diversity-seeking.\n",
        "- Expanding the population from a flat grid to a 3-dimensional grid."
      ]
    },
    {
      "metadata": {
        "id": "yP2cbH9zJWiR",
        "colab_type": "code",
        "colab": {}
      },
      "cell_type": "code",
      "source": [
        ""
      ],
      "execution_count": 0,
      "outputs": []
    },
    {
      "metadata": {
        "id": "nLApk8OCTR8A",
        "colab_type": "text"
      },
      "cell_type": "markdown",
      "source": [
        "## Using External Software for Agent-Based Modeling (Bonus Points)"
      ]
    },
    {
      "metadata": {
        "id": "Qr1frf2VTWR_",
        "colab_type": "text"
      },
      "cell_type": "markdown",
      "source": [
        "Instead of writing the code above, we could have used existing software framworks to perform our simulations above. In particular we could have used [mesa](https://github.com/projectmesa/mesa),  a Python package for agent-based modeling.\n",
        "\n",
        "Using the mesa framework has some other advantages:\n",
        "- all agents can be directed to move simultaneously, in random order, or in a predetermined order (which is probably how you implemented your own algorithm above),\n",
        "- data collectors (what we called metrics above) can be defined within the framework."
      ]
    },
    {
      "metadata": {
        "id": "HccOAa_sa3fE",
        "colab_type": "text"
      },
      "cell_type": "markdown",
      "source": [
        "### Installing mesa in Google Colaboratory"
      ]
    },
    {
      "metadata": {
        "id": "yMEgE3-AgQGS",
        "colab_type": "text"
      },
      "cell_type": "markdown",
      "source": [
        "Let's first install the mesa framework to the Google Colaboratory cloud. We use `pip` for this, which will download and install mesa."
      ]
    },
    {
      "metadata": {
        "id": "nAG7iND4Tnx9",
        "colab_type": "code",
        "colab": {}
      },
      "cell_type": "code",
      "source": [
        "!pip install mesa"
      ],
      "execution_count": 0,
      "outputs": []
    },
    {
      "metadata": {
        "id": "grk-Nzrqgwse",
        "colab_type": "text"
      },
      "cell_type": "markdown",
      "source": [
        "As an example of how to use mesa we use the Boltzmann Wealth Model (see for example this [article in the New Scientist](https://www.newscientist.com/article/dn22105-inequality-the-physics-of-our-finances/). This is a simple model of agents exchanging wealth. All agents start with the same amount of money. Every step, each agent with one unit of money or more gives one unit of wealth to another random agent."
      ]
    },
    {
      "metadata": {
        "id": "xGz071HRgphR",
        "colab_type": "text"
      },
      "cell_type": "markdown",
      "source": [
        "We setup an example model `MoneyModel` and agent `MoneyAgent`. This requires that we write two core classes: one for the overall model, the other for the agents. Since we did not write python classes throughout this course, a fully worked out example is provided."
      ]
    },
    {
      "metadata": {
        "id": "WpTI3tfrUntT",
        "colab_type": "code",
        "colab": {}
      },
      "cell_type": "code",
      "source": [
        "import random\n",
        "\n",
        "from mesa import Agent, Model\n",
        "from mesa.space import MultiGrid\n",
        "from mesa.time import RandomActivation\n",
        "from mesa.datacollection import DataCollector\n",
        "\n",
        "def compute_gini(model):\n",
        "    agent_wealths = [agent.wealth for agent in model.schedule.agents]\n",
        "    x = sorted(agent_wealths)\n",
        "    N = model.num_agents\n",
        "    B = sum( xi * (N-i) for i,xi in enumerate(x) ) / (N*sum(x))\n",
        "    return (1 + (1/N) - 2*B)\n",
        "  \n",
        "class MoneyModel(Model):\n",
        "    \"\"\"A model with some number of agents.\"\"\"\n",
        "    def __init__(self, N, width, height):\n",
        "        self.num_agents = N\n",
        "        self.grid = MultiGrid(width, height, True)\n",
        "        self.schedule = RandomActivation(self)\n",
        "        # Create agents\n",
        "        for i in range(self.num_agents):\n",
        "            a = MoneyAgent(i, self)\n",
        "            self.schedule.add(a)\n",
        "            # Add the agent to a random grid cell\n",
        "            x = random.randrange(self.grid.width)\n",
        "            y = random.randrange(self.grid.height)\n",
        "            self.grid.place_agent(a, (x, y))\n",
        "            \n",
        "        self.datacollector = DataCollector(\n",
        "            model_reporters = {\"Gini\": compute_gini},  # A function to call\n",
        "            agent_reporters = {\"Wealth\": \"wealth\"})  # An agent attribute\n",
        "\n",
        "    def step(self):\n",
        "        self.datacollector.collect(self)\n",
        "        self.schedule.step()\n",
        "\n",
        "class MoneyAgent(Agent):\n",
        "    \"\"\" An agent with fixed initial wealth.\"\"\"\n",
        "    def __init__(self, unique_id, model):\n",
        "        super().__init__(unique_id, model)\n",
        "        self.wealth = 1\n",
        "\n",
        "    def move(self):\n",
        "        possible_steps = self.model.grid.get_neighborhood(\n",
        "            self.pos,\n",
        "            moore=True,\n",
        "            include_center=False)\n",
        "        new_position = random.choice(possible_steps)\n",
        "        self.model.grid.move_agent(self, new_position)\n",
        "\n",
        "    def give_money(self):\n",
        "        cellmates = self.model.grid.get_cell_list_contents([self.pos])\n",
        "        if len(cellmates) > 1:\n",
        "            other = random.choice(cellmates)\n",
        "            other.wealth += 1\n",
        "            self.wealth -= 1\n",
        "\n",
        "    def step(self):\n",
        "        self.move()\n",
        "        if self.wealth > 0:\n",
        "            self.give_money()"
      ],
      "execution_count": 0,
      "outputs": []
    },
    {
      "metadata": {
        "id": "X-QFca5pVeKy",
        "colab_type": "code",
        "colab": {}
      },
      "cell_type": "code",
      "source": [
        "model = MoneyModel(50, 10, 10)\n",
        "\n",
        "for i in range(100):\n",
        "    model.step()"
      ],
      "execution_count": 0,
      "outputs": []
    },
    {
      "metadata": {
        "id": "ihtF8b1PJfNm",
        "colab_type": "text"
      },
      "cell_type": "markdown",
      "source": [
        "We can plot the [Gini coefficient](https://en.wikipedia.org/wiki/Gini_coefficient) which is an indicator of wealth inequality (larger Gini, more inequality). It is defined as the ratio of area A over area A + B in the figure below. Perfect wealth equality corresponds to a Gini coefficient of zero. Perfect wealth inequality (all wealth with 1 agent) corresponds to a Gini coefficient of one.\n",
        "\n",
        "<img src=\"https://upload.wikimedia.org/wikipedia/commons/5/59/Economics_Gini_coefficient2.svg\" width=\"50%\">"
      ]
    },
    {
      "metadata": {
        "id": "L1dLHRHGe0Zd",
        "colab_type": "code",
        "colab": {}
      },
      "cell_type": "code",
      "source": [
        "gini = model.datacollector.get_model_vars_dataframe()\n",
        "gini.plot()"
      ],
      "execution_count": 0,
      "outputs": []
    },
    {
      "metadata": {
        "id": "9g05Q7zPfY9N",
        "colab_type": "text"
      },
      "cell_type": "markdown",
      "source": [
        "### Implementation of Schelling's model in mesa"
      ]
    },
    {
      "metadata": {
        "id": "0znm8_G2ff68",
        "colab_type": "text"
      },
      "cell_type": "markdown",
      "source": [
        "Take a look at the model above and adapt it to the Schelling model of segretation. Create at least 1 figure that can be compared to a figure you created above."
      ]
    },
    {
      "metadata": {
        "id": "o3E_N1Qzffuv",
        "colab_type": "code",
        "colab": {}
      },
      "cell_type": "code",
      "source": [
        ""
      ],
      "execution_count": 0,
      "outputs": []
    },
    {
      "metadata": {
        "id": "9mU_H_QTY7Bt",
        "colab_type": "text"
      },
      "cell_type": "markdown",
      "source": [
        "## References"
      ]
    },
    {
      "metadata": {
        "id": "IKJIZmf-Y8n8",
        "colab_type": "text"
      },
      "cell_type": "markdown",
      "source": [
        "\n",
        "https://arxiv.org/pdf/1406.5215.pdf\n",
        "\n",
        "http://nifty.stanford.edu/2014/mccown-schelling-model-segregation/\n",
        "\n",
        "\n"
      ]
    }
  ]
}