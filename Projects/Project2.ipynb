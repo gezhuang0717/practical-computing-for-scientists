{
  "nbformat": 4,
  "nbformat_minor": 0,
  "metadata": {
    "colab": {
      "name": "Project2.ipynb",
      "version": "0.3.2",
      "provenance": [],
      "collapsed_sections": [
        "Z9k4oFIkKytw"
      ],
      "include_colab_link": true
    },
    "kernelspec": {
      "name": "python3",
      "display_name": "Python 3"
    }
  },
  "cells": [
    {
      "cell_type": "markdown",
      "metadata": {
        "id": "view-in-github",
        "colab_type": "text"
      },
      "source": [
        "<a href=\"https://colab.research.google.com/github/wdconinc/practical-computing-for-scientists/blob/master/Projects/Project2.ipynb\" target=\"_parent\"><img src=\"https://colab.research.google.com/assets/colab-badge.svg\" alt=\"Open In Colab\"/></a>"
      ]
    },
    {
      "metadata": {
        "id": "Ij334mjQ4BLb",
        "colab_type": "text"
      },
      "cell_type": "markdown",
      "source": [
        "# Project #2 - The Solar System: It's Not Rocket Science."
      ]
    },
    {
      "metadata": {
        "id": "CZBuq3-I4BLf",
        "colab_type": "text"
      },
      "cell_type": "markdown",
      "source": [
        "## Solving the Solar System"
      ]
    },
    {
      "metadata": {
        "id": "RjwUpLQU4BLg",
        "colab_type": "text"
      },
      "cell_type": "markdown",
      "source": [
        "In this project you will solve the equations of motion for the Sun-Earth-Moon system, using only your team's Physics 101 knowledge of Newton's laws and your (new) ability to solve 2nd order ODEs.\n",
        "\n",
        "You will need Newton's second law:\n",
        "\n",
        "$$m_i \\mathbf{r}_i'' = m_i \\mathbf{a_i} = \\mathbf{F}_i$$ \n",
        "Where $\\mathbf{F}_i$ is the sum of the forces acting on the body with mass $m_i$ and position $\\mathbf{r}_i = (x_i,y_i,z_i)$.\n",
        "\n",
        "The forces are all due to the mutual gravitation of the celestial bodies. For example the force on body $i$ is just:\n",
        "\n",
        "$$\\mathbf{F}_i = \\sum_{j\\neq i} \\mathbf{F}_{ji} = \\sum_{j\\neq i} \\frac{G m_i m_j}{|\\mathbf{r}_j - \\mathbf{r}_i|^3}(\\mathbf{r}_j-\\mathbf{r}_i)$$\n",
        "\n",
        "where the sum is over all planets other than $i$ and $G= 6.6743\\times 10^{-11}  \\mathrm{m}^3 \\mathrm{kg}^{-1} \\mathrm{s}^{-2}$ is the gravitational constant. Please ask for help if you don't understand the vector notation here!"
      ]
    },
    {
      "metadata": {
        "id": "ViUFoC9w4BLh",
        "colab_type": "text"
      },
      "cell_type": "markdown",
      "source": [
        "## Part 1: Obtaining accurate data about the solar system"
      ]
    },
    {
      "metadata": {
        "id": "s6cfekem4BLi",
        "colab_type": "text"
      },
      "cell_type": "markdown",
      "source": [
        "Your starting point is the data made available on NASA/JPL's HORIZONS [web interface](http://ssd.jpl.nasa.gov/horizons.cgi). On that website you can download files containing the masses, positions, and velocities of the celestial bodies at any time and in a variety of reference frames.\n",
        "\n",
        "You will want to focus on the VECTORS ephemeris type in the coordinate system defined by the Solar System's Barycenter (SSB) at discrete time $t_0$ of **2018-10-26 at 00:00 [TDB](https://en.wikipedia.org/wiki/Barycentric_Dynamical_Time)**. \n",
        "\n",
        "Notes:\n",
        "* After obtaining the ephemeris vectors from NASA/JPL, just store the values in some data structure as part of your notebook instead of reading in some data file or Google spreadsheet repeatedly.\n",
        "* Print out your datastructure and compare with your assumptions. There is surely more than one way to do this. You might be able to find a better one.\n",
        "* Make sure you understand the coordinate system of the input data. Use the correct units for position and time. Is our sun at the origin?"
      ]
    },
    {
      "metadata": {
        "id": "Z9k4oFIkKytw",
        "colab_type": "text"
      },
      "cell_type": "markdown",
      "source": [
        "#### Example data as retrieved for Earth"
      ]
    },
    {
      "metadata": {
        "id": "cHGj-3lgK6fo",
        "colab_type": "text"
      },
      "cell_type": "markdown",
      "source": [
        "For Earth you will find the following data output. You will be particularly interested in the X, Y, Z, VX, VY, VZ values.\n",
        "\n",
        "```\n",
        "*******************************************************************************\n",
        "Ephemeris / WWW_USER Tue Oct  9 00:12:08 2018 Pasadena, USA      / Horizons    \n",
        "*******************************************************************************\n",
        "Target body name: Earth (399)                     {source: DE431mx}\n",
        "Center body name: Solar System Barycenter (0)     {source: DE431mx}\n",
        "Center-site name: BODY CENTER\n",
        "*******************************************************************************\n",
        "Start time      : A.D. 2018-Oct-26 00:00:00.0000 TDB\n",
        "Stop  time      : A.D. 2018-Oct-27 00:00:00.0000 TDB\n",
        "Step-size       : 0 steps\n",
        "*******************************************************************************\n",
        "Center geodetic : 0.00000000,0.00000000,0.0000000 {E-lon(deg),Lat(deg),Alt(km)}\n",
        "Center cylindric: 0.00000000,0.00000000,0.0000000 {E-lon(deg),Dxy(km),Dz(km)}\n",
        "Center radii    : (undefined)                                                  \n",
        "Output units    : AU-D                                                         \n",
        "Output type     : GEOMETRIC cartesian states\n",
        "Output format   : 2 (position and velocity)\n",
        "Reference frame : ICRF/J2000.0                                                 \n",
        "Coordinate systm: Ecliptic and Mean Equinox of Reference Epoch                 \n",
        "*******************************************************************************\n",
        "JDTDB\n",
        "   X     Y     Z\n",
        "   VX    VY    VZ\n",
        "*******************************************************************************\n",
        "$$SOE\n",
        "2458417.500000000 = A.D. 2018-Oct-26 00:00:00.0000 TDB \n",
        " X = 8.404737224397151E-01 Y = 5.379831714498152E-01 Z =-9.454886687742862E-05\n",
        " VX=-9.466156060152803E-03 VY= 1.448141865075181E-02 VZ=-6.402661151898044E-07\n",
        "$$EOE\n",
        "*******************************************************************************\n",
        "Coordinate system description:\n",
        "\n",
        "  Ecliptic and Mean Equinox of Reference Epoch\n",
        "\n",
        "    Reference epoch: J2000.0\n",
        "    XY-plane: plane of the Earth's orbit at the reference epoch\n",
        "              Note: obliquity of 84381.448 arcseconds wrt ICRF equator (IAU76)\n",
        "    X-axis  : out along ascending node of instantaneous plane of the Earth's\n",
        "              orbit and the Earth's mean equator at the reference epoch\n",
        "    Z-axis  : perpendicular to the xy-plane in the directional (+ or -) sense\n",
        "              of Earth's north pole at the reference epoch.\n",
        "\n",
        "  Symbol meaning [1 au= 149597870.700 km, 1 day= 86400.0 s]:\n",
        "\n",
        "    JDTDB    Julian Day Number, Barycentric Dynamical Time\n",
        "      X      X-component of position vector (au)                               \n",
        "      Y      Y-component of position vector (au)                               \n",
        "      Z      Z-component of position vector (au)                               \n",
        "      VX     X-component of velocity vector (au/day)                           \n",
        "      VY     Y-component of velocity vector (au/day)                           \n",
        "      VZ     Z-component of velocity vector (au/day)                           \n",
        "\n",
        "Geometric states/elements have no aberrations applied.\n",
        "\n",
        " Computations by ...\n",
        "     Solar System Dynamics Group, Horizons On-Line Ephemeris System\n",
        "     4800 Oak Grove Drive, Jet Propulsion Laboratory\n",
        "     Pasadena, CA  91109   USA\n",
        "     Information: http://ssd.jpl.nasa.gov/\n",
        "     Connect    : telnet://ssd.jpl.nasa.gov:6775  (via browser)\n",
        "                  http://ssd.jpl.nasa.gov/?horizons\n",
        "                  telnet ssd.jpl.nasa.gov 6775    (via command-line)\n",
        "     Author     : Jon.D.Giorgini@jpl.nasa.gov\n",
        "*******************************************************************************\n",
        "```"
      ]
    },
    {
      "metadata": {
        "id": "C1lOs0il4BLj",
        "colab_type": "text"
      },
      "cell_type": "markdown",
      "source": [
        "## Part 2: Writing a function that determines the resultant force on all planets"
      ]
    },
    {
      "metadata": {
        "id": "FGV8Ri5l4BLk",
        "colab_type": "text"
      },
      "cell_type": "markdown",
      "source": [
        "Write a function `fgravity(q,t,m,G)` which takes in an array of positions and velocities `q`, a time `t`, an array of planet masses `m`, and the gravitational constant `G`.  The function returns `qprime` the first derivative of the coordinates and velocities. Correctly constructing this function is obviously important - it's where all the physics lives! Also, you'll note that `t` isn't actually needed by `fgravity` since Newton's law of gravitation is time independent. But, it needs to be there because ODE routines expect it.\n",
        "\n",
        "Comments and suggestions:\n",
        "* `q` generalizes what we called `y` in our in-class examples and will have a length > 2. \n",
        "\n",
        "* Begin by specifying the length of `q` and the meaning of each element. For example, which element corresponds to the earth's x position? Do this first on paper as a group and then record it in a markdown cell as documentation.\n",
        "\n",
        "* Inside your function, write a pair of nested `for` loops over $i$ and $j$. Without worrying how to fill up `qprime`, see if you can compute and print out each $F_{ij}$, passing in `q_0`, which is `q` at time zero, determined from the input file. The idea is that you can also compute some of these forces by hand to make sure your algorithm is right. \n",
        "\n",
        "* Make sure your function only uses variables passed into it or ones defined inside.\n",
        "\n",
        "* You need to end up with a function which is general, deducing the number of bodies from the inputs. However, you might begin by considering a simpler situation for which you know the answer: a small satellite orbiting the earth. It's a two body problem. Let the earth be at rest at the origin. Put a satellite in circular orbit at some radius ([geostationary orbit](https://en.wikipedia.org/wiki/Geostationary_orbit), for example). Compute its velocity from balancing acceleration due to gravity with centrifugal. Establish initial conditions and see if your function, in conjunction with the in-class `vsolve_rk4` or `scipy.integrate.odeint`, can give back the correct orbit. __Note this ever recurring pattern. We test our algorithms on problems in which we know the answer.__\n",
        "\n",
        "* In order to work with `vsolve_rk4` you will probably have to use a `lambda` to take care of the arguments `m` and `G`.\n",
        "\n",
        "* `vsolve_rk4` and `odeint` demand that `fgravity` take in and return one dimensional arrays `q` and `qprime`. However, I found it easier to think of, and work with, `q` and `qprime` as 2D arrays.  The `np.reshape` command is very useful. You might consider testing it out by defining a 3*N element 1D array and then using `reshape` to convert it into a (N,3) 2D array.  "
      ]
    },
    {
      "metadata": {
        "id": "BZ7MOE4DMjlU",
        "colab_type": "text"
      },
      "cell_type": "markdown",
      "source": [
        "## Part 3: Use odeint to evolve the solar system forward in time and check Mercury's orbit"
      ]
    },
    {
      "metadata": {
        "id": "cexJ-GNo4BLl",
        "colab_type": "text"
      },
      "cell_type": "markdown",
      "source": [
        "Solve the solar system for a period of 87 days, which is close to the period of Mercury. Plot Mercury's orbit in x,y to verify that it looks reasonable, and that at day 88 it will close back in on the starting point (almost). Then, find the perihelion and apehelion, the minimum and maximum distances from the Sun during the orbital period. For best results, interpolate the function and then find the min and max using the techniques we developed in class. _Hint: Your solution should also yield the time that the perihelion and apehelion occur, though I don't care about that._ Compare your answer to the known results. Give yourself a pat on the back if you've gotten this far! It's downhill from here on."
      ]
    },
    {
      "metadata": {
        "id": "Fu8Qgr8k4BLl",
        "colab_type": "text"
      },
      "cell_type": "markdown",
      "source": [
        "## Part 4: Check the Moon's orbit"
      ]
    },
    {
      "metadata": {
        "id": "O82f0KTT4BLn",
        "colab_type": "text"
      },
      "cell_type": "markdown",
      "source": [
        "Solve the solar system for one year. During the year, does the moon ever re-cross its path in the x,y plane? Putting it another way, does its orbit look like a slinking snake, or a coiled spring? Show a plot. You might also consider plotting the two in polar coordinates $\\phi,\\rho$. This can be useful for showing the difference between the trajectories of two bodies."
      ]
    },
    {
      "metadata": {
        "id": "04u_aoUu4BLo",
        "colab_type": "text"
      },
      "cell_type": "markdown",
      "source": [
        "## Part 5: When will Mars be closest?"
      ]
    },
    {
      "metadata": {
        "id": "iHSIf0AC4BLo",
        "colab_type": "text"
      },
      "cell_type": "markdown",
      "source": [
        "Solve the solar system for 10 years. In the next 10 years, when (month/day/year) will Mars be closest to the Earth? How close? Show a plot and provide numbers. Use the techniques from part 3."
      ]
    },
    {
      "metadata": {
        "id": "l1WMk--24BLq",
        "colab_type": "text"
      },
      "cell_type": "markdown",
      "source": [
        "## Bonus points: Lagrange points"
      ]
    },
    {
      "metadata": {
        "id": "s2TQ9L2C4BLr",
        "colab_type": "text"
      },
      "cell_type": "markdown",
      "source": [
        "This one is a little more experimental. I'll give you bonus points equal to one homework for a correct solution. If your partners are not interested, you can turn in your own solution.\n",
        "\n",
        "You may know that [Lagrange points](https://en.wikipedia.org/wiki/Lagrangian_point) are points in for example the Sun-Earth gravitational system where a satellite can remain in a relatively stable orbit. Explore these quasi-stable orbits by simulating the motion of the SOHO satellite in Lagrange point $L_1$. Show the orbit of SOHO in a rotating reference frame fixed to $L_1$ and rotating along with it."
      ]
    }
  ]
}