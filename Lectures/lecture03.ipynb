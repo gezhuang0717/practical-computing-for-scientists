{
  "nbformat": 4,
  "nbformat_minor": 0,
  "metadata": {
    "colab": {
      "name": "lecture03.ipynb",
      "version": "0.3.2",
      "provenance": [],
      "collapsed_sections": [
        "odICGLRiiuf6",
        "A7rzM79Miuf9",
        "VlTZyKLLe08w",
        "8Nw9eVkhiugL",
        "l1s4nvEGiugX",
        "_Ls2voAxiugq",
        "Lsc0c6vwiug1",
        "TOCvQMSyiuhM",
        "PgXZRHJ0iuir",
        "nyKnjIEwiui0",
        "v1eOY8QEiui6",
        "WZ4mrcdRiD5w",
        "5OHv0GtCiD58",
        "0Ju_MVeNiD6E",
        "0ukbwpc4iD6K",
        "AY1eerI8iuj4",
        "ZD_tZe8piuj6"
      ],
      "include_colab_link": true
    },
    "kernelspec": {
      "name": "python3",
      "display_name": "Python 3"
    }
  },
  "cells": [
    {
      "cell_type": "markdown",
      "metadata": {
        "id": "view-in-github",
        "colab_type": "text"
      },
      "source": [
        "<a href=\"https://colab.research.google.com/github/wdconinc/practical-computing-for-scientists/blob/master/Lectures/lecture03.ipynb\" target=\"_parent\"><img src=\"https://colab.research.google.com/assets/colab-badge.svg\" alt=\"Open In Colab\"/></a>"
      ]
    },
    {
      "metadata": {
        "id": "odICGLRiiuf6",
        "colab_type": "text"
      },
      "cell_type": "markdown",
      "source": [
        "#Lecture #03"
      ]
    },
    {
      "metadata": {
        "id": "A7rzM79Miuf9",
        "colab_type": "text"
      },
      "cell_type": "markdown",
      "source": [
        "#Introduction to Python - II"
      ]
    },
    {
      "metadata": {
        "id": "poJAMgpJiuf-",
        "colab_type": "text"
      },
      "cell_type": "markdown",
      "source": [
        "Last time: \n",
        "* **Variables:** `a=3` means `a` is another name for the object `3`.\n",
        "* **Types:** `type()` function. Python is dynamically typed. Ex:`a=3` then `a=16.5` is A-OK.\n",
        "* **Arithmetic:** \n",
        "  * `import math`.  \n",
        "  * Available functions? `help(math)` or `math[shift+tab]` or `math.[shift]`\n",
        "* **Reserved words, operators, delimiters and Builtins**"
      ]
    },
    {
      "metadata": {
        "id": "VlTZyKLLe08w",
        "colab_type": "text"
      },
      "cell_type": "markdown",
      "source": [
        "##Defining Functions"
      ]
    },
    {
      "metadata": {
        "id": "fPg0r8Bfe08y",
        "colab_type": "text"
      },
      "cell_type": "markdown",
      "source": [
        "Python function definition syntax:\n",
        "\n",
        "```Python\n",
        "def f(x) :\n",
        "    ''' docstring '''\n",
        "    # indented function body\n",
        "    return my_value\n",
        "```\n",
        "\n",
        "Functions are called as:\n",
        "```Python\n",
        "a = 10\n",
        "result = f(a)\n",
        "```\n",
        "Examples:"
      ]
    },
    {
      "metadata": {
        "id": "D6gP6Mgee08z",
        "colab_type": "code",
        "outputId": "2bb8b9a1-fcd6-4247-fb20-c5ddb19965dd",
        "colab": {
          "base_uri": "https://localhost:8080/",
          "height": 52
        }
      },
      "cell_type": "code",
      "source": [
        "def f1(x):\n",
        "    ''' computes the square of x'''\n",
        "    print(x)\n",
        "    z = x**2\n",
        "    return z\n",
        "\n",
        "y = 8\n",
        "print(y, \"has as its square:\", f1(y))"
      ],
      "execution_count": 0,
      "outputs": [
        {
          "output_type": "stream",
          "text": [
            "8\n",
            "8 has as its square: 64\n"
          ],
          "name": "stdout"
        }
      ]
    },
    {
      "metadata": {
        "id": "WAh0aksRe084",
        "colab_type": "code",
        "outputId": "7756aa4d-8bf8-4b75-d0d0-5ea584683339",
        "colab": {
          "base_uri": "https://localhost:8080/",
          "height": 35
        }
      },
      "cell_type": "code",
      "source": [
        "def f2(x,y):\n",
        "    return x**y\n",
        "\n",
        "print(f2(2,3))"
      ],
      "execution_count": 0,
      "outputs": [
        {
          "output_type": "stream",
          "text": [
            "8\n"
          ],
          "name": "stdout"
        }
      ]
    },
    {
      "metadata": {
        "id": "pj5JWvLJe08_",
        "colab_type": "code",
        "outputId": "f6fa5def-7628-488f-c688-e618fbff8092",
        "colab": {
          "base_uri": "https://localhost:8080/",
          "height": 35
        }
      },
      "cell_type": "code",
      "source": [
        "a = 2\n",
        "x = 4\n",
        "\n",
        "def f3(x):\n",
        "    a = 3\n",
        "    return x**a\n",
        "\n",
        "print(x,a,f3(2))"
      ],
      "execution_count": 0,
      "outputs": [
        {
          "output_type": "stream",
          "text": [
            "4 2 8\n"
          ],
          "name": "stdout"
        }
      ]
    },
    {
      "metadata": {
        "id": "8Nw9eVkhiugL",
        "colab_type": "text"
      },
      "cell_type": "markdown",
      "source": [
        "##Boolean Expressions"
      ]
    },
    {
      "metadata": {
        "id": "uA8Si-qoiugL",
        "colab_type": "text"
      },
      "cell_type": "markdown",
      "source": [
        "Python has two _boolean_ constants: `True` and `False`"
      ]
    },
    {
      "metadata": {
        "id": "kQHye0NiiugM",
        "colab_type": "code",
        "outputId": "d56df605-4cd7-44db-840f-05b44ca7fa25",
        "colab": {
          "base_uri": "https://localhost:8080/",
          "height": 35
        }
      },
      "cell_type": "code",
      "source": [
        "a = True\n",
        "b = False\n",
        "c = True\n",
        "print(a,b,type(a),type(b))"
      ],
      "execution_count": 0,
      "outputs": [
        {
          "output_type": "stream",
          "text": [
            "True False <class 'bool'> <class 'bool'>\n"
          ],
          "name": "stdout"
        }
      ]
    },
    {
      "metadata": {
        "id": "5VEkg-JIiugQ",
        "colab_type": "text"
      },
      "cell_type": "markdown",
      "source": [
        "We can combine them with logical operators:"
      ]
    },
    {
      "metadata": {
        "id": "qczzuzwaiugS",
        "colab_type": "code",
        "outputId": "f34844d8-8a94-4bb4-fa0b-d33803752eb6",
        "colab": {
          "base_uri": "https://localhost:8080/",
          "height": 69
        }
      },
      "cell_type": "code",
      "source": [
        "print((a and b) and c)\n",
        "print(a or b)\n",
        "print(not(a))"
      ],
      "execution_count": 0,
      "outputs": [
        {
          "output_type": "stream",
          "text": [
            "False\n",
            "True\n",
            "False\n"
          ],
          "name": "stdout"
        }
      ]
    },
    {
      "metadata": {
        "id": "l1s4nvEGiugX",
        "colab_type": "text"
      },
      "cell_type": "markdown",
      "source": [
        "##Comparisons: getting to the truth"
      ]
    },
    {
      "metadata": {
        "id": "Z6P04OaziugZ",
        "colab_type": "code",
        "outputId": "3b544828-2668-4a94-9106-e04d00105f8a",
        "colab": {
          "base_uri": "https://localhost:8080/",
          "height": 173
        }
      },
      "cell_type": "code",
      "source": [
        "c = 1\n",
        "d = 2\n",
        "e = 2\n",
        "print(c == d)\n",
        "print(c != d)\n",
        "print(e == d)\n",
        "print(c < d)\n",
        "print(c > d)\n",
        "print(c < d < e)\n",
        "print(c < d > e)\n",
        "print(c <= d)\n",
        "print(e <= d)"
      ],
      "execution_count": 0,
      "outputs": [
        {
          "output_type": "stream",
          "text": [
            "False\n",
            "True\n",
            "True\n",
            "True\n",
            "False\n",
            "False\n",
            "False\n",
            "True\n",
            "True\n"
          ],
          "name": "stdout"
        }
      ]
    },
    {
      "metadata": {
        "id": "F2EzfKSRiugh",
        "colab_type": "code",
        "outputId": "17787c36-bd3e-4b12-b17a-2121087af11b",
        "colab": {
          "base_uri": "https://localhost:8080/",
          "height": 35
        }
      },
      "cell_type": "code",
      "source": [
        "c <= d\n",
        "e <= d"
      ],
      "execution_count": 0,
      "outputs": [
        {
          "output_type": "execute_result",
          "data": {
            "text/plain": [
              "True"
            ]
          },
          "metadata": {
            "tags": []
          },
          "execution_count": 22
        }
      ]
    },
    {
      "metadata": {
        "id": "_Ls2voAxiugq",
        "colab_type": "text"
      },
      "cell_type": "markdown",
      "source": [
        "##Flow control: `if`, `elif`, `else`"
      ]
    },
    {
      "metadata": {
        "id": "k9iWz1vYiugr",
        "colab_type": "text"
      },
      "cell_type": "markdown",
      "source": [
        "`if`, `elif` and `else` can be used to choose which block of text to execute:\n",
        "\n",
        "```\n",
        "x=0\n",
        "if boolean_expression:\n",
        "    # do some stuff\n",
        "    x=1\n",
        "elif boolean_expression:\n",
        "    # do some other stuff\n",
        "    x=2\n",
        "else:\n",
        "    # none of the above true\n",
        "    # take action\n",
        "    x=3\n",
        "```\n",
        "\n",
        "Examples:"
      ]
    },
    {
      "metadata": {
        "id": "PYPUezvNiugs",
        "colab_type": "code",
        "outputId": "29ddd5d3-7dc8-4b33-bc2d-846f7a06d6eb",
        "colab": {
          "base_uri": "https://localhost:8080/",
          "height": 35
        }
      },
      "cell_type": "code",
      "source": [
        "x = 3\n",
        "if x<0:\n",
        "    print(\"x<0\")\n",
        "elif x<2:\n",
        "    print(\"0<=x<2\")\n",
        "else:\n",
        "    print(\"x>=2\")\n"
      ],
      "execution_count": 0,
      "outputs": [
        {
          "output_type": "stream",
          "text": [
            "x>=2\n"
          ],
          "name": "stdout"
        }
      ]
    },
    {
      "metadata": {
        "id": "Lsc0c6vwiug1",
        "colab_type": "text"
      },
      "cell_type": "markdown",
      "source": [
        "##Exercise: functions and flow control"
      ]
    },
    {
      "metadata": {
        "id": "OhXE4ZO0iug3",
        "colab_type": "text"
      },
      "cell_type": "markdown",
      "source": [
        "Write a function `letter_grade` to take in a numerical score in percent and return letter grades according to the following rubric:\n",
        "\n",
        "letter grade | numerical score (%)\n",
        "-------------|----------------\n",
        "A| >=90\n",
        "B| >=80\n",
        "C| >=70\n",
        "D| >=60\n",
        "F| <60 \n",
        "\n",
        "Use `if`, `elif`, `else` to control the flow"
      ]
    },
    {
      "metadata": {
        "id": "wcfY-2GDiug4",
        "colab_type": "code",
        "outputId": "994a63f8-7732-4cec-f899-8c52ee19df21",
        "colab": {
          "base_uri": "https://localhost:8080/",
          "height": 69
        }
      },
      "cell_type": "code",
      "source": [
        "def letter_grade(pct_score):\n",
        "    ''' return the letter grade based on the percent score'''\n",
        "    if(pct_score>=90):\n",
        "        return 'A'\n",
        "    elif(pct_score>=80):\n",
        "        return 'B'\n",
        "    else:\n",
        "        return 'F'\n",
        "print(letter_grade(91))\n",
        "print(letter_grade(85))\n",
        "print(letter_grade(75))"
      ],
      "execution_count": 0,
      "outputs": [
        {
          "output_type": "stream",
          "text": [
            "A\n",
            "B\n",
            "F\n"
          ],
          "name": "stdout"
        }
      ]
    },
    {
      "metadata": {
        "id": "pyoMpPKliuhD",
        "colab_type": "code",
        "outputId": "488c70ae-68dd-4c4b-b1f3-d337b0527e67",
        "colab": {
          "base_uri": "https://localhost:8080/",
          "height": 104
        }
      },
      "cell_type": "code",
      "source": [
        "help(letter_grade)"
      ],
      "execution_count": 0,
      "outputs": [
        {
          "output_type": "stream",
          "text": [
            "Help on function letter_grade in module __main__:\n",
            "\n",
            "letter_grade(pct_score)\n",
            "    return the letter grade based on the percent score\n",
            "\n"
          ],
          "name": "stdout"
        }
      ]
    },
    {
      "metadata": {
        "id": "TOCvQMSyiuhM",
        "colab_type": "text"
      },
      "cell_type": "markdown",
      "source": [
        "##Lists"
      ]
    },
    {
      "metadata": {
        "id": "UWn_ppgRiuhP",
        "colab_type": "text"
      },
      "cell_type": "markdown",
      "source": [
        "A list is an ordered set of objects. Created like this:\n",
        "\n",
        "```Python\n",
        "L = [obj1, obj2, obj3]\n",
        "```"
      ]
    },
    {
      "metadata": {
        "id": "QUa8YimoiuhQ",
        "colab_type": "code",
        "outputId": "961f490e-5c37-44a1-8ce7-e14a60b83291",
        "colab": {
          "base_uri": "https://localhost:8080/",
          "height": 156
        }
      },
      "cell_type": "code",
      "source": [
        "L = ['red', 'green', 'blue', 'black', 'white']\n",
        "print(L)\n",
        "print(L[1])\n",
        "print(L[-2]) # go backwards\n",
        "print(L[2:4]) # get a slice of the list\n",
        "print(L[:2]) # first arg defaults to zero\n",
        "print(L[2:]) # second arg defaults to end of list\n",
        "print(L[::2]) # third argument is the stride (default =1)\n",
        "print(L[::-1])\n"
      ],
      "execution_count": 0,
      "outputs": [
        {
          "output_type": "stream",
          "text": [
            "['red', 'green', 'blue', 'black', 'white']\n",
            "green\n",
            "black\n",
            "['blue', 'black']\n",
            "['red', 'green']\n",
            "['blue', 'black', 'white']\n",
            "['red', 'blue', 'white']\n",
            "['white', 'black', 'blue', 'green', 'red']\n"
          ],
          "name": "stdout"
        }
      ]
    },
    {
      "metadata": {
        "id": "4FLmHTvYiuhd",
        "colab_type": "text"
      },
      "cell_type": "markdown",
      "source": [
        "You can ask lists if they contain an element:"
      ]
    },
    {
      "metadata": {
        "id": "dZRSs-WFiuhg",
        "colab_type": "code",
        "outputId": "79e70453-05b6-4020-b496-76475378153d",
        "colab": {
          "base_uri": "https://localhost:8080/",
          "height": 52
        }
      },
      "cell_type": "code",
      "source": [
        "print(\"blue\" in L)\n",
        "print(\"magenta\" in L)"
      ],
      "execution_count": 0,
      "outputs": [
        {
          "output_type": "stream",
          "text": [
            "True\n",
            "False\n"
          ],
          "name": "stdout"
        }
      ]
    },
    {
      "metadata": {
        "id": "_TMpJ1CAiuhs",
        "colab_type": "text"
      },
      "cell_type": "markdown",
      "source": [
        "You can add and remove elements:"
      ]
    },
    {
      "metadata": {
        "id": "8cUamSoeiuhu",
        "colab_type": "code",
        "outputId": "fa178cb9-68a5-49af-cad5-addaed4c3fcd",
        "colab": {
          "base_uri": "https://localhost:8080/",
          "height": 69
        }
      },
      "cell_type": "code",
      "source": [
        "L.append(\"magenta\")\n",
        "print(L)\n",
        "a_color = L.pop()\n",
        "print(a_color)\n",
        "print(L)"
      ],
      "execution_count": 0,
      "outputs": [
        {
          "output_type": "stream",
          "text": [
            "['red', 'green', 'blue', 'black', 'white', 'magenta']\n",
            "magenta\n",
            "['red', 'green', 'blue', 'black', 'white']\n"
          ],
          "name": "stdout"
        }
      ]
    },
    {
      "metadata": {
        "id": "LVpLVpEZiuh6",
        "colab_type": "text"
      },
      "cell_type": "markdown",
      "source": [
        "You can add and multiply lists:"
      ]
    },
    {
      "metadata": {
        "id": "Kr2VAlBkiuh9",
        "colab_type": "code",
        "outputId": "e6d90d84-ef84-4cea-8365-685aaa26141d",
        "colab": {
          "base_uri": "https://localhost:8080/",
          "height": 52
        }
      },
      "cell_type": "code",
      "source": [
        "Q = ['mauve', 'indigo', 'charcoal']\n",
        "U = L + Q\n",
        "print(U)\n",
        "U2 = L*2\n",
        "print(U2)"
      ],
      "execution_count": 0,
      "outputs": [
        {
          "output_type": "stream",
          "text": [
            "['red', 'green', 'blue', 'black', 'white', 'mauve', 'indigo', 'charcoal']\n",
            "['red', 'green', 'blue', 'black', 'white', 'red', 'green', 'blue', 'black', 'white']\n"
          ],
          "name": "stdout"
        }
      ]
    },
    {
      "metadata": {
        "id": "nudOtzkeiuiJ",
        "colab_type": "text"
      },
      "cell_type": "markdown",
      "source": [
        "Lists can have different types of objects in them:"
      ]
    },
    {
      "metadata": {
        "id": "vctPkAfZiuiL",
        "colab_type": "code",
        "outputId": "0df56041-3464-479f-feb0-82a73cf8a6d9",
        "colab": {
          "base_uri": "https://localhost:8080/",
          "height": 170
        }
      },
      "cell_type": "code",
      "source": [
        "L = ['red', 3, ['a', 'b'], f1]\n",
        "print(L[0])\n",
        "print(L[1])\n",
        "print(L[2])\n",
        "print(L[2][1])\n",
        "print(L[3])\n",
        "print(L[3](3))\n",
        "print(L)\n",
        "\n",
        "def doublelist(L):\n",
        "  return L*2\n",
        "\n",
        "print(doublelist([1,2]))"
      ],
      "execution_count": 0,
      "outputs": [
        {
          "output_type": "stream",
          "text": [
            "red\n",
            "3\n",
            "['a', 'b']\n",
            "b\n",
            "<function f1 at 0x7f7718c3dea0>\n",
            "3\n",
            "9\n",
            "['red', 3, ['a', 'b'], <function f1 at 0x7f7718c3dea0>]\n",
            "[1, 2, 1, 2]\n"
          ],
          "name": "stdout"
        }
      ]
    },
    {
      "metadata": {
        "id": "tycgfN1eiuiV",
        "colab_type": "text"
      },
      "cell_type": "markdown",
      "source": [
        "How long is the list?"
      ]
    },
    {
      "metadata": {
        "id": "MwzeJJAviuih",
        "colab_type": "code",
        "outputId": "8f01105a-00a1-4615-95d6-e6cb16908ac2",
        "colab": {
          "base_uri": "https://localhost:8080/",
          "height": 51
        }
      },
      "cell_type": "code",
      "source": [
        "print(len(L))\n",
        "L"
      ],
      "execution_count": 0,
      "outputs": [
        {
          "output_type": "stream",
          "text": [
            "4\n"
          ],
          "name": "stdout"
        },
        {
          "output_type": "execute_result",
          "data": {
            "text/plain": [
              "['red', 3, ['a', 'b'], <function __main__.f1>]"
            ]
          },
          "metadata": {
            "tags": []
          },
          "execution_count": 43
        }
      ]
    },
    {
      "metadata": {
        "id": "PgXZRHJ0iuir",
        "colab_type": "text"
      },
      "cell_type": "markdown",
      "source": [
        "#### Want a list of numbers? \n",
        "\n",
        "Use the range function:"
      ]
    },
    {
      "metadata": {
        "id": "oIp0a6Ufiuis",
        "colab_type": "code",
        "outputId": "5c1a3dbc-1bb9-4aa0-f825-975841528097",
        "colab": {
          "base_uri": "https://localhost:8080/",
          "height": 85
        }
      },
      "cell_type": "code",
      "source": [
        "print(range(10))\n",
        "print(range(2,8))\n",
        "print(range(0,10,2))\n",
        "print(range(10,0,-1))"
      ],
      "execution_count": 0,
      "outputs": [
        {
          "output_type": "stream",
          "text": [
            "range(0, 10)\n",
            "range(2, 8)\n",
            "range(0, 10, 2)\n",
            "range(10, 0, -1)\n"
          ],
          "name": "stdout"
        }
      ]
    },
    {
      "metadata": {
        "id": "nyKnjIEwiui0",
        "colab_type": "text"
      },
      "cell_type": "markdown",
      "source": [
        "##Loops"
      ]
    },
    {
      "metadata": {
        "id": "XuyO3Nqkiui3",
        "colab_type": "text"
      },
      "cell_type": "markdown",
      "source": [
        "<img src=\"https://imgs.xkcd.com/comics/loop.png\" />\n",
        "\n",
        "Python has two types of loops, `for` and `while`:\n",
        "\n",
        "```Python \n",
        "for item in list:\n",
        "    # do some stuff\n",
        "    print(item)\n",
        "\n",
        "\n",
        "while boolean_expression :\n",
        "    # do some stuff\n",
        "    # possibly increment a counter\n",
        "```"
      ]
    },
    {
      "metadata": {
        "id": "v1eOY8QEiui6",
        "colab_type": "text"
      },
      "cell_type": "markdown",
      "source": [
        "###`for` loops"
      ]
    },
    {
      "metadata": {
        "id": "JzUos3fciLxB",
        "colab_type": "code",
        "colab": {}
      },
      "cell_type": "code",
      "source": [
        "U = [\"red\", \"blue\", \"green\", \"black\", \"white\"]\n",
        "print(len(U))\n",
        "print(range(len(U)))\n",
        "for i in range(len(U)):\n",
        "    print(\"i =\",i,\" U[i] =\",U[i])"
      ],
      "execution_count": 0,
      "outputs": []
    },
    {
      "metadata": {
        "id": "F20zRi5diujA",
        "colab_type": "text"
      },
      "cell_type": "markdown",
      "source": [
        "A loop with an index like that is similar to what you'd see in C code:\n",
        "```C++\n",
        "double U[3]={1,2,3};\n",
        "for(int i=0; i<3; i++){\n",
        "   std::cout<<\"i=\"<<i<<\" U[i]=\"<<U[i]<<std::endl;            \n",
        "}\n",
        "```\n",
        "\n",
        "But, in python there is a better way:"
      ]
    },
    {
      "metadata": {
        "id": "ZLa-pdyLiujB",
        "colab_type": "code",
        "colab": {}
      },
      "cell_type": "code",
      "source": [
        "for color in U:\n",
        "    print(color)"
      ],
      "execution_count": 0,
      "outputs": []
    },
    {
      "metadata": {
        "id": "WZ4mrcdRiD5w",
        "colab_type": "text"
      },
      "cell_type": "markdown",
      "source": [
        "###`break` and `continue`"
      ]
    },
    {
      "metadata": {
        "id": "VE1kkSvbiD5x",
        "colab_type": "text"
      },
      "cell_type": "markdown",
      "source": [
        "These keywords can be used to stop the loop early:"
      ]
    },
    {
      "metadata": {
        "id": "dF8RS9zNiD5x",
        "colab_type": "code",
        "colab": {}
      },
      "cell_type": "code",
      "source": [
        "for color in U:\n",
        "    print(color)\n",
        "    if color == 'black':\n",
        "        break"
      ],
      "execution_count": 0,
      "outputs": []
    },
    {
      "metadata": {
        "id": "ucIV6XBjiD51",
        "colab_type": "text"
      },
      "cell_type": "markdown",
      "source": [
        "or continue onto the next iteration:"
      ]
    },
    {
      "metadata": {
        "id": "zIQHUzWOiD52",
        "colab_type": "code",
        "colab": {}
      },
      "cell_type": "code",
      "source": [
        "for color in U:\n",
        "    if color == 'black':\n",
        "        continue\n",
        "    print(color)"
      ],
      "execution_count": 0,
      "outputs": []
    },
    {
      "metadata": {
        "id": "5OHv0GtCiD58",
        "colab_type": "text"
      },
      "cell_type": "markdown",
      "source": [
        "###while loops"
      ]
    },
    {
      "metadata": {
        "id": "lT3-kUJsiD5_",
        "colab_type": "code",
        "colab": {}
      },
      "cell_type": "code",
      "source": [
        "i = 1\n",
        "while i < 100:\n",
        "    print(i)\n",
        "    i += i**2\n",
        "print(i)"
      ],
      "execution_count": 0,
      "outputs": []
    },
    {
      "metadata": {
        "id": "0Ju_MVeNiD6E",
        "colab_type": "text"
      },
      "cell_type": "markdown",
      "source": [
        "###Iterating over multiple lists: `zip`"
      ]
    },
    {
      "metadata": {
        "id": "t50_BeUNiD6F",
        "colab_type": "code",
        "colab": {}
      },
      "cell_type": "code",
      "source": [
        "print(U)\n",
        "R = range(len(U))\n",
        "print(R)\n",
        "print(zip(U,R))\n",
        "for color,number in zip(U,R):\n",
        "    print(color, \" at \", number)"
      ],
      "execution_count": 0,
      "outputs": []
    },
    {
      "metadata": {
        "id": "0ukbwpc4iD6K",
        "colab_type": "text"
      },
      "cell_type": "markdown",
      "source": [
        "###Exercise:"
      ]
    },
    {
      "metadata": {
        "id": "dOKHGmoiiD6M",
        "colab_type": "text"
      },
      "cell_type": "markdown",
      "source": [
        "Write a function `letter_grade2` to take in a numerical score in percent and return letter grades according to the following rubric:\n",
        "\n",
        "letter grade | numerical score (%)\n",
        "-------------|----------------\n",
        "A| >=90\n",
        "B| >=80\n",
        "C| >=70\n",
        "D| >=60\n",
        "F| <60 \n",
        "\n",
        "* Use a loop and lists in the implementation. \n",
        "* Use range and a loop to test your function"
      ]
    },
    {
      "metadata": {
        "id": "oIfjuuh0iD6N",
        "colab_type": "code",
        "colab": {}
      },
      "cell_type": "code",
      "source": [
        "def letter_grade2(score):\n",
        "    letter_grades = ['A','B','C','D']\n",
        "    thresholds = [90,80,70,60]\n",
        "    lg = 'F'\n",
        "    for grade,thresh in zip(letter_grades,thresholds):\n",
        "        if score >= thresh:\n",
        "            return grade\n",
        "            \n",
        "    return lg\n",
        "\n",
        "for score in range(100,50,-1):\n",
        "    print(score, letter_grade2(score))"
      ],
      "execution_count": 0,
      "outputs": []
    },
    {
      "metadata": {
        "id": "AY1eerI8iuj4",
        "colab_type": "text"
      },
      "cell_type": "markdown",
      "source": [
        "##Bits and Bytes"
      ]
    },
    {
      "metadata": {
        "id": "ZD_tZe8piuj6",
        "colab_type": "text"
      },
      "cell_type": "markdown",
      "source": [
        "Before moving on let's talk about how integers are represented in decimal, binary and hex. \n",
        "\n",
        "* A `bit` = \"binary digit\" = 0 or 1. True or False.\n",
        "* A `byte` = 8 bits. Has $2^8$ = 256 possible values\n",
        "  * Written, in binary format as, e.g 0b00100110\n",
        "\n",
        "prefix|bit8|bit7|bit6|bit5|bit4|bit3|bit2|bit1|\n",
        "-------------------|--------------------\n",
        " 0b| 128 | 64 |32 |16|8|4|2|1\n",
        "  \n",
        "  * Hexadecimal (base 16) format. Made of two 4 bit \"nibbles\" which are denoted by the numbers 0-9, and the letters A=10, B=11, C=12, D=14, E=14,F=15 \n",
        "\n",
        "prefix|nibble 2 | nibble 1\n",
        "---------|---------\n",
        "0x | 16  | 1\n",
        "\n",
        "  * Written as 0x##\n",
        "  * So 0x10 = 16 in decimal. 0x21 = 37, etc\n",
        "  \n",
        "* An `int` = 4 bytes on a 32 bit system, 8 bytes on a 64 bit system \n",
        "* A `float` = at least 8 bytes\n",
        "\n",
        "### Exercise: print binary and hex as decimal\n",
        "\n",
        "Start by doing `help(int)`. There is a way to feed a character string such as '0b00100110' in to make an `int`. Figure out how to use that feature, make an integer variable and use `print` to print it (by default in decimal)."
      ]
    },
    {
      "metadata": {
        "id": "rn3SgLA8iuj6",
        "colab_type": "code",
        "colab": {}
      },
      "cell_type": "code",
      "source": [
        "help(int)"
      ],
      "execution_count": 0,
      "outputs": []
    },
    {
      "metadata": {
        "id": "r6c5oyhUiuj9",
        "colab_type": "code",
        "colab": {}
      },
      "cell_type": "code",
      "source": [
        ""
      ],
      "execution_count": 0,
      "outputs": []
    }
  ]
}