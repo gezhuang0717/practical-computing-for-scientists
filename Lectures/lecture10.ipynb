{
  "nbformat": 4,
  "nbformat_minor": 0,
  "metadata": {
    "colab": {
      "name": "lecture10.ipynb",
      "version": "0.3.2",
      "provenance": [],
      "collapsed_sections": [
        "kGsdjzefwFAC",
        "TFE3HV4LwFAJ",
        "HYOKUyMrwFAR",
        "6KQ0oe48wFC0",
        "xldEepdKwFC2",
        "hMhDNRCcwFDA",
        "HXkfIGhLwFDF",
        "SgMBsab2wFDL",
        "wHnL3ppawFDT",
        "2Y8zUd0PwFDT",
        "n4s8-4FdwFDY",
        "h2KmG2M6wFDY",
        "--s-N8qNwFDd",
        "LE_hh8mswFDj",
        "Y8TgHUc-tRtz",
        "oKT2xbBAwFDn",
        "Zobir6nZwFDr",
        "Z8tPcJkqwFDw"
      ],
      "include_colab_link": true
    },
    "kernelspec": {
      "name": "python3",
      "display_name": "Python 3"
    }
  },
  "cells": [
    {
      "cell_type": "markdown",
      "metadata": {
        "id": "view-in-github",
        "colab_type": "text"
      },
      "source": [
        "<a href=\"https://colab.research.google.com/github/wdconinc/practical-computing-for-scientists/blob/master/Lectures/lecture10.ipynb\" target=\"_parent\"><img src=\"https://colab.research.google.com/assets/colab-badge.svg\" alt=\"Open In Colab\"/></a>"
      ]
    },
    {
      "metadata": {
        "id": "kGsdjzefwFAC",
        "colab_type": "text"
      },
      "cell_type": "markdown",
      "source": [
        "#Lecture #10"
      ]
    },
    {
      "metadata": {
        "id": "TFE3HV4LwFAJ",
        "colab_type": "text"
      },
      "cell_type": "markdown",
      "source": [
        "##Standard Preamble"
      ]
    },
    {
      "metadata": {
        "id": "yYSS4_GswFAL",
        "colab_type": "code",
        "colab": {}
      },
      "cell_type": "code",
      "source": [
        "%matplotlib inline\n",
        "import numpy as np\n",
        "import scipy as sp\n",
        "import matplotlib.pyplot as plt\n",
        "import math"
      ],
      "execution_count": 0,
      "outputs": []
    },
    {
      "metadata": {
        "id": "HYOKUyMrwFAR",
        "colab_type": "text"
      },
      "cell_type": "markdown",
      "source": [
        "##In our last episode"
      ]
    },
    {
      "metadata": {
        "id": "opXNa7iIwFCz",
        "colab_type": "text"
      },
      "cell_type": "markdown",
      "source": [
        "* Simple error propagation\n",
        "* Plotting data with error bars.\n",
        "* Fitting functions to data. The method of least squares and $\\chi^2$\n",
        "* Numerical derivatives. Accuracy: truncation error and roundoff error."
      ]
    },
    {
      "metadata": {
        "id": "6KQ0oe48wFC0",
        "colab_type": "text"
      },
      "cell_type": "markdown",
      "source": [
        "##Derivatives"
      ]
    },
    {
      "metadata": {
        "id": "xldEepdKwFC2",
        "colab_type": "text"
      },
      "cell_type": "markdown",
      "source": [
        "###Defining and testing D(f,x)"
      ]
    },
    {
      "metadata": {
        "id": "qQMmgnkqwFC3",
        "colab_type": "code",
        "colab": {}
      },
      "cell_type": "code",
      "source": [
        "def D(f, x, h = 1.0e-6):\n",
        "    ''' computes the derivative df/dx '''\n",
        "    return (f(x+h) - f(x-h)) / (2.0*h)\n",
        "\n",
        "def Dimproved(f, x, h = 1.0e-6):\n",
        "    ''' computes the derivative df/dx '''\n",
        "    temp = x+h\n",
        "    h = temp-x\n",
        "    return (f(x+h) - f(x-h)) / (2.0*h)\n",
        "\n",
        "f = lambda z : z + z**2\n",
        "df = lambda z : 1 + 2*z\n",
        "x = np.linspace(-3,3)\n",
        "plt.plot(x,f(x))\n",
        "plt.plot(x,df(x))\n",
        "plt.plot(x,D(f,x),'--r')"
      ],
      "execution_count": 0,
      "outputs": []
    },
    {
      "metadata": {
        "id": "hMhDNRCcwFDA",
        "colab_type": "text"
      },
      "cell_type": "markdown",
      "source": [
        "###D(f,x) - df(x) and the choice of h"
      ]
    },
    {
      "metadata": {
        "id": "tDMjjiR8wFDB",
        "colab_type": "code",
        "colab": {}
      },
      "cell_type": "code",
      "source": [
        "plt.plot(x,D(f, x, h = 1.0e-6) - df(x))"
      ],
      "execution_count": 0,
      "outputs": []
    },
    {
      "metadata": {
        "id": "HXkfIGhLwFDF",
        "colab_type": "text"
      },
      "cell_type": "markdown",
      "source": [
        "###Making it more quantitative - rms vs exponent"
      ]
    },
    {
      "metadata": {
        "id": "n6F6njdmwFDG",
        "colab_type": "code",
        "colab": {}
      },
      "cell_type": "code",
      "source": [
        "std_dev = []\n",
        "std_dev2 = []\n",
        "exponents = range(2,10)\n",
        "for n in exponents:\n",
        "    rms = np.std(D(f, x, h = 10.0**(-n)) - df(x))\n",
        "    std_dev.append(rms)\n",
        "    rms = np.std(Dimproved(f, x, h = 10.0**(-n)) - df(x))\n",
        "    std_dev2.append(rms)\n",
        "\n",
        "plt.plot(exponents, std_dev)\n",
        "plt.plot(exponents, std_dev2, '--r')"
      ],
      "execution_count": 0,
      "outputs": []
    },
    {
      "metadata": {
        "id": "SgMBsab2wFDL",
        "colab_type": "text"
      },
      "cell_type": "markdown",
      "source": [
        "###Derivative of the sin() function"
      ]
    },
    {
      "metadata": {
        "id": "m7BLG7rJwFDN",
        "colab_type": "code",
        "colab": {}
      },
      "cell_type": "code",
      "source": [
        "std_dev = []\n",
        "std_dev2 = []\n",
        "exponents = range(5,7)\n",
        "for n in exponents:\n",
        "    rms = np.std(D(np.sin, x, h = 10.0**(-n)) - np.cos(x))\n",
        "    std_dev.append(rms)\n",
        "    rms = np.std(Dimproved(np.sin, x, h = 10.0**(-n)) - np.cos(x))\n",
        "    std_dev2.append(rms)\n",
        "\n",
        "plt.plot(exponents,std_dev)\n",
        "plt.plot(exponents,std_dev2,'--r')"
      ],
      "execution_count": 0,
      "outputs": []
    },
    {
      "metadata": {
        "id": "wHnL3ppawFDT",
        "colab_type": "text"
      },
      "cell_type": "markdown",
      "source": [
        "### What's going on here?\n",
        "\n",
        "The error has two components, the _truncation error_:\n",
        "\n",
        "$$e_t = \\left | \\frac{h^2 f'''(x)}{6} \\right |$$ \n",
        "\n",
        "due to the lack of higher order terms in \n",
        "\n",
        "$$ \\frac{\\mathrm{d}f}{\\mathrm{d}x} = \\frac{f(x+h) - f(x-h)}{2h} $$\n",
        " \n",
        "and the _round-off error_: \n",
        "\n",
        "$$e_r \\approx \\epsilon_f \\left | \\frac{f(x)}{h} \\right | $$\n",
        "\n",
        "due to round-off uncertainties in the computation of $f(x)$. The magnitude of these uncertainties as a fraction of $f(x)$, written here as $\\epsilon_f$, will depend on the function and how complicated it is to compute it.   Picking a small $h$ blows up $e_r$ whereas picking a large $h$ blows up $e_t$ (unless $f''' =0 $ as with a quadratic function).\n",
        "\n",
        "### The best choice of h?\n",
        "\n",
        "We can find a best choice of h by solving\n",
        "\n",
        "$$\\frac{\\partial}{\\partial h} (e_t+e_r) = 0$$\n",
        "\n",
        "for h. The solution is \n",
        "\n",
        "$$h = \\left (3 \\epsilon_f \\frac{f}{f'''} \\right )^{1/3}$$\n",
        "\n",
        "Considering the practical case $f(x)=\\sin{x}$,  $f/f'''$ is usually around 1, except when $f'''$ is very small, in which case even a large $h$ would do.  The machine precision for a 64-bit floating point number is $\\epsilon_m \\approx 10^{-16}$ and it's not too hard to imagine it takes somewhere between $N \\approx 1 \\ldots 100$ operations to compute $\\sin{x}$. Thus\n",
        "\n",
        "$$h \\approx \\left ( N \\epsilon_m \\right )^{1/3}$$\n",
        "\n",
        "which ranges from $6\\times 10^{-6}$ to $3 \\times 10^{-5}$, in pretty good agreement with our plot.\n",
        "\n",
        "### The magnitude of $e_t + e_r$\n",
        "\n",
        "If we plug our optimal choice of $h$ back into the formula for $e_t + e_r$ we can find that the fractional error is\n",
        "\n",
        "$$\\frac{e_t + e_r}{f'} \\approx \\epsilon_f^{2/3}$$\n",
        "\n",
        "For $\\epsilon_f = N \\epsilon_m$ this gives an uncertainty between $4\\times 10^{-11}$ and $8 \\times 10^{-10}$ which also appears to agree with the plot above. Note, the plot shows something more like $e_t + e_r$ but $|f'(x)|\\leq1$ for $f(x)=\\sin{x}$ so the fractional uncertainty has the same magnitude.\n",
        "\n"
      ]
    },
    {
      "metadata": {
        "id": "2Y8zUd0PwFDT",
        "colab_type": "text"
      },
      "cell_type": "markdown",
      "source": [
        "###One more trick, involving h"
      ]
    },
    {
      "metadata": {
        "id": "2sF-iRkpxtHt",
        "colab_type": "text"
      },
      "cell_type": "markdown",
      "source": [
        "See $Dimproved(f,x,h)$ above. The trick `temp = x + h` followed by `h = temp - x` makes sure that `h` is a perfectly represented number, rounded to the precision of `x` in both the numerator and denominator. If we don’t do this we incur a fractional error $\\delta h/h = \\epsilon_m x/h$.\n"
      ]
    },
    {
      "metadata": {
        "id": "z3FYfSKvwFDU",
        "colab_type": "code",
        "colab": {}
      },
      "cell_type": "code",
      "source": [
        ""
      ],
      "execution_count": 0,
      "outputs": []
    },
    {
      "metadata": {
        "id": "n4s8-4FdwFDY",
        "colab_type": "text"
      },
      "cell_type": "markdown",
      "source": [
        "##Root Finding"
      ]
    },
    {
      "metadata": {
        "id": "h2KmG2M6wFDY",
        "colab_type": "text"
      },
      "cell_type": "markdown",
      "source": [
        "###Plot the Function"
      ]
    },
    {
      "metadata": {
        "id": "y8Pn-FddwFDZ",
        "colab_type": "code",
        "colab": {}
      },
      "cell_type": "code",
      "source": [
        "g = lambda x: np.cos(8*x) + x**2 - x\n",
        "x = np.linspace(-1, 1.5, 300)\n",
        "plt.plot(x,g(x))\n",
        "plt.axhline(color = 'red')"
      ],
      "execution_count": 0,
      "outputs": []
    },
    {
      "metadata": {
        "id": "--s-N8qNwFDd",
        "colab_type": "text"
      },
      "cell_type": "markdown",
      "source": [
        "###An algorithm to bracket the roots"
      ]
    },
    {
      "metadata": {
        "id": "95LpfEjIwFDf",
        "colab_type": "code",
        "colab": {}
      },
      "cell_type": "code",
      "source": [
        "def bracket_roots(f, xlow, xhigh, n = 100):\n",
        "    result = []\n",
        "    dx = (xhigh - xlow) / float(n)\n",
        "    for i in range(0,n):\n",
        "        a = xlow + dx*i\n",
        "        b = a + dx\n",
        "        if f(a)*f(b) < 0.0:\n",
        "            result.append((a,b))\n",
        "    return result\n",
        "\n",
        "brackets = bracket_roots(D(g), -1.0, 1.5, n = 100)\n",
        "print(brackets)"
      ],
      "execution_count": 0,
      "outputs": []
    },
    {
      "metadata": {
        "id": "LE_hh8mswFDj",
        "colab_type": "text"
      },
      "cell_type": "markdown",
      "source": [
        "###Root polishing - Bisection method"
      ]
    },
    {
      "metadata": {
        "id": "JJ19KBqQwFDk",
        "colab_type": "code",
        "colab": {}
      },
      "cell_type": "code",
      "source": [
        "def bisection(f, xlow, xhigh, accuracy = 1e-6, nmax = 100):\n",
        "    if xlow > xhigh:\n",
        "        raise RuntimeError('xlow > xhigh')\n",
        "    flow = f(xlow)\n",
        "    fhigh = f(xhigh)\n",
        "    for i in range(0,nmax):\n",
        "        xmid = (xlow + xhigh) / 2.0\n",
        "        fmid = f(xmid)\n",
        "        if fmid == 0 or math.fabs(xhigh - xlow) < accuracy:\n",
        "            return xmid\n",
        "        if fmid*fhigh < 0:\n",
        "            xlow, flow = xmid, fmid\n",
        "        else:\n",
        "            xhigh, fhigh = xmid, fmid\n",
        "    \n",
        "for xlow, xhigh in brackets:\n",
        "    root = bisection(D(g), xlow, xhigh)\n",
        "    print(\"found root %f between [%f,%f]\" % (root, xlow, xhigh))"
      ],
      "execution_count": 0,
      "outputs": []
    },
    {
      "metadata": {
        "id": "Y8TgHUc-tRtz",
        "colab_type": "text"
      },
      "cell_type": "markdown",
      "source": [
        "### Exercise: What are the maxima of the function g(x)"
      ]
    },
    {
      "metadata": {
        "id": "T9YmNFVDtRtx",
        "colab_type": "text"
      },
      "cell_type": "markdown",
      "source": [
        "Reminder: the maxima are those points where the derivative is zero and the second derivative is positive."
      ]
    },
    {
      "metadata": {
        "id": "r6RfSAejtRtk",
        "colab_type": "code",
        "colab": {}
      },
      "cell_type": "code",
      "source": [
        "# A more clever derivative which we can reuse\n",
        "def D(f, h = 1.0e-6):\n",
        "  return lambda x: (f(x+h) - f(x-h)) / (2*h)\n",
        "\n",
        "g = lambda x: np.cos(8*x) + x**2 - x\n",
        "x = np.linspace(-1, 1.5, 300)\n",
        "plt.plot(x,g(x), color = \"blue\")\n",
        "plt.plot(x,D(g)(x), color = \"green\")\n",
        "plt.axhline(color = 'red')"
      ],
      "execution_count": 0,
      "outputs": []
    },
    {
      "metadata": {
        "id": "-zXQu3Ymt7WW",
        "colab_type": "code",
        "colab": {}
      },
      "cell_type": "code",
      "source": [
        "for xlow, xhigh in bracket_roots(D(g), -1.0, 1.5, n = 100):\n",
        "    root = bisection(D(g), xlow, xhigh)\n",
        "    if D(D(g))(root) < 0:\n",
        "      print(\"found maximum %f between [%f,%f] with 2nd derivative %f\" % (root, xlow, xhigh, D(D(g))(root)))\n",
        "    else:\n",
        "      print(\"found minimum %f between [%f,%f] with 2nd derivative %f\" % (root, xlow, xhigh, D(D(g))(root)))"
      ],
      "execution_count": 0,
      "outputs": []
    },
    {
      "metadata": {
        "id": "oKT2xbBAwFDn",
        "colab_type": "text"
      },
      "cell_type": "markdown",
      "source": [
        "###The secant method"
      ]
    },
    {
      "metadata": {
        "id": "DBLHZiJ1wFDo",
        "colab_type": "code",
        "colab": {}
      },
      "cell_type": "code",
      "source": [
        ""
      ],
      "execution_count": 0,
      "outputs": []
    },
    {
      "metadata": {
        "id": "Zobir6nZwFDr",
        "colab_type": "text"
      },
      "cell_type": "markdown",
      "source": [
        "###Brent's method (via scipy)"
      ]
    },
    {
      "metadata": {
        "id": "ZJwzb5P5wFDt",
        "colab_type": "code",
        "colab": {}
      },
      "cell_type": "code",
      "source": [
        ""
      ],
      "execution_count": 0,
      "outputs": []
    },
    {
      "metadata": {
        "id": "Z8tPcJkqwFDw",
        "colab_type": "text"
      },
      "cell_type": "markdown",
      "source": [
        "###Newton-Raphson Method"
      ]
    },
    {
      "metadata": {
        "id": "pOfRYRNUwFDw",
        "colab_type": "code",
        "colab": {}
      },
      "cell_type": "code",
      "source": [
        ""
      ],
      "execution_count": 0,
      "outputs": []
    }
  ]
}