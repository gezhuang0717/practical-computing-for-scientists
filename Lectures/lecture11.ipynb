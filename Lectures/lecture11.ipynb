{
  "nbformat": 4,
  "nbformat_minor": 0,
  "metadata": {
    "colab": {
      "name": "lecture11.ipynb",
      "version": "0.3.2",
      "provenance": [],
      "collapsed_sections": [
        "RpC9CuDbwcfM",
        "je55eCa9wcfP",
        "GYjVPEkbwcfU",
        "p3ciTFqvHepR",
        "hMhDNRCcwFDA",
        "JQHaWRN9wcfW",
        "JgCOwc0hwcfW",
        "fR9ftvS1wcfg",
        "FelKeUwYwcfl",
        "Uzj24_IGwcfv",
        "xB8AA3p6MkzY",
        "gg0ZLaG_wcf0",
        "2nZZ5fGBwcf5",
        "kz4qw8yDwcf-",
        "yi85x6dpwcgA",
        "mDxHXbtXwcgF"
      ],
      "include_colab_link": true
    },
    "kernelspec": {
      "name": "python3",
      "display_name": "Python 3"
    }
  },
  "cells": [
    {
      "cell_type": "markdown",
      "metadata": {
        "id": "view-in-github",
        "colab_type": "text"
      },
      "source": [
        "<a href=\"https://colab.research.google.com/github/wdconinc/practical-computing-for-scientists/blob/master/Lectures/lecture11.ipynb\" target=\"_parent\"><img src=\"https://colab.research.google.com/assets/colab-badge.svg\" alt=\"Open In Colab\"/></a>"
      ]
    },
    {
      "metadata": {
        "id": "RpC9CuDbwcfM",
        "colab_type": "text"
      },
      "cell_type": "markdown",
      "source": [
        "#Lecture #11"
      ]
    },
    {
      "metadata": {
        "id": "je55eCa9wcfP",
        "colab_type": "text"
      },
      "cell_type": "markdown",
      "source": [
        "##Standard Preamble"
      ]
    },
    {
      "metadata": {
        "id": "SSHQT3QIwcfQ",
        "colab_type": "code",
        "colab": {}
      },
      "cell_type": "code",
      "source": [
        "%matplotlib inline\n",
        "import numpy as np\n",
        "import scipy as sp\n",
        "import matplotlib.pyplot as plt\n",
        "import math"
      ],
      "execution_count": 0,
      "outputs": []
    },
    {
      "metadata": {
        "id": "GYjVPEkbwcfU",
        "colab_type": "text"
      },
      "cell_type": "markdown",
      "source": [
        "##In our last episode"
      ]
    },
    {
      "metadata": {
        "id": "AOHYLqLSwcfV",
        "colab_type": "text"
      },
      "cell_type": "markdown",
      "source": [
        "* Numerical derivatives. \n",
        "  * Accuracy: truncation error and roundoff error.\n",
        "  * One weird trick involving h\n",
        "* Root finding\n",
        "  * Plotting and counting\n",
        "  * Bracketing roots\n",
        "  * Polishing: Bisection method"
      ]
    },
    {
      "metadata": {
        "id": "p3ciTFqvHepR",
        "colab_type": "text"
      },
      "cell_type": "markdown",
      "source": [
        "## Numerical Derivatives"
      ]
    },
    {
      "metadata": {
        "id": "pcgy3fUDHhfi",
        "colab_type": "code",
        "colab": {}
      },
      "cell_type": "code",
      "source": [
        "def D(f, h = 1.0e-6):\n",
        "    ''' computes the derivative df/dx '''\n",
        "    return lambda x: (f(x+h) - f(x-h)) / (2.0*h)"
      ],
      "execution_count": 0,
      "outputs": []
    },
    {
      "metadata": {
        "id": "CKNHb20YHlBg",
        "colab_type": "code",
        "colab": {}
      },
      "cell_type": "code",
      "source": [
        "x = np.linspace(-3.14,+3.14)\n",
        "f = lambda x: np.sin(x)\n",
        "df = lambda x: np.cos(x)\n",
        "ddf = lambda x: -np.sin(x)\n",
        "dddf = lambda x: -np.cos(x)\n",
        "ddddf = lambda x: np.sin(x)\n"
      ],
      "execution_count": 0,
      "outputs": []
    },
    {
      "metadata": {
        "id": "hMhDNRCcwFDA",
        "colab_type": "text"
      },
      "cell_type": "markdown",
      "source": [
        "###D(f,x) - df(x) and the choice of h"
      ]
    },
    {
      "metadata": {
        "id": "tDMjjiR8wFDB",
        "colab_type": "code",
        "outputId": "aee15bdc-5479-4a2e-a856-bd0602d45299",
        "colab": {
          "base_uri": "https://localhost:8080/",
          "height": 294
        }
      },
      "cell_type": "code",
      "source": [
        "plt.plot(x,D(f)(x) - df(x))"
      ],
      "execution_count": 0,
      "outputs": [
        {
          "output_type": "execute_result",
          "data": {
            "text/plain": [
              "[<matplotlib.lines.Line2D at 0x7fcb0a07f0b8>]"
            ]
          },
          "metadata": {
            "tags": []
          },
          "execution_count": 4
        },
        {
          "output_type": "display_data",
          "data": {
            "image/png": "[encoded data removed]",
            "text/plain": [
              "<matplotlib.figure.Figure at 0x7fcb0a124240>"
            ]
          },
          "metadata": {
            "tags": []
          }
        }
      ]
    },
    {
      "metadata": {
        "id": "C3O0TZ0tHrGC",
        "colab_type": "code",
        "outputId": "16c29218-9223-4be0-c6eb-2bf4e3255710",
        "colab": {
          "base_uri": "https://localhost:8080/",
          "height": 283
        }
      },
      "cell_type": "code",
      "source": [
        "plt.plot(x,D(D(f))(x) - ddf(x))"
      ],
      "execution_count": 0,
      "outputs": [
        {
          "output_type": "execute_result",
          "data": {
            "text/plain": [
              "[<matplotlib.lines.Line2D at 0x7fcb07818c88>]"
            ]
          },
          "metadata": {
            "tags": []
          },
          "execution_count": 5
        },
        {
          "output_type": "display_data",
          "data": {
            "image/png": "[encoded data removed]",
            "text/plain": [
              "<matplotlib.figure.Figure at 0x7fcb0a0a6ba8>"
            ]
          },
          "metadata": {
            "tags": []
          }
        }
      ]
    },
    {
      "metadata": {
        "id": "EVgrPSG_HrjJ",
        "colab_type": "code",
        "outputId": "4a1294cf-f7dd-4cbb-d5e6-51a00d53b606",
        "colab": {
          "base_uri": "https://localhost:8080/",
          "height": 283
        }
      },
      "cell_type": "code",
      "source": [
        "plt.plot(x,dddf(x))"
      ],
      "execution_count": 0,
      "outputs": [
        {
          "output_type": "execute_result",
          "data": {
            "text/plain": [
              "[<matplotlib.lines.Line2D at 0x7fcb076d29e8>]"
            ]
          },
          "metadata": {
            "tags": []
          },
          "execution_count": 8
        },
        {
          "output_type": "display_data",
          "data": {
            "image/png": "[encoded data removed]",
            "text/plain": [
              "<matplotlib.figure.Figure at 0x7fcb0774dac8>"
            ]
          },
          "metadata": {
            "tags": []
          }
        }
      ]
    },
    {
      "metadata": {
        "id": "5aJBT92UHr-L",
        "colab_type": "code",
        "outputId": "b0c8262d-75be-4e19-81ed-45dfff6f16ff",
        "colab": {
          "base_uri": "https://localhost:8080/",
          "height": 294
        }
      },
      "cell_type": "code",
      "source": [
        "plt.plot(x,D(D(D(D(f))))(x) - ddddf(x))"
      ],
      "execution_count": 0,
      "outputs": [
        {
          "output_type": "execute_result",
          "data": {
            "text/plain": [
              "[<matplotlib.lines.Line2D at 0x7fcb0763f7f0>]"
            ]
          },
          "metadata": {
            "tags": []
          },
          "execution_count": 9
        },
        {
          "output_type": "display_data",
          "data": {
            "image/png": "[encoded data removed]",
            "text/plain": [
              "<matplotlib.figure.Figure at 0x7fcb076abba8>"
            ]
          },
          "metadata": {
            "tags": []
          }
        }
      ]
    },
    {
      "metadata": {
        "id": "JQHaWRN9wcfW",
        "colab_type": "text"
      },
      "cell_type": "markdown",
      "source": [
        "##Root Finding"
      ]
    },
    {
      "metadata": {
        "id": "JgCOwc0hwcfW",
        "colab_type": "text"
      },
      "cell_type": "markdown",
      "source": [
        "###Plot the Function"
      ]
    },
    {
      "metadata": {
        "id": "nUYCu4QhwcfX",
        "colab_type": "code",
        "outputId": "58c68d0f-333c-4aa7-c860-b8c322eddf4e",
        "colab": {
          "base_uri": "https://localhost:8080/",
          "height": 283
        }
      },
      "cell_type": "code",
      "source": [
        "g = lambda x: np.cos(8*x) + x**2 - x\n",
        "x = np.linspace(-1, 1.5, 300)\n",
        "plt.plot(x, g(x))\n",
        "plt.axhline(y = 0.0, color ='red')"
      ],
      "execution_count": 0,
      "outputs": [
        {
          "output_type": "execute_result",
          "data": {
            "text/plain": [
              "<matplotlib.lines.Line2D at 0x7fcb075d73c8>"
            ]
          },
          "metadata": {
            "tags": []
          },
          "execution_count": 12
        },
        {
          "output_type": "display_data",
          "data": {
            "image/png": "[encoded data removed]",
            "text/plain": [
              "<matplotlib.figure.Figure at 0x7fcb075d7cf8>"
            ]
          },
          "metadata": {
            "tags": []
          }
        }
      ]
    },
    {
      "metadata": {
        "id": "fR9ftvS1wcfg",
        "colab_type": "text"
      },
      "cell_type": "markdown",
      "source": [
        "###An algorithm to bracket the roots"
      ]
    },
    {
      "metadata": {
        "id": "bw0NLCbpwcfh",
        "colab_type": "code",
        "outputId": "bf320abe-340f-4e5d-af74-e9120c66ec69",
        "colab": {
          "base_uri": "https://localhost:8080/",
          "height": 55
        }
      },
      "cell_type": "code",
      "source": [
        "def bracket_roots(f,xlow,xhigh,n=100):\n",
        "    result = []\n",
        "    dx = (xhigh - xlow) / float(n)\n",
        "    for i in range(0,n):\n",
        "        a = xlow + dx * i\n",
        "        b = a + dx\n",
        "        if f(a)*f(b) < 0.0:\n",
        "            result.append((a,b))\n",
        "    return result\n",
        "\n",
        "brackets = bracket_roots(g, -1.0, 1.5)\n",
        "print(brackets)"
      ],
      "execution_count": 0,
      "outputs": [
        {
          "output_type": "stream",
          "text": [
            "[(-0.5, -0.475), (-0.25, -0.225), (0.17500000000000004, 0.20000000000000004), (0.6000000000000001, 0.6250000000000001), (0.9750000000000001, 1.0), (1.3000000000000003, 1.3250000000000002)]\n"
          ],
          "name": "stdout"
        }
      ]
    },
    {
      "metadata": {
        "id": "FelKeUwYwcfl",
        "colab_type": "text"
      },
      "cell_type": "markdown",
      "source": [
        "###Root polishing - Bisection method"
      ]
    },
    {
      "metadata": {
        "id": "ZnZdkQeSwcfm",
        "colab_type": "code",
        "outputId": "4a144126-dfb8-436b-e633-b7e944f26072",
        "colab": {
          "base_uri": "https://localhost:8080/",
          "height": 121
        }
      },
      "cell_type": "code",
      "source": [
        "def bisection(f, xlow, xhigh, accuracy = 1e-6, nmax = 100):\n",
        "    if xlow > xhigh:\n",
        "        raise RuntimeError('xlow > xhigh')\n",
        "    flow = f(xlow)\n",
        "    fhigh = f(xhigh)\n",
        "    for i in range(0, nmax):\n",
        "        xmid = (xlow + xhigh) / 2.0\n",
        "        fmid = f(xmid)\n",
        "        if fmid == 0 or math.fabs(xhigh - xlow) < accuracy:\n",
        "            return xmid, i\n",
        "        if fmid*fhigh < 0:\n",
        "            xlow, flow = xmid, fmid\n",
        "        else:\n",
        "            xhigh, fhigh = xmid, fmid\n",
        "    \n",
        "for xlow, xhigh in brackets:\n",
        "    root, k = bisection(g, xlow, xhigh)\n",
        "    print(\"found root %f between [%f,%f] in %i iterations\" % (root, xlow, xhigh, k))"
      ],
      "execution_count": 0,
      "outputs": [
        {
          "output_type": "stream",
          "text": [
            "found root -0.487603 between [-0.500000,-0.475000] in 15 iterations\n",
            "found root -0.232721 between [-0.250000,-0.225000] in 15 iterations\n",
            "found root 0.177995 between [0.175000,0.200000] in 15 iterations\n",
            "found root 0.618814 between [0.600000,0.625000] in 15 iterations\n",
            "found root 0.979202 between [0.975000,1.000000] in 15 iterations\n",
            "found root 1.319947 between [1.300000,1.325000] in 15 iterations\n"
          ],
          "name": "stdout"
        }
      ]
    },
    {
      "metadata": {
        "id": "1OSKEJiTJdE4",
        "colab_type": "text"
      },
      "cell_type": "markdown",
      "source": [
        "How many iterations do we expect to reach an accuracy of $1 \\times 10^{-6}$?"
      ]
    },
    {
      "metadata": {
        "id": "ubYViwE4wcfr",
        "colab_type": "code",
        "outputId": "e85da394-5f58-4f9f-b807-d11f29811c5e",
        "colab": {
          "base_uri": "https://localhost:8080/",
          "height": 35
        }
      },
      "cell_type": "code",
      "source": [
        "math.log((0.025) / 1e-6, 2)"
      ],
      "execution_count": 0,
      "outputs": [
        {
          "output_type": "execute_result",
          "data": {
            "text/plain": [
              "14.609640474436812"
            ]
          },
          "metadata": {
            "tags": []
          },
          "execution_count": 16
        }
      ]
    },
    {
      "metadata": {
        "id": "Uzj24_IGwcfv",
        "colab_type": "text"
      },
      "cell_type": "markdown",
      "source": [
        "### The secant method"
      ]
    },
    {
      "metadata": {
        "id": "TI-mjNL-KvZ9",
        "colab_type": "text"
      },
      "cell_type": "markdown",
      "source": [
        "<img src=\"https://upload.wikimedia.org/wikipedia/commons/4/40/Secant_method_2.svg\">"
      ]
    },
    {
      "metadata": {
        "id": "bOlFob13wcfw",
        "colab_type": "code",
        "outputId": "0fa373c4-f299-47b2-96fe-d4c64976b33a",
        "colab": {
          "base_uri": "https://localhost:8080/",
          "height": 121
        }
      },
      "cell_type": "code",
      "source": [
        "def secant(f, xlow, xhigh, accuracy = 1e-6, nmax = 100):\n",
        "    xlast = xlow # x_i-1\n",
        "    x = xhigh # x_i\n",
        "    for i in range(0, nmax):\n",
        "        fx = f(x)\n",
        "        flast = f(xlast)\n",
        "        slope = (fx - flast) / (x - xlast)\n",
        "        dx = -flast / slope\n",
        "          #print(\"i:%i, xl:%g x%g fx:%g fl:%g dx:%g\" % (i, xlast, x, fx,flast, dx))\n",
        "        x, xlast = xlast + dx, x\n",
        "        if math.fabs(x - xlast) < accuracy:\n",
        "            return x, i\n",
        "    raise ArithmeticError('failed to converge')\n",
        "\n",
        "for xlow, xhigh in brackets:\n",
        "    root, k = secant(g, xlow, xhigh)\n",
        "    print(\"found root %f between [%f,%f] in %i iterations\" % (root, xlow, xhigh, k))\n",
        "        "
      ],
      "execution_count": 0,
      "outputs": [
        {
          "output_type": "stream",
          "text": [
            "found root -0.487604 between [-0.500000,-0.475000] in 3 iterations\n",
            "found root -0.232720 between [-0.250000,-0.225000] in 3 iterations\n",
            "found root 0.177995 between [0.175000,0.200000] in 2 iterations\n",
            "found root 0.618815 between [0.600000,0.625000] in 2 iterations\n",
            "found root 0.979202 between [0.975000,1.000000] in 2 iterations\n",
            "found root 1.319947 between [1.300000,1.325000] in 3 iterations\n"
          ],
          "name": "stdout"
        }
      ]
    },
    {
      "metadata": {
        "id": "xB8AA3p6MkzY",
        "colab_type": "text"
      },
      "cell_type": "markdown",
      "source": [
        "#### But careful..."
      ]
    },
    {
      "metadata": {
        "id": "I9GVgdDoMnja",
        "colab_type": "text"
      },
      "cell_type": "markdown",
      "source": [
        "<img src=\"https://upload.wikimedia.org/wikipedia/commons/9/92/Secant_method.svg\">"
      ]
    },
    {
      "metadata": {
        "id": "gg0ZLaG_wcf0",
        "colab_type": "text"
      },
      "cell_type": "markdown",
      "source": [
        "###Brent's method (via scipy)"
      ]
    },
    {
      "metadata": {
        "id": "uQZ1Y-v6wcf1",
        "colab_type": "code",
        "outputId": "2cfb9b77-c580-45d5-ac83-9adfe300fd2a",
        "colab": {
          "base_uri": "https://localhost:8080/",
          "height": 121
        }
      },
      "cell_type": "code",
      "source": [
        "import scipy.optimize as op\n",
        "\n",
        "for xlow, xhigh in brackets:\n",
        "    root = op.brentq(g, xlow, xhigh, xtol = 1e-6)\n",
        "    print(\"found root %f between [%f,%f]\" % (root, xlow, xhigh))"
      ],
      "execution_count": 0,
      "outputs": [
        {
          "output_type": "stream",
          "text": [
            "found root -0.487604 between [-0.500000,-0.475000]\n",
            "found root -0.232720 between [-0.250000,-0.225000]\n",
            "found root 0.177995 between [0.175000,0.200000]\n",
            "found root 0.618814 between [0.600000,0.625000]\n",
            "found root 0.979202 between [0.975000,1.000000]\n",
            "found root 1.319947 between [1.300000,1.325000]\n"
          ],
          "name": "stdout"
        }
      ]
    },
    {
      "metadata": {
        "id": "2nZZ5fGBwcf5",
        "colab_type": "text"
      },
      "cell_type": "markdown",
      "source": [
        "###Newton-Raphson Method"
      ]
    },
    {
      "metadata": {
        "id": "W58bYJxHLABH",
        "colab_type": "text"
      },
      "cell_type": "markdown",
      "source": [
        "If we know the analytical derivative of the function, we can use that information.\n",
        "\n",
        "<img src=\"https://upload.wikimedia.org/wikipedia/commons/2/22/Newton_method_scheme.svg\">"
      ]
    },
    {
      "metadata": {
        "id": "ihif3xrlwcf6",
        "colab_type": "code",
        "outputId": "54a1bc7a-3b03-4443-9af3-f11265fc6f6d",
        "colab": {
          "base_uri": "https://localhost:8080/",
          "height": 121
        }
      },
      "cell_type": "code",
      "source": [
        "def newton(f, df, xlow, xhigh, accuracy = 1e-6, nmax = 100):\n",
        "    xlast = xlow\n",
        "    x = xhigh\n",
        "    for i in range(0,nmax):\n",
        "        fx = f(x)\n",
        "        slope = df(x)\n",
        "        dx = -fx / slope\n",
        "        x, xlast = x + dx, x\n",
        "        if math.fabs(x - xlast) < accuracy:\n",
        "            return x, i\n",
        "    \n",
        "  dg = lambda x: -8*np.sin(8*x) + 2*x - 1\n",
        "\n",
        "for xlow, xhigh in brackets:\n",
        "    root, i = newton(g, D(g), xlow, xhigh)\n",
        "    print(\"found root %f between [%f,%f] in %i iterations\" % (root, xlow, xhigh, i))"
      ],
      "execution_count": 0,
      "outputs": [
        {
          "output_type": "stream",
          "text": [
            "found root -0.487604 between [-0.500000,-0.475000] in 3 iterations\n",
            "found root -0.232720 between [-0.250000,-0.225000] in 2 iterations\n",
            "found root 0.177995 between [0.175000,0.200000] in 2 iterations\n",
            "found root 0.618815 between [0.600000,0.625000] in 2 iterations\n",
            "found root 0.979202 between [0.975000,1.000000] in 2 iterations\n",
            "found root 1.319947 between [1.300000,1.325000] in 2 iterations\n"
          ],
          "name": "stdout"
        }
      ]
    },
    {
      "metadata": {
        "id": "zeiYF4ZdeCJz",
        "colab_type": "text"
      },
      "cell_type": "markdown",
      "source": [
        "http://doodle.com/wdeconinck\n"
      ]
    },
    {
      "metadata": {
        "id": "TBa26jjrdtdp",
        "colab_type": "code",
        "outputId": "b80412a3-996d-42ba-f2b4-59778985b8f6",
        "colab": {
          "base_uri": "https://localhost:8080/",
          "height": 35
        }
      },
      "cell_type": "code",
      "source": [
        "f = lambda x: np.sin(x)\n",
        "df = lambda x: np.cos(x)\n",
        "\n",
        "root = op.brentq(f, 3.0, 3.2, xtol = 1e-10)\n",
        "print(\"found root %f between [%f,%f]\" % (root, xlow, xhigh))"
      ],
      "execution_count": 0,
      "outputs": [
        {
          "output_type": "stream",
          "text": [
            "found root 3.141593 between [1.300000,1.325000]\n"
          ],
          "name": "stdout"
        }
      ]
    },
    {
      "metadata": {
        "id": "kz4qw8yDwcf-",
        "colab_type": "text"
      },
      "cell_type": "markdown",
      "source": [
        "##Multiple dimensions"
      ]
    },
    {
      "metadata": {
        "id": "yi85x6dpwcgA",
        "colab_type": "text"
      },
      "cell_type": "markdown",
      "source": [
        "###How to plot a 2D scalar function"
      ]
    },
    {
      "metadata": {
        "id": "Vvqr2mubwcgC",
        "colab_type": "code",
        "colab": {}
      },
      "cell_type": "code",
      "source": [
        ""
      ],
      "execution_count": 0,
      "outputs": []
    },
    {
      "metadata": {
        "id": "mDxHXbtXwcgF",
        "colab_type": "text"
      },
      "cell_type": "markdown",
      "source": [
        "###How to find the root?"
      ]
    },
    {
      "metadata": {
        "id": "2QCI3jG8wcgH",
        "colab_type": "code",
        "colab": {}
      },
      "cell_type": "code",
      "source": [
        ""
      ],
      "execution_count": 0,
      "outputs": []
    }
  ]
}