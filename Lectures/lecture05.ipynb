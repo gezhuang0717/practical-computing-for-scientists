{
  "nbformat": 4,
  "nbformat_minor": 0,
  "metadata": {
    "colab": {
      "name": "lecture05.ipynb",
      "version": "0.3.2",
      "provenance": [],
      "collapsed_sections": [
        "ja7OabAKtfRd",
        "hhbLA6wctfRf",
        "03eqjDvStfRf",
        "Nz0GHWW1tfRp",
        "X1HrxyyctfRu",
        "qgNQc-97tfR_",
        "CB8r8TfxtfSA",
        "ahdpv1VytfSH",
        "Y6EMr8hZtfSe",
        "DjmUGwqDtfSr",
        "rwUurEjhtfSy",
        "aqET50jHIplu",
        "yTgJ3cYhIpl1",
        "5KxQgbZ_Ipl7",
        "3iCmuQxcIpmA",
        "RnIZrk-BIpmE",
        "OdX0GmiRtfS-",
        "S-1GZWbYtfS-"
      ],
      "include_colab_link": true
    },
    "kernelspec": {
      "name": "python3",
      "display_name": "Python 3"
    }
  },
  "cells": [
    {
      "cell_type": "markdown",
      "metadata": {
        "id": "view-in-github",
        "colab_type": "text"
      },
      "source": [
        "<a href=\"https://colab.research.google.com/github/wdconinc/practical-computing-for-scientists/blob/master/Lectures/lecture05.ipynb\" target=\"_parent\"><img src=\"https://colab.research.google.com/assets/colab-badge.svg\" alt=\"Open In Colab\"/></a>"
      ]
    },
    {
      "metadata": {
        "id": "ja7OabAKtfRd",
        "colab_type": "text"
      },
      "cell_type": "markdown",
      "source": [
        "# Lecture #05"
      ]
    },
    {
      "metadata": {
        "id": "hhbLA6wctfRf",
        "colab_type": "text"
      },
      "cell_type": "markdown",
      "source": [
        "#Introduction to Python - IV"
      ]
    },
    {
      "metadata": {
        "id": "taQUqMFxK8Ny",
        "colab_type": "code",
        "colab": {}
      },
      "cell_type": "code",
      "source": [
        "%matplotlib inline\n",
        "import numpy as np\n",
        "import scipy as sp\n",
        "import matplotlib.pyplot as plt"
      ],
      "execution_count": 0,
      "outputs": []
    },
    {
      "metadata": {
        "id": "03eqjDvStfRf",
        "colab_type": "text"
      },
      "cell_type": "markdown",
      "source": [
        "##In our last episode: "
      ]
    },
    {
      "metadata": {
        "id": "Bq0LoQs8tfRg",
        "colab_type": "text"
      },
      "cell_type": "markdown",
      "source": [
        "* `for` and `while` loops\n",
        "* `break` and `continue`\n",
        "* the mighty `zip` function\n",
        "* `letter_grade2` exercise\n",
        "* A bit about tuples"
      ]
    },
    {
      "metadata": {
        "id": "Nz0GHWW1tfRp",
        "colab_type": "text"
      },
      "cell_type": "markdown",
      "source": [
        "###Tuples"
      ]
    },
    {
      "metadata": {
        "id": "bbfqByVJtfRp",
        "colab_type": "text"
      },
      "cell_type": "markdown",
      "source": [
        "* An _immutable_ list \n",
        "* The meaning of each each element is determined by its position. The elements may have all the same type or different types.\n",
        "* Contents can be unpacked into individual variables.\n",
        " \n",
        "Example:"
      ]
    },
    {
      "metadata": {
        "id": "ov0GmXnCtfRq",
        "colab_type": "code",
        "outputId": "7dddf0c9-aeea-431d-da19-b5f5efba6751",
        "colab": {
          "base_uri": "https://localhost:8080/",
          "height": 68
        }
      },
      "cell_type": "code",
      "source": [
        "date = (2018, 9, 10, 12, 0, 0, 'EDT')\n",
        "print(date)\n",
        "print(date[0])\n",
        "year, month, day, hour, minute, sec, tz = date\n",
        "print(year, tz)"
      ],
      "execution_count": 0,
      "outputs": [
        {
          "output_type": "stream",
          "text": [
            "(2018, 9, 10, 12, 0, 0, 'EDT')\n",
            "2018\n",
            "2018 EDT\n"
          ],
          "name": "stdout"
        }
      ]
    },
    {
      "metadata": {
        "id": "X1HrxyyctfRu",
        "colab_type": "text"
      },
      "cell_type": "markdown",
      "source": [
        "##Dictionaries"
      ]
    },
    {
      "metadata": {
        "id": "5G9bbt_LtfRu",
        "colab_type": "text"
      },
      "cell_type": "markdown",
      "source": [
        "Dictionaries function as databases or lookup tables. They are collections whose elements are `key,value` pairs:"
      ]
    },
    {
      "metadata": {
        "id": "4fvDaND3tfRv",
        "colab_type": "code",
        "outputId": "26247d94-62e9-4b86-acd3-ae5af439c1a4",
        "colab": {
          "base_uri": "https://localhost:8080/",
          "height": 85
        }
      },
      "cell_type": "code",
      "source": [
        "prices = {'apple': 0.75, 'carrot': 0.5, 'truffle': 10.00}\n",
        "print(prices)\n",
        "carrot_price = prices['carrot']\n",
        "print(carrot_price)\n",
        "print(prices['apple'])\n",
        "prices['banana'] = 1.0\n",
        "print(prices['banana'])"
      ],
      "execution_count": 0,
      "outputs": [
        {
          "output_type": "stream",
          "text": [
            "{'apple': 0.75, 'carrot': 0.5, 'truffle': 10.0}\n",
            "0.5\n",
            "0.75\n",
            "1.0\n"
          ],
          "name": "stdout"
        }
      ]
    },
    {
      "metadata": {
        "id": "K6aGp5S2tfRz",
        "colab_type": "text"
      },
      "cell_type": "markdown",
      "source": [
        "You can add and remove elements from dictionaries. Like lists, they are _mutable_:"
      ]
    },
    {
      "metadata": {
        "id": "lztULCMOtfR0",
        "colab_type": "code",
        "outputId": "7af8f4e7-32c8-4360-8cf8-9030d34bd9d4",
        "colab": {
          "base_uri": "https://localhost:8080/",
          "height": 85
        }
      },
      "cell_type": "code",
      "source": [
        "prices['steak'] = 5.00\n",
        "print(prices)\n",
        "print(prices['steak'])\n",
        "steak_price = prices.pop('steak')\n",
        "print(steak_price)\n",
        "print(prices)"
      ],
      "execution_count": 0,
      "outputs": [
        {
          "output_type": "stream",
          "text": [
            "{'apple': 0.75, 'carrot': 0.5, 'truffle': 10.0, 'banana': 1.0, 'steak': 5.0}\n",
            "5.0\n",
            "5.0\n",
            "{'apple': 0.75, 'carrot': 0.5, 'truffle': 10.0, 'banana': 1.0}\n"
          ],
          "name": "stdout"
        }
      ]
    },
    {
      "metadata": {
        "id": "zIggzV1hOzZk",
        "colab_type": "code",
        "outputId": "330009e4-236a-4e4f-8a3a-884fea649e29",
        "colab": {
          "base_uri": "https://localhost:8080/",
          "height": 180
        }
      },
      "cell_type": "code",
      "source": [
        "carrot_prices = prices.pop('carrot')\n",
        "x = prices.pop('apple')"
      ],
      "execution_count": 0,
      "outputs": [
        {
          "output_type": "error",
          "ename": "KeyError",
          "evalue": "ignored",
          "traceback": [
            "\u001b[0;31m---------------------------------------------------------------------------\u001b[0m",
            "\u001b[0;31mKeyError\u001b[0m                                  Traceback (most recent call last)",
            "\u001b[0;32m<ipython-input-13-2708b52b1806>\u001b[0m in \u001b[0;36m<module>\u001b[0;34m()\u001b[0m\n\u001b[0;32m----> 1\u001b[0;31m \u001b[0mcarrot_prices\u001b[0m \u001b[0;34m=\u001b[0m \u001b[0mprices\u001b[0m\u001b[0;34m.\u001b[0m\u001b[0mpop\u001b[0m\u001b[0;34m(\u001b[0m\u001b[0;34m'carrot'\u001b[0m\u001b[0;34m)\u001b[0m\u001b[0;34m\u001b[0m\u001b[0m\n\u001b[0m\u001b[1;32m      2\u001b[0m \u001b[0mx\u001b[0m \u001b[0;34m=\u001b[0m \u001b[0mprices\u001b[0m\u001b[0;34m.\u001b[0m\u001b[0mpop\u001b[0m\u001b[0;34m(\u001b[0m\u001b[0;34m'apple'\u001b[0m\u001b[0;34m)\u001b[0m\u001b[0;34m\u001b[0m\u001b[0m\n",
            "\u001b[0;31mKeyError\u001b[0m: 'carrot'"
          ]
        }
      ]
    },
    {
      "metadata": {
        "id": "5gD29qZIO7vm",
        "colab_type": "code",
        "outputId": "d5ee37a9-ade3-48ae-8944-946cb54829ea",
        "colab": {
          "base_uri": "https://localhost:8080/",
          "height": 34
        }
      },
      "cell_type": "code",
      "source": [
        "print(prices)"
      ],
      "execution_count": 0,
      "outputs": [
        {
          "output_type": "stream",
          "text": [
            "{'truffle': 10.0, 'banana': 1.0}\n"
          ],
          "name": "stdout"
        }
      ]
    },
    {
      "metadata": {
        "id": "7v1zVO-iPEls",
        "colab_type": "code",
        "outputId": "b7870667-e1a4-4952-ead4-b1167ef98b0b",
        "colab": {
          "base_uri": "https://localhost:8080/",
          "height": 34
        }
      },
      "cell_type": "code",
      "source": [
        "prices.pop('banana')"
      ],
      "execution_count": 0,
      "outputs": [
        {
          "output_type": "execute_result",
          "data": {
            "text/plain": [
              "1.0"
            ]
          },
          "metadata": {
            "tags": []
          },
          "execution_count": 10
        }
      ]
    },
    {
      "metadata": {
        "id": "Kzp3jbshPZDC",
        "colab_type": "code",
        "colab": {}
      },
      "cell_type": "code",
      "source": [
        "prices['pizza'] = 4.2"
      ],
      "execution_count": 0,
      "outputs": []
    },
    {
      "metadata": {
        "id": "nQGAP-m_P9Gx",
        "colab_type": "code",
        "outputId": "e590d0c6-0664-4eec-ffab-c06ad3249bc6",
        "colab": {
          "base_uri": "https://localhost:8080/",
          "height": 34
        }
      },
      "cell_type": "code",
      "source": [
        "prices"
      ],
      "execution_count": 0,
      "outputs": [
        {
          "output_type": "execute_result",
          "data": {
            "text/plain": [
              "{'pizza': 4.2, 'truffle': 10.0}"
            ]
          },
          "metadata": {
            "tags": []
          },
          "execution_count": 14
        }
      ]
    },
    {
      "metadata": {
        "id": "bCX4k1QltfR4",
        "colab_type": "text"
      },
      "cell_type": "markdown",
      "source": [
        "Dictionaries are indexed by their keys, and are not ordered, so slicing doesn't work.\n",
        "\n",
        "You can loop over a dictionary like so:"
      ]
    },
    {
      "metadata": {
        "id": "d1I8KW9RtfR4",
        "colab_type": "code",
        "outputId": "3304b45c-e815-47a1-ed89-61219a74add0",
        "colab": {
          "base_uri": "https://localhost:8080/",
          "height": 85
        }
      },
      "cell_type": "code",
      "source": [
        "for item in prices:\n",
        "    print(item)\n",
        "\n",
        "for item, price in prices.items():\n",
        "    print(item, \"costs $\", price)"
      ],
      "execution_count": 0,
      "outputs": [
        {
          "output_type": "stream",
          "text": [
            "truffle\n",
            "pizza\n",
            "truffle costs $ 10.0\n",
            "pizza costs $ 4.2\n"
          ],
          "name": "stdout"
        }
      ]
    },
    {
      "metadata": {
        "id": "qgNQc-97tfR_",
        "colab_type": "text"
      },
      "cell_type": "markdown",
      "source": [
        "##More on functions"
      ]
    },
    {
      "metadata": {
        "id": "CB8r8TfxtfSA",
        "colab_type": "text"
      },
      "cell_type": "markdown",
      "source": [
        "###Multiple return values"
      ]
    },
    {
      "metadata": {
        "id": "q7X8ywiftfSC",
        "colab_type": "text"
      },
      "cell_type": "markdown",
      "source": [
        "Functions can return multiple arguments, in a tuple:"
      ]
    },
    {
      "metadata": {
        "id": "pMptFYi8tfSD",
        "colab_type": "code",
        "outputId": "fb135512-eafb-463d-fa3b-aa42db42c273",
        "colab": {
          "base_uri": "https://localhost:8080/",
          "height": 68
        }
      },
      "cell_type": "code",
      "source": [
        "def multi(x,y):\n",
        "    return x/y, x*y, x**y\n",
        "\n",
        "rval = multi(2.0, 4.0)\n",
        "print(type(rval), rval)\n",
        "\n",
        "div, mult, power = rval\n",
        "print(div, mult, power)\n",
        "\n",
        "div, mult, power = multi(3.0, 4.0)\n",
        "print(div, mult, power)"
      ],
      "execution_count": 0,
      "outputs": [
        {
          "output_type": "stream",
          "text": [
            "<class 'tuple'> (0.5, 8.0, 16.0)\n",
            "0.5 8.0 16.0\n",
            "0.75 12.0 81.0\n"
          ],
          "name": "stdout"
        }
      ]
    },
    {
      "metadata": {
        "id": "t4bT0CaLQ3JI",
        "colab_type": "code",
        "colab": {}
      },
      "cell_type": "code",
      "source": [
        "div, mult, _ = multi(3.0, 4.0)"
      ],
      "execution_count": 0,
      "outputs": []
    },
    {
      "metadata": {
        "id": "ahdpv1VytfSH",
        "colab_type": "text"
      },
      "cell_type": "markdown",
      "source": [
        "###Default arguments"
      ]
    },
    {
      "metadata": {
        "id": "nGd3QwL0tfSH",
        "colab_type": "text"
      },
      "cell_type": "markdown",
      "source": [
        "We can specify the default values for function arguments:"
      ]
    },
    {
      "metadata": {
        "id": "GimJ9A12tfSI",
        "colab_type": "code",
        "colab": {}
      },
      "cell_type": "code",
      "source": [
        "def darg(x, y = 2, z = 3):\n",
        "    print('x =', x, ', y =', y, ', z =', z)\n",
        "    return x**y + z"
      ],
      "execution_count": 0,
      "outputs": []
    },
    {
      "metadata": {
        "id": "m-c0hMlltfSM",
        "colab_type": "text"
      },
      "cell_type": "markdown",
      "source": [
        "Then we call the function with _positional arguments_, in which the variables used inside the function `x,y,z` are assigned to the arguments based on the position."
      ]
    },
    {
      "metadata": {
        "id": "MNT19hV_tfSO",
        "colab_type": "code",
        "outputId": "3466170d-b2b6-4632-f234-aa17731c0296",
        "colab": {
          "base_uri": "https://localhost:8080/",
          "height": 119
        }
      },
      "cell_type": "code",
      "source": [
        "print(darg(2))\n",
        "print(darg(2, 3))\n",
        "print(darg(2, 3, 2))"
      ],
      "execution_count": 0,
      "outputs": [
        {
          "output_type": "stream",
          "text": [
            "x = 2 , y = 2 , z = 3\n",
            "7\n",
            "x = 2 , y = 3 , z = 3\n",
            "11\n",
            "x = 2 , y = 3 , z = 2\n",
            "10\n"
          ],
          "name": "stdout"
        }
      ]
    },
    {
      "metadata": {
        "id": "maL5G4wntfSR",
        "colab_type": "text"
      },
      "cell_type": "markdown",
      "source": [
        "We can also specify _keyword arguments_, making explicit which variable in the function is to be associated with which argument:"
      ]
    },
    {
      "metadata": {
        "id": "jOO4JaUctfSR",
        "colab_type": "code",
        "outputId": "662b1dec-e535-4e75-aba2-9c52edc344b7",
        "colab": {
          "base_uri": "https://localhost:8080/",
          "height": 51
        }
      },
      "cell_type": "code",
      "source": [
        "print(darg(x = 2, y = 3, z = 4))"
      ],
      "execution_count": 0,
      "outputs": [
        {
          "output_type": "stream",
          "text": [
            "x = 2 , y = 3 , z = 4\n",
            "12\n"
          ],
          "name": "stdout"
        }
      ]
    },
    {
      "metadata": {
        "id": "SFgntqsDtfSV",
        "colab_type": "text"
      },
      "cell_type": "markdown",
      "source": [
        "The order doesn't matter so long as you either use all keyword arguments or specify any positional arguments first:"
      ]
    },
    {
      "metadata": {
        "id": "rB-h0voUtfSW",
        "colab_type": "code",
        "outputId": "8c314dc3-aac2-4c6f-f383-95179ef52b73",
        "colab": {
          "base_uri": "https://localhost:8080/",
          "height": 51
        }
      },
      "cell_type": "code",
      "source": [
        "print(darg(y = 5, x = 2, z = 4))"
      ],
      "execution_count": 0,
      "outputs": [
        {
          "output_type": "stream",
          "text": [
            "x = 2 , y = 5 , z = 4\n",
            "36\n"
          ],
          "name": "stdout"
        }
      ]
    },
    {
      "metadata": {
        "id": "Rs9L9A62tfSa",
        "colab_type": "text"
      },
      "cell_type": "markdown",
      "source": [
        "But, you can't use a keyword argument followed by a positional argument:"
      ]
    },
    {
      "metadata": {
        "id": "URpqfyO0tfSb",
        "colab_type": "code",
        "outputId": "395440a0-6cd2-4ef3-e797-3b88f470fb94",
        "colab": {
          "base_uri": "https://localhost:8080/",
          "height": 51
        }
      },
      "cell_type": "code",
      "source": [
        "print(darg(2, z = 5)) # keyword after positional is OK"
      ],
      "execution_count": 0,
      "outputs": [
        {
          "output_type": "stream",
          "text": [
            "x = 2 , y = 2 , z = 5\n",
            "9\n"
          ],
          "name": "stdout"
        }
      ]
    },
    {
      "metadata": {
        "id": "vVOQdKA3vZ1_",
        "colab_type": "code",
        "outputId": "49410186-1e1d-4739-abe3-f5fa60a23c0f",
        "colab": {
          "base_uri": "https://localhost:8080/",
          "height": 129
        }
      },
      "cell_type": "code",
      "source": [
        "print(darg(z = 5, 2)) # positional after keyword is NOT OK"
      ],
      "execution_count": 0,
      "outputs": [
        {
          "output_type": "error",
          "ename": "SyntaxError",
          "evalue": "ignored",
          "traceback": [
            "\u001b[0;36m  File \u001b[0;32m\"<ipython-input-26-c58adf1361fc>\"\u001b[0;36m, line \u001b[0;32m1\u001b[0m\n\u001b[0;31m    print(darg(z = 5, 2)) # positional after keyword is NOT OK\u001b[0m\n\u001b[0m                     ^\u001b[0m\n\u001b[0;31mSyntaxError\u001b[0m\u001b[0;31m:\u001b[0m positional argument follows keyword argument\n"
          ]
        }
      ]
    },
    {
      "metadata": {
        "id": "Y6EMr8hZtfSe",
        "colab_type": "text"
      },
      "cell_type": "markdown",
      "source": [
        "###Formal and informal arguments"
      ]
    },
    {
      "metadata": {
        "id": "0O5XlTjEtfSe",
        "colab_type": "text"
      },
      "cell_type": "markdown",
      "source": [
        "Python functions actually take two types of arguments:\n",
        "* **Formal arguments** are a those that explicitly appear in the function definition.\n",
        "* **Informal arguments** are any extra arguments passed into the function by the caller.\n",
        " * ** \\*foo ** in the function indicates it accepts informal positional arguments\n",
        " * ** \\*\\*bar ** in the function indicates it accepts informal keyword arguments\n",
        " * By tradition we use \\*args and \\*\\*kwargs"
      ]
    },
    {
      "metadata": {
        "id": "yJxsVEVCSVjA",
        "colab_type": "code",
        "colab": {}
      },
      "cell_type": "code",
      "source": [
        ""
      ],
      "execution_count": 0,
      "outputs": []
    },
    {
      "metadata": {
        "id": "3FHPqOkhtfSf",
        "colab_type": "code",
        "colab": {}
      },
      "cell_type": "code",
      "source": [
        "def fvar(x, y, z=1, *args, **kwargs):\n",
        "    print(\"Formal arguments:\", \"x = \", x, \", y = \", y, \", z = \", z)\n",
        "    print(\"Informal positional arguments (*args):\", args)\n",
        "    print(\"Informal keyword arguments (**kwargs):\", kwargs)"
      ],
      "execution_count": 0,
      "outputs": []
    },
    {
      "metadata": {
        "id": "JZAleToKtfSh",
        "colab_type": "code",
        "outputId": "a1024761-97b2-4670-f39b-c89f066e8dd0",
        "colab": {
          "base_uri": "https://localhost:8080/",
          "height": 119
        }
      },
      "cell_type": "code",
      "source": [
        "fvar(1, 2)\n",
        "fvar(1, 2, 3)"
      ],
      "execution_count": 0,
      "outputs": [
        {
          "output_type": "stream",
          "text": [
            "Formal arguments: x =  1 , y =  2 , z =  1\n",
            "Informal positional arguments (*args): ()\n",
            "Informal keyword arguments (**kwargs): {}\n",
            "Formal arguments: x =  1 , y =  2 , z =  3\n",
            "Informal positional arguments (*args): ()\n",
            "Informal keyword arguments (**kwargs): {}\n"
          ],
          "name": "stdout"
        }
      ]
    },
    {
      "metadata": {
        "id": "W2kMVPf4tfSj",
        "colab_type": "text"
      },
      "cell_type": "markdown",
      "source": [
        "Now we can specify additional _informal_ positional arguments. The function requires 3 _formal_ arguments. Let's add 2 more positional arguments:"
      ]
    },
    {
      "metadata": {
        "id": "eyoVXf4OtfSk",
        "colab_type": "code",
        "outputId": "335639f4-11a4-4dae-dc18-075eb0b020bb",
        "colab": {
          "base_uri": "https://localhost:8080/",
          "height": 68
        }
      },
      "cell_type": "code",
      "source": [
        "fvar(1, 2, 3, 4, 5)"
      ],
      "execution_count": 0,
      "outputs": [
        {
          "output_type": "stream",
          "text": [
            "Formal arguments: x =  1 , y =  2 , z =  3\n",
            "Informal positional arguments (*args): (4, 5)\n",
            "Informal keyword arguments (**kwargs): {}\n"
          ],
          "name": "stdout"
        }
      ]
    },
    {
      "metadata": {
        "id": "2kh1D2JZtfSn",
        "colab_type": "text"
      },
      "cell_type": "markdown",
      "source": [
        "Now, let's specify some of the formal arguments with keyword notation and add an additional informal keyword argument `J`:"
      ]
    },
    {
      "metadata": {
        "id": "QThvPPf2tfSo",
        "colab_type": "code",
        "outputId": "61cf6911-d4eb-4da4-9249-5a6b11d7fbfc",
        "colab": {
          "base_uri": "https://localhost:8080/",
          "height": 68
        }
      },
      "cell_type": "code",
      "source": [
        "fvar(1, 2, 3, 4, J = 10)"
      ],
      "execution_count": 0,
      "outputs": [
        {
          "output_type": "stream",
          "text": [
            "Formal arguments: x =  1 , y =  2 , z =  3\n",
            "Informal positional arguments (*args): (4,)\n",
            "Informal keyword arguments (**kwargs): {'J': 10}\n"
          ],
          "name": "stdout"
        }
      ]
    },
    {
      "metadata": {
        "id": "4BlPJkJItfSr",
        "colab_type": "text"
      },
      "cell_type": "markdown",
      "source": [
        "Note: Specifying formal arguments with keyword notation does not make them informal keyword arguments."
      ]
    },
    {
      "metadata": {
        "id": "DjmUGwqDtfSr",
        "colab_type": "text"
      },
      "cell_type": "markdown",
      "source": [
        "###Arggg! Why are you killing me with all this arg stuff?!"
      ]
    },
    {
      "metadata": {
        "id": "0bKn4Rg9tfSs",
        "colab_type": "text"
      },
      "cell_type": "markdown",
      "source": [
        "The `matplotlib` functions make extensive use of \\*args and \\*\\*kwargs:"
      ]
    },
    {
      "metadata": {
        "id": "u6mE8pkBtfSt",
        "colab_type": "code",
        "outputId": "3c56d722-23e9-4ebd-c24e-2ad5b33cfdb0",
        "colab": {
          "base_uri": "https://localhost:8080/",
          "height": 3029
        }
      },
      "cell_type": "code",
      "source": [
        "help(plt.plot)"
      ],
      "execution_count": 0,
      "outputs": [
        {
          "output_type": "stream",
          "text": [
            "Help on function plot in module matplotlib.pyplot:\n",
            "\n",
            "plot(*args, **kwargs)\n",
            "    Plot lines and/or markers to the\n",
            "    :class:`~matplotlib.axes.Axes`.  *args* is a variable length\n",
            "    argument, allowing for multiple *x*, *y* pairs with an\n",
            "    optional format string.  For example, each of the following is\n",
            "    legal::\n",
            "    \n",
            "        plot(x, y)        # plot x and y using default line style and color\n",
            "        plot(x, y, 'bo')  # plot x and y using blue circle markers\n",
            "        plot(y)           # plot y using x as index array 0..N-1\n",
            "        plot(y, 'r+')     # ditto, but with red plusses\n",
            "    \n",
            "    If *x* and/or *y* is 2-dimensional, then the corresponding columns\n",
            "    will be plotted.\n",
            "    \n",
            "    If used with labeled data, make sure that the color spec is not\n",
            "    included as an element in data, as otherwise the last case\n",
            "    ``plot(\"v\",\"r\", data={\"v\":..., \"r\":...)``\n",
            "    can be interpreted as the first case which would do ``plot(v, r)``\n",
            "    using the default line style and color.\n",
            "    \n",
            "    If not used with labeled data (i.e., without a data argument),\n",
            "    an arbitrary number of *x*, *y*, *fmt* groups can be specified, as in::\n",
            "    \n",
            "        a.plot(x1, y1, 'g^', x2, y2, 'g-')\n",
            "    \n",
            "    Return value is a list of lines that were added.\n",
            "    \n",
            "    By default, each line is assigned a different style specified by a\n",
            "    'style cycle'.  To change this behavior, you can edit the\n",
            "    axes.prop_cycle rcParam.\n",
            "    \n",
            "    The following format string characters are accepted to control\n",
            "    the line style or marker:\n",
            "    \n",
            "    ================    ===============================\n",
            "    character           description\n",
            "    ================    ===============================\n",
            "    ``'-'``             solid line style\n",
            "    ``'--'``            dashed line style\n",
            "    ``'-.'``            dash-dot line style\n",
            "    ``':'``             dotted line style\n",
            "    ``'.'``             point marker\n",
            "    ``','``             pixel marker\n",
            "    ``'o'``             circle marker\n",
            "    ``'v'``             triangle_down marker\n",
            "    ``'^'``             triangle_up marker\n",
            "    ``'<'``             triangle_left marker\n",
            "    ``'>'``             triangle_right marker\n",
            "    ``'1'``             tri_down marker\n",
            "    ``'2'``             tri_up marker\n",
            "    ``'3'``             tri_left marker\n",
            "    ``'4'``             tri_right marker\n",
            "    ``'s'``             square marker\n",
            "    ``'p'``             pentagon marker\n",
            "    ``'*'``             star marker\n",
            "    ``'h'``             hexagon1 marker\n",
            "    ``'H'``             hexagon2 marker\n",
            "    ``'+'``             plus marker\n",
            "    ``'x'``             x marker\n",
            "    ``'D'``             diamond marker\n",
            "    ``'d'``             thin_diamond marker\n",
            "    ``'|'``             vline marker\n",
            "    ``'_'``             hline marker\n",
            "    ================    ===============================\n",
            "    \n",
            "    \n",
            "    The following color abbreviations are supported:\n",
            "    \n",
            "    ==========  ========\n",
            "    character   color\n",
            "    ==========  ========\n",
            "    'b'         blue\n",
            "    'g'         green\n",
            "    'r'         red\n",
            "    'c'         cyan\n",
            "    'm'         magenta\n",
            "    'y'         yellow\n",
            "    'k'         black\n",
            "    'w'         white\n",
            "    ==========  ========\n",
            "    \n",
            "    In addition, you can specify colors in many weird and\n",
            "    wonderful ways, including full names (``'green'``), hex\n",
            "    strings (``'#008000'``), RGB or RGBA tuples (``(0,1,0,1)``) or\n",
            "    grayscale intensities as a string (``'0.8'``).  Of these, the\n",
            "    string specifications can be used in place of a ``fmt`` group,\n",
            "    but the tuple forms can be used only as ``kwargs``.\n",
            "    \n",
            "    Line styles and colors are combined in a single format string, as in\n",
            "    ``'bo'`` for blue circles.\n",
            "    \n",
            "    The *kwargs* can be used to set line properties (any property that has\n",
            "    a ``set_*`` method).  You can use this to set a line label (for auto\n",
            "    legends), linewidth, anitialising, marker face color, etc.  Here is an\n",
            "    example::\n",
            "    \n",
            "        plot([1,2,3], [1,2,3], 'go-', label='line 1', linewidth=2)\n",
            "        plot([1,2,3], [1,4,9], 'rs',  label='line 2')\n",
            "        axis([0, 4, 0, 10])\n",
            "        legend()\n",
            "    \n",
            "    If you make multiple lines with one plot command, the kwargs\n",
            "    apply to all those lines, e.g.::\n",
            "    \n",
            "        plot(x1, y1, x2, y2, antialiased=False)\n",
            "    \n",
            "    Neither line will be antialiased.\n",
            "    \n",
            "    You do not need to use format strings, which are just\n",
            "    abbreviations.  All of the line properties can be controlled\n",
            "    by keyword arguments.  For example, you can set the color,\n",
            "    marker, linestyle, and markercolor with::\n",
            "    \n",
            "        plot(x, y, color='green', linestyle='dashed', marker='o',\n",
            "             markerfacecolor='blue', markersize=12).\n",
            "    \n",
            "    See :class:`~matplotlib.lines.Line2D` for details.\n",
            "    \n",
            "    The kwargs are :class:`~matplotlib.lines.Line2D` properties:\n",
            "    \n",
            "      agg_filter: a filter function, which takes a (m, n, 3) float array and a dpi value, and returns a (m, n, 3) array \n",
            "      alpha: float (0.0 transparent through 1.0 opaque) \n",
            "      animated: bool \n",
            "      antialiased or aa: [True | False] \n",
            "      clip_box: a `~.Bbox` instance \n",
            "      clip_on: bool \n",
            "      clip_path: [(`~matplotlib.path.Path`, `~.Transform`) | `~.Patch` | None] \n",
            "      color or c: any matplotlib color \n",
            "      contains: a callable function \n",
            "      dash_capstyle: ['butt' | 'round' | 'projecting'] \n",
            "      dash_joinstyle: ['miter' | 'round' | 'bevel'] \n",
            "      dashes: sequence of on/off ink in points \n",
            "      drawstyle: ['default' | 'steps' | 'steps-pre' | 'steps-mid' | 'steps-post'] \n",
            "      figure: a `~.Figure` instance \n",
            "      fillstyle: ['full' | 'left' | 'right' | 'bottom' | 'top' | 'none'] \n",
            "      gid: an id string \n",
            "      label: object \n",
            "      linestyle or ls: ['solid' | 'dashed', 'dashdot', 'dotted' | (offset, on-off-dash-seq) | ``'-'`` | ``'--'`` | ``'-.'`` | ``':'`` | ``'None'`` | ``' '`` | ``''``]\n",
            "      linewidth or lw: float value in points \n",
            "      marker: :mod:`A valid marker style <matplotlib.markers>`\n",
            "      markeredgecolor or mec: any matplotlib color \n",
            "      markeredgewidth or mew: float value in points \n",
            "      markerfacecolor or mfc: any matplotlib color \n",
            "      markerfacecoloralt or mfcalt: any matplotlib color \n",
            "      markersize or ms: float \n",
            "      markevery: [None | int | length-2 tuple of int | slice | list/array of int | float | length-2 tuple of float]\n",
            "      path_effects: `~.AbstractPathEffect` \n",
            "      picker: float distance in points or callable pick function ``fn(artist, event)`` \n",
            "      pickradius: float distance in points\n",
            "      rasterized: bool or None \n",
            "      sketch_params: (scale: float, length: float, randomness: float) \n",
            "      snap: bool or None \n",
            "      solid_capstyle: ['butt' | 'round' |  'projecting'] \n",
            "      solid_joinstyle: ['miter' | 'round' | 'bevel'] \n",
            "      transform: a :class:`matplotlib.transforms.Transform` instance \n",
            "      url: a url string \n",
            "      visible: bool \n",
            "      xdata: 1D array \n",
            "      ydata: 1D array \n",
            "      zorder: float \n",
            "    \n",
            "    kwargs *scalex* and *scaley*, if defined, are passed on to\n",
            "    :meth:`~matplotlib.axes.Axes.autoscale_view` to determine\n",
            "    whether the *x* and *y* axes are autoscaled; the default is\n",
            "    *True*.\n",
            "    \n",
            "    .. note::\n",
            "        In addition to the above described arguments, this function can take a\n",
            "        **data** keyword argument. If such a **data** argument is given, the\n",
            "        following arguments are replaced by **data[<arg>]**:\n",
            "    \n",
            "        * All arguments with the following names: 'x', 'y'.\n",
            "\n"
          ],
          "name": "stdout"
        }
      ]
    },
    {
      "metadata": {
        "id": "tXzYlV0ltfSv",
        "colab_type": "code",
        "outputId": "a4249d55-2cb6-480d-9f84-9fcacf01b1dd",
        "colab": {
          "base_uri": "https://localhost:8080/",
          "height": 299
        }
      },
      "cell_type": "code",
      "source": [
        "f1 = lambda z: sp.exp(-z/4)*sp.cos(z)\n",
        "x1 = np.linspace(0,10,200)\n",
        "f2 = lambda z: sp.exp(-z/4)*sp.sin(z)\n",
        "x2 = np.linspace(2,8,100)\n",
        "plt.plot(x1, f1(x1), '.r', x2, f2(x2), '.b')"
      ],
      "execution_count": 0,
      "outputs": [
        {
          "output_type": "execute_result",
          "data": {
            "text/plain": [
              "[<matplotlib.lines.Line2D at 0x7f50f125e550>,\n",
              " <matplotlib.lines.Line2D at 0x7f50f125e828>]"
            ]
          },
          "metadata": {
            "tags": []
          },
          "execution_count": 38
        },
        {
          "output_type": "display_data",
          "data": {
            "image/png": "[encoded data removed]",
            "text/plain": [
              "<matplotlib.figure.Figure at 0x7f50f12d7fd0>"
            ]
          },
          "metadata": {
            "tags": []
          }
        }
      ]
    },
    {
      "metadata": {
        "id": "woyDPA8kLu8e",
        "colab_type": "code",
        "outputId": "d7c00f7c-863b-4c04-fd85-02a7be3baafd",
        "colab": {
          "base_uri": "https://localhost:8080/",
          "height": 299
        }
      },
      "cell_type": "code",
      "source": [
        "plt.plot(x1, f1(x1), '.r', x2, f2(x2), '.b', color = 'black')"
      ],
      "execution_count": 0,
      "outputs": [
        {
          "output_type": "execute_result",
          "data": {
            "text/plain": [
              "[<matplotlib.lines.Line2D at 0x7f50ee9dfc88>,\n",
              " <matplotlib.lines.Line2D at 0x7f50ee9dfe48>]"
            ]
          },
          "metadata": {
            "tags": []
          },
          "execution_count": 39
        },
        {
          "output_type": "display_data",
          "data": {
            "image/png": "[encoded data removed]",
            "text/plain": [
              "<matplotlib.figure.Figure at 0x7f50f1200ba8>"
            ]
          },
          "metadata": {
            "tags": []
          }
        }
      ]
    },
    {
      "metadata": {
        "id": "rwUurEjhtfSy",
        "colab_type": "text"
      },
      "cell_type": "markdown",
      "source": [
        "###Lambda functions"
      ]
    },
    {
      "metadata": {
        "id": "q0sdvW2RtfSy",
        "colab_type": "text"
      },
      "cell_type": "markdown",
      "source": [
        "Lambda functions are short, single expression functions, refered to with a variable. They are _syntactic sugar_ and could always be replaced with regular functions."
      ]
    },
    {
      "metadata": {
        "id": "gPbXYb3GtfSz",
        "colab_type": "code",
        "outputId": "2fe4c811-4a6b-42b4-a42d-00f590503b39",
        "colab": {
          "base_uri": "https://localhost:8080/",
          "height": 52
        }
      },
      "cell_type": "code",
      "source": [
        "f1 = lambda z: sp.exp(-z/4) * sp.cos(z)\n",
        "f2 = lambda z: print(\"value = \", z)\n",
        "print(f1(0))\n",
        "f2(\"hello\")"
      ],
      "execution_count": 0,
      "outputs": [
        {
          "output_type": "stream",
          "text": [
            "1.0\n",
            "value =  hello\n"
          ],
          "name": "stdout"
        }
      ]
    },
    {
      "metadata": {
        "id": "aqET50jHIplu",
        "colab_type": "text"
      },
      "cell_type": "markdown",
      "source": [
        "##Simple data entry suggestions"
      ]
    },
    {
      "metadata": {
        "id": "-U3aty1BIplv",
        "colab_type": "code",
        "colab": {}
      },
      "cell_type": "code",
      "source": [
        "%matplotlib inline\n",
        "import numpy as np\n",
        "import scipy as sp\n",
        "import matplotlib.pyplot as plt"
      ],
      "execution_count": 0,
      "outputs": []
    },
    {
      "metadata": {
        "id": "fUfXTRHBIplz",
        "colab_type": "text"
      },
      "cell_type": "markdown",
      "source": [
        "**Example**: data from the second homework assignment\n",
        "\n",
        "** My suggestion**: Use a list of tuples\n",
        "* Each entry in the tuple has a specific meaning\n",
        "* Lists store homogeneous data\n",
        "* Human readable data structure, a bit like a spreadsheet\n",
        "\n",
        "_For large datasets we will want to read in from a file. A topic for later._"
      ]
    },
    {
      "metadata": {
        "id": "YDZuZGuiIpl0",
        "colab_type": "code",
        "colab": {}
      },
      "cell_type": "code",
      "source": [
        "# data   Va(V), I(A), R(cm), L(cm)\n",
        "raw_data = [(275, 1.30, 4.1, 3.1),\n",
        "            (275, 1.20, 4.7, 3.7),\n",
        "            (275, 1.10, 5.3, 4.0),\n",
        "            (275, 1.40, 3.7, 3.3),\n",
        "            (275, 1.50, 3.3, 2.9),\n",
        "            (285, 1.50, 3.5, 2.8),\n",
        "            (285, 1.40, 3.7, 3.0),\n",
        "            (285, 1.30, 4.2, 3.4),\n",
        "            (285, 1.20, 4.6, 3.9),\n",
        "            (285, 1.10, 4.9, 4.2)]"
      ],
      "execution_count": 0,
      "outputs": []
    },
    {
      "metadata": {
        "id": "wYUuYrxzV5Kv",
        "colab_type": "code",
        "outputId": "e2010b13-639c-4232-ce82-3504e80ce6c8",
        "colab": {
          "base_uri": "https://localhost:8080/",
          "height": 55
        }
      },
      "cell_type": "code",
      "source": [
        "print(raw_data)"
      ],
      "execution_count": 0,
      "outputs": [
        {
          "output_type": "stream",
          "text": [
            "[(275, 1.3, 4.1, 3.1), (275, 1.2, 4.7, 3.7), (275, 1.1, 5.3, 4.0), (275, 1.4, 3.7, 3.3), (275, 1.5, 3.3, 2.9), (285, 1.5, 3.5, 2.8), (285, 1.4, 3.7, 3.0), (285, 1.3, 4.2, 3.4), (285, 1.2, 4.6, 3.9), (285, 1.1, 4.9, 4.2)]\n"
          ],
          "name": "stdout"
        }
      ]
    },
    {
      "metadata": {
        "id": "yTgJ3cYhIpl1",
        "colab_type": "text"
      },
      "cell_type": "markdown",
      "source": [
        "### How do we work with it? ###\n",
        "\n",
        "Best idea is to convert into a numpy `ndarray`, like so:"
      ]
    },
    {
      "metadata": {
        "id": "ONl7Tx8JWFAi",
        "colab_type": "code",
        "outputId": "74430836-b09c-4a39-b333-46145b68df62",
        "colab": {
          "base_uri": "https://localhost:8080/",
          "height": 34
        }
      },
      "cell_type": "code",
      "source": [
        "K = [1, 2]\n",
        "L = [3, 4]\n",
        "K + L "
      ],
      "execution_count": 0,
      "outputs": [
        {
          "output_type": "execute_result",
          "data": {
            "text/plain": [
              "[1, 2, 3, 4]"
            ]
          },
          "metadata": {
            "tags": []
          },
          "execution_count": 46
        }
      ]
    },
    {
      "metadata": {
        "id": "bSFRBfPRIpl2",
        "colab_type": "code",
        "outputId": "258054af-392b-49cc-b122-d1d071cd055a",
        "colab": {
          "base_uri": "https://localhost:8080/",
          "height": 238
        }
      },
      "cell_type": "code",
      "source": [
        "data = np.asarray(raw_data)\n",
        "print(type(data))\n",
        "print(data)\n",
        "print(data[0,1]) # row, column\n",
        "print(data[0:2,1])"
      ],
      "execution_count": 0,
      "outputs": [
        {
          "output_type": "stream",
          "text": [
            "<class 'numpy.ndarray'>\n",
            "[[275.    1.3   4.1   3.1]\n",
            " [275.    1.2   4.7   3.7]\n",
            " [275.    1.1   5.3   4. ]\n",
            " [275.    1.4   3.7   3.3]\n",
            " [275.    1.5   3.3   2.9]\n",
            " [285.    1.5   3.5   2.8]\n",
            " [285.    1.4   3.7   3. ]\n",
            " [285.    1.3   4.2   3.4]\n",
            " [285.    1.2   4.6   3.9]\n",
            " [285.    1.1   4.9   4.2]]\n",
            "1.3\n",
            "[1.3 1.2]\n"
          ],
          "name": "stdout"
        }
      ]
    },
    {
      "metadata": {
        "id": "5KxQgbZ_Ipl7",
        "colab_type": "text"
      },
      "cell_type": "markdown",
      "source": [
        "### Getting 1D arrays ###"
      ]
    },
    {
      "metadata": {
        "id": "nn3GgPT4Ipl8",
        "colab_type": "code",
        "outputId": "a283e795-d562-482f-9648-3ed3949f6e09",
        "colab": {
          "base_uri": "https://localhost:8080/",
          "height": 71
        }
      },
      "cell_type": "code",
      "source": [
        "V = data[:,0]\n",
        "print(V)\n",
        "I = data[:,1]\n",
        "R = data[:,2]\n",
        "L = data[:,3]\n",
        "print(V, I, R, L)"
      ],
      "execution_count": 0,
      "outputs": [
        {
          "output_type": "stream",
          "text": [
            "[275. 275. 275. 275. 275. 285. 285. 285. 285. 285.]\n",
            "[275. 275. 275. 275. 275. 285. 285. 285. 285. 285.] [1.3 1.2 1.1 1.4 1.5 1.5 1.4 1.3 1.2 1.1] [4.1 4.7 5.3 3.7 3.3 3.5 3.7 4.2 4.6 4.9] [3.1 3.7 4.  3.3 2.9 2.8 3.  3.4 3.9 4.2]\n"
          ],
          "name": "stdout"
        }
      ]
    },
    {
      "metadata": {
        "id": "qQw9WHTyXKGD",
        "colab_type": "code",
        "colab": {}
      },
      "cell_type": "code",
      "source": [
        ""
      ],
      "execution_count": 0,
      "outputs": []
    },
    {
      "metadata": {
        "id": "fDWB-EFZXdvp",
        "colab_type": "code",
        "outputId": "db694c86-1987-4494-f5df-ef97ed9ce582",
        "colab": {
          "base_uri": "https://localhost:8080/",
          "height": 187
        }
      },
      "cell_type": "code",
      "source": [
        "print(data)\n"
      ],
      "execution_count": 0,
      "outputs": [
        {
          "output_type": "stream",
          "text": [
            "[[275.    1.3   4.1   3.1]\n",
            " [275.    1.2   4.7   3.7]\n",
            " [275.    1.1   5.3   4. ]\n",
            " [275.    1.4   3.7   3.3]\n",
            " [275.    1.5   3.3   2.9]\n",
            " [285.    1.5   3.5   2.8]\n",
            " [285.    1.4   3.7   3. ]\n",
            " [285.    1.3   4.2   3.4]\n",
            " [285.    1.2   4.6   3.9]\n",
            " [285.    1.1   4.9   4.2]]\n"
          ],
          "name": "stdout"
        }
      ]
    },
    {
      "metadata": {
        "id": "3iCmuQxcIpmA",
        "colab_type": "text"
      },
      "cell_type": "markdown",
      "source": [
        "### Array arithmetic ###\n",
        "Arithmetic operations, and many functions defined inside `numpy` work element by element."
      ]
    },
    {
      "metadata": {
        "id": "U9SwxVOjIpmB",
        "colab_type": "code",
        "outputId": "9bfdf548-bf45-405d-c80c-e1e5658f43bf",
        "colab": {
          "base_uri": "https://localhost:8080/",
          "height": 102
        }
      },
      "cell_type": "code",
      "source": [
        "print(R + L)\n",
        "print(R * L)\n",
        "print(R**2)\n",
        "print(np.power(R, 1.0/2.0))"
      ],
      "execution_count": 0,
      "outputs": [
        {
          "output_type": "stream",
          "text": [
            "[7.2 8.4 9.3 7.  6.2 6.3 6.7 7.6 8.5 9.1]\n",
            "[12.71 17.39 21.2  12.21  9.57  9.8  11.1  14.28 17.94 20.58]\n",
            "[16.81 22.09 28.09 13.69 10.89 12.25 13.69 17.64 21.16 24.01]\n",
            "[2.02484567 2.16794834 2.30217289 1.92353841 1.81659021 1.87082869\n",
            " 1.92353841 2.04939015 2.14476106 2.21359436]\n"
          ],
          "name": "stdout"
        }
      ]
    },
    {
      "metadata": {
        "id": "RnIZrk-BIpmE",
        "colab_type": "text"
      },
      "cell_type": "markdown",
      "source": [
        "### Making a plot ###\n",
        "In the e/m lab the voltage, current and radius of curvature are related:\n",
        "\n",
        "$$ \\frac{e}{m} \\propto \\frac{V^2}{I^2 r^2} $$\n",
        "\n",
        "So, I could, for example, explore the data by plotting the right hand side vs $r^2$:"
      ]
    },
    {
      "metadata": {
        "id": "db50Vk2dIpmF",
        "colab_type": "code",
        "outputId": "f923c205-10a5-4aa1-8714-f4a91f1ab633",
        "colab": {
          "base_uri": "https://localhost:8080/",
          "height": 296
        }
      },
      "cell_type": "code",
      "source": [
        "plt.plot(R, V / (I**2 * R**2), 'bo')\n",
        "plt.plot(L, V / (I**2 * L**2), 'ro')\n",
        "plt.plot((R + L) / 2.0, V / (I**2 * ((R + L) / 2.0)**2 ),'go')\n",
        "plt.xlabel('radius of curvature (cm)')\n",
        "plt.ylabel('e/m (C/kg)')\n",
        "plt.legend(('using R', 'using L', 'using (L + R) / 2'), loc = 'upper right')"
      ],
      "execution_count": 0,
      "outputs": [
        {
          "output_type": "execute_result",
          "data": {
            "text/plain": [
              "<matplotlib.legend.Legend at 0x7f50ee966518>"
            ]
          },
          "metadata": {
            "tags": []
          },
          "execution_count": 60
        },
        {
          "output_type": "display_data",
          "data": {
            "image/png": "[encoded data removed]",
            "text/plain": [
              "<matplotlib.figure.Figure at 0x7f50f1207c18>"
            ]
          },
          "metadata": {
            "tags": []
          }
        }
      ]
    },
    {
      "metadata": {
        "id": "OdX0GmiRtfS-",
        "colab_type": "text"
      },
      "cell_type": "markdown",
      "source": [
        "##Bits and Bytes"
      ]
    },
    {
      "metadata": {
        "id": "S-1GZWbYtfS-",
        "colab_type": "text"
      },
      "cell_type": "markdown",
      "source": [
        "Before moving on let's talk about how integers are represented in decimal, binary and hex. \n",
        "\n",
        "* A `bit` = \"binary digit\" = 0 or 1. True or False.\n",
        "* A `byte` = 8 bits. Has $2^8$ = 256 possible values\n",
        "  * Written, in binary format as, e.g 0b00100110\n",
        "\n",
        "prefix|bit8|bit7|bit6|bit5|bit4|bit3|bit2|bit1|\n",
        "-------------------|--------------------\n",
        " 0b| 128 | 64 |32 |16|8|4|2|1\n",
        "  \n",
        "  * Hexadecimal (base 16) format. Made of two 4 bit \"nibbles\" which are denoted by the numbers 0-9, and the letters A=10, B=11, C=12, D=14, E=14,F=15 \n",
        "\n",
        "prefix|nibble 2 | nibble 1\n",
        "---------|---------\n",
        "0x | 16  | 1\n",
        "\n",
        "  * Written as 0x##\n",
        "  * So 0x10 = 16 in decimal. 0x21 = 37, etc\n",
        "  \n",
        "* An `int` = 4 bytes on a 32 bit system, 8 bytes on a 64 bit system \n",
        "* A `float` = at least 8 bytes\n",
        "\n",
        "### Exercise: print binary and hex as decimal\n",
        "\n",
        "Start by doing `help(int)`. There is a way to feed a character string such as '0b00100110' in to make an `int`. Figure out how to use that feature, make an integer variable and use `print` to print it (by default in decimal)."
      ]
    },
    {
      "metadata": {
        "id": "yrQGbDj2tfS_",
        "colab_type": "code",
        "colab": {}
      },
      "cell_type": "code",
      "source": [
        "help(int)"
      ],
      "execution_count": 0,
      "outputs": []
    },
    {
      "metadata": {
        "id": "JvvxUc9FtfTC",
        "colab_type": "code",
        "colab": {}
      },
      "cell_type": "code",
      "source": [
        ""
      ],
      "execution_count": 0,
      "outputs": []
    }
  ]
}