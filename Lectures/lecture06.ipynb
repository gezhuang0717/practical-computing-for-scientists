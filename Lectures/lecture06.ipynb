{
  "nbformat": 4,
  "nbformat_minor": 0,
  "metadata": {
    "colab": {
      "name": "lecture06.ipynb",
      "version": "0.3.2",
      "provenance": [],
      "collapsed_sections": [
        "4RonKaAhIplV",
        "s_K16zWtubPL",
        "O00fbBIiIplX",
        "UvwD-buoIplY",
        "BJEUbMWOIpmM",
        "vj9FzmmLIpmP",
        "5AiaHgBbIpmP",
        "Y1Gi1cZYIpmR",
        "RkRxfT3IIpmX",
        "ThsgCjUcunO-",
        "b37Y1RsCunPB",
        "tmaWnllf6xHm",
        "SojZ5iM-unPN"
      ],
      "include_colab_link": true
    },
    "kernelspec": {
      "name": "python3",
      "display_name": "Python 3"
    }
  },
  "cells": [
    {
      "cell_type": "markdown",
      "metadata": {
        "id": "view-in-github",
        "colab_type": "text"
      },
      "source": [
        "<a href=\"https://colab.research.google.com/github/wdconinc/practical-computing-for-scientists/blob/master/Lectures/lecture06.ipynb\" target=\"_parent\"><img src=\"https://colab.research.google.com/assets/colab-badge.svg\" alt=\"Open In Colab\"/></a>"
      ]
    },
    {
      "metadata": {
        "id": "4RonKaAhIplV",
        "colab_type": "text"
      },
      "cell_type": "markdown",
      "source": [
        "#Lecture #06"
      ]
    },
    {
      "metadata": {
        "id": "s_K16zWtubPL",
        "colab_type": "text"
      },
      "cell_type": "markdown",
      "source": [
        "##Standard Preamble"
      ]
    },
    {
      "metadata": {
        "id": "D3OEjxwPunOO",
        "colab_type": "code",
        "colab": {}
      },
      "cell_type": "code",
      "source": [
        "%matplotlib inline\n",
        "import numpy as np\n",
        "import scipy as sp\n",
        "import matplotlib.pyplot as plt\n",
        "import math"
      ],
      "execution_count": 0,
      "outputs": []
    },
    {
      "metadata": {
        "id": "O00fbBIiIplX",
        "colab_type": "text"
      },
      "cell_type": "markdown",
      "source": [
        "##Data analysis and algorithms"
      ]
    },
    {
      "metadata": {
        "id": "UvwD-buoIplY",
        "colab_type": "text"
      },
      "cell_type": "markdown",
      "source": [
        "##In our last episode: "
      ]
    },
    {
      "metadata": {
        "id": "R7a_416VIplY",
        "colab_type": "text"
      },
      "cell_type": "markdown",
      "source": [
        "* tuples: `T=(1,2,3)`\n",
        "* dictionaries: D={'ham': 2.50, 'steak':5.00, 'chicken':3.00}\n",
        "* functions\n",
        "  * multiple return values in a tuple\n",
        "  * default arguments\n",
        "  * positional vs. keyword arguments\n",
        "  * formal vs informal arguments"
      ]
    },
    {
      "metadata": {
        "id": "BJEUbMWOIpmM",
        "colab_type": "text"
      },
      "cell_type": "markdown",
      "source": [
        "##Algorithms"
      ]
    },
    {
      "metadata": {
        "id": "8OgC0_b6IpmN",
        "colab_type": "text"
      },
      "cell_type": "markdown",
      "source": [
        "* A step by step procedure for solving a problem\n",
        "* Named after 9th Century mathematician _al-Khwārizmī_\n",
        "* Independent of programming language. Doesn't even have to be on a computer.\n"
      ]
    },
    {
      "metadata": {
        "id": "vj9FzmmLIpmP",
        "colab_type": "text"
      },
      "cell_type": "markdown",
      "source": [
        "###Building blocks"
      ]
    },
    {
      "metadata": {
        "id": "-WX8Aq04IpmP",
        "colab_type": "text"
      },
      "cell_type": "markdown",
      "source": [
        "* variables \n",
        "* logical expressions\n",
        "* conditionals\n",
        "* loops\n",
        "* arithmetic\n",
        "* functions (a.k.a. sub-algorithms)\n",
        "* data"
      ]
    },
    {
      "metadata": {
        "id": "5AiaHgBbIpmP",
        "colab_type": "text"
      },
      "cell_type": "markdown",
      "source": [
        "###Important issues"
      ]
    },
    {
      "metadata": {
        "id": "PcoKFimtIpmQ",
        "colab_type": "text"
      },
      "cell_type": "markdown",
      "source": [
        "1. **Correctness**: Is the algorithm correct? Does it solve the problem as desired?\n",
        "2. **Resource usage**: How much work does it require? How many people? How much computing time? How much space?\n",
        "3. **Simplicity**: Often a virtue.\n",
        "4. **Optimality**: Given the task, is our algorithm the best one possible? Can we prove that?"
      ]
    },
    {
      "metadata": {
        "id": "Y1Gi1cZYIpmR",
        "colab_type": "text"
      },
      "cell_type": "markdown",
      "source": [
        "##Exercise: a sorting algorithm"
      ]
    },
    {
      "metadata": {
        "id": "UmO6jOoSIpmS",
        "colab_type": "text"
      },
      "cell_type": "markdown",
      "source": [
        "**Goal**: write a function to sort a list of integers into ascending order (1, 2, 3....).\n",
        "\n",
        "**To get started**:  Sort the following by hand. Pay attention to the steps you are taking."
      ]
    },
    {
      "metadata": {
        "id": "HcYejt0oIpmS",
        "colab_type": "code",
        "colab": {}
      },
      "cell_type": "code",
      "source": [
        "L = [55, 11,  8, 56, 39, 42, 17,  9, 86, 26]"
      ],
      "execution_count": 0,
      "outputs": []
    },
    {
      "metadata": {
        "id": "RkRxfT3IIpmX",
        "colab_type": "text"
      },
      "cell_type": "markdown",
      "source": [
        "### Suggestions ###"
      ]
    },
    {
      "metadata": {
        "id": "UrDEgXQPIpmX",
        "colab_type": "code",
        "colab": {}
      },
      "cell_type": "code",
      "source": [
        ""
      ],
      "execution_count": 0,
      "outputs": []
    },
    {
      "metadata": {
        "id": "ThsgCjUcunO-",
        "colab_type": "text"
      },
      "cell_type": "markdown",
      "source": [
        "##Recursion"
      ]
    },
    {
      "metadata": {
        "id": "6MraFQNiunPA",
        "colab_type": "text"
      },
      "cell_type": "markdown",
      "source": [
        "A _recursive_ function is one which calls itself.\n",
        "\n",
        "<img src=\"https://cdn-images-1.medium.com/max/1600/1*appBwh6_RtvocVxwqpplHA.jpeg\" width=\"500\" />"
      ]
    },
    {
      "metadata": {
        "id": "b37Y1RsCunPB",
        "colab_type": "text"
      },
      "cell_type": "markdown",
      "source": [
        "###Example: non-recursive factorial"
      ]
    },
    {
      "metadata": {
        "id": "PRF7iaFfunPB",
        "colab_type": "code",
        "outputId": "2f62220b-367a-4c75-e048-4d672bf5458f",
        "colab": {
          "base_uri": "https://localhost:8080/",
          "height": 187
        }
      },
      "cell_type": "code",
      "source": [
        "def my_factorial(n):\n",
        "    ''' compute n! '''\n",
        "    result = 1\n",
        "    for i in range(1, n + 1):\n",
        "        result = result * i\n",
        "    return result\n",
        "\n",
        "for n in range(0, 10):\n",
        "    print(n, my_factorial(n))"
      ],
      "execution_count": 0,
      "outputs": [
        {
          "output_type": "stream",
          "text": [
            "0 1\n",
            "1 1\n",
            "2 2\n",
            "3 6\n",
            "4 24\n",
            "5 120\n",
            "6 720\n",
            "7 5040\n",
            "8 40320\n",
            "9 362880\n"
          ],
          "name": "stdout"
        }
      ]
    },
    {
      "metadata": {
        "id": "tmaWnllf6xHm",
        "colab_type": "text"
      },
      "cell_type": "markdown",
      "source": [
        "###Example: recursive factorial"
      ]
    },
    {
      "metadata": {
        "id": "ILRjYHUb62Ba",
        "colab_type": "code",
        "outputId": "ccdc4e74-d386-429f-b79d-318f0a2c96e9",
        "colab": {
          "base_uri": "https://localhost:8080/",
          "height": 187
        }
      },
      "cell_type": "code",
      "source": [
        "def my_factorial_recursive(n):\n",
        "    '''compute n! using recursion'''\n",
        "    if n == 0:\n",
        "      return 1 # 0! = 1\n",
        "    return my_factorial_recursive(n-1) * n\n",
        "  \n",
        "for n in range(0, 10):\n",
        "    print(n, my_factorial_recursive(n))"
      ],
      "execution_count": 0,
      "outputs": [
        {
          "output_type": "stream",
          "text": [
            "0 1\n",
            "1 1\n",
            "2 2\n",
            "3 6\n",
            "4 24\n",
            "5 120\n",
            "6 720\n",
            "7 5040\n",
            "8 40320\n",
            "9 362880\n"
          ],
          "name": "stdout"
        }
      ]
    },
    {
      "metadata": {
        "id": "SojZ5iM-unPN",
        "colab_type": "text"
      },
      "cell_type": "markdown",
      "source": [
        "###Exercise: Hermite polynomials"
      ]
    },
    {
      "metadata": {
        "id": "D2EKRqfCunPN",
        "colab_type": "text"
      },
      "cell_type": "markdown",
      "source": [
        "The Hermite polynomials $H_n(x)$ for integer $n\\geq0$ occur in the solution of the differential equation describing the simple harmonic oscillator in quantum mechanics. They are defined in terms of initial values \n",
        "\n",
        "$$H_{0}(x)=1 \\quad\\mbox{and}\\quad H_{-1}(x)=0 $$\n",
        "\n",
        "and a recursion relation:\n",
        "\n",
        "$$H_{n+1}(x) = 2xH_{n}(x) -2nH_{n-1}(x)$$\n",
        "\n",
        "Challenge: write a function `hermite(n,x)` which evaluates $H_{n}(x)$. Plot the result and compare with Wolfram's version:\n",
        "\n",
        "<img src=\"http://mathworld.wolfram.com/images/eps-gif/HermiteH_1000.gif\" />"
      ]
    },
    {
      "metadata": {
        "id": "IlUIzriWunPO",
        "colab_type": "code",
        "outputId": "02204ed5-0f13-4a99-84db-a7ee01523da0",
        "colab": {
          "base_uri": "https://localhost:8080/",
          "height": 282
        }
      },
      "cell_type": "code",
      "source": [
        "def hermite(n,x):\n",
        "    if n == -1:\n",
        "        return 0\n",
        "    elif n == 0:\n",
        "        return 1\n",
        "    else:\n",
        "        return 2*x*hermite(n-1,x) - 2*(n-1)*hermite(n-2,x)\n",
        "\n",
        "print(hermite(1,1))\n",
        "x = np.linspace(-1,1,100)\n",
        "for n in range(1,10):\n",
        "    plt.plot(x, hermite(n,x), label = 'n=%i' % n)\n",
        "    plt.legend(loc = 'upper left')"
      ],
      "execution_count": 0,
      "outputs": [
        {
          "output_type": "stream",
          "text": [
            "2\n"
          ],
          "name": "stdout"
        },
        {
          "output_type": "display_data",
          "data": {
            "image/png": "[encoded data removed]",
            "text/plain": [
              "<matplotlib.figure.Figure at 0x7fc22b2568d0>"
            ]
          },
          "metadata": {
            "tags": []
          }
        }
      ]
    },
    {
      "metadata": {
        "id": "yG5vVbBg5_ZY",
        "colab_type": "code",
        "colab": {}
      },
      "cell_type": "code",
      "source": [
        ""
      ],
      "execution_count": 0,
      "outputs": []
    }
  ]
}