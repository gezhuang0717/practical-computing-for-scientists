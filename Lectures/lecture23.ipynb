{
  "nbformat": 4,
  "nbformat_minor": 0,
  "metadata": {
    "colab": {
      "name": "lecture23.ipynb",
      "version": "0.3.2",
      "provenance": [],
      "collapsed_sections": [
        "-YBbinzUw3XS",
        "fWw_TiD6w3Xa",
        "g1CPf5O8w3Xb",
        "HoaMkwY3w3Xs",
        "QRk501FXw3Xu"
      ],
      "include_colab_link": true
    },
    "kernelspec": {
      "name": "python3",
      "display_name": "Python 3"
    }
  },
  "cells": [
    {
      "cell_type": "markdown",
      "metadata": {
        "id": "view-in-github",
        "colab_type": "text"
      },
      "source": [
        "<a href=\"https://colab.research.google.com/github/wdconinc/practical-computing-for-scientists/blob/master/Lectures/lecture23.ipynb\" target=\"_parent\"><img src=\"https://colab.research.google.com/assets/colab-badge.svg\" alt=\"Open In Colab\"/></a>"
      ]
    },
    {
      "metadata": {
        "id": "-YBbinzUw3XS",
        "colab_type": "text"
      },
      "cell_type": "markdown",
      "source": [
        "# Lecture #23"
      ]
    },
    {
      "metadata": {
        "id": "GSBvUNgZw3XV",
        "colab_type": "code",
        "colab": {}
      },
      "cell_type": "code",
      "source": [
        "%matplotlib inline\n",
        "import numpy as np\n",
        "import scipy as sp\n",
        "import matplotlib.pyplot as plt\n",
        "import math\n",
        "import scipy.integrate as ig"
      ],
      "execution_count": 0,
      "outputs": []
    },
    {
      "metadata": {
        "id": "fWw_TiD6w3Xa",
        "colab_type": "text"
      },
      "cell_type": "markdown",
      "source": [
        "##Signal processing and analysis"
      ]
    },
    {
      "metadata": {
        "id": "g1CPf5O8w3Xb",
        "colab_type": "text"
      },
      "cell_type": "markdown",
      "source": [
        "###Motivation"
      ]
    },
    {
      "metadata": {
        "id": "Qlv7RWMBw3Xc",
        "colab_type": "text"
      },
      "cell_type": "markdown",
      "source": [
        "__Signals__ \n",
        "\n",
        "For our purposes, a _signal_ is a sequence of $N$ measurements (\"samplings\") of some quantity $f$, usually at different times $t$: \n",
        "\n",
        "$$\\{f_n\\} = \\{f_0,f_1,\\dots,f_{N-1}\\}$$\n",
        "\n",
        "__Examples__\n",
        "\n",
        "* Digital oscilloscope trace:\n",
        "  * The output of some antenna or detector\n",
        "  * The voltage at some point in a circult\n",
        "* More generically, the output of any Analog to Digital Convertor\n",
        "* Stock market data\n",
        "* Weather data\n",
        "* images: pixel color at different $x,y$ (a 2D example)\n",
        "\n",
        "__Continuum limit__\n",
        "\n",
        "We presume that if we look at finer and finer samples ($N\\to \\infty$) the signal becomes a better and better estimate of some continuous function $f(t)$. We can therefore hope to translate some of the mathematics developed for continuous functions (in particular Fourier transforms) to work with signals.\n",
        "\n",
        "__Signal processing__\n",
        "\n",
        "A model for signal processing is shown below:\n",
        "\n",
        "\\begin{array}{ccc}\n",
        "\\mbox{input signal} & \\mbox{process} & \\mbox{ output signal} \\\\\n",
        "\\{f_n\\} \\longrightarrow &  H & \\longrightarrow  \\{f'_n\\} \n",
        "\\end{array}\n",
        "\n",
        "The process $H$ is anything that modifies an input signal to yield an output signal. This could be an algorithm, if we think of $\\{f_n\\}$ as numbers in a computer's memory, or a physical system, if we think of them as actual waveforms that we have sampled before and/or after the action of the system.\n",
        "\n",
        "__ Three general situations __\n",
        "\n",
        "* If we know $\\{f_n\\}$ and $\\{f'_n\\}$ we can learn about $H$. For example we might imagine $\\{f_n\\}$ is an outgoing radar pulse and $\\{f'_n\\}$ is the return pulse. By analyzing the two we learn about the system of planes in the air - $H$.\n",
        "\n",
        "* If we know $H$ and $\\{f'_n\\}$ we can learn about $\\{f_n\\}$. For example, $\\{f'_n\\}$ could be the output of our detector, measured on an oscilloscope. $H$ is the way our detector responds to incoming signals - practical detectors have resistance and capacitance and therefore cannot respond infinitely quickly. We want to go from $\\{f'_n\\}$ to $\\{f_n\\}$, the \"true\" signal. This procedure is called \"deconvolution\" or \"unfolding\".\n",
        "\n",
        "* If we know $\\{f_n\\}$ and $H$ we can make a new one $\\{f'_n\\}$ with some improved quality. This is called \"filtering\". Noise removal and image enhancement algorithms do this. Data compression algorithms do something like this.\n",
        "\n",
        "__ Convolution and Correlation __\n",
        "\n",
        "Consider the case in which we have two signals $f(t)$ and $g(t)$. The _convolution_ of the two is:\n",
        "\n",
        "$$ f*g = \\int_{-\\infty}^{+\\infty} g(\\tau)f(t-\\tau) d\\tau $$\n",
        "\n",
        "Here's an example, in which the function $g(t)$ is a normal distribution (potentially a good model for detector resolution/smearing) and $f(t)$ has narrow spikes. The resulting convolution spreads out the spikes, leaving their location intact (since $f,g$ are symmetric).  "
      ]
    },
    {
      "metadata": {
        "id": "r6QCyfsvw3Xe",
        "colab_type": "code",
        "outputId": "af0443cf-97ef-4ff4-e236-e9b2f8a47f78",
        "colab": {
          "base_uri": "https://localhost:8080/",
          "height": 283
        }
      },
      "cell_type": "code",
      "source": [
        "def g(x):\n",
        "    return np.exp(-x**2)\n",
        "\n",
        "def f(x):\n",
        "    return 1 / ((30*(x-4)**2 + 1)) + 1 / ((10*(x+5)**2 + 1))\n",
        "\n",
        "def conv(f,g,t,a,b):\n",
        "    fg = lambda tau,t: g(tau) * f(t-tau)\n",
        "    return ig.quad(fg, a, b, args = (t))[0]\n",
        "\n",
        "T = np.linspace(-10,10,500)\n",
        "conv_result = np.zeros_like(T)\n",
        "for i,t in enumerate(T):\n",
        "    conv_result[i] = conv(f, g, t, -10, 10)\n",
        "\n",
        "plt.plot(T, g(T), T, f(T), T, conv_result)\n",
        "plt.legend(('g(t)', 'f(t)', '[g*f](t)'), fontsize = 'small', loc = 'upper right') "
      ],
      "execution_count": 0,
      "outputs": [
        {
          "output_type": "execute_result",
          "data": {
            "text/plain": [
              "<matplotlib.legend.Legend at 0x7f0c62015b00>"
            ]
          },
          "metadata": {
            "tags": []
          },
          "execution_count": 7
        },
        {
          "output_type": "display_data",
          "data": {
            "image/png": "[encoded data removed]",
            "text/plain": [
              "<matplotlib.figure.Figure at 0x7f0c64aaf9e8>"
            ]
          },
          "metadata": {
            "tags": []
          }
        }
      ]
    },
    {
      "metadata": {
        "id": "zfjYVBI9w3Xm",
        "colab_type": "text"
      },
      "cell_type": "markdown",
      "source": [
        "The _correlation_ of two signals is similar:\n",
        "\n",
        "$$ C(t) = \\int_{-\\infty}^{+\\infty} g(\\tau+t)f(\\tau) d\\tau $$"
      ]
    },
    {
      "metadata": {
        "id": "3OQaus0Kw3Xn",
        "colab_type": "code",
        "colab": {}
      },
      "cell_type": "code",
      "source": [
        "def corr(f, g, t, a, b):\n",
        "    fg = lambda tau, t: g(tau+t)*f(tau)\n",
        "    return ig.quad(fg, a, b, args = (t))[0]\n",
        "\n",
        "T = np.linspace(-10,10,500)\n",
        "corr_result = np.zeros_like(T)\n",
        "for i,t in enumerate(T):\n",
        "    corr_result[i] = corr(f, g, t, -10, 10)\n",
        "\n",
        "plt.plot(T, g(T), T, f(T), T, corr_result)\n",
        "plt.legend(('g(t)', 'f(t)', 'C(t)'), fontsize = 'small', loc = 'upper right')"
      ],
      "execution_count": 0,
      "outputs": []
    },
    {
      "metadata": {
        "id": "HoaMkwY3w3Xs",
        "colab_type": "text"
      },
      "cell_type": "markdown",
      "source": [
        "###Fourier Transforms"
      ]
    },
    {
      "metadata": {
        "id": "u8Nq5FFqw3Xt",
        "colab_type": "text"
      },
      "cell_type": "markdown",
      "source": [
        "__Fourier's Theorem__\n",
        "\n",
        "_Every reasonably continuous function $f(t)$ can be expressed as a sum, perhaps infinite, of sine and cosine functions with different frequencies $\\omega=2\\pi f$._  Closely related is the _Fourier transform_\n",
        "\n",
        "$$f(t) = \\int_{-\\infty}^{+\\infty} F(\\omega) e^{i\\omega t} \\frac{\\mathrm{d}\\omega}{2\\pi}$$\n",
        "\n",
        "$F(\\omega)$ is the \"frequency domain\" representation of the \"time domain\" function f(t).  There is an inverse transform:\n",
        "\n",
        "$$F(\\omega)=\\int_{-\\infty}^{+\\infty} f(t) e^{-i\\omega t} \\mathrm{d}t$$\n",
        "\n",
        "$f(t)$ and $F(\\omega)$ are equally valid ways of looking at the function. It will turn out that understanding and manipulating signals is often best done in the frequency domain. Examples:\n",
        "\n",
        "* Perhaps my detector is an antenna and the nearby interaction of a hypothesized new particle would create an electro-magnetic wave with a particular frequency (or tone). This might not stand out in the time domain, but would show up as a peak in the frequency domain (if \"loud\" enough).\n",
        "\n",
        "* Perhaps I have some 60Hz noise messing with my experiment. I could transform to the frequency domain, mask out the region around 60Hz, then translate back to the time domain.\n",
        "\n",
        "\n",
        "0n a computer we can calculate a discretized version of the Fourier transform (DFT) which is not only useful for converting to and from the frequency domain, but can also be used to implement correlations and covariances.  In particular, a clever, efficient version of the DFT, called the Fast Fourier Transform (FFT) makes many problems especially tractable with Fourier methods. \n",
        "\n",
        "Note: The relation between $t$ and $w$ is a bit like the relation between $x$ and $p$ in quantum mechanics. They are _conjugate variables_, related by the Fourier transform. "
      ]
    },
    {
      "metadata": {
        "id": "QRk501FXw3Xu",
        "colab_type": "text"
      },
      "cell_type": "markdown",
      "source": [
        "###Example: exponential decay"
      ]
    },
    {
      "metadata": {
        "id": "PsetOFIjw3Xv",
        "colab_type": "text"
      },
      "cell_type": "markdown",
      "source": [
        "Consider an exponential decay:\n",
        "\n",
        "$$f(t)=e^{-at} \\quad 0<t<\\infty \\quad \\mbox{and zero elsewhere}.$$ \n",
        "\n",
        "The Fourier transform is:\n",
        "\n",
        "\\begin{align}\n",
        "F(\\omega) &= \\int_{0}^{+\\infty} e^{-at} e^{-i\\omega t}\\mathrm{d}t \\\\\n",
        " &= \\frac{-1}{a+i\\omega} e^{-(a+\\omega t)} \\Big|^\\infty_0 \\\\\n",
        " &= \\frac{1}{a+i\\omega}\n",
        " \\end{align}\n",
        " \n",
        "Note, the frequency domain is complex, even though the time domain is real. That is generally true. We can describe the complex number in terms of a real and imaginary part:\n",
        "\n",
        "$$ F(\\omega) = \\frac{a-i\\omega}{a^2+\\omega^2}$$\n",
        "\n",
        "or in terms of a magnitude and phase ($\\phi$):\n",
        "\n",
        "$$ F(\\omega)=|F(\\omega)| e^{i\\phi} $$\n",
        "\n",
        "with \n",
        "\n",
        "$$|F(\\omega)|=\\frac{1}{\\sqrt{a^2+\\omega^2}}$$ \n",
        "\n",
        "and \n",
        "\n",
        "$$\\phi=\\arctan\\frac{\\Im\\{F(\\omega)\\}}{\\Re\\{F(\\omega)\\}}=\\arctan\\frac{\\omega}{a}$$\n",
        "\n",
        "We plot $f(t)$ and $F(\\omega)$ below."
      ]
    },
    {
      "metadata": {
        "id": "zmiFzDU2w3Xx",
        "colab_type": "code",
        "colab": {}
      },
      "cell_type": "code",
      "source": [
        "fexp = lambda t,a: np.exp(-a*t)\n",
        "Fexp = lambda w,a: 1 / (a + 1J*w)\n",
        "a = 2\n",
        "t = np.linspace(0,4)\n",
        "plt.plot(t, fexp(t,a))"
      ],
      "execution_count": 0,
      "outputs": []
    },
    {
      "metadata": {
        "id": "OJN12Pl0w3X4",
        "colab_type": "code",
        "colab": {}
      },
      "cell_type": "code",
      "source": [
        "w = np.linspace(-20/a, 20/a)\n",
        "plt.plot(w, np.absolute(Fexp(w, a)))"
      ],
      "execution_count": 0,
      "outputs": []
    },
    {
      "metadata": {
        "id": "9hGH9SJlw3X8",
        "colab_type": "code",
        "colab": {}
      },
      "cell_type": "code",
      "source": [
        "plt.plot(w, np.angle(Fexp(w, a)))"
      ],
      "execution_count": 0,
      "outputs": []
    },
    {
      "metadata": {
        "id": "Gfh5CTvoyRmV",
        "colab_type": "code",
        "colab": {}
      },
      "cell_type": "code",
      "source": [
        ""
      ],
      "execution_count": 0,
      "outputs": []
    }
  ]
}