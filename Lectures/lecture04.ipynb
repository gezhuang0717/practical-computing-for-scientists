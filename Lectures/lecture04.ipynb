{
  "nbformat": 4,
  "nbformat_minor": 0,
  "metadata": {
    "colab": {
      "name": "lecture04.ipynb",
      "version": "0.3.2",
      "provenance": [],
      "collapsed_sections": [
        "3C80YesiiD5Z",
        "3lQq0ykQiD5c",
        "JS0mPTzoiD5d",
        "PgXZRHJ0iuir",
        "nyKnjIEwiui0",
        "v1eOY8QEiui6",
        "WZ4mrcdRiD5w",
        "5OHv0GtCiD58",
        "0Ju_MVeNiD6E",
        "0ukbwpc4iD6K",
        "Pe2QeEHMiD6U",
        "TiMqaAZoiD6e",
        "ZjcVq_2ViD6o",
        "va_8t2p1iD6o",
        "3h-os3SliD6r",
        "HQDBtguHiD68",
        "chs_3MUAiD7N",
        "JE7iAvcqiD7U",
        "WvLQEwP7iD7c",
        "UrwVhkV3iD7g"
      ],
      "include_colab_link": true
    },
    "kernelspec": {
      "name": "python3",
      "display_name": "Python 3"
    }
  },
  "cells": [
    {
      "cell_type": "markdown",
      "metadata": {
        "id": "view-in-github",
        "colab_type": "text"
      },
      "source": [
        "<a href=\"https://colab.research.google.com/github/wdconinc/practical-computing-for-scientists/blob/master/Lectures/lecture04.ipynb\" target=\"_parent\"><img src=\"https://colab.research.google.com/assets/colab-badge.svg\" alt=\"Open In Colab\"/></a>"
      ]
    },
    {
      "metadata": {
        "id": "3C80YesiiD5Z",
        "colab_type": "text"
      },
      "cell_type": "markdown",
      "source": [
        "#Lecture #04"
      ]
    },
    {
      "metadata": {
        "id": "3lQq0ykQiD5c",
        "colab_type": "text"
      },
      "cell_type": "markdown",
      "source": [
        "#Introduction to Python - III"
      ]
    },
    {
      "metadata": {
        "id": "JS0mPTzoiD5d",
        "colab_type": "text"
      },
      "cell_type": "markdown",
      "source": [
        "### In our last episode: \n",
        "* Booleans: `True` and `False`. Logical operators: `and`, `or`, `not`\n",
        "* Comparisons:  \n",
        " * statements which yield booleans\n",
        " * equal , not equal: `==` , `!=`\n",
        " * greater , less than: `>` , `<`\n",
        " * greater or equal , less or equal: `>=` , `<=`\n",
        "* Flow control: `if`/`elif`/`else`\n",
        "* `letter_grade` exercise"
      ]
    },
    {
      "metadata": {
        "id": "5Rwwvi4_iD5d",
        "colab_type": "code",
        "outputId": "b45a7a99-79dc-4094-f868-f06a329c9da6",
        "colab": {
          "base_uri": "https://localhost:8080/",
          "height": 69
        }
      },
      "cell_type": "code",
      "source": [
        "def hardcore_letter_grade(pct_score):\n",
        "    ''' return the letter grade based on the percent score'''\n",
        "    if(pct_score>=90):\n",
        "        return 'A'\n",
        "    elif(pct_score>=80):\n",
        "        return 'B'\n",
        "    elif(pct_score>=70):\n",
        "        return 'C'\n",
        "    elif(pct_score>=60):\n",
        "        return 'D'\n",
        "    else:\n",
        "        return 'F'\n",
        "print(hardcore_letter_grade(91))\n",
        "print(hardcore_letter_grade(85))\n",
        "print(hardcore_letter_grade(75))"
      ],
      "execution_count": 0,
      "outputs": [
        {
          "output_type": "stream",
          "text": [
            "A\n",
            "B\n",
            "C\n"
          ],
          "name": "stdout"
        }
      ]
    },
    {
      "metadata": {
        "id": "ZYsky7SaiD5k",
        "colab_type": "text"
      },
      "cell_type": "markdown",
      "source": [
        "* Lists\n",
        " * Definition: L = ['a', 'b', 'c']\n",
        " * indexing and slicing\n",
        " * appending and popping\n",
        " * adding lists\n",
        " * lists can be heterogeneous\n"
      ]
    },
    {
      "metadata": {
        "id": "PgXZRHJ0iuir",
        "colab_type": "text"
      },
      "cell_type": "markdown",
      "source": [
        "#### Want a list of numbers? \n",
        "\n",
        "Use the range function:"
      ]
    },
    {
      "metadata": {
        "id": "i8PGPFGXrYoC",
        "colab_type": "code",
        "colab": {}
      },
      "cell_type": "code",
      "source": [
        "?range"
      ],
      "execution_count": 0,
      "outputs": []
    },
    {
      "metadata": {
        "id": "oIp0a6Ufiuis",
        "colab_type": "code",
        "outputId": "bfdb730d-af82-4278-b166-adecb10bb4d4",
        "colab": {
          "base_uri": "https://localhost:8080/",
          "height": 87
        }
      },
      "cell_type": "code",
      "source": [
        "print(range(10))\n",
        "print(range(2,8))\n",
        "print(range(0,10,2))\n",
        "print(range(10,0,-1))"
      ],
      "execution_count": 0,
      "outputs": [
        {
          "output_type": "stream",
          "text": [
            "range(0, 10)\n",
            "range(2, 8)\n",
            "range(0, 10, 2)\n",
            "range(10, 0, -1)\n"
          ],
          "name": "stdout"
        }
      ]
    },
    {
      "metadata": {
        "id": "K-uVK4-8qiw7",
        "colab_type": "text"
      },
      "cell_type": "markdown",
      "source": [
        "Ranges act as and look like lists, but are technically different objects."
      ]
    },
    {
      "metadata": {
        "id": "3Tgru2-AqqoV",
        "colab_type": "code",
        "outputId": "0d41df13-38f0-4133-ca48-560d6c9e1a19",
        "colab": {
          "base_uri": "https://localhost:8080/",
          "height": 69
        }
      },
      "cell_type": "code",
      "source": [
        "L = range(0,10)\n",
        "print(L[0]) # first element\n",
        "print(L[-1]) # last element\n",
        "print(L[0:2]) # subrange"
      ],
      "execution_count": 0,
      "outputs": [
        {
          "output_type": "stream",
          "text": [
            "0\n",
            "9\n",
            "range(0, 2)\n"
          ],
          "name": "stdout"
        }
      ]
    },
    {
      "metadata": {
        "id": "xxemiy-1rrDn",
        "colab_type": "text"
      },
      "cell_type": "markdown",
      "source": [
        "If we want to convert a range to a list, we can use the `list` function."
      ]
    },
    {
      "metadata": {
        "id": "y1zNjjeorkhN",
        "colab_type": "code",
        "outputId": "f7efb7d5-43fc-4bdd-93b8-28605563e9f0",
        "colab": {
          "base_uri": "https://localhost:8080/",
          "height": 52
        }
      },
      "cell_type": "code",
      "source": [
        "L = range(10)\n",
        "print(L)\n",
        "print(list(L))"
      ],
      "execution_count": 0,
      "outputs": [
        {
          "output_type": "stream",
          "text": [
            "range(0, 10)\n",
            "[0, 1, 2, 3, 4, 5, 6, 7, 8, 9]\n"
          ],
          "name": "stdout"
        }
      ]
    },
    {
      "metadata": {
        "id": "nyKnjIEwiui0",
        "colab_type": "text"
      },
      "cell_type": "markdown",
      "source": [
        "##Loops"
      ]
    },
    {
      "metadata": {
        "id": "XuyO3Nqkiui3",
        "colab_type": "text"
      },
      "cell_type": "markdown",
      "source": [
        "<img src=\"https://imgs.xkcd.com/comics/loop.png\" />\n",
        "\n",
        "Python has two types of loops, `for` and `while`:\n",
        "\n",
        "```Python \n",
        "for item in list:\n",
        "    # do some stuff\n",
        "    print(item)\n",
        "\n",
        "\n",
        "while boolean_expression :\n",
        "    # do some stuff\n",
        "    # possibly increment a counter\n",
        "```"
      ]
    },
    {
      "metadata": {
        "id": "v1eOY8QEiui6",
        "colab_type": "text"
      },
      "cell_type": "markdown",
      "source": [
        "###`for` loops"
      ]
    },
    {
      "metadata": {
        "id": "JzUos3fciLxB",
        "colab_type": "code",
        "outputId": "f96cf3e1-8374-4a24-e4ae-0f8fb32848c9",
        "colab": {
          "base_uri": "https://localhost:8080/",
          "height": 139
        }
      },
      "cell_type": "code",
      "source": [
        "U = [\"red\", \"blue\", \"green\", \"black\", \"white\"]\n",
        "print(len(U))\n",
        "print(range(len(U)))\n",
        "for i in range(len(U)-1,-1,-1):\n",
        "    print(\"i =\", i, \" U[i] =\", U[i])"
      ],
      "execution_count": 0,
      "outputs": [
        {
          "output_type": "stream",
          "text": [
            "5\n",
            "range(0, 5)\n",
            "i = 4  U[i] = white\n",
            "i = 3  U[i] = black\n",
            "i = 2  U[i] = green\n",
            "i = 1  U[i] = blue\n",
            "i = 0  U[i] = red\n"
          ],
          "name": "stdout"
        }
      ]
    },
    {
      "metadata": {
        "id": "F20zRi5diujA",
        "colab_type": "text"
      },
      "cell_type": "markdown",
      "source": [
        "A loop with an index like that is similar to what you'd see in C code:\n",
        "```C++\n",
        "double U[3] = {1, 2, 3};\n",
        "for(int i = 0; i < 3; i++){\n",
        "   std::cout << \"i = \" << i << \" U[i] = \" << U[i] << std::endl;            \n",
        "}\n",
        "```\n",
        "\n",
        "But, in python there is a better way:"
      ]
    },
    {
      "metadata": {
        "id": "ZLa-pdyLiujB",
        "colab_type": "code",
        "outputId": "cc15af2c-5df3-4d03-ef83-29ca0a27c598",
        "colab": {
          "base_uri": "https://localhost:8080/",
          "height": 104
        }
      },
      "cell_type": "code",
      "source": [
        "for color in U:\n",
        "    print(color)"
      ],
      "execution_count": 0,
      "outputs": [
        {
          "output_type": "stream",
          "text": [
            "red\n",
            "blue\n",
            "green\n",
            "black\n",
            "white\n"
          ],
          "name": "stdout"
        }
      ]
    },
    {
      "metadata": {
        "id": "pZoGPho8sFJj",
        "colab_type": "text"
      },
      "cell_type": "markdown",
      "source": [
        "Note that above we have used a for loop over a range (`range(len(U))`) and over a list (`U`)."
      ]
    },
    {
      "metadata": {
        "id": "WZ4mrcdRiD5w",
        "colab_type": "text"
      },
      "cell_type": "markdown",
      "source": [
        "###`break` and `continue`"
      ]
    },
    {
      "metadata": {
        "id": "VE1kkSvbiD5x",
        "colab_type": "text"
      },
      "cell_type": "markdown",
      "source": [
        "These keywords can be used to stop the loop early:"
      ]
    },
    {
      "metadata": {
        "id": "dF8RS9zNiD5x",
        "colab_type": "code",
        "outputId": "980d6b4e-0b30-4438-cc77-38a4f94643a0",
        "colab": {
          "base_uri": "https://localhost:8080/",
          "height": 69
        }
      },
      "cell_type": "code",
      "source": [
        "for color in U:\n",
        "    if color == 'black':\n",
        "        break\n",
        "    print(color)"
      ],
      "execution_count": 0,
      "outputs": [
        {
          "output_type": "stream",
          "text": [
            "red\n",
            "blue\n",
            "green\n"
          ],
          "name": "stdout"
        }
      ]
    },
    {
      "metadata": {
        "id": "ucIV6XBjiD51",
        "colab_type": "text"
      },
      "cell_type": "markdown",
      "source": [
        "or continue onto the next iteration:"
      ]
    },
    {
      "metadata": {
        "id": "zIQHUzWOiD52",
        "colab_type": "code",
        "outputId": "aeff4de5-684b-4b7a-8292-6b18aa6c721b",
        "colab": {
          "base_uri": "https://localhost:8080/",
          "height": 87
        }
      },
      "cell_type": "code",
      "source": [
        "for color in U:\n",
        "    if color == 'black':\n",
        "        continue\n",
        "    print(color)"
      ],
      "execution_count": 0,
      "outputs": [
        {
          "output_type": "stream",
          "text": [
            "red\n",
            "blue\n",
            "green\n",
            "white\n"
          ],
          "name": "stdout"
        }
      ]
    },
    {
      "metadata": {
        "id": "5OHv0GtCiD58",
        "colab_type": "text"
      },
      "cell_type": "markdown",
      "source": [
        "###while loops"
      ]
    },
    {
      "metadata": {
        "id": "lT3-kUJsiD5_",
        "colab_type": "code",
        "outputId": "63fa17b9-31c9-44c0-a5e2-3e7e7b6debb6",
        "colab": {
          "base_uri": "https://localhost:8080/",
          "height": 104
        }
      },
      "cell_type": "code",
      "source": [
        "i = 1\n",
        "while i < 100:\n",
        "    print(i)\n",
        "    i += i**2\n",
        "print(i)"
      ],
      "execution_count": 0,
      "outputs": [
        {
          "output_type": "stream",
          "text": [
            "1\n",
            "2\n",
            "6\n",
            "42\n",
            "1806\n"
          ],
          "name": "stdout"
        }
      ]
    },
    {
      "metadata": {
        "id": "0Ju_MVeNiD6E",
        "colab_type": "text"
      },
      "cell_type": "markdown",
      "source": [
        "###Iterating over multiple lists: `zip`"
      ]
    },
    {
      "metadata": {
        "id": "t50_BeUNiD6F",
        "colab_type": "code",
        "outputId": "11b42316-b966-44b6-d53c-29d357dcd326",
        "colab": {
          "base_uri": "https://localhost:8080/",
          "height": 156
        }
      },
      "cell_type": "code",
      "source": [
        "print(U)\n",
        "R = range(len(U))\n",
        "print(R)\n",
        "print(zip(U, R))\n",
        "for color, number in zip(U, R):\n",
        "    print(color, \"at\", number)"
      ],
      "execution_count": 0,
      "outputs": [
        {
          "output_type": "stream",
          "text": [
            "['red', 'blue', 'green', 'black', 'white']\n",
            "range(0, 5)\n",
            "<zip object at 0x7f5b606c9d88>\n",
            "red at 0\n",
            "blue at 1\n",
            "green at 2\n",
            "black at 3\n",
            "white at 4\n"
          ],
          "name": "stdout"
        }
      ]
    },
    {
      "metadata": {
        "id": "0ukbwpc4iD6K",
        "colab_type": "text"
      },
      "cell_type": "markdown",
      "source": [
        "###Exercise:"
      ]
    },
    {
      "metadata": {
        "id": "dOKHGmoiiD6M",
        "colab_type": "text"
      },
      "cell_type": "markdown",
      "source": [
        "Write a function `letter_grade2` to take in a numerical score in percent and return letter grades according to the following rubric:\n",
        "\n",
        "letter grade | numerical score (%)\n",
        "-------------|----------------\n",
        "A| >=90\n",
        "B| >=80\n",
        "C| >=70\n",
        "D| >=60\n",
        "F| <60 \n",
        "\n",
        "* Use a loop and lists in the implementation. \n",
        "* Use range and a loop to test your function"
      ]
    },
    {
      "metadata": {
        "id": "oIfjuuh0iD6N",
        "colab_type": "code",
        "outputId": "753258b6-f2a0-41a8-f737-40038e2e1d1d",
        "colab": {
          "base_uri": "https://localhost:8080/",
          "height": 884
        }
      },
      "cell_type": "code",
      "source": [
        "def letter_grade2(score):\n",
        "    letter_grades = ['A', 'B', 'C', 'D']\n",
        "    thresholds = [90, 80, 70, 60]\n",
        "    lg = 'F'\n",
        "    for grade, thresh in zip(letter_grades, thresholds):\n",
        "        if score >= thresh:\n",
        "            return grade\n",
        "            \n",
        "    return lg\n",
        "\n",
        "for score in range(100,50,-1):\n",
        "    print(score, letter_grade2(score))"
      ],
      "execution_count": 0,
      "outputs": [
        {
          "output_type": "stream",
          "text": [
            "100 A\n",
            "99 A\n",
            "98 A\n",
            "97 A\n",
            "96 A\n",
            "95 A\n",
            "94 A\n",
            "93 A\n",
            "92 A\n",
            "91 A\n",
            "90 A\n",
            "89 B\n",
            "88 B\n",
            "87 B\n",
            "86 B\n",
            "85 B\n",
            "84 B\n",
            "83 B\n",
            "82 B\n",
            "81 B\n",
            "80 B\n",
            "79 C\n",
            "78 C\n",
            "77 C\n",
            "76 C\n",
            "75 C\n",
            "74 C\n",
            "73 C\n",
            "72 C\n",
            "71 C\n",
            "70 C\n",
            "69 D\n",
            "68 D\n",
            "67 D\n",
            "66 D\n",
            "65 D\n",
            "64 D\n",
            "63 D\n",
            "62 D\n",
            "61 D\n",
            "60 D\n",
            "59 F\n",
            "58 F\n",
            "57 F\n",
            "56 F\n",
            "55 F\n",
            "54 F\n",
            "53 F\n",
            "52 F\n",
            "51 F\n"
          ],
          "name": "stdout"
        }
      ]
    },
    {
      "metadata": {
        "id": "Pe2QeEHMiD6U",
        "colab_type": "text"
      },
      "cell_type": "markdown",
      "source": [
        "##Tuples"
      ]
    },
    {
      "metadata": {
        "id": "BFh_y7muiD6U",
        "colab_type": "text"
      },
      "cell_type": "markdown",
      "source": [
        "Taken at face value, tuples are rather similar to lists:"
      ]
    },
    {
      "metadata": {
        "id": "mbploMyeiD6V",
        "colab_type": "code",
        "outputId": "736a6d07-9ee5-46a8-ff69-d3f884b9864e",
        "colab": {
          "base_uri": "https://localhost:8080/",
          "height": 52
        }
      },
      "cell_type": "code",
      "source": [
        "T = (1, 2, 3, 4, 5)\n",
        "print(type(T))\n",
        "print(T[1:4:2])"
      ],
      "execution_count": 0,
      "outputs": [
        {
          "output_type": "stream",
          "text": [
            "<class 'tuple'>\n",
            "(2, 4)\n"
          ],
          "name": "stdout"
        }
      ]
    },
    {
      "metadata": {
        "id": "4Ja3TX78iD6Z",
        "colab_type": "text"
      },
      "cell_type": "markdown",
      "source": [
        "So, aside from the () vs [], how are they different? \n",
        "\n",
        "* They do not have the `append` and `pop` methods. That is you can't add elements to them, or change values in them. They are _immutable_.\n",
        "* They are meant to have a different use case:\n",
        " * In a list, generally, the elements are all the same sort of thing. (i.e., all positions x, or values f(x))\n",
        " * In a tuple, the meaning of each each element is determined by its position. The elements may have all the same type or different types.\n",
        "* They also have an \"unpacking\" semantic which is indicative of their typical use\n",
        " \n",
        "Example:"
      ]
    },
    {
      "metadata": {
        "id": "nHoHkc_-iD6a",
        "colab_type": "code",
        "outputId": "64464bca-5f84-42d6-e2bb-e574fd14c3c0",
        "colab": {
          "base_uri": "https://localhost:8080/",
          "height": 69
        }
      },
      "cell_type": "code",
      "source": [
        "date = (2018, 9, 7, 12, 0, 0, 'EDT')\n",
        "print(date)\n",
        "print(date[0])\n",
        "year, month, day, hour, minute, sec, tz = date\n",
        "print(year, tz)"
      ],
      "execution_count": 0,
      "outputs": [
        {
          "output_type": "stream",
          "text": [
            "(2018, 9, 7, 12, 0, 0, 'EDT')\n",
            "2018\n",
            "2018 EDT\n"
          ],
          "name": "stdout"
        }
      ]
    },
    {
      "metadata": {
        "id": "TiMqaAZoiD6e",
        "colab_type": "text"
      },
      "cell_type": "markdown",
      "source": [
        "##Dictionaries"
      ]
    },
    {
      "metadata": {
        "id": "metJ9dR88UQy",
        "colab_type": "text"
      },
      "cell_type": "markdown",
      "source": [
        ""
      ]
    },
    {
      "metadata": {
        "id": "sv3n0QXOiD6f",
        "colab_type": "text"
      },
      "cell_type": "markdown",
      "source": [
        "Dictionaries function as databases or lookup tables. They are collections whose elements are `key,value` pairs:"
      ]
    },
    {
      "metadata": {
        "id": "nAE24_JWiD6g",
        "colab_type": "code",
        "outputId": "6803d94e-c0cb-49d1-cf2a-0481b1c50f36",
        "colab": {
          "base_uri": "https://localhost:8080/",
          "height": 51
        }
      },
      "cell_type": "code",
      "source": [
        "L = { \"red\" : 0, \"blue\" : 1}\n",
        "print(L)\n",
        "print(type(L))"
      ],
      "execution_count": 0,
      "outputs": [
        {
          "output_type": "stream",
          "text": [
            "{'red': 0, 'blue': 1}\n",
            "<class 'dict'>\n"
          ],
          "name": "stdout"
        }
      ]
    },
    {
      "metadata": {
        "id": "bwZiG0hN8AP1",
        "colab_type": "code",
        "outputId": "26879b3b-6622-43ef-d304-044f2d0a7e3d",
        "colab": {
          "base_uri": "https://localhost:8080/",
          "height": 34
        }
      },
      "cell_type": "code",
      "source": [
        "L[\"color\"]"
      ],
      "execution_count": 0,
      "outputs": [
        {
          "output_type": "execute_result",
          "data": {
            "text/plain": [
              "1"
            ]
          },
          "metadata": {
            "tags": []
          },
          "execution_count": 33
        }
      ]
    },
    {
      "metadata": {
        "id": "05-jLyoxiD6i",
        "colab_type": "text"
      },
      "cell_type": "markdown",
      "source": [
        "You can add and remove elements from dictionaries. Like lists, they are _mutable_:"
      ]
    },
    {
      "metadata": {
        "id": "HeAI2UyoiD6j",
        "colab_type": "code",
        "colab": {}
      },
      "cell_type": "code",
      "source": [
        ""
      ],
      "execution_count": 0,
      "outputs": []
    },
    {
      "metadata": {
        "id": "rFWTjxhbiD6l",
        "colab_type": "text"
      },
      "cell_type": "markdown",
      "source": [
        "Dictionaries are indexed by their keys, and are not ordered, so slicing doesn't work.\n",
        "\n",
        "You can loop over a dictionary like so:"
      ]
    },
    {
      "metadata": {
        "id": "0ZHddCrciD6l",
        "colab_type": "code",
        "colab": {}
      },
      "cell_type": "code",
      "source": [
        ""
      ],
      "execution_count": 0,
      "outputs": []
    },
    {
      "metadata": {
        "id": "ZjcVq_2ViD6o",
        "colab_type": "text"
      },
      "cell_type": "markdown",
      "source": [
        "##More on functions"
      ]
    },
    {
      "metadata": {
        "id": "va_8t2p1iD6o",
        "colab_type": "text"
      },
      "cell_type": "markdown",
      "source": [
        "###Multiple return values"
      ]
    },
    {
      "metadata": {
        "id": "stvglbMbiD6o",
        "colab_type": "text"
      },
      "cell_type": "markdown",
      "source": [
        "Functions can return multiple arguments, in a tuple:"
      ]
    },
    {
      "metadata": {
        "id": "IK1tdaQjiD6p",
        "colab_type": "code",
        "colab": {}
      },
      "cell_type": "code",
      "source": [
        ""
      ],
      "execution_count": 0,
      "outputs": []
    },
    {
      "metadata": {
        "id": "3h-os3SliD6r",
        "colab_type": "text"
      },
      "cell_type": "markdown",
      "source": [
        "###Default arguments"
      ]
    },
    {
      "metadata": {
        "id": "gMTCH1fhiD6s",
        "colab_type": "text"
      },
      "cell_type": "markdown",
      "source": [
        "We can specify the default values for function arguments:"
      ]
    },
    {
      "metadata": {
        "id": "ORu-fgw1iD6s",
        "colab_type": "code",
        "colab": {}
      },
      "cell_type": "code",
      "source": [
        ""
      ],
      "execution_count": 0,
      "outputs": []
    },
    {
      "metadata": {
        "id": "prc9LqSxiD6v",
        "colab_type": "text"
      },
      "cell_type": "markdown",
      "source": [
        "Then we call the function with _positional arguments_, in which the variables used inside the function `x,y,z` are assigned to the arguments based on the position."
      ]
    },
    {
      "metadata": {
        "id": "jgSOGYw3iD6w",
        "colab_type": "code",
        "colab": {}
      },
      "cell_type": "code",
      "source": [
        ""
      ],
      "execution_count": 0,
      "outputs": []
    },
    {
      "metadata": {
        "id": "vRik_g4miD6x",
        "colab_type": "text"
      },
      "cell_type": "markdown",
      "source": [
        "We can also specify _keyword arguments_, making explicit which variable in the function is to be associated with which argument:"
      ]
    },
    {
      "metadata": {
        "id": "F9o55vE2iD6z",
        "colab_type": "code",
        "colab": {}
      },
      "cell_type": "code",
      "source": [
        ""
      ],
      "execution_count": 0,
      "outputs": []
    },
    {
      "metadata": {
        "id": "FZpVQLOKiD61",
        "colab_type": "text"
      },
      "cell_type": "markdown",
      "source": [
        "The order doesn't matter so long as you either use all keyword arguments or specify any positional arguments first:"
      ]
    },
    {
      "metadata": {
        "id": "YenBjDwFiD62",
        "colab_type": "code",
        "colab": {}
      },
      "cell_type": "code",
      "source": [
        ""
      ],
      "execution_count": 0,
      "outputs": []
    },
    {
      "metadata": {
        "id": "b7_YkDxyiD64",
        "colab_type": "text"
      },
      "cell_type": "markdown",
      "source": [
        "But, you can't use a keyword argument followed by a positional argument:"
      ]
    },
    {
      "metadata": {
        "id": "1KM9wAtWiD65",
        "colab_type": "code",
        "colab": {}
      },
      "cell_type": "code",
      "source": [
        ""
      ],
      "execution_count": 0,
      "outputs": []
    },
    {
      "metadata": {
        "id": "HQDBtguHiD68",
        "colab_type": "text"
      },
      "cell_type": "markdown",
      "source": [
        "###Formal and informal arguments"
      ]
    },
    {
      "metadata": {
        "id": "AlFWaOc1iD68",
        "colab_type": "text"
      },
      "cell_type": "markdown",
      "source": [
        "Python functions actually take two types of arguments:\n",
        "* **Formal arguments** are a those that explicitly appear in the function definition.\n",
        "* **Informal arguments** are any extra arguments passed into the function by the caller.\n",
        " * ** \\*foo ** in the function indicates it accepts informal positional arguments\n",
        " * ** \\*\\*bar ** in the function indicates it accepts informal keyword arguments\n",
        " * By tradition we use \\*args and \\*\\*kwargs"
      ]
    },
    {
      "metadata": {
        "id": "Eft24eRGiD69",
        "colab_type": "code",
        "colab": {}
      },
      "cell_type": "code",
      "source": [
        "def fvar(x,y,z=1,*args,**kwargs):\n",
        "    print \"Formal arguments:\",\"x=\",x,\"  y=\",y,\"  z=\",z\n",
        "    print \"Informal positional arguments (*args):\",args\n",
        "    print \"Informal keyword arguments (**kwargs):\",kwargs\n",
        "    "
      ],
      "execution_count": 0,
      "outputs": []
    },
    {
      "metadata": {
        "id": "AWzaotXiiD7B",
        "colab_type": "code",
        "colab": {}
      },
      "cell_type": "code",
      "source": [
        ""
      ],
      "execution_count": 0,
      "outputs": []
    },
    {
      "metadata": {
        "id": "dsJDZ4JFiD7G",
        "colab_type": "text"
      },
      "cell_type": "markdown",
      "source": [
        "Now we can specify additional _informal_ positional arguments. The function requires 3 _formal_ arguments. Let's add 2 more positional arguments:"
      ]
    },
    {
      "metadata": {
        "id": "8f1-7Q9ziD7G",
        "colab_type": "code",
        "colab": {}
      },
      "cell_type": "code",
      "source": [
        ""
      ],
      "execution_count": 0,
      "outputs": []
    },
    {
      "metadata": {
        "id": "5KlxFoG1iD7K",
        "colab_type": "text"
      },
      "cell_type": "markdown",
      "source": [
        "Now, let's specify some of the formal arguments with keyword notation and add an additional informal keyword argument `J`:"
      ]
    },
    {
      "metadata": {
        "id": "s1-FT2lYiD7L",
        "colab_type": "code",
        "colab": {}
      },
      "cell_type": "code",
      "source": [
        ""
      ],
      "execution_count": 0,
      "outputs": []
    },
    {
      "metadata": {
        "id": "fS3DiXT9iD7M",
        "colab_type": "text"
      },
      "cell_type": "markdown",
      "source": [
        "Note: Specifying formal arguments with keyword notation does not make them informal keyword arguments."
      ]
    },
    {
      "metadata": {
        "id": "chs_3MUAiD7N",
        "colab_type": "text"
      },
      "cell_type": "markdown",
      "source": [
        "###Arggg! Why are you killing me with all this arg stuff?!"
      ]
    },
    {
      "metadata": {
        "id": "-JiuQNt3iD7N",
        "colab_type": "text"
      },
      "cell_type": "markdown",
      "source": [
        "The `matplotlib` functions make extensive use of \\*args and \\*\\*kwargs:"
      ]
    },
    {
      "metadata": {
        "id": "bvCDfObpiD7O",
        "colab_type": "code",
        "colab": {}
      },
      "cell_type": "code",
      "source": [
        ""
      ],
      "execution_count": 0,
      "outputs": []
    },
    {
      "metadata": {
        "id": "RuPeJ2AgiD7Q",
        "colab_type": "code",
        "colab": {}
      },
      "cell_type": "code",
      "source": [
        ""
      ],
      "execution_count": 0,
      "outputs": []
    },
    {
      "metadata": {
        "id": "JE7iAvcqiD7U",
        "colab_type": "text"
      },
      "cell_type": "markdown",
      "source": [
        "###Lambda functions"
      ]
    },
    {
      "metadata": {
        "id": "VHh2exFeiD7V",
        "colab_type": "text"
      },
      "cell_type": "markdown",
      "source": [
        "Lambda functions are short, single expression functions, refered to with a variable. They are _syntactic sugar_ and could always be replaced with regular functions."
      ]
    },
    {
      "metadata": {
        "id": "DNvK1NAriD7W",
        "colab_type": "code",
        "colab": {}
      },
      "cell_type": "code",
      "source": [
        ""
      ],
      "execution_count": 0,
      "outputs": []
    },
    {
      "metadata": {
        "id": "WvLQEwP7iD7c",
        "colab_type": "text"
      },
      "cell_type": "markdown",
      "source": [
        "##Bits and Bytes"
      ]
    },
    {
      "metadata": {
        "id": "UrwVhkV3iD7g",
        "colab_type": "text"
      },
      "cell_type": "markdown",
      "source": [
        "Before moving on let's talk about how integers are represented in decimal, binary and hex. \n",
        "\n",
        "* A `bit` = \"binary digit\" = 0 or 1. True or False.\n",
        "* A `byte` = 8 bits. Has $2^8$ = 256 possible values\n",
        "  * Written, in binary format as, e.g 0b00100110\n",
        "\n",
        "prefix|bit8|bit7|bit6|bit5|bit4|bit3|bit2|bit1|\n",
        "-------------------|--------------------\n",
        " 0b| 128 | 64 |32 |16|8|4|2|1\n",
        "  \n",
        "  * Hexadecimal (base 16) format. Made of two 4 bit \"nibbles\" which are denoted by the numbers 0-9, and the letters A=10, B=11, C=12, D=14, E=14,F=15 \n",
        "\n",
        "prefix|nibble 2 | nibble 1\n",
        "---------|---------\n",
        "0x | 16  | 1\n",
        "\n",
        "  * Written as 0x##\n",
        "  * So 0x10 = 16 in decimal. 0x21 = 37, etc\n",
        "  \n",
        "* An `int` = 4 bytes on a 32 bit system, 8 bytes on a 64 bit system \n",
        "* A `float` = at least 8 bytes\n",
        "\n",
        "### Exercise: print binary and hex as decimal\n",
        "\n",
        "Start by doing `help(int)`. There is a way to feed a character string such as '0b00100110' in to make an `int`. Figure out how to use that feature, make an integer variable and use `print` to print it (by default in decimal)."
      ]
    },
    {
      "metadata": {
        "id": "-y2Yk20ziD7h",
        "colab_type": "code",
        "colab": {}
      },
      "cell_type": "code",
      "source": [
        "help(int)"
      ],
      "execution_count": 0,
      "outputs": []
    },
    {
      "metadata": {
        "id": "R1aX4xBpiD7m",
        "colab_type": "code",
        "colab": {}
      },
      "cell_type": "code",
      "source": [
        ""
      ],
      "execution_count": 0,
      "outputs": []
    }
  ]
}