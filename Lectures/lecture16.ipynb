{
  "nbformat": 4,
  "nbformat_minor": 0,
  "metadata": {
    "colab": {
      "name": "lecture16.ipynb",
      "version": "0.3.2",
      "provenance": [],
      "collapsed_sections": [],
      "include_colab_link": true
    },
    "kernelspec": {
      "name": "python3",
      "display_name": "Python 3"
    }
  },
  "cells": [
    {
      "cell_type": "markdown",
      "metadata": {
        "id": "view-in-github",
        "colab_type": "text"
      },
      "source": [
        "<a href=\"https://colab.research.google.com/github/wdconinc/practical-computing-for-scientists/blob/master/Lectures/lecture16.ipynb\" target=\"_parent\"><img src=\"https://colab.research.google.com/assets/colab-badge.svg\" alt=\"Open In Colab\"/></a>"
      ]
    },
    {
      "metadata": {
        "id": "S1BIbf_m6xBV",
        "colab_type": "text"
      },
      "cell_type": "markdown",
      "source": [
        "# Lecture #16"
      ]
    },
    {
      "metadata": {
        "id": "TnhzQ0p56xBY",
        "colab_type": "code",
        "colab": {}
      },
      "cell_type": "code",
      "source": [
        "%matplotlib inline\n",
        "import numpy as np\n",
        "import scipy as sp\n",
        "import matplotlib.pyplot as plt\n",
        "import math\n",
        "import numpy.matlib as ml"
      ],
      "execution_count": 0,
      "outputs": []
    },
    {
      "metadata": {
        "id": "dCpjzOqt6xBb",
        "colab_type": "text"
      },
      "cell_type": "markdown",
      "source": [
        "##In our last episode"
      ]
    },
    {
      "metadata": {
        "id": "t-meDKNO6xBc",
        "colab_type": "text"
      },
      "cell_type": "markdown",
      "source": [
        "* Newton's method in multiple dimensions\n",
        "  * Strengths of Newton's method (quick convergence when close to minimum)\n",
        "  * Weakness of Newton's method (may fly out of control if not close)\n",
        "* Brief comments on Levenberg-Marquardt\n",
        "* Other quasi-Newton methods: \n",
        "  * Use $\\mathbb{A}$ in place of $\\mathbb{H}^{-1}$\n",
        "  * Start with $\\mathbb{A}=\\mathbb{I}$ to head \"downhill\"\n",
        "  * Iteratively update $\\mathbb{A}$ to estimate $\\mathbb{H}^{-1}$\n",
        "  * BFGS = popular updating scheme. Available in `scipy.optimize.minimize`"
      ]
    },
    {
      "metadata": {
        "id": "LoWQGgp0ffWO",
        "colab_type": "text"
      },
      "cell_type": "markdown",
      "source": [
        "# Numerical Integration"
      ]
    },
    {
      "metadata": {
        "id": "qI9ewkC06xBd",
        "colab_type": "text"
      },
      "cell_type": "markdown",
      "source": [
        "## Trapezoid Rule"
      ]
    },
    {
      "metadata": {
        "id": "s8ZclQ3Q6xBe",
        "colab_type": "text"
      },
      "cell_type": "markdown",
      "source": [
        "The trapezoid rule reads $\\int_a^b f(x) dx \\approx h(\\frac{1}{2}f(a)+ \\frac{1}{2}f(b))$ where $h=b-a$ is the length of the interval. Its name comes from the shape of the area being summed up.\n",
        "\n",
        "<img src=\"https://upload.wikimedia.org/wikipedia/commons/4/40/Trapezoidal_rule_illustration.svg\" width=\"200\">\n",
        "\n",
        "Unfortunately, it should be clear that evaluating at only two points will not be sufficient."
      ]
    },
    {
      "metadata": {
        "id": "ej9jHBpd6xBf",
        "colab_type": "text"
      },
      "cell_type": "markdown",
      "source": [
        "##Extended Trapezoid Rule"
      ]
    },
    {
      "metadata": {
        "id": "ANFUoowE6xBg",
        "colab_type": "text"
      },
      "cell_type": "markdown",
      "source": [
        "The extended trapezoid rule just divides the interval $[a,b]$ into N sub-intervals and then employs the trapezoid rule in each:\n",
        "\n",
        "$$ \\int_a^b f(x) dx \\approx h \\left[ \\frac{1}{2}f(x_0)+ f(x_1) + f(x_2) + \\ldots + f(x_{N-1}) + \\frac{1}{2}f(x_{N}) \\right ] $$\n",
        "\n",
        "Where $h = (b-a)/N$ is the length of each sub-interval, $x_0 = a$, and $x_N = b$.\n",
        "\n",
        "<img src=\"https://upload.wikimedia.org/wikipedia/commons/4/40/Trapezoidal_rule_illustration.svg\" width=\"100\"><img src=\"https://upload.wikimedia.org/wikipedia/commons/4/40/Trapezoidal_rule_illustration.svg\" width=\"100\"><img src=\"https://upload.wikimedia.org/wikipedia/commons/4/40/Trapezoidal_rule_illustration.svg\" width=\"100\"><img src=\"https://upload.wikimedia.org/wikipedia/commons/4/40/Trapezoidal_rule_illustration.svg\" width=\"100\"><img src=\"https://upload.wikimedia.org/wikipedia/commons/4/40/Trapezoidal_rule_illustration.svg\" width=\"100\">\n",
        "\n",
        "\n",
        "<img src=\"https://upload.wikimedia.org/wikipedia/commons/2/26/Integration_rectangle.svg\" width=\"500\">\n"
      ]
    },
    {
      "metadata": {
        "id": "4E-tVAPy6xBi",
        "colab_type": "text"
      },
      "cell_type": "markdown",
      "source": [
        "##Quadrature"
      ]
    },
    {
      "metadata": {
        "id": "3Xhhq5dD6xBj",
        "colab_type": "text"
      },
      "cell_type": "markdown",
      "source": [
        "_Quadrature_, in the general sense, just refers to any scheme for figuring out the area of a region. In our class, we are referring more specifically to an algorithm which divides the interval $[a,b]$ into equal length subintervals, computes the area, and iterates, continuing to subdivide until a convergence criterion is reached.\n",
        "\n"
      ]
    },
    {
      "metadata": {
        "id": "37KxKLfJ6xBl",
        "colab_type": "text"
      },
      "cell_type": "markdown",
      "source": [
        "###The `quad` algorithm"
      ]
    },
    {
      "metadata": {
        "id": "CZJcGxGC6xBm",
        "colab_type": "text"
      },
      "cell_type": "markdown",
      "source": [
        "The figure below shows a function $f(x)$ on the interval $[a,b]$. We'll describe the first four stages of a quadrature algorithm that uses the extended trapezoid rule iteratively. We'll see how we can carefully reuse the computations of previous stages, so as to do as little work as possible. Then, we'll generalize what we've learned into an algorithm that will work for $N$ stages and establish some convergence criteria that will terminate the algorithm and return the estimated integral."
      ]
    },
    {
      "metadata": {
        "id": "lfi756Qs6xBs",
        "colab_type": "text"
      },
      "cell_type": "markdown",
      "source": [
        "We'll write the estimate of the integral at each stage as $I_i$.\n",
        "\n",
        "__Stage 1__\n",
        "\n",
        "$I_1 = h_1 \\left [ \\frac{1}{2} f_0 + \\frac{1}{2} f_8 \\right] $  with $f_i = f(x_i)$ and $h_1=(b-a)$\n",
        "\n",
        "__Stage 2__\n",
        "\n",
        "$I_2 = h_2 \\left [\\frac{1}{2} f_0 + f_4 + \\frac{1}{2} f_8 \\right] $ with $h_2=(b-a)/2$\n",
        "\n",
        "We can rearrange terms to show that $I_2 = \\frac{1}{2} I_1 + h_2 f_4$, and therefore we only need to evaluate the function at $x_4$. This would be important if our function was expensive to evaluate and/or we were integrating a large number of functions as quickly as possible.\n",
        "\n",
        "__Stage 3__\n",
        "\n",
        "$I_3 = h_3 \\left [  \\frac{1}{2} f_0 + f_2 + f_4 + f_6 + \\frac{1}{2} f_8 \\right]$ with $h_3=(b-a)/4 = (b-a)/2^{3-1}$\n",
        "\n",
        "We can rearrange terms to show that $I_3 = \\frac{1}{2} I_2 + h_3 \\left[f_2 + f_6 \\right]$ and we again reuse the results of the previous stage.\n",
        "\n",
        "__Stage 4__\n",
        "\n",
        "$I_4 = h_4 \\left [  \\frac{1}{2} f_0 + f_1 + f_2 + f_3 + f_4 + f_5 + f_6 + f_7 + \\frac{1}{2} f_8 \\right]$ with $h_4=(b-a)/8 = (b-a)/2^{4-1}$\n",
        "\n",
        "Again, rearranging terms shows $I_4 = \\frac{1}{2} I_3 + h_4 \\left [ f_1 + f_3 + f_5 + f_7 \\right]$\n",
        "\n",
        "\n",
        "__Generalizing__\n",
        "\n",
        "1. We start at stage $n = 1$ with: $I_1 = (b-a) \\left[ \\frac{1}{2} f_a + \\frac{1}{2} f_b \\right] $\n",
        "\n",
        "2. At each stage $n > 1$ we divide the interval into sub-intervals of length $h_n = (b-a)/2^{n-1}$.\n",
        "\n",
        "3. We add $2^{n-2}$ new points starting with a point at $x_0 + h_n/2$ and then continuing in steps of $h_n$. \n",
        "\n",
        "4. We evaluate the function at the new points and sum.\n",
        "\n",
        "5. The new estimate of the integral is $I_n = \\frac{1}{2} I_{n-1} + h_n \\left [ \\mbox{sum of new} ~f_i \\right]$\n",
        "\n",
        "6. We compare $|I_n - I_{n-1}|$ to $I_{n-1}$ multiplied by some fractional accuraccy and quit when the difference is small enough. We also compare $|I_n|$ and $|I_{n-1}|$ to an absolute accuracy and quit when they are smaller. The last step is needed for integrals that evaluate to zero or a value close to zero."
      ]
    },
    {
      "metadata": {
        "id": "mvsxumkf6xBu",
        "colab_type": "code",
        "colab": {}
      },
      "cell_type": "code",
      "source": [
        "def quad(f, a, b, facc = 1e-6, abacc = 1e-10, nmax = 25, debug = False):\n",
        "    ''' integrate f(x) on the interval [a,b]\n",
        "    \n",
        "        iterate until the fractional difference between succesive calls is\n",
        "        less than facc or the absolute difference < abacc\n",
        "        or until nmax iterations\n",
        "    '''\n",
        "    # stage 1\n",
        "    h = (b - a)\n",
        "    Iold = 0.5*(f(b) + f(a))\n",
        "    for nstage in range(2, nmax+1):\n",
        "        if debug: print(\"nstage=\", nstage)\n",
        "        h = (b - a) / 2**(nstage-1)\n",
        "        xnew = a + h # first new point\n",
        "        Iupdate = f(xnew)\n",
        "        for inew in range(1, 2**(nstage-2)): # adding additional new points\n",
        "            xnew += 2*h\n",
        "            Iupdate += f(xnew)\n",
        "        Iupdate *= h\n",
        "        Inew = 0.5*Iold + Iupdate # new value of the integral\n",
        "        if debug: print(Iold, Iupdate, Inew, Iold - Inew, facc * math.fabs(Iold))\n",
        "        # now check for convergence\n",
        "\n",
        "        if math.fabs(Inew - Iold) < facc * math.fabs(Iold) \\\n",
        "        or (math.fabs(Inew) < abacc and math.fabs(Iold) < abacc):\n",
        "            return Inew, nstage\n",
        "        Iold = Inew\n",
        "        "
      ],
      "execution_count": 0,
      "outputs": []
    },
    {
      "metadata": {
        "id": "PZtZdndrmX3e",
        "colab_type": "text"
      },
      "cell_type": "markdown",
      "source": [
        "### Example: $f_1(x) = e^{-x}$\n",
        "\n",
        "$$ \\int_0^1 f_1(x) dx = \\int_0^1 e^{-x} dx = -e^{-x} \\big|_0^1 = -e^{-1} + 1 $$"
      ]
    },
    {
      "metadata": {
        "id": "fsGuWMR-6xBx",
        "colab_type": "code",
        "outputId": "37c12953-f2a6-48af-e5aa-276353c2fe04",
        "colab": {
          "base_uri": "https://localhost:8080/",
          "height": 299
        }
      },
      "cell_type": "code",
      "source": [
        "f1 = lambda x: np.exp(-x)\n",
        "I, n = quad(f1, 0, 1)\n",
        "\n",
        "x = np.linspace(0, 1, 2**n)\n",
        "plt.plot(x, f1(x), 'ok')\n",
        "print(\"Calculated result =\", I, \"in n =\", n)\n",
        "print(\"Correct result =\", 1 - math.e**(-1))"
      ],
      "execution_count": 0,
      "outputs": [
        {
          "output_type": "stream",
          "text": [
            "Calculated result = 0.6321207597742593 in n = 10\n",
            "Correct result = 0.6321205588285577\n"
          ],
          "name": "stdout"
        },
        {
          "output_type": "display_data",
          "data": {
            "image/png": "[encoded data removed]",
            "text/plain": [
              "<matplotlib.figure.Figure at 0x7fba9560d240>"
            ]
          },
          "metadata": {
            "tags": []
          }
        }
      ]
    },
    {
      "metadata": {
        "id": "MpI6BXgcm9QC",
        "colab_type": "text"
      },
      "cell_type": "markdown",
      "source": [
        "### Example:  $f_2(x) = \\sin\\pi x$\n",
        "\n",
        "$$ \\int_0^1 f_2(x) dx = \\int_0^1 \\sin \\pi x dx = -\\frac{1}{\\pi} \\cos \\pi x \\big|_0^1 = \\frac{2}{\\pi} $$"
      ]
    },
    {
      "metadata": {
        "id": "icLAdvZT6xB2",
        "colab_type": "code",
        "outputId": "a7342d2e-18d5-4fcd-e6f5-b5ca291dd922",
        "colab": {
          "base_uri": "https://localhost:8080/",
          "height": 299
        }
      },
      "cell_type": "code",
      "source": [
        "f2 = lambda x : np.sin(math.pi*x)\n",
        "I, n = quad(f2, 0, 1)\n",
        "\n",
        "x = np.linspace(0, 1, 2**n)\n",
        "plt.plot(x, f2(x), 'ok')\n",
        "print(\"Calculated result =\", I, \"in n =\", n)\n",
        "print(\"Correct result =\", 1/math.pi * (np.cos(0) - np.cos(math.pi)))"
      ],
      "execution_count": 0,
      "outputs": [
        {
          "output_type": "stream",
          "text": [
            "Calculated result = 0.6366196475318998 in n = 12\n",
            "Correct result = 0.6366197723675814\n"
          ],
          "name": "stdout"
        },
        {
          "output_type": "display_data",
          "data": {
            "image/png": "[encoded data removed]",
            "text/plain": [
              "<matplotlib.figure.Figure at 0x7fbab708b4e0>"
            ]
          },
          "metadata": {
            "tags": []
          }
        }
      ]
    },
    {
      "metadata": {
        "id": "zQ-qlPiDYHdB",
        "colab_type": "text"
      },
      "cell_type": "markdown",
      "source": [
        "### Example: heat capacity\n",
        "\n",
        "$$ C_V = 9 N k \\, g(u) $$\n",
        "where\n",
        "$$ g(u) = u^3 \\int_0^{1/u} \\frac{x^4 e^x}{(e^x - 1)^2} dx $$\n",
        "and $N$ the number of particles in the solid, $k = 1.38 \\times 10^{-23}\\,$J/K the Boltzman constant, $u = T/T_D$, $T$ the absolute temperature, and $T_D$ the Debye temperature. E.g. $T_D(\\mbox{Cu}) = 343$ K\n",
        "\n",
        "Plot the heat capacity as a function of temperature.\n",
        "\n",
        "<img src=\"https://upload.wikimedia.org/wikipedia/commons/5/54/DebyeVSEinstein.jpg\" width=\"500\">"
      ]
    },
    {
      "metadata": {
        "id": "RRXrBg7-hFiv",
        "colab_type": "code",
        "outputId": "6b605ebd-4498-439f-876e-42f4cc227f32",
        "colab": {
          "base_uri": "https://localhost:8080/",
          "height": 214
        }
      },
      "cell_type": "code",
      "source": [
        "integrand = lambda x: x**4 * np.exp(x) / (np.exp(x) - 1)**2\n",
        "\n",
        "def CV(ulist, xmin = 1e-6):\n",
        "  return [3 * u**3 * quad(integrand, xmin, 1.0 / u)[0] for u in ulist]\n",
        "\n",
        "u = np.linspace(0.1, 1.5, 14)\n",
        "plt.plot(u, CV(u))"
      ],
      "execution_count": 0,
      "outputs": [
        {
          "output_type": "error",
          "ename": "NameError",
          "evalue": "ignored",
          "traceback": [
            "\u001b[0;31m---------------------------------------------------------------------------\u001b[0m",
            "\u001b[0;31mNameError\u001b[0m                                 Traceback (most recent call last)",
            "\u001b[0;32m<ipython-input-1-ec952fd937c1>\u001b[0m in \u001b[0;36m<module>\u001b[0;34m()\u001b[0m\n\u001b[1;32m      4\u001b[0m   \u001b[0;32mreturn\u001b[0m \u001b[0;34m[\u001b[0m\u001b[0;36m3\u001b[0m \u001b[0;34m*\u001b[0m \u001b[0mu\u001b[0m\u001b[0;34m**\u001b[0m\u001b[0;36m3\u001b[0m \u001b[0;34m*\u001b[0m \u001b[0mquad\u001b[0m\u001b[0;34m(\u001b[0m\u001b[0mintegrand\u001b[0m\u001b[0;34m,\u001b[0m \u001b[0mxmin\u001b[0m\u001b[0;34m,\u001b[0m \u001b[0;36m1.0\u001b[0m \u001b[0;34m/\u001b[0m \u001b[0mu\u001b[0m\u001b[0;34m)\u001b[0m\u001b[0;34m[\u001b[0m\u001b[0;36m0\u001b[0m\u001b[0;34m]\u001b[0m \u001b[0;32mfor\u001b[0m \u001b[0mu\u001b[0m \u001b[0;32min\u001b[0m \u001b[0mulist\u001b[0m\u001b[0;34m]\u001b[0m\u001b[0;34m\u001b[0m\u001b[0m\n\u001b[1;32m      5\u001b[0m \u001b[0;34m\u001b[0m\u001b[0m\n\u001b[0;32m----> 6\u001b[0;31m \u001b[0mu\u001b[0m \u001b[0;34m=\u001b[0m \u001b[0mnp\u001b[0m\u001b[0;34m.\u001b[0m\u001b[0mlinspace\u001b[0m\u001b[0;34m(\u001b[0m\u001b[0;36m0.1\u001b[0m\u001b[0;34m,\u001b[0m \u001b[0;36m1.5\u001b[0m\u001b[0;34m,\u001b[0m \u001b[0;36m14\u001b[0m\u001b[0;34m)\u001b[0m\u001b[0;34m\u001b[0m\u001b[0m\n\u001b[0m\u001b[1;32m      7\u001b[0m \u001b[0mplt\u001b[0m\u001b[0;34m.\u001b[0m\u001b[0mplot\u001b[0m\u001b[0;34m(\u001b[0m\u001b[0mu\u001b[0m\u001b[0;34m,\u001b[0m \u001b[0mintegrand\u001b[0m\u001b[0;34m(\u001b[0m\u001b[0mu\u001b[0m\u001b[0;34m)\u001b[0m\u001b[0;34m)\u001b[0m\u001b[0;34m\u001b[0m\u001b[0m\n",
            "\u001b[0;31mNameError\u001b[0m: name 'np' is not defined"
          ]
        }
      ]
    },
    {
      "metadata": {
        "id": "noOhBJYb6xB6",
        "colab_type": "text"
      },
      "cell_type": "markdown",
      "source": [
        "##Using scipy's routine"
      ]
    },
    {
      "metadata": {
        "id": "2X9-lIso6xB6",
        "colab_type": "code",
        "colab": {}
      },
      "cell_type": "code",
      "source": [
        "import scipy.integrate as ig"
      ],
      "execution_count": 0,
      "outputs": []
    },
    {
      "metadata": {
        "id": "gyRDzXH96xB_",
        "colab_type": "code",
        "outputId": "03b0c94b-a64f-4136-d7cc-156362e041e1",
        "colab": {
          "base_uri": "https://localhost:8080/",
          "height": 34
        }
      },
      "cell_type": "code",
      "source": [
        "ig.quad(f1, 0, 1, full_output = False)"
      ],
      "execution_count": 0,
      "outputs": [
        {
          "output_type": "execute_result",
          "data": {
            "text/plain": [
              "(0.6321205588285578, 7.017947987503856e-15)"
            ]
          },
          "metadata": {
            "tags": []
          },
          "execution_count": 23
        }
      ]
    },
    {
      "metadata": {
        "id": "K9NMTuej6xCE",
        "colab_type": "text"
      },
      "cell_type": "markdown",
      "source": [
        "##One weird trick to improve `quad`"
      ]
    },
    {
      "metadata": {
        "id": "-Rk_pV6W6xCE",
        "colab_type": "text"
      },
      "cell_type": "markdown",
      "source": [
        "At each stage of the `quad` routine we are computing the integral via extended quadrature:\n",
        "\n",
        "$$ \\int_a^b f(x) dx \\approx h_N \\left[ \\frac{1}{2}f(x_0)+ f(x_1) + f(x_2) + \\ldots + f(x_{N-1}) + \\frac{1}{2}f(x_{N}) \\right ] $$\n",
        "\n",
        "It turns out, mathematicians have proven that:\n",
        "\n",
        "$$ \\int_a^b f(x) dx = h_N \\left[ \\frac{1}{2}f(x_0)+ f(x_1) + f(x_2) + \\ldots + f(x_{N-1}) + \\frac{1}{2}f(x_{N}) \\right]  - \\frac{B_2 h_N^2}{2!} (f'(b) - f'(a)) + \\mbox{higher order terms in}~h_N $$\n",
        "\n",
        "\n",
        "With the _Bernoulli number_ $B_2=\\frac{1}{6}$. This is the _Euler-Maclaurin summation formula_.\n",
        "\n",
        "Now, imagine we compute \n",
        "\n",
        "$$I_N = h_N \\left[ \\frac{1}{2}f(x_0)+ f(x_1) + f(x_2) + \\ldots + f(x_{N-1}) + \\frac{1}{2}f(x_{N}) \\right] = \\int_a^b f(x) dx + \\frac{B_2 h_N^2}{2!} (f'(b) - f'(a)]+ \\mbox{h.o.t.} $$\n",
        "\n",
        "The first equality is due to our definition of $I_N$. The second is due to the Euler-Maclaurin formula.\n",
        "\n",
        "Then, we compute $I_{N+1}$\n",
        "\n",
        "$$I_{N+1} = h_N \\left[ \\frac{1}{2}f(x_0)+ f(x_1) + f(x_2) + \\ldots + f(x_{N}) + \\frac{1}{2}f(x_{N+1}) \\right] = \\int_a^b f(x) dx + \\frac{B_2 h_{N+1}^2}{2!} (f'(b) - f'(a)) + \\mbox{h.o.t.} $$\n",
        "\n",
        "But, $h_{N+1} = h_N/2$ so\n",
        "\n",
        "$$I_{N+1} = \\int_a^b f(x) dx + \\frac{1}{4}\\frac{B_2 h_{N}^2}{2!} (f'(b) - f'(a)) + \\mbox{h.o.t.}$$\n",
        "\n",
        "Therefore, if we can form a better estimate for the integral:\n",
        "\n",
        "$$I = \\frac{1}{3} \\left[ 4I_{N+1} - I_N \\right] = \\int_a^b f(x) dx + \\mbox{h.o.t.}$$\n",
        "\n",
        "This cancels out the effect of the first order correction in the Euler-Maclaurin summation formula and it's 100% free since at stage $N+1$ we've already computed $I_N$ and $I_{N+1}$.  This simple correction can result in 1-2 orders of magnitude fewer function calls when evaluating an integral. \n",
        "\n",
        "Note: at stage N the number of function calls is $1+2^{N-1}$. For example, with this trick, we go from needing 10 stages needed to evaluate `f1` (513 points) to 6 stages (37). Pretty impressive!"
      ]
    },
    {
      "metadata": {
        "id": "cKWAm4Ng6xCF",
        "colab_type": "code",
        "colab": {}
      },
      "cell_type": "code",
      "source": [
        "def quad2(f, a, b, facc = 1e-6, abacc = 1e-10, nmax = 24):\n",
        "    ''' integrate the function f(x) on the interval [a,b]\n",
        "    \n",
        "        iterate until the fractional difference between successive calls is\n",
        "        less than facc, the absolute difference is less than abacc\n",
        "        or until nmax iterations have been reached.\n",
        "        \n",
        "    '''\n",
        "    # stage 1\n",
        "    h = (b - a)\n",
        "    Iold = 0.5*(f(b) + f(a))\n",
        "    Icorrold = 0.0\n",
        "    for nstage in range(2, nmax+1):\n",
        "        print(\"nstage =\", nstage)\n",
        "        h = (b - a) / 2**(nstage-1)\n",
        "        xnew = a + h\n",
        "        Iupdate = f(xnew)\n",
        "        for inew in range(1, 2**(nstage-2)):\n",
        "            xnew += 2*h\n",
        "            Iupdate += f(xnew)\n",
        "        Iupdate *= h\n",
        "        Inew = 0.5*Iold + Iupdate\n",
        "        Icorr = (4.0*Inew - Iold)/3.0\n",
        "        print(Iold, Iupdate, Inew, Icorr, Inew-Iold, facc*math.fabs(Iold))\n",
        "        if math.fabs(Icorr - Icorrold) < facc*math.fabs(Icorrold) \\\n",
        "        or (math.fabs(Icorr) < abacc and math.fabs(Icorrold) < abacc):\n",
        "            return Icorr, nstage\n",
        "        Iold = Inew\n",
        "        Icorrold = Icorr"
      ],
      "execution_count": 0,
      "outputs": []
    },
    {
      "metadata": {
        "id": "co4af3Wb6xCJ",
        "colab_type": "code",
        "outputId": "fef6e6fa-81a1-496c-c77c-ea86f332b5a4",
        "colab": {
          "base_uri": "https://localhost:8080/",
          "height": 469
        }
      },
      "cell_type": "code",
      "source": [
        "I, n = quad2(f1, 0, 1)\n",
        "\n",
        "x = np.linspace(0, 1, 2**n)\n",
        "plt.plot(x, f1(x), 'ok')\n",
        "print(\"Calculated result =\", I, \"in n =\", n)\n",
        "print(\"Correct result =\", 1 - math.e**(-1))"
      ],
      "execution_count": 0,
      "outputs": [
        {
          "output_type": "stream",
          "text": [
            "nstage = 2\n",
            "0.6839397205857212 0.3032653298563167 0.6452351901491773 0.6323336800036626 -0.03870453043654387 6.839397205857212e-07\n",
            "nstage = 3\n",
            "0.6452351901491773 0.3127918339531049 0.6354094290276935 0.6321341753205322 -0.009825761121483811 6.452351901491773e-07\n",
            "nstage = 4\n",
            "0.6354094290276935 0.31523870369663326 0.6329434182104801 0.6321214146047422 -0.0024660108172134265 6.354094290276934e-07\n",
            "nstage = 5\n",
            "0.6329434182104801 0.3158546047392595 0.6323263138444996 0.6321206123891727 -0.0006171043659805031 6.3294341821048e-07\n",
            "nstage = 6\n",
            "0.6323263138444996 0.31600884317182276 0.6321720000940725 0.6321205621772634 -0.00015431375042707085 6.323263138444995e-07\n",
            "Calculated result = 0.6321205621772634 in n = 6\n",
            "Correct result = 0.6321205588285577\n"
          ],
          "name": "stdout"
        },
        {
          "output_type": "display_data",
          "data": {
            "image/png": "[encoded data removed]",
            "text/plain": [
              "<matplotlib.figure.Figure at 0x7fba92c37278>"
            ]
          },
          "metadata": {
            "tags": []
          }
        }
      ]
    },
    {
      "metadata": {
        "id": "csP-_ZcP6xCO",
        "colab_type": "code",
        "outputId": "8e5aea60-97f6-46a9-8f11-c1b00d5fe780",
        "colab": {
          "base_uri": "https://localhost:8080/",
          "height": 503
        }
      },
      "cell_type": "code",
      "source": [
        "I, n = quad2(f2, 0, 1)\n",
        "\n",
        "x = np.linspace(0, 1, 2**n)\n",
        "plt.plot(x, f2(x), 'ok')\n",
        "print(\"Calculated result =\", I, \"in n =\", n)\n",
        "print(\"Correct result =\", 1/math.pi * (np.cos(0) - np.cos(math.pi)))"
      ],
      "execution_count": 0,
      "outputs": [
        {
          "output_type": "stream",
          "text": [
            "nstage = 2\n",
            "6.123233995736766e-17 0.5 0.5 0.6666666666666666 0.49999999999999994 6.123233995736766e-23\n",
            "nstage = 3\n",
            "0.5 0.35355339059327373 0.6035533905932737 0.6380711874576983 0.10355339059327373 5e-07\n",
            "nstage = 4\n",
            "0.6035533905932737 0.3266407412190942 0.6284174365157311 0.6367054518232169 0.02486404592245739 6.035533905932737e-07\n",
            "nstage = 5\n",
            "0.6284174365157311 0.3203644309676883 0.6345731492255539 0.6366250534621615 0.006155712709822736 6.284174365157311e-07\n",
            "nstage = 6\n",
            "0.6345731492255539 0.3188217886680727 0.6361083632808496 0.6366201012992816 0.001535214055295775 6.345731492255538e-07\n",
            "nstage = 7\n",
            "0.6361083632808496 0.3184377538608767 0.6364919355013015 0.6366197929081188 0.00038357222045182215 6.361083632808496e-07\n",
            "Calculated result = 0.6366197929081188 in n = 7\n",
            "Correct result = 0.6366197723675814\n"
          ],
          "name": "stdout"
        },
        {
          "output_type": "display_data",
          "data": {
            "image/png": "[encoded data removed]",
            "text/plain": [
              "<matplotlib.figure.Figure at 0x7fba92ba7c88>"
            ]
          },
          "metadata": {
            "tags": []
          }
        }
      ]
    },
    {
      "metadata": {
        "id": "5kkF4Ibn6xCR",
        "colab_type": "code",
        "outputId": "6263ca70-7b53-4197-d738-3504be989a04",
        "colab": {
          "base_uri": "https://localhost:8080/",
          "height": 34
        }
      },
      "cell_type": "code",
      "source": [
        "2**7\n"
      ],
      "execution_count": 0,
      "outputs": [
        {
          "output_type": "execute_result",
          "data": {
            "text/plain": [
              "128"
            ]
          },
          "metadata": {
            "tags": []
          },
          "execution_count": 28
        }
      ]
    },
    {
      "metadata": {
        "id": "vD1A9RlGlfkK",
        "colab_type": "code",
        "colab": {}
      },
      "cell_type": "code",
      "source": [
        ""
      ],
      "execution_count": 0,
      "outputs": []
    }
  ]
}