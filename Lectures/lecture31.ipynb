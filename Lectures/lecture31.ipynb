{
  "nbformat": 4,
  "nbformat_minor": 0,
  "metadata": {
    "colab": {
      "name": "lecture31.ipynb",
      "version": "0.3.2",
      "provenance": [],
      "collapsed_sections": [],
      "include_colab_link": true
    },
    "kernelspec": {
      "name": "python3",
      "display_name": "Python 3"
    }
  },
  "cells": [
    {
      "cell_type": "markdown",
      "metadata": {
        "id": "view-in-github",
        "colab_type": "text"
      },
      "source": [
        "<a href=\"https://colab.research.google.com/github/wdconinc/practical-computing-for-scientists/blob/master/Lectures/lecture31.ipynb\" target=\"_parent\"><img src=\"https://colab.research.google.com/assets/colab-badge.svg\" alt=\"Open In Colab\"/></a>"
      ]
    },
    {
      "metadata": {
        "id": "0aH_RqD-fJy-",
        "colab_type": "text"
      },
      "cell_type": "markdown",
      "source": [
        "# Lecture 31: Machine Learning"
      ]
    },
    {
      "metadata": {
        "id": "s9oqusiKJa0P",
        "colab_type": "text"
      },
      "cell_type": "markdown",
      "source": [
        "## Last Episode"
      ]
    },
    {
      "metadata": {
        "id": "7kMVy3sKJrDu",
        "colab_type": "text"
      },
      "cell_type": "markdown",
      "source": [
        "Introduction to machine learning:\n",
        "- classification (discrete targets) versus regression (continuous targets)\n",
        "- supervised (training data) versus unsupervised (clustering)\n",
        "- training versus validation versus test subsets\n",
        "- linear regresion on a set of diabetes test data:\n",
        "  - quadratic loss function similar to least squares regression\n",
        "  - batched stochastic gradient descent (though our data set was small)\n",
        "  - predicting the diabetes 'score' (continuous integer target variable)\n",
        "  - from ten features: some categorical, some continuous, all rescaled to $z = (x - \\mu) / \\sigma$"
      ]
    },
    {
      "metadata": {
        "id": "syEn8F8ycDBA",
        "colab_type": "text"
      },
      "cell_type": "markdown",
      "source": [
        "## Loss Functions in Linear Regression"
      ]
    },
    {
      "metadata": {
        "id": "bApxQ3oqcGSM",
        "colab_type": "text"
      },
      "cell_type": "markdown",
      "source": [
        "In linear regression we optimized the parameters of our model using a loss function. In particular we used the mean square of the errors (MSE):\n",
        "$$ MSE = L_2 = \\sum_i | y - \\hat{y} |^2 $$\n",
        "\n",
        "We could have chosen a different loss function, e.g. the mean absolute errors (MAE):\n",
        "$$ MAE = L_1 = \\sum_i | y - \\hat{y} | $$\n",
        "or even a custom $L_q$ such that\n",
        "$$ L_q = \\sum_i | y - \\hat{y} |^q $$\n",
        "\n",
        "We could also add additional terms to the loss function to 'suggest' to the training algorithm that we desire certain qualities in our solution. If we have a vector of weights $\\vec{w}$ which we are determining, then we can add a regularization terms:\n",
        "$$ L = L_2 + \\frac{1}{2} w^T w $$"
      ]
    },
    {
      "metadata": {
        "id": "nyJzHeuQdcWy",
        "colab_type": "text"
      },
      "cell_type": "markdown",
      "source": [
        "### Transition to Classification"
      ]
    },
    {
      "metadata": {
        "id": "BFbq10wOdevM",
        "colab_type": "text"
      },
      "cell_type": "markdown",
      "source": [
        "The loss functions above, however, do not work for classification problems. How can we interpret MSE? Instead we use alternative loss functions which we attempt to minimize:\n",
        "- error rate (ER), simply the fraction of incorrectly classified predictions: $f(C_2|C_1) + f(C_1|C_2)$ when we have a truth table\n",
        "$$ \\Big[ \\begin{array}{cc} f(C_1|C_1) & f(C_2|C_1) \\\\ f(C_1|C_2) & f(C_2|C_2) \\end{array} \\Big] $$\n",
        "- weighted error rates, when we care more strongly about certain misclassifications: $L_{21} f(C_2|C_1) + L_{12} f(C_1|C_2)$ (for example we want to more strongly avoid not diagnozing the disease when the patient is ill, than diagnozing a healthy patient).\n",
        "\n",
        "We will also look at a very common but quite different loss function based on entropy. But first we must introduce the concept of entropy in information theory."
      ]
    },
    {
      "metadata": {
        "id": "UpW0BBV-KfKx",
        "colab_type": "text"
      },
      "cell_type": "markdown",
      "source": [
        "## Entropy: From Physics to Information Theory"
      ]
    },
    {
      "metadata": {
        "id": "-_8qXQ_UKkK1",
        "colab_type": "text"
      },
      "cell_type": "markdown",
      "source": [
        "From the introductory physics courses (or from a more advanced thermodynamics course) you may be familiar with the concept of *entropy*, the disorder in a system:\n",
        "$$ S = k \\ln W $$\n",
        "where $k$ is the Boltzman constant and $W$ the *multiplicity* of the state. In particular the entropy can be written as\n",
        "$$\\frac{N!}{\\prod n_i!}$$\n",
        "when we consider the common situation of dividing $N$ particles such that $n_i$ are in state $i$. Using Stirling's formula $N! = N \\ln N - N$, the entropy then becomes\n",
        "$$ S = - k \\sum_i \\frac{n_i}{N} \\ln \\frac{n_i}{N} $$\n",
        "and we could interpret the fractions a probabilities (in a frequentist interpretation of statistics).\n",
        "\n",
        "In information theory we can also define an entropy. It will turn out that this entropy is a convenient loss function for logistic regression since it is written for probabilities."
      ]
    },
    {
      "metadata": {
        "id": "pud8z-7yLgSw",
        "colab_type": "text"
      },
      "cell_type": "markdown",
      "source": [
        "### Information Theory and Entropy"
      ]
    },
    {
      "metadata": {
        "id": "wb3dC938LnKi",
        "colab_type": "text"
      },
      "cell_type": "markdown",
      "source": [
        "Before thinking about a supervised learning problem in which we wish to construct a classification algorithm, let us consider the information content in a stream of categorical random variables.\n",
        "\n",
        "Let's consider, for example, the stream of randomly chosen binary numbers $x = 0$ or $x = 1$, where $p(x)$ gives the probability distribution for either number to appear. An example could be \n",
        "$$ 110101001000111101001011101010111101011010 $$\n",
        "\n",
        "In the case of $p(0) = 1$ and $p(1) = 0$, or if $p(0) = 0$ and $p(1) = 1$, the choice of the 'random' numbers is entirely predictable. The stream will be either all zeros or all ones. There is no new information present in each consecutive value.\n",
        "\n",
        "If, on the other hand, $p(x)$ is not in this special case, then each successive value adds information to our determination of $p(x)$ itself. In particular, if we suddenly see a value $x$ which is very improbable, i.e. $p(x)$ is very small, then this will likely be an event with more information.\n",
        "\n",
        "We introduce a quantity $h(x)$ that encodes the information in the observation of a value $x$ in the stream. We can associated three properties with this information content of a new observation:\n",
        "- $h(x)$ must be larger for events with smaller $p(x)$,\n",
        "- the information in indepedent consecutive values must be additive: $h(x_1, x_2) = h(x_1) + h(x_2)$,\n",
        "- independent consecutive values will have a probability given by the product: $p(x_1, x_2) = p(x_1) p(x_2)$.\n",
        "\n",
        "Based on these properties we can introduce\n",
        "$$ h(x) = - \\log p(x) $$\n",
        "as the quantity of information in an observation of $x$."
      ]
    },
    {
      "metadata": {
        "id": "AeHDy9FQg2NC",
        "colab_type": "text"
      },
      "cell_type": "markdown",
      "source": [
        "We can now calculate the expectation value of the total information content in the entire stream, by multiplying all possible $x$ with their respective probability of occuring:\n",
        "$$ H[x] = - \\sum_x p(x) \\log p(x) $$\n",
        "This is the *information entropy* in the stream.\n",
        "\n",
        "In the previous we have not specified which $\\log$ to take. It is common to use $^2\\log$ in information theory. We will use the natural log $\\ln$, but there are no big differences. Let's work in $^2\\log$ for now but use $\\ln$ for all future work.\n",
        "\n",
        "Examples:\n",
        "- if $x = 0,1$ and $p(0) = 0$ and $p(1) = 1$ then $H[x] = 0$ (since $\\lim_{p\\to 0} p \\log p = 0$)\n",
        "- if $x = 0, 1$ and $p(0) = p(1) = 1/2$ then $H[x] = - ^2\\log \\frac{1}{2} = 1$\n",
        "- if $x = 0,\\ldots,7$ (i.e. 8 choices) and $p(x) = 1/8$ then $H[x] = - ^2\\log \\frac{1}{8} = 3$\n",
        "- if $x = 0,\\ldots,7$ and $p(x)$ is not evenly distributed then $H[x] < 3$\n",
        "\n",
        "As you can see we have maximum entropy for evenly distributed probability distributions. The units of entropy are 'bits'. A uniformly distributed variable $x$ from 0 to 7 can indeed be represented by 3 bits. A non-uniformly distributed variable $x$ from 0 to 7 can be represented by fewer than 3 bits, on average, since we can use a shorter sequence to encode the higher probability values.\n",
        "\n",
        "We can extend the concept information entropy to continuous distributions by replacing the sum with an integral:\n",
        "$$ H[x] = - \\int p(x) \\log p(x) $$."
      ]
    },
    {
      "metadata": {
        "id": "ncqEV9m-THOu",
        "colab_type": "text"
      },
      "cell_type": "markdown",
      "source": [
        "#### Exercise"
      ]
    },
    {
      "metadata": {
        "id": "G_fw0vlmS-Df",
        "colab_type": "text"
      },
      "cell_type": "markdown",
      "source": [
        "Calculate the entropy in a stream of $x = 0,\\ldots,7$ with probabilities $(\\frac{1}{2}, \\frac{1}{4}, \\frac{1}{8}, \\frac{1}{16}, \\frac{1}{64}, \\frac{1}{64}, \\frac{1}{64}, \\frac{1}{64})$ and show that it is less than 3.\n",
        "\n",
        "Show that the encoding $0$, $10$, $110$, $1110$, $11100$, $11101$, $11110$, $11111$ has indeed an expectation value of the correct number of bits per your entropy calculation above."
      ]
    },
    {
      "metadata": {
        "id": "7ghwd09ZS9hr",
        "colab_type": "code",
        "colab": {}
      },
      "cell_type": "code",
      "source": [
        ""
      ],
      "execution_count": 0,
      "outputs": []
    },
    {
      "metadata": {
        "id": "SO6XEqXehg1d",
        "colab_type": "text"
      },
      "cell_type": "markdown",
      "source": [
        "#### Kullback-Leibler (KL) Divergence and Cross Entropy Loss"
      ]
    },
    {
      "metadata": {
        "id": "lGaa4GkuhkN9",
        "colab_type": "text"
      },
      "cell_type": "markdown",
      "source": [
        "The only thing we still need before we can move on to logistic regression is our loss function based on entropy. What we want our loss function to do, in words, is give us a measure of the difference in information provided by the training data and by the output of our algorithm. If this difference is zero, then the output of our algorithm provides the same information as the training data.\n",
        "\n",
        "The Kullback-Leibler divergence (or relative entropy) is a positive definite quantity which gives us the difference in entropy between two distributions $p(x)$ and $q(x)$:\n",
        "$$ D_{KL}[p|q] = - \\sum p(x) \\log \\frac{q(x)}{p(x)} $$\n",
        "with $D_{KL} \\ge 0$ and equality only when $p(x) \\equiv q(x)$.\n",
        "\n",
        "The other closely related loss function is the *cross entropy* loss function\n",
        "$$ H[p,q] = H[p] + D_{KL}[p|q] = - \\sum p(x) \\log q(x) $$\n"
      ]
    },
    {
      "metadata": {
        "id": "cKo_LMxe0to9",
        "colab_type": "text"
      },
      "cell_type": "markdown",
      "source": [
        "## Logistic Regression\n"
      ]
    },
    {
      "metadata": {
        "id": "zYbZjr0V0vGF",
        "colab_type": "text"
      },
      "cell_type": "markdown",
      "source": [
        "Regression on a classification variable is not possible with the loss functions of linear regression since they assumes that we can calculate meaningful differences between $y$ and $\\hat{y}$. But, what would be the difference between a cat and a dog, or between a cancer diagnosis and a healthy patient?\n",
        "\n",
        "Also, how can we have $\\hat{y}$ be a classification variable? Do we use assume that for a threshold $y_{thr}$ the response is one category if $y < y_{thr}$ and another category for $y > y_{thr}$? What determined $y_{thr}$?\n",
        "\n",
        "Clearly we need a different approach for regression in categorical variables. We modify the linear regression scheme above and use the *log odds* function $l$ for odds $o$:\n",
        "$$ l = \\log o = \\vec{w} \\cdot \\vec{x} + b $$\n",
        "or\n",
        "$$ o = e^{\\vec{w} \\cdot \\vec{x} + b} $$\n",
        "or\n",
        "$$ p = \\frac{o}{o+1} = \\frac{1}{1 + e^{-(\\vec{w} \\cdot \\vec{x} + b)}} $$\n",
        "\n",
        "This probability $p$ is now in $[0,1]$ for any $\\vec{x}$ and we can apply our previous techniques to it. As training input we will give values $p = 0$ or $p = 1$ but as output on test data we will obtain values $0 < p < 1$.\n",
        "\n",
        "Note that we have here the logistic function which we already encountered as the solution to population models. Good functions have many uses!"
      ]
    },
    {
      "metadata": {
        "id": "U4NLUUzn7qCN",
        "colab_type": "text"
      },
      "cell_type": "markdown",
      "source": [
        "We will use the `pandas` package for this data set. It is very commonly used for data science applications."
      ]
    },
    {
      "metadata": {
        "id": "rkDzlQd6p-i0",
        "colab_type": "code",
        "colab": {}
      },
      "cell_type": "code",
      "source": [
        "import pandas as pd"
      ],
      "execution_count": 0,
      "outputs": []
    },
    {
      "metadata": {
        "id": "wmt7E-s27yvF",
        "colab_type": "text"
      },
      "cell_type": "markdown",
      "source": [
        "First we download the data file as a comma-separated value table. Then we load the data into a Pandas *data frame*, its structure for how to represent row-based data. "
      ]
    },
    {
      "metadata": {
        "id": "-PSvgX4Z063G",
        "colab_type": "code",
        "outputId": "6f9def17-4baf-444f-d22d-e4de4e43d233",
        "colab": {
          "base_uri": "https://localhost:8080/",
          "height": 51
        }
      },
      "cell_type": "code",
      "source": [
        "!wget -nc https://raw.githubusercontent.com/susanli2016/Machine-Learning-with-Python/master/diabetes.csv\n",
        "diabetes = pd.read_csv('diabetes.csv')"
      ],
      "execution_count": 0,
      "outputs": [
        {
          "output_type": "stream",
          "text": [
            "File ‘diabetes.csv’ already there; not retrieving.\n",
            "\n"
          ],
          "name": "stdout"
        }
      ]
    },
    {
      "metadata": {
        "id": "uqw8d0l976UN",
        "colab_type": "text"
      },
      "cell_type": "markdown",
      "source": [
        "Pandas allows us to easily inspect the first five entries with `head()`."
      ]
    },
    {
      "metadata": {
        "id": "Iquz6s0A75xf",
        "colab_type": "code",
        "outputId": "70a45ab4-a0e5-4531-e43a-27d5c642ab7b",
        "colab": {
          "base_uri": "https://localhost:8080/",
          "height": 204
        }
      },
      "cell_type": "code",
      "source": [
        "diabetes.head()"
      ],
      "execution_count": 0,
      "outputs": [
        {
          "output_type": "execute_result",
          "data": {
            "text/html": [
              "<div>\n",
              "<style scoped>\n",
              "    .dataframe tbody tr th:only-of-type {\n",
              "        vertical-align: middle;\n",
              "    }\n",
              "\n",
              "    .dataframe tbody tr th {\n",
              "        vertical-align: top;\n",
              "    }\n",
              "\n",
              "    .dataframe thead th {\n",
              "        text-align: right;\n",
              "    }\n",
              "</style>\n",
              "<table border=\"1\" class=\"dataframe\">\n",
              "  <thead>\n",
              "    <tr style=\"text-align: right;\">\n",
              "      <th></th>\n",
              "      <th>Pregnancies</th>\n",
              "      <th>Glucose</th>\n",
              "      <th>BloodPressure</th>\n",
              "      <th>SkinThickness</th>\n",
              "      <th>Insulin</th>\n",
              "      <th>BMI</th>\n",
              "      <th>DiabetesPedigreeFunction</th>\n",
              "      <th>Age</th>\n",
              "      <th>Outcome</th>\n",
              "    </tr>\n",
              "  </thead>\n",
              "  <tbody>\n",
              "    <tr>\n",
              "      <th>0</th>\n",
              "      <td>6</td>\n",
              "      <td>148</td>\n",
              "      <td>72</td>\n",
              "      <td>35</td>\n",
              "      <td>0</td>\n",
              "      <td>33.6</td>\n",
              "      <td>0.627</td>\n",
              "      <td>50</td>\n",
              "      <td>1</td>\n",
              "    </tr>\n",
              "    <tr>\n",
              "      <th>1</th>\n",
              "      <td>1</td>\n",
              "      <td>85</td>\n",
              "      <td>66</td>\n",
              "      <td>29</td>\n",
              "      <td>0</td>\n",
              "      <td>26.6</td>\n",
              "      <td>0.351</td>\n",
              "      <td>31</td>\n",
              "      <td>0</td>\n",
              "    </tr>\n",
              "    <tr>\n",
              "      <th>2</th>\n",
              "      <td>8</td>\n",
              "      <td>183</td>\n",
              "      <td>64</td>\n",
              "      <td>0</td>\n",
              "      <td>0</td>\n",
              "      <td>23.3</td>\n",
              "      <td>0.672</td>\n",
              "      <td>32</td>\n",
              "      <td>1</td>\n",
              "    </tr>\n",
              "    <tr>\n",
              "      <th>3</th>\n",
              "      <td>1</td>\n",
              "      <td>89</td>\n",
              "      <td>66</td>\n",
              "      <td>23</td>\n",
              "      <td>94</td>\n",
              "      <td>28.1</td>\n",
              "      <td>0.167</td>\n",
              "      <td>21</td>\n",
              "      <td>0</td>\n",
              "    </tr>\n",
              "    <tr>\n",
              "      <th>4</th>\n",
              "      <td>0</td>\n",
              "      <td>137</td>\n",
              "      <td>40</td>\n",
              "      <td>35</td>\n",
              "      <td>168</td>\n",
              "      <td>43.1</td>\n",
              "      <td>2.288</td>\n",
              "      <td>33</td>\n",
              "      <td>1</td>\n",
              "    </tr>\n",
              "  </tbody>\n",
              "</table>\n",
              "</div>"
            ],
            "text/plain": [
              "   Pregnancies  Glucose  BloodPressure  SkinThickness  Insulin   BMI  \\\n",
              "0            6      148             72             35        0  33.6   \n",
              "1            1       85             66             29        0  26.6   \n",
              "2            8      183             64              0        0  23.3   \n",
              "3            1       89             66             23       94  28.1   \n",
              "4            0      137             40             35      168  43.1   \n",
              "\n",
              "   DiabetesPedigreeFunction  Age  Outcome  \n",
              "0                     0.627   50        1  \n",
              "1                     0.351   31        0  \n",
              "2                     0.672   32        1  \n",
              "3                     0.167   21        0  \n",
              "4                     2.288   33        1  "
            ]
          },
          "metadata": {
            "tags": []
          },
          "execution_count": 61
        }
      ]
    },
    {
      "metadata": {
        "id": "1zdMjqK474Qe",
        "colab_type": "text"
      },
      "cell_type": "markdown",
      "source": [
        "With `info()` we can see the structure of the data frame at a glance."
      ]
    },
    {
      "metadata": {
        "id": "4qEXY5im2DJB",
        "colab_type": "code",
        "outputId": "e4b9c955-253a-4530-d57c-d8d333380d4b",
        "colab": {
          "base_uri": "https://localhost:8080/",
          "height": 255
        }
      },
      "cell_type": "code",
      "source": [
        "diabetes.info()"
      ],
      "execution_count": 0,
      "outputs": [
        {
          "output_type": "stream",
          "text": [
            "<class 'pandas.core.frame.DataFrame'>\n",
            "RangeIndex: 768 entries, 0 to 767\n",
            "Data columns (total 9 columns):\n",
            "Pregnancies                 768 non-null int64\n",
            "Glucose                     768 non-null int64\n",
            "BloodPressure               768 non-null int64\n",
            "SkinThickness               768 non-null int64\n",
            "Insulin                     768 non-null int64\n",
            "BMI                         768 non-null float64\n",
            "DiabetesPedigreeFunction    768 non-null float64\n",
            "Age                         768 non-null int64\n",
            "Outcome                     768 non-null int64\n",
            "dtypes: float64(2), int64(7)\n",
            "memory usage: 54.1 KB\n"
          ],
          "name": "stdout"
        }
      ]
    },
    {
      "metadata": {
        "id": "gzXQTUJO8Ww9",
        "colab_type": "text"
      },
      "cell_type": "markdown",
      "source": [
        "The power of Pandas lies in the functionality it provides for working with categorical data (or integer variables). For example, we might want to know how many entries have one of the two outcomes."
      ]
    },
    {
      "metadata": {
        "id": "SSqlRvt00_EZ",
        "colab_type": "code",
        "outputId": "04c2fcf6-579f-48cc-d72d-b34a3ec865ac",
        "colab": {
          "base_uri": "https://localhost:8080/",
          "height": 85
        }
      },
      "cell_type": "code",
      "source": [
        "print(diabetes.groupby('Outcome').size())"
      ],
      "execution_count": 0,
      "outputs": [
        {
          "output_type": "stream",
          "text": [
            "Outcome\n",
            "0    500\n",
            "1    268\n",
            "dtype: int64\n"
          ],
          "name": "stdout"
        }
      ]
    },
    {
      "metadata": {
        "id": "7Q7tCj6m8nyL",
        "colab_type": "text"
      },
      "cell_type": "markdown",
      "source": [
        "We have used `matplotlib` before for plotting. There are other options. You may be interested in exploring how you can make pretty graphs with `seaborn`... As you see, `seaborn` takes care of the axis labels in a single command."
      ]
    },
    {
      "metadata": {
        "id": "tT0bj58917Bc",
        "colab_type": "code",
        "outputId": "6dc51b00-cbf8-4d37-a1f0-4670314954c1",
        "colab": {
          "base_uri": "https://localhost:8080/",
          "height": 432
        }
      },
      "cell_type": "code",
      "source": [
        "import seaborn as sns\n",
        "sns.countplot(diabetes['Outcome'], label = \"Count\")"
      ],
      "execution_count": 0,
      "outputs": [
        {
          "output_type": "stream",
          "text": [
            "/usr/local/lib/python3.6/dist-packages/seaborn/categorical.py:1428: FutureWarning: remove_na is deprecated and is a private function. Do not use.\n",
            "  stat_data = remove_na(group_data)\n"
          ],
          "name": "stderr"
        },
        {
          "output_type": "execute_result",
          "data": {
            "text/plain": [
              "<matplotlib.axes._subplots.AxesSubplot at 0x7f1b6b450b38>"
            ]
          },
          "metadata": {
            "tags": []
          },
          "execution_count": 64
        },
        {
          "output_type": "display_data",
          "data": {
            "image/png": "[encoded data removed]",
            "text/plain": [
              "<matplotlib.figure.Figure at 0x7f1b6b6c7710>"
            ]
          },
          "metadata": {
            "tags": []
          }
        }
      ]
    },
    {
      "metadata": {
        "id": "C6JIcnw-87xB",
        "colab_type": "text"
      },
      "cell_type": "markdown",
      "source": [
        "We wish to train a logistic regression model based on a subset of the data set. Scikit-learn has a function to split a data set into a training and test set."
      ]
    },
    {
      "metadata": {
        "id": "zBYn-d8i1-Ov",
        "colab_type": "code",
        "colab": {}
      },
      "cell_type": "code",
      "source": [
        "from sklearn.model_selection import train_test_split\n",
        "\n",
        "X_train, X_test, y_train, y_test = train_test_split(diabetes.loc[:, diabetes.columns != 'Outcome'], \n",
        "                                                    diabetes['Outcome'],\n",
        "                                                    stratify = diabetes['Outcome'],\n",
        "                                                    random_state = 66)"
      ],
      "execution_count": 0,
      "outputs": []
    },
    {
      "metadata": {
        "id": "OMnZuH1C9dEA",
        "colab_type": "text"
      },
      "cell_type": "markdown",
      "source": [
        "We can inspect the input features $X$ in the training data set. They have already been shuffled, as indicated by the index of each entry."
      ]
    },
    {
      "metadata": {
        "id": "rU1jsXrx2Io-",
        "colab_type": "code",
        "outputId": "bce4dc4c-6482-4be1-8c77-591c3060876a",
        "colab": {
          "base_uri": "https://localhost:8080/",
          "height": 204
        }
      },
      "cell_type": "code",
      "source": [
        "X_train.head()"
      ],
      "execution_count": 0,
      "outputs": [
        {
          "output_type": "execute_result",
          "data": {
            "text/html": [
              "<div>\n",
              "<style scoped>\n",
              "    .dataframe tbody tr th:only-of-type {\n",
              "        vertical-align: middle;\n",
              "    }\n",
              "\n",
              "    .dataframe tbody tr th {\n",
              "        vertical-align: top;\n",
              "    }\n",
              "\n",
              "    .dataframe thead th {\n",
              "        text-align: right;\n",
              "    }\n",
              "</style>\n",
              "<table border=\"1\" class=\"dataframe\">\n",
              "  <thead>\n",
              "    <tr style=\"text-align: right;\">\n",
              "      <th></th>\n",
              "      <th>Pregnancies</th>\n",
              "      <th>Glucose</th>\n",
              "      <th>BloodPressure</th>\n",
              "      <th>SkinThickness</th>\n",
              "      <th>Insulin</th>\n",
              "      <th>BMI</th>\n",
              "      <th>DiabetesPedigreeFunction</th>\n",
              "      <th>Age</th>\n",
              "    </tr>\n",
              "  </thead>\n",
              "  <tbody>\n",
              "    <tr>\n",
              "      <th>612</th>\n",
              "      <td>7</td>\n",
              "      <td>168</td>\n",
              "      <td>88</td>\n",
              "      <td>42</td>\n",
              "      <td>321</td>\n",
              "      <td>38.2</td>\n",
              "      <td>0.787</td>\n",
              "      <td>40</td>\n",
              "    </tr>\n",
              "    <tr>\n",
              "      <th>557</th>\n",
              "      <td>8</td>\n",
              "      <td>110</td>\n",
              "      <td>76</td>\n",
              "      <td>0</td>\n",
              "      <td>0</td>\n",
              "      <td>27.8</td>\n",
              "      <td>0.237</td>\n",
              "      <td>58</td>\n",
              "    </tr>\n",
              "    <tr>\n",
              "      <th>26</th>\n",
              "      <td>7</td>\n",
              "      <td>147</td>\n",
              "      <td>76</td>\n",
              "      <td>0</td>\n",
              "      <td>0</td>\n",
              "      <td>39.4</td>\n",
              "      <td>0.257</td>\n",
              "      <td>43</td>\n",
              "    </tr>\n",
              "    <tr>\n",
              "      <th>70</th>\n",
              "      <td>2</td>\n",
              "      <td>100</td>\n",
              "      <td>66</td>\n",
              "      <td>20</td>\n",
              "      <td>90</td>\n",
              "      <td>32.9</td>\n",
              "      <td>0.867</td>\n",
              "      <td>28</td>\n",
              "    </tr>\n",
              "    <tr>\n",
              "      <th>73</th>\n",
              "      <td>4</td>\n",
              "      <td>129</td>\n",
              "      <td>86</td>\n",
              "      <td>20</td>\n",
              "      <td>270</td>\n",
              "      <td>35.1</td>\n",
              "      <td>0.231</td>\n",
              "      <td>23</td>\n",
              "    </tr>\n",
              "  </tbody>\n",
              "</table>\n",
              "</div>"
            ],
            "text/plain": [
              "     Pregnancies  Glucose  BloodPressure  SkinThickness  Insulin   BMI  \\\n",
              "612            7      168             88             42      321  38.2   \n",
              "557            8      110             76              0        0  27.8   \n",
              "26             7      147             76              0        0  39.4   \n",
              "70             2      100             66             20       90  32.9   \n",
              "73             4      129             86             20      270  35.1   \n",
              "\n",
              "     DiabetesPedigreeFunction  Age  \n",
              "612                     0.787   40  \n",
              "557                     0.237   58  \n",
              "26                      0.257   43  \n",
              "70                      0.867   28  \n",
              "73                      0.231   23  "
            ]
          },
          "metadata": {
            "tags": []
          },
          "execution_count": 66
        }
      ]
    },
    {
      "metadata": {
        "id": "8zhnFJ9V-9Wv",
        "colab_type": "text"
      },
      "cell_type": "markdown",
      "source": [
        "Now, let's train the logistic regression model and look at the coefficients. This regression will use the cross entropy loss as loss function."
      ]
    },
    {
      "metadata": {
        "id": "JvzsWzYk2Ti7",
        "colab_type": "code",
        "outputId": "5a28a444-3494-4357-c196-2620d3e68ee9",
        "colab": {
          "base_uri": "https://localhost:8080/",
          "height": 68
        }
      },
      "cell_type": "code",
      "source": [
        "from sklearn.linear_model import LogisticRegression\n",
        "\n",
        "logreg = LogisticRegression().fit(X_train, y_train)\n",
        "print('Coefficients: \\n', logreg.coef_)"
      ],
      "execution_count": 0,
      "outputs": [
        {
          "output_type": "stream",
          "text": [
            "Coefficients: \n",
            " [[ 1.08036613e-01  2.74327800e-02 -1.49806403e-02 -1.36737211e-03\n",
            "  -3.50136849e-04  5.91861497e-02  6.17545218e-01 -9.69377626e-04]]\n"
          ],
          "name": "stdout"
        }
      ]
    },
    {
      "metadata": {
        "id": "Ikt5KNR9_LxB",
        "colab_type": "text"
      },
      "cell_type": "markdown",
      "source": [
        "We can apply the trained model to new input data."
      ]
    },
    {
      "metadata": {
        "id": "Kc1svwGg_P6s",
        "colab_type": "code",
        "outputId": "15386671-b9db-4f7f-e929-09eff5c53688",
        "colab": {
          "base_uri": "https://localhost:8080/",
          "height": 221
        }
      },
      "cell_type": "code",
      "source": [
        "import numpy as np\n",
        "\n",
        "print(X_test.iloc[0,:])\n",
        "print(X_test.iloc[0,:].tolist())\n",
        "\n",
        "row = X_test.iloc[0,:].tolist()\n",
        "row = np.reshape(row, (1,-1))\n",
        "\n",
        "print(\"prediction: \", logreg.predict_proba(row))\n",
        "print(\"actual: \", y_test.iloc[0])"
      ],
      "execution_count": 0,
      "outputs": [
        {
          "output_type": "stream",
          "text": [
            "Pregnancies                   0.000\n",
            "Glucose                     180.000\n",
            "BloodPressure                90.000\n",
            "SkinThickness                26.000\n",
            "Insulin                      90.000\n",
            "BMI                          36.500\n",
            "DiabetesPedigreeFunction      0.314\n",
            "Age                          35.000\n",
            "Name: 506, dtype: float64\n",
            "[0.0, 180.0, 90.0, 26.0, 90.0, 36.5, 0.314, 35.0]\n",
            "prediction:  [[0.41020053 0.58979947]]\n",
            "actual:  1\n"
          ],
          "name": "stdout"
        }
      ]
    },
    {
      "metadata": {
        "id": "-JF82rKo_Gwt",
        "colab_type": "code",
        "outputId": "b4dbed7a-1cf5-41ab-db85-86bee043594c",
        "colab": {
          "base_uri": "https://localhost:8080/",
          "height": 51
        }
      },
      "cell_type": "code",
      "source": [
        "# Test score is the mean error rate\n",
        "print(\"Training set score: {:.3f}\".format(logreg.score(X_train, y_train)))\n",
        "print(\"Test set score: {:.3f}\".format(logreg.score(X_test, y_test)))"
      ],
      "execution_count": 0,
      "outputs": [
        {
          "output_type": "stream",
          "text": [
            "Training set score: 0.781\n",
            "Test set score: 0.771\n"
          ],
          "name": "stdout"
        }
      ]
    },
    {
      "metadata": {
        "id": "l8e2OA1H2w-S",
        "colab_type": "code",
        "outputId": "49947384-6452-4b0b-8487-cc593802c690",
        "colab": {
          "base_uri": "https://localhost:8080/",
          "height": 102
        }
      },
      "cell_type": "code",
      "source": [
        "logreg001 = LogisticRegression(C=0.01).fit(X_train, y_train)\n",
        "print('Coefficients: \\n', logreg.coef_)\n",
        "print(\"Training set accuracy: {:.3f}\".format(logreg001.score(X_train, y_train)))\n",
        "print(\"Test set accuracy: {:.3f}\".format(logreg001.score(X_test, y_test)))"
      ],
      "execution_count": 0,
      "outputs": [
        {
          "output_type": "stream",
          "text": [
            "Coefficients: \n",
            " [[ 1.08036613e-01  2.74327800e-02 -1.49806403e-02 -1.36737211e-03\n",
            "  -3.50136849e-04  5.91861497e-02  6.17545218e-01 -9.69377626e-04]]\n",
            "Training set accuracy: 0.700\n",
            "Test set accuracy: 0.703\n"
          ],
          "name": "stdout"
        }
      ]
    },
    {
      "metadata": {
        "id": "eZRxhRp020J9",
        "colab_type": "code",
        "outputId": "1e479431-73fd-4dff-9c8b-6cc1d329194f",
        "colab": {
          "base_uri": "https://localhost:8080/",
          "height": 102
        }
      },
      "cell_type": "code",
      "source": [
        "logreg100 = LogisticRegression(C=100).fit(X_train, y_train)\n",
        "print('Coefficients: \\n', logreg.coef_)\n",
        "print(\"Training set accuracy: {:.3f}\".format(logreg100.score(X_train, y_train)))\n",
        "print(\"Test set accuracy: {:.3f}\".format(logreg100.score(X_test, y_test)))"
      ],
      "execution_count": 0,
      "outputs": [
        {
          "output_type": "stream",
          "text": [
            "Coefficients: \n",
            " [[ 1.08036613e-01  2.74327800e-02 -1.49806403e-02 -1.36737211e-03\n",
            "  -3.50136849e-04  5.91861497e-02  6.17545218e-01 -9.69377626e-04]]\n",
            "Training set accuracy: 0.785\n",
            "Test set accuracy: 0.766\n"
          ],
          "name": "stdout"
        }
      ]
    },
    {
      "metadata": {
        "id": "rNqwGNNN2sUI",
        "colab_type": "code",
        "outputId": "f6b741f5-ba0e-4a65-daf2-2d911f41021a",
        "colab": {
          "base_uri": "https://localhost:8080/",
          "height": 500
        }
      },
      "cell_type": "code",
      "source": [
        "import matplotlib.pyplot as plt\n",
        "\n",
        "diabetes_features = [x for i,x in enumerate(diabetes.columns) if i!=8]\n",
        "plt.figure(figsize=(8,6))\n",
        "plt.plot(logreg100.coef_.T, '^', label=\"C=100\")\n",
        "plt.plot(logreg.coef_.T, 'o', label=\"C=1\")\n",
        "plt.plot(logreg001.coef_.T, 'v', label=\"C=0.001\")\n",
        "plt.xticks(range(diabetes.shape[1]), diabetes_features, rotation=90)\n",
        "plt.hlines(0, 0, diabetes.shape[1])\n",
        "plt.ylim(-1, 1)\n",
        "plt.xlabel(\"Feature\")\n",
        "plt.ylabel(\"Coefficient magnitude\")\n",
        "plt.legend()\n",
        "plt.savefig('log_coef')"
      ],
      "execution_count": 0,
      "outputs": [
        {
          "output_type": "display_data",
          "data": {
            "image/png": "[encoded data removed]",
            "text/plain": [
              "<matplotlib.figure.Figure at 0x7f1b6b38eda0>"
            ]
          },
          "metadata": {
            "tags": []
          }
        }
      ]
    },
    {
      "metadata": {
        "id": "3sCC3EQj-An1",
        "colab_type": "code",
        "colab": {}
      },
      "cell_type": "code",
      "source": [
        ""
      ],
      "execution_count": 0,
      "outputs": []
    }
  ]
}