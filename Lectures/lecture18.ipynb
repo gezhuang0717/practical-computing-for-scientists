{
  "nbformat": 4,
  "nbformat_minor": 0,
  "metadata": {
    "colab": {
      "name": "lecture18.ipynb",
      "version": "0.3.2",
      "provenance": [],
      "collapsed_sections": [
        "MPjkKu9r7NLl",
        "eUyRmIpO7NLx",
        "BtxW1HDQ7NLz",
        "w3a1UQ1_7NL1"
      ],
      "include_colab_link": true
    },
    "kernelspec": {
      "name": "python3",
      "display_name": "Python 3"
    }
  },
  "cells": [
    {
      "cell_type": "markdown",
      "metadata": {
        "id": "view-in-github",
        "colab_type": "text"
      },
      "source": [
        "<a href=\"https://colab.research.google.com/github/wdconinc/practical-computing-for-scientists/blob/master/Lectures/lecture18.ipynb\" target=\"_parent\"><img src=\"https://colab.research.google.com/assets/colab-badge.svg\" alt=\"Open In Colab\"/></a>"
      ]
    },
    {
      "metadata": {
        "id": "nLWZ01ae7NLP",
        "colab_type": "text"
      },
      "cell_type": "markdown",
      "source": [
        "# Lecture #18"
      ]
    },
    {
      "metadata": {
        "id": "vPRyIAo_7NLR",
        "colab_type": "code",
        "colab": {}
      },
      "cell_type": "code",
      "source": [
        "%matplotlib inline\n",
        "import numpy as np\n",
        "import scipy as sp\n",
        "import matplotlib.pyplot as plt\n",
        "import math\n",
        "import numpy.matlib as ml"
      ],
      "execution_count": 0,
      "outputs": []
    },
    {
      "metadata": {
        "id": "5umVi18h7NLW",
        "colab_type": "text"
      },
      "cell_type": "markdown",
      "source": [
        "##In our last episode"
      ]
    },
    {
      "metadata": {
        "id": "coMsAk-z7NLX",
        "colab_type": "text"
      },
      "cell_type": "markdown",
      "source": [
        "* Gaussian quadrature\n",
        "  * $\\int W(x) f(x) dx = \\sum_i w_i f(x_i)$\n",
        "  * $\\{x_i\\}$ and $\\{w_i\\}$ are both chosen to provide an exact solution for Nth order polynomial f(x) multiplied by some weight function $W(x)$.\n",
        "* In class example: \"Two point Gauss-Legendre quadrature\"\n",
        "  * Exactly solves $\\int [c_0 + c_1 x + c_2 x^2 + c_3 x^3] dx$\n",
        "  * $W(x)=1$ (Gauss-Legendre) and $f(x)=c_0 + c_1 x + c_2 x^2 + c_3 x^3$ (4 knowns)\n",
        "  * Allows choice of $\\{w_0,w_1\\}$ and $\\{x_0,x_1\\}$ (2 points, 4 unknowns)\n",
        "* Choice of $\\{x_i\\}$ and $\\{w_i\\}$ depends on order of $f(x)$ and properties of various orthogonal polynomials\n",
        "  * $W(x)=1 \\longrightarrow $ Legendre \n",
        "  * $W(x)=e^{-x^2} \\longrightarrow $ Hermite\n",
        "  * $W(x)= 1/\\sqrt{1-x^2} \\longrightarrow $ Chebyshev\n",
        "  * properties = roots and recursion relations"
      ]
    },
    {
      "metadata": {
        "id": "92zaD3tBkXMO",
        "colab_type": "text"
      },
      "cell_type": "markdown",
      "source": [
        "## Gaussian Quadrature"
      ]
    },
    {
      "metadata": {
        "id": "fqreld4kr2u3",
        "colab_type": "text"
      },
      "cell_type": "markdown",
      "source": [
        "In general, the weighting function defines an orthogonal set of polynomials (e.g. Hermite polynomials associated with Hermite weighting function) such that\n",
        "$$ \\int_a^b w(x) P_m(x) P_n(x) \\,dx = \\delta_{mn} $$\n",
        "where $m$ and $n$ are the orders of the polynomials.\n",
        "\n",
        "You may be familiar with orthogonal functions, such as $\\sin m\\phi$ and $\\cos n\\phi$, which are orthogonal with weighting function $w(\\phi) = 1$ on the interval $[-\\pi, \\pi]$:\n",
        "$$ \\int_{-\\pi}^{+\\pi} \\sin m\\phi \\cos n\\phi \\, d\\phi = 0 $$\n",
        "$$ \\int_{-\\pi}^{+\\pi} \\sin m\\phi \\sin n\\phi \\, d\\phi = \\pi \\delta_{mn} $$\n",
        "$$ \\int_{-\\pi}^{+\\pi} \\cos m\\phi \\cos n\\phi \\, d\\phi = \\pi \\delta_{mn} $$\n",
        "However, here we are specifically talking about orthogonal *polynomials*.\n",
        "\n"
      ]
    },
    {
      "metadata": {
        "id": "q3p1MpahwI8v",
        "colab_type": "text"
      },
      "cell_type": "markdown",
      "source": [
        "### Recursion relations of orthogonal polynomials"
      ]
    },
    {
      "metadata": {
        "id": "RIFTNJfkwMj6",
        "colab_type": "text"
      },
      "cell_type": "markdown",
      "source": [
        "Orthogonal polynomials obey recurrence relationships:\n",
        "$$ a_n P_{n+1}(x) = (b_n + c_n x) P_n(x) - d_n P_{n-1}(x) $$\n",
        "with $P_0(x)$ and $P_1(x)$ given.\n",
        "\n",
        "Notice that $P_{n+1}(x)$ will always be of degree one higher than $P_n(x)$. Or, $P_n(x)$ will indeed be of degree $n$."
      ]
    },
    {
      "metadata": {
        "id": "3zM43qg8wF3F",
        "colab_type": "text"
      },
      "cell_type": "markdown",
      "source": [
        "### Zeros of orthogonal polynomials"
      ]
    },
    {
      "metadata": {
        "id": "TgYZLg8wwDZv",
        "colab_type": "text"
      },
      "cell_type": "markdown",
      "source": [
        "* Each polynomial $P_n(x)$ of degree $n$ has $n$ real zeros. Moreover, these zeros are all distinct and are all within the interval $[a,b]$.\n",
        "\n",
        "* $P_{n+1}(x)$ has $n+1$ zeros and $P_n(x)$ has $n$ zeros, and the $n$ zeros of $P_n(x)$ lie between the $n+1$ zeros of $P_{n+1}(x)$"
      ]
    },
    {
      "metadata": {
        "id": "6fWcXFU_yDF8",
        "colab_type": "text"
      },
      "cell_type": "markdown",
      "source": [
        "### Orthogonality and completeness"
      ]
    },
    {
      "metadata": {
        "id": "LE0GoC91yGJ_",
        "colab_type": "text"
      },
      "cell_type": "markdown",
      "source": [
        "* Any polynomial $f_n(x)$ of degree $n$ can be expressed *uniquely* as a sum over the polynomials up to degree $n$:\n",
        "$$ f_n(x) = \\sum_{i=0}^n c_i P_n(x) $$\n",
        "\n",
        "* The coefficients can be determined from the integral\n",
        "$$ c_i = \\int_a^b w(x) f_n(x) P_i(x) dx, \\quad \\mbox{for}\\,0 \\le i \\le n  $$\n",
        "\n",
        "* The orthogonality of the polynomials results in\n",
        "$$ \\int_a^b w(x) f_n(x) P_{n+m}(x) dx = 0, \\quad \\mbox{for}\\,m>0 $$ "
      ]
    },
    {
      "metadata": {
        "id": "yucgQHhOzFd8",
        "colab_type": "text"
      },
      "cell_type": "markdown",
      "source": [
        "### Orthogonal polynomials in Gaussian quadrature"
      ]
    },
    {
      "metadata": {
        "id": "bapGunCozJ7J",
        "colab_type": "text"
      },
      "cell_type": "markdown",
      "source": [
        "Remember: we want\n",
        "$$ I = \\int_a^b w(x) f(x) dx \\approx \\sum_{i=0}^n w_i f(x_i) $$\n",
        "\n",
        "It can be shown that\n",
        "* The $n$ zeros of the polynomial $P_n(x)$ will be the abscissa or nodes $x_i$.\n",
        "* The weights $w_i$ are defined by the weighted integral of the cardinal function $h_i(x)$ spanning the nodes $x_i$:\n",
        "$$ w_i = \\int_a^b w(x) h_i(x) dx, \\quad \\mbox{for}\\,0 \\le i \\le n $$\n",
        "\n",
        "The important thing is:\n",
        "* $x_i$ can be calculated in advance for the relevant weighting function $w(x)$.\n",
        "* $w_i$ can be calculated in advance for the weighting function and appropriate set of zeros $x_i$."
      ]
    },
    {
      "metadata": {
        "id": "oySRWah-mL98",
        "colab_type": "text"
      },
      "cell_type": "markdown",
      "source": [
        "### Gauss-Legendre Quadrature"
      ]
    },
    {
      "metadata": {
        "id": "7KIBz9PzpMxZ",
        "colab_type": "text"
      },
      "cell_type": "markdown",
      "source": [
        "Guass-Legendre quadrature is the case for\n",
        "$$ I = \\int_{-1}^{+1} f(x) dx \\approx \\sum_{i=0}^n w_i f(x_i) $$\n",
        "\n",
        "We can generalize to any $[a,b]$ by considering $x = \\frac{b+a}{2} + \\frac{b-a}{2} \\xi$ with $dx = \\frac{b-a}{2} d\\xi$ and $\\xi$ in $[-1,1]$.\n",
        "\n",
        "Then\n",
        "$$ I = \\int_a^b f(x) dx \\approx \\frac{b-a}{2} \\sum_{i=0}^n w_i f(x_i) $$\n",
        "with $x_i$ now given by $x_i = \\frac{a+b}{2} + \\frac{b-a}{2} \\xi_i$ where $\\xi_i$ are the zeros."
      ]
    },
    {
      "metadata": {
        "id": "KJg4sYyU2K3N",
        "colab_type": "text"
      },
      "cell_type": "markdown",
      "source": [
        "The Legendre polynomials are defined as by:\n",
        "$$ (n+1) P_{n+1}(x) = (2n+1) x P_n(x) - n P_{n-1}(x) $$\n",
        "starting with $P_0(x) = 1$ and $P_1(x) = x$.\n",
        "\n",
        "Its derivative is defined as:\n",
        "$$ (1-x^2) P'_n(x) = n \\big[ -x P_n(x) + P_{n-1}(x) \\big] $$"
      ]
    },
    {
      "metadata": {
        "id": "u5T-EgH91Ww3",
        "colab_type": "code",
        "colab": {}
      },
      "cell_type": "code",
      "source": [
        "def legendre(x, m):\n",
        "  '''\n",
        "  returns Legendre polynomial and its derivative of order m at points x\n",
        "  '''\n",
        "  p0 = np.ones_like(x) # P_{n-1}\n",
        "  p1 = x   # P_{n}\n",
        "  if m == 0: p = p0\n",
        "  if m == 1: p = p1\n",
        "  for k in range(1,m):\n",
        "    p = ((2*k + 1)*x*p1 - k*p0) / (k+1)\n",
        "    p0 = p1\n",
        "    p1 = p\n",
        "  dp = m*(p0 - x*p1) / (1.0 - x**2)\n",
        "  return p, dp"
      ],
      "execution_count": 0,
      "outputs": []
    },
    {
      "metadata": {
        "id": "f-NotuoK5afw",
        "colab_type": "code",
        "outputId": "9b4b231c-7645-4fe5-87a8-826da9575356",
        "colab": {
          "base_uri": "https://localhost:8080/",
          "height": 316
        }
      },
      "cell_type": "code",
      "source": [
        "x = np.linspace(-1, 1, 100)\n",
        "plt.plot(x,legendre(x,0)[0],x,legendre(x,1)[0],x,legendre(x,2)[0],x,legendre(x,3)[0])\n",
        "plt.axhline(0)"
      ],
      "execution_count": 0,
      "outputs": [
        {
          "output_type": "stream",
          "text": [
            "/usr/local/lib/python3.6/dist-packages/ipykernel_launcher.py:13: RuntimeWarning: invalid value encountered in true_divide\n",
            "  del sys.path[0]\n"
          ],
          "name": "stderr"
        },
        {
          "output_type": "execute_result",
          "data": {
            "text/plain": [
              "<matplotlib.lines.Line2D at 0x7f819741bcc0>"
            ]
          },
          "metadata": {
            "tags": []
          },
          "execution_count": 76
        },
        {
          "output_type": "display_data",
          "data": {
            "image/png": "[encoded data removed]",
            "text/plain": [
              "<matplotlib.figure.Figure at 0x7f819748c128>"
            ]
          },
          "metadata": {
            "tags": []
          }
        }
      ]
    },
    {
      "metadata": {
        "id": "AOOlrH6w3uv8",
        "colab_type": "text"
      },
      "cell_type": "markdown",
      "source": [
        "Because $P_n(x)$ is defined on a symmetric domain and of degree $n$ we know that for $n$ odd one root will be $x_i = 0$, and the others will be symmetric around $0$. We only need to determine half of them.\n",
        "\n",
        "The weights can be pre-calculated and are:\n",
        "$$ w_i = \\frac{2}{(1-x_i^2) \\big[P'_{n+1}(x_i)\\big]^2} $$"
      ]
    },
    {
      "metadata": {
        "id": "mPmhPtPI219c",
        "colab_type": "code",
        "colab": {}
      },
      "cell_type": "code",
      "source": [
        "def gaussNodes(m, tol = 1e-6):\n",
        "  '''\n",
        "  returns nodes and weights for Gauss-Legendre quadrature of order m\n",
        "  '''\n",
        "  w = np.zeros(m)\n",
        "  x = np.zeros(m)\n",
        "  nroots = (m + 1) // 2\n",
        "  for i in range(nroots):\n",
        "    xbar = math.cos(math.pi * (i + 0.75) / (m + 0.5)) # approximate expression\n",
        "    nmax = 30\n",
        "    for j in range(nmax):\n",
        "      p, dp = legendre(xbar,m)\n",
        "      dxbar = -p/dp\n",
        "      xbar += dxbar\n",
        "      if abs(dxbar) < tol:\n",
        "        x[i] = xbar\n",
        "        x[m-i-1] = -x[i]\n",
        "        w[i] = 2.0 / ((1.0 - xbar**2) * (dp**2))\n",
        "        w[m-i-1] = w[i]\n",
        "        break\n",
        "  return x, w"
      ],
      "execution_count": 0,
      "outputs": []
    },
    {
      "metadata": {
        "id": "W7WJzyHo6t9c",
        "colab_type": "code",
        "outputId": "879272cf-9cc6-41e7-af15-57504a40bf94",
        "colab": {
          "base_uri": "https://localhost:8080/",
          "height": 34
        }
      },
      "cell_type": "code",
      "source": [
        "gaussNodes(2)"
      ],
      "execution_count": 0,
      "outputs": [
        {
          "output_type": "execute_result",
          "data": {
            "text/plain": [
              "(array([ 0.57735027, -0.57735027]), array([0.99999997, 0.99999997]))"
            ]
          },
          "metadata": {
            "tags": []
          },
          "execution_count": 81
        }
      ]
    },
    {
      "metadata": {
        "id": "7svt1z8X7FEm",
        "colab_type": "code",
        "colab": {}
      },
      "cell_type": "code",
      "source": [
        "def gaussQuad(f, a, b, m):\n",
        "  '''\n",
        "  returns the integral of f(x) from a to b using Gauss-Legendre quadrature of\n",
        "  order m\n",
        "  '''\n",
        "  c1 = (b + a) / 2.0\n",
        "  c2 = (b - a) / 2.0\n",
        "  x, w = gaussNodes(m)\n",
        "  sum = 0.0\n",
        "  for i in range(len(x)):\n",
        "    sum = sum + w[i] * f(c1 + c2*x[i])\n",
        "  return c2 * sum"
      ],
      "execution_count": 0,
      "outputs": []
    },
    {
      "metadata": {
        "id": "QBy2RtOf8uud",
        "colab_type": "text"
      },
      "cell_type": "markdown",
      "source": [
        "Previous example on $f(x) = e^{-x}$ between $[0, 1]$:\n",
        "\n",
        "$$ I = \\int_0^1 e^{-x} dx = 1 - e^{-1} $$"
      ]
    },
    {
      "metadata": {
        "id": "QC9qVwv41WBh",
        "colab_type": "code",
        "outputId": "9d81d23c-b08d-42cb-fee4-2b1737bafd1b",
        "colab": {
          "base_uri": "https://localhost:8080/",
          "height": 51
        }
      },
      "cell_type": "code",
      "source": [
        "f1 = lambda x: np.exp(-x)\n",
        "print(\"Result %12.12g found\" % gaussQuad(f1, 0, 1, 4))\n",
        "print(\"Correct result =\", 1 - math.e**(-1))"
      ],
      "execution_count": 0,
      "outputs": [
        {
          "output_type": "stream",
          "text": [
            "Result 0.632120496393 found\n",
            "Correct result = 0.6321205588285577\n"
          ],
          "name": "stdout"
        }
      ]
    },
    {
      "metadata": {
        "id": "YH17Px119BCZ",
        "colab_type": "text"
      },
      "cell_type": "markdown",
      "source": [
        "### Gauss-Laguerre Quadrature"
      ]
    },
    {
      "metadata": {
        "id": "n8HGOOoC-RFo",
        "colab_type": "text"
      },
      "cell_type": "markdown",
      "source": [
        "Boundaries: $[a,b] = [0, +\\infty[$\n",
        "\n",
        "Recurrence relationship:\n",
        "$$ (n+1) L_{n+1}(x) = (2n + 1 - x) L_n(x) - n L_{n-1}(x) $$\n",
        "\n",
        "Derivative expression:\n",
        "$$ x L'_n(x) = n \\big[ L_n(x) - L_{n-1}(x) \\big] $$\n",
        "\n",
        "Weights:\n",
        "$$ w_i = \\frac{1}{x_i \\big[L'_{n+1}(x_i)\\big]^2} $$\n",
        "\n"
      ]
    },
    {
      "metadata": {
        "id": "lp6KCSF89GvQ",
        "colab_type": "code",
        "colab": {}
      },
      "cell_type": "code",
      "source": [
        ""
      ],
      "execution_count": 0,
      "outputs": []
    },
    {
      "metadata": {
        "id": "fzSJbPw67NLY",
        "colab_type": "text"
      },
      "cell_type": "markdown",
      "source": [
        "##Multi-dimensional integrals"
      ]
    },
    {
      "metadata": {
        "id": "81VJvBN-7NLZ",
        "colab_type": "code",
        "colab": {}
      },
      "cell_type": "code",
      "source": [
        "import scipy.special as sf\n",
        "theta, phi = np.mgrid[0:math.pi:101j, 0:2*math.pi:101j]\n",
        "plt.contour(theta, phi, np.real(sf.sph_harm(1, 1, phi, theta)), 50)"
      ],
      "execution_count": 0,
      "outputs": []
    },
    {
      "metadata": {
        "id": "jYWR50Ug7NLe",
        "colab_type": "code",
        "colab": {}
      },
      "cell_type": "code",
      "source": [
        "import scipy.integrate as ig\n",
        "  xlow = 0\n",
        "xhigh = math.pi\n",
        "ylow = lambda x: math.pi/2.0\n",
        "yhigh = lambda x : math.pi*3.0/2.0\n",
        "fsph = lambda phi,theta: np.real(sf.sph_harm(1,1,phi,theta)) * np.sin(theta)\n",
        "print(ig.dblquad(fsph, xlow, xhigh, ylow, yhigh))"
      ],
      "execution_count": 0,
      "outputs": []
    },
    {
      "metadata": {
        "id": "PWtInzIZ7NLj",
        "colab_type": "text"
      },
      "cell_type": "markdown",
      "source": [
        "## Solving 1st order Ordinary Differential Equations (ODEs)"
      ]
    },
    {
      "metadata": {
        "id": "YmSt72z5_15u",
        "colab_type": "text"
      },
      "cell_type": "markdown",
      "source": [
        "Solve $ y'(t) = f(t, y) $ for $y(t)$."
      ]
    },
    {
      "metadata": {
        "id": "MPjkKu9r7NLl",
        "colab_type": "text"
      },
      "cell_type": "markdown",
      "source": [
        "###Forward Euler method"
      ]
    },
    {
      "metadata": {
        "id": "qOQfadza7NLl",
        "colab_type": "code",
        "colab": {}
      },
      "cell_type": "code",
      "source": [
        "def solve_forward_euler(f, t, y0):\n",
        "    y = np.zeros_like(t)\n",
        "    y[0] = y0\n",
        "    for i in range(len(t)-1):\n",
        "        y[i+1] = y[i] + f(y[i], t[i]) * (t[i+1] - t[i])\n",
        "    return y"
      ],
      "execution_count": 0,
      "outputs": []
    },
    {
      "metadata": {
        "id": "m4cQw6kM__ak",
        "colab_type": "text"
      },
      "cell_type": "markdown",
      "source": [
        "Example: $y'(t) = - y(t) * t$ with exact solution $y(t) = e^{-t^2/2}$, such that $y'(t) = -t e^{-t^2 / 2} $"
      ]
    },
    {
      "metadata": {
        "id": "_uNfRIEd7NLo",
        "colab_type": "code",
        "colab": {}
      },
      "cell_type": "code",
      "source": [
        "f1 = lambda y,t: -y*t\n",
        "f1_exsol = lambda t: np.exp(-0.5*t**2)\n",
        "t = np.linspace(0,2,100)\n",
        "plt.plot(t,f1_exsol(t))\n",
        "y0 = 1\n",
        "y1_solution = solve_forward_euler(f1, t, y0)\n",
        "plt.plot(t,y1_solution, \"--og\", ms = 4)"
      ],
      "execution_count": 0,
      "outputs": []
    },
    {
      "metadata": {
        "id": "aF73jGX97NLt",
        "colab_type": "code",
        "colab": {}
      },
      "cell_type": "code",
      "source": [
        "plt.plot(t, f1_exsol(t) - y1_solution)"
      ],
      "execution_count": 0,
      "outputs": []
    },
    {
      "metadata": {
        "id": "eUyRmIpO7NLx",
        "colab_type": "text"
      },
      "cell_type": "markdown",
      "source": [
        "###Not bad for a few minutes of coding. Is there anything wrong with it?"
      ]
    },
    {
      "metadata": {
        "id": "BtxW1HDQ7NLz",
        "colab_type": "text"
      },
      "cell_type": "markdown",
      "source": [
        "###The mid-point method"
      ]
    },
    {
      "metadata": {
        "id": "w3a1UQ1_7NL1",
        "colab_type": "text"
      },
      "cell_type": "markdown",
      "source": [
        "###4th order Runge-Kutta"
      ]
    }
  ]
}