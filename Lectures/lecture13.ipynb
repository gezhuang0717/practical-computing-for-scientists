{
  "nbformat": 4,
  "nbformat_minor": 0,
  "metadata": {
    "colab": {
      "name": "lecture13.ipynb",
      "version": "0.3.2",
      "provenance": [],
      "collapsed_sections": [
        "8087Hpf6Gi8s",
        "Qrrtsd9dGi8u",
        "HAD62NUSGi8x",
        "XGtVH0IAGnsf",
        "QEkYIbP_Gi9B",
        "82zft3JSGi9B",
        "L7kcep_WGi9E",
        "YBmXaBsU_31g",
        "C7S0FOvn_31q",
        "MI_YQ_OV_32L",
        "ecreO3eE_32T",
        "TIrFa5cV_32b",
        "YsMNEjiB_32f"
      ],
      "include_colab_link": true
    },
    "kernelspec": {
      "name": "python3",
      "display_name": "Python 3"
    }
  },
  "cells": [
    {
      "cell_type": "markdown",
      "metadata": {
        "id": "view-in-github",
        "colab_type": "text"
      },
      "source": [
        "<a href=\"https://colab.research.google.com/github/wdconinc/practical-computing-for-scientists/blob/master/Lectures/lecture13.ipynb\" target=\"_parent\"><img src=\"https://colab.research.google.com/assets/colab-badge.svg\" alt=\"Open In Colab\"/></a>"
      ]
    },
    {
      "metadata": {
        "id": "8087Hpf6Gi8s",
        "colab_type": "text"
      },
      "cell_type": "markdown",
      "source": [
        "# Lecture #13"
      ]
    },
    {
      "metadata": {
        "id": "Qrrtsd9dGi8u",
        "colab_type": "text"
      },
      "cell_type": "markdown",
      "source": [
        "##Standard Preamble"
      ]
    },
    {
      "metadata": {
        "id": "l8lJtt7PGi8u",
        "colab_type": "code",
        "colab": {}
      },
      "cell_type": "code",
      "source": [
        "%matplotlib inline\n",
        "import numpy as np\n",
        "import scipy as sp\n",
        "import matplotlib.pyplot as plt\n",
        "import math"
      ],
      "execution_count": 0,
      "outputs": []
    },
    {
      "metadata": {
        "id": "HAD62NUSGi8x",
        "colab_type": "text"
      },
      "cell_type": "markdown",
      "source": [
        "##In our last episode"
      ]
    },
    {
      "metadata": {
        "id": "vwBgjD_fGi8x",
        "colab_type": "text"
      },
      "cell_type": "markdown",
      "source": [
        "* Optimization\n",
        "  * Minima and maxima of functions. Local and global.\n",
        "  * Bracketing minima\n",
        "  * The golden section search\n",
        "  * Newton's method: $\\Delta x = -f'(x)/f''(x)$ \n",
        "  "
      ]
    },
    {
      "metadata": {
        "id": "XGtVH0IAGnsf",
        "colab_type": "text"
      },
      "cell_type": "markdown",
      "source": [
        "## The Newton method for scalar functions of one variable"
      ]
    },
    {
      "metadata": {
        "id": "WGgJfp7pGi8-",
        "colab_type": "text"
      },
      "cell_type": "markdown",
      "source": [
        "As you know, from calculus, we can expand any well behaved function $f(x)$ in a series around a point $\\bar{x}$:\n",
        "\n",
        "$$f(x) = f(\\bar{x}) + \\frac{\\partial f}{\\partial x}\\big|_\\bar{x}(x-\\bar{x}) + \\frac{\\partial^2 f}{\\partial x^2}\\big|_\\bar{x} \\frac{1}{2}(x-\\bar{x})^2 $$\n",
        "\n",
        "or with $\\Delta x = x - \\bar{x}$\n",
        "\n",
        "\n",
        "$$f(x) = f(\\bar{x} + \\Delta x) = f(\\bar{x}) + \\frac{\\partial f}{\\partial x}\\big|_\\bar{x} \\Delta x + \\frac{\\partial^2 f}{\\partial x^2}\\big|_\\bar{x} \\frac{1}{2} \\Delta x^2 $$"
      ]
    },
    {
      "metadata": {
        "id": "UcEAdMbDexlL",
        "colab_type": "text"
      },
      "cell_type": "markdown",
      "source": [
        "We will successively improve our estimate of the minimum by choosing different points $\\bar{x}_n$ that are closer to the minimum. We want $\\bar{x}_n$ to be a stationary point, so that\n",
        "$$ \\frac{df(\\bar{x} + \\Delta x)}{d\\Delta x} = 0$$\n",
        "\n",
        "This happens when \n",
        "$$ \\frac{\\partial f}{\\partial x}\\big|_{\\bar{x}_n} + \\frac{\\partial^2 f}{\\partial x^2}\\big|_{\\bar{x}_n} \\Delta x = 0 $$\n",
        "\n",
        "So we update successively with this $\\Delta x$:\n",
        "$$ \\bar{x}_{n+1} = \\bar{x}_n + \\Delta x =\\bar{x}_n - \\frac{\\partial f}{\\partial x}\\big|_{\\bar{x}_n} / \\frac{\\partial^2 f}{\\partial x^2}\\big|_{\\bar{x}_n} $$\n"
      ]
    },
    {
      "metadata": {
        "id": "Q73EPZjMGnsg",
        "colab_type": "code",
        "colab": {}
      },
      "cell_type": "code",
      "source": [
        "f = lambda x : (x - 0.25)**2\n",
        "\n",
        "def D(f, x, h = 1e-6):\n",
        "    temp = x+h\n",
        "    h = temp-x\n",
        "    return (f(x+h) - f(x-h)) / (2*h)\n",
        "\n",
        "def DD(f, x, h = 1e-6):\n",
        "    temp = x+h\n",
        "    h = temp-x\n",
        "    return (f(x+h) + f(x-h) - 2*f(x)) / h**2\n",
        "\n",
        "\n",
        "def newton_optimize(f, xlow, xhigh, df = None, ddf = None, accuracy = 1e-6, nmax = 100):\n",
        "    xbar = xlow\n",
        "    fbar = f(xlow)\n",
        "    fhigh = f(xhigh)\n",
        "    if fhigh < fbar: \n",
        "        xbar, fbar = xhigh,fhigh\n",
        "\n",
        "    # if user doesn't supply 1st and 2nd derivatives\n",
        "    # make function objects to evaluate them\n",
        "    if df == None:\n",
        "        df = lambda x : D(f,x)\n",
        "    if ddf == None:\n",
        "        ddf = lambda x : DD(f,x)\n",
        "\n",
        "    for i in range(nmax):\n",
        "        x = xbar - df(xbar) / ddf(xbar)\n",
        "        print(i, xbar, x, df(xbar), ddf(xbar))\n",
        "        if math.fabs(x - xbar) < accuracy:\n",
        "            return x, f(x)\n",
        "        else:\n",
        "            xbar = x\n",
        "    raise ArithmeticError(\"Failed to converge\")"
      ],
      "execution_count": 0,
      "outputs": []
    },
    {
      "metadata": {
        "id": "MJIHiMemecb5",
        "colab_type": "code",
        "outputId": "2103e6fe-77bb-4bab-b2f0-f9adddb00db1",
        "colab": {
          "base_uri": "https://localhost:8080/",
          "height": 87
        }
      },
      "cell_type": "code",
      "source": [
        "print(newton_optimize(f, -1.0, +1.0))"
      ],
      "execution_count": 0,
      "outputs": [
        {
          "output_type": "stream",
          "text": [
            "0 1.0 0.24998340846627554 1.5 1.9999557568888162\n",
            "1 0.24998340846627554 0.25 -3.318306744892752e-05 2.000000000000025\n",
            "2 0.25 0.25 0.0 2.0\n",
            "(0.25, 0.0)\n"
          ],
          "name": "stdout"
        }
      ]
    },
    {
      "metadata": {
        "id": "QEkYIbP_Gi9B",
        "colab_type": "text"
      },
      "cell_type": "markdown",
      "source": [
        "## The Newton method for scalar functions of more than one variable"
      ]
    },
    {
      "metadata": {
        "id": "82zft3JSGi9B",
        "colab_type": "text"
      },
      "cell_type": "markdown",
      "source": [
        "###The partial derivative"
      ]
    },
    {
      "metadata": {
        "id": "bmjfm7itXtdC",
        "colab_type": "text"
      },
      "cell_type": "markdown",
      "source": [
        "Consider the function $f(x_0,x_1,x_2) = 2 x_0 + 3 x_1 + 5 x_1 x_2$\n",
        "\n",
        "It is easier to consider the arguments $x_i$ to be part of a single vector argument $\\vec{x}$"
      ]
    },
    {
      "metadata": {
        "id": "QIgOqG7eGi9C",
        "colab_type": "code",
        "colab": {}
      },
      "cell_type": "code",
      "source": [
        "def partial(f, i, h = 1e-6):\n",
        "    ''' \n",
        "        Returns a function object to compute the partial derivative of f with respect to x[i].\n",
        "        \n",
        "        f(x) is assumed to be a scalar function of a vector or scalar argument x.\n",
        "    '''\n",
        "    def df(x, f = f, i = i, h = h):\n",
        "        x = np.array(x, dtype = np.float64) # make a copy and assure the use of 64-bit floats\n",
        "        x[i] += h\n",
        "        f_plus = f(x)\n",
        "        x[i] -= 2*h\n",
        "        f_minus = f(x)\n",
        "        return (f_plus - f_minus) / (2.0*h)\n",
        "    # note, partial() returns a function object, not the result of the function\n",
        "    return df\n",
        "\n",
        "fmulti = lambda x: 2*x[0] + 3*x[1] + 5*x[1]*x[2]"
      ],
      "execution_count": 0,
      "outputs": []
    },
    {
      "metadata": {
        "id": "CLuDzQZPYjpD",
        "colab_type": "code",
        "outputId": "4dba1328-6fef-4382-e545-94bb592af568",
        "colab": {
          "base_uri": "https://localhost:8080/",
          "height": 35
        }
      },
      "cell_type": "code",
      "source": [
        "df0 = partial(fmulti,0)\n",
        "v = [1,1,1]\n",
        "print(df0(v))"
      ],
      "execution_count": 0,
      "outputs": [
        {
          "output_type": "stream",
          "text": [
            "2.000000000279556\n"
          ],
          "name": "stdout"
        }
      ]
    },
    {
      "metadata": {
        "id": "9mP0I99IYnOw",
        "colab_type": "code",
        "outputId": "37c70e0f-5f51-42a3-9da8-246014e48f2b",
        "colab": {
          "base_uri": "https://localhost:8080/",
          "height": 35
        }
      },
      "cell_type": "code",
      "source": [
        "df1 = partial(fmulti,1)\n",
        "df2 = partial(fmulti,2)\n",
        "print(df1(v),df2(v))"
      ],
      "execution_count": 0,
      "outputs": [
        {
          "output_type": "stream",
          "text": [
            "7.999999999341867 4.999999999810711\n"
          ],
          "name": "stdout"
        }
      ]
    },
    {
      "metadata": {
        "id": "lDMqrXq6YnDe",
        "colab_type": "code",
        "outputId": "b22b5183-244f-4bac-e0ed-20c8593c3ff4",
        "colab": {
          "base_uri": "https://localhost:8080/",
          "height": 35
        }
      },
      "cell_type": "code",
      "source": [
        "df12 = partial(df1,2)\n",
        "print(df12(v))"
      ],
      "execution_count": 0,
      "outputs": [
        {
          "output_type": "stream",
          "text": [
            "4.999556324492005\n"
          ],
          "name": "stdout"
        }
      ]
    },
    {
      "metadata": {
        "id": "L7kcep_WGi9E",
        "colab_type": "text"
      },
      "cell_type": "markdown",
      "source": [
        "###A little bit about matrices"
      ]
    },
    {
      "metadata": {
        "id": "ZXgsv1G4Gi9E",
        "colab_type": "text"
      },
      "cell_type": "markdown",
      "source": [
        "We now need to represent vector quantities such as $\\nabla f(\\vec{x})$ and the Hessian matrix $H$. This means using matrices and matrix algebra.  Here's a quick introduction:"
      ]
    },
    {
      "metadata": {
        "id": "b3_xs7G6Gi9F",
        "colab_type": "code",
        "outputId": "ce3f6ba7-d6e3-42b3-843d-ed833c924d19",
        "colab": {
          "base_uri": "https://localhost:8080/",
          "height": 69
        }
      },
      "cell_type": "code",
      "source": [
        "import numpy.matlib as ml\n",
        "\n",
        "# make a 2x2 (row x column) matrix\n",
        "M = ml.matrix([[1,2],[3,4]])\n",
        "print(M)\n",
        "print(type(M))"
      ],
      "execution_count": 0,
      "outputs": [
        {
          "output_type": "stream",
          "text": [
            "[[1 2]\n",
            " [3 4]]\n",
            "<class 'numpy.matrixlib.defmatrix.matrix'>\n"
          ],
          "name": "stdout"
        }
      ]
    },
    {
      "metadata": {
        "id": "VTaybSDTYN6a",
        "colab_type": "code",
        "outputId": "ebb052c8-6f4d-47c1-89ae-40ae6a77b96d",
        "colab": {
          "base_uri": "https://localhost:8080/",
          "height": 69
        }
      },
      "cell_type": "code",
      "source": [
        "# make a 1x2 \"matrix\" (a.k.a. a row vector)\n",
        "V = ml.matrix([1,2])\n",
        "VT = ml.matrix([[1],[2]])\n",
        "print(V)\n",
        "print(V.T) # the transpose of V = a 2x1 matrix = a column vector"
      ],
      "execution_count": 0,
      "outputs": [
        {
          "output_type": "stream",
          "text": [
            "[[1 2]]\n",
            "[[1]\n",
            " [2]]\n"
          ],
          "name": "stdout"
        }
      ]
    },
    {
      "metadata": {
        "id": "FiOEC9npAW19",
        "colab_type": "code",
        "outputId": "024beb08-c9f2-4e1d-d603-f5642fa76975",
        "colab": {
          "base_uri": "https://localhost:8080/",
          "height": 52
        }
      },
      "cell_type": "code",
      "source": [
        "print(VT)"
      ],
      "execution_count": 0,
      "outputs": [
        {
          "output_type": "stream",
          "text": [
            "[[1]\n",
            " [2]]\n"
          ],
          "name": "stdout"
        }
      ]
    },
    {
      "metadata": {
        "id": "_Gmbq69fYNZH",
        "colab_type": "code",
        "outputId": "47d8746f-2c85-4d74-9ea8-0633d5066285",
        "colab": {
          "base_uri": "https://localhost:8080/",
          "height": 121
        }
      },
      "cell_type": "code",
      "source": [
        "print(M.dot(V.T)) # the dot product\n",
        "print(M.I) # the matrix inverse\n",
        "print(M.I * M) # checking the inverse. * is a other way to take the dot product"
      ],
      "execution_count": 0,
      "outputs": [
        {
          "output_type": "stream",
          "text": [
            "[[ 5]\n",
            " [11]]\n",
            "[[-2.   1. ]\n",
            " [ 1.5 -0.5]]\n",
            "[[1.00000000e+00 0.00000000e+00]\n",
            " [1.11022302e-16 1.00000000e+00]]\n"
          ],
          "name": "stdout"
        }
      ]
    },
    {
      "metadata": {
        "id": "YBmXaBsU_31g",
        "colab_type": "text"
      },
      "cell_type": "markdown",
      "source": [
        "###The gradient"
      ]
    },
    {
      "metadata": {
        "id": "k_8zTMaz_31l",
        "colab_type": "code",
        "colab": {}
      },
      "cell_type": "code",
      "source": [
        "def gradient(f, x, h = 1e-6):\n",
        "    ''' return the gradient of f(x) as a column vector with length = len(x) '''\n",
        "    v = ml.matrix([partial(f, i, h = h)(x) for i in range(len(x))], dtype = np.float64)\n",
        "    return v.T"
      ],
      "execution_count": 0,
      "outputs": []
    },
    {
      "metadata": {
        "id": "j5CzUekFIk9K",
        "colab_type": "text"
      },
      "cell_type": "markdown",
      "source": [
        "What is the gradient of $f(x_0,x_1,x_2) = 2 x_0 + 3 x_1 + 5 x_1 x_2$ at $\\vec{x} = (1,1,1)$?"
      ]
    },
    {
      "metadata": {
        "id": "KVMEO47YIjBY",
        "colab_type": "code",
        "outputId": "fb8218af-42d3-465f-e0d7-6a78a570dd15",
        "colab": {
          "base_uri": "https://localhost:8080/",
          "height": 69
        }
      },
      "cell_type": "code",
      "source": [
        "v = [1,1,1]\n",
        "print(gradient(fmulti,v))"
      ],
      "execution_count": 0,
      "outputs": [
        {
          "output_type": "stream",
          "text": [
            "[[2.]\n",
            " [8.]\n",
            " [5.]]\n"
          ],
          "name": "stdout"
        }
      ]
    },
    {
      "metadata": {
        "id": "C7S0FOvn_31q",
        "colab_type": "text"
      },
      "cell_type": "markdown",
      "source": [
        "###The Hessian matrix"
      ]
    },
    {
      "metadata": {
        "id": "mIuC19CyY80w",
        "colab_type": "text"
      },
      "cell_type": "markdown",
      "source": [
        "$$\\mathbf{H} = \\begin{bmatrix}\n",
        "\\dfrac{\\partial^{2}f}{\\partial x_{1}^{2}} & \\dfrac{\\partial^{2}f}{\\partial x_{1}\\,\\partial x_{2}} & \\cdots & \\dfrac {\\partial^{2}f}{\\partial x_{1}\\,\\partial x_{n}} \\\\[2.2ex]\n",
        "\\dfrac{\\partial^{2}f}{\\partial x_{2}\\,\\partial x_{1}} & \\dfrac {\\partial^{2}f}{\\partial x_{2}^{2}} & \\cdots & \\dfrac {\\partial^{2}f}{\\partial x_{2}\\,\\partial x_{n}} \\\\[2.2ex]\n",
        "\\vdots & \\vdots &\\ddots &\\vdots \\\\[2.2ex]\n",
        "\\dfrac{\\partial^{2}f}{\\partial x_{n}\\,\\partial x_{1}} & \\dfrac {\\partial^{2}f}{\\partial x_{n}\\,\\partial x_{2}} & \\cdots & \\dfrac {\\partial^{2}f}{\\partial x_{n}^{2}}\n",
        "\\end{bmatrix}$$"
      ]
    },
    {
      "metadata": {
        "id": "S97ceSpw_31q",
        "colab_type": "code",
        "colab": {}
      },
      "cell_type": "code",
      "source": [
        "def hessian(f, x, h = 1e-6):\n",
        "    ''' returns the two dimensional matrix of second partial derivatives of f(x). a.k.a. the Hessian matrix '''\n",
        "    v = [ \n",
        "          [ partial(partial(f,column),row)(x) for column in range(len(x)) ]\n",
        "        for row in range(len(x))]\n",
        "    mx = ml.matrix(v, dtype = np.float64)\n",
        "    return ml.matrix(v,dtype = np.float64)"
      ],
      "execution_count": 0,
      "outputs": []
    },
    {
      "metadata": {
        "id": "67tc1G8BJVLy",
        "colab_type": "code",
        "outputId": "15b2a6ff-f799-4eb3-fe9b-67d7b61611f2",
        "colab": {
          "base_uri": "https://localhost:8080/",
          "height": 69
        }
      },
      "cell_type": "code",
      "source": [
        "print(hessian(fmulti,v))"
      ],
      "execution_count": 0,
      "outputs": [
        {
          "output_type": "stream",
          "text": [
            "[[0.         0.         0.        ]\n",
            " [0.         0.         4.99955632]\n",
            " [0.         4.99955632 0.        ]]\n"
          ],
          "name": "stdout"
        }
      ]
    },
    {
      "metadata": {
        "id": "SexCzUvcJqYz",
        "colab_type": "text"
      },
      "cell_type": "markdown",
      "source": [
        "Remember what we are trying to obtain! In analogy with the one-dimensional function increment $\\Delta x = -f'(x) / f''(x)$ we now want\n",
        "\n",
        "$$ \\Delta\\vec{x} = - [H f(\\vec{x})]^{-1} \\nabla f(\\vec{x}) $$"
      ]
    },
    {
      "metadata": {
        "id": "WyjlMzCQKL-z",
        "colab_type": "text"
      },
      "cell_type": "markdown",
      "source": [
        "So, for $f(\\vec{x}) = f(x_0,x_1,x_2) = 2 x_0 + 3 x_1 + 5 x_1 x_2$ at $\\vec{x} = (1,1,1)$ we expect to need the inverse of the Hessian:"
      ]
    },
    {
      "metadata": {
        "id": "-e7-BWZ_Jg30",
        "colab_type": "code",
        "outputId": "a216dd17-2960-49d8-bfcf-2c14debcf9c0",
        "colab": {
          "base_uri": "https://localhost:8080/",
          "height": 401
        }
      },
      "cell_type": "code",
      "source": [
        "print(hessian(fmulti,v).I)"
      ],
      "execution_count": 0,
      "outputs": [
        {
          "output_type": "error",
          "ename": "LinAlgError",
          "evalue": "ignored",
          "traceback": [
            "\u001b[0;31m---------------------------------------------------------------------------\u001b[0m",
            "\u001b[0;31mLinAlgError\u001b[0m                               Traceback (most recent call last)",
            "\u001b[0;32m<ipython-input-26-62603cc5f65b>\u001b[0m in \u001b[0;36m<module>\u001b[0;34m()\u001b[0m\n\u001b[0;32m----> 1\u001b[0;31m \u001b[0mprint\u001b[0m\u001b[0;34m(\u001b[0m\u001b[0mhessian\u001b[0m\u001b[0;34m(\u001b[0m\u001b[0mfmulti\u001b[0m\u001b[0;34m,\u001b[0m\u001b[0mv\u001b[0m\u001b[0;34m)\u001b[0m\u001b[0;34m.\u001b[0m\u001b[0mI\u001b[0m\u001b[0;34m)\u001b[0m\u001b[0;34m\u001b[0m\u001b[0m\n\u001b[0m",
            "\u001b[0;32m/usr/local/lib/python3.6/dist-packages/numpy/matrixlib/defmatrix.py\u001b[0m in \u001b[0;36mgetI\u001b[0;34m(self)\u001b[0m\n\u001b[1;32m    923\u001b[0m         \u001b[0;32melse\u001b[0m\u001b[0;34m:\u001b[0m\u001b[0;34m\u001b[0m\u001b[0m\n\u001b[1;32m    924\u001b[0m             \u001b[0;32mfrom\u001b[0m \u001b[0mnumpy\u001b[0m\u001b[0;34m.\u001b[0m\u001b[0mdual\u001b[0m \u001b[0;32mimport\u001b[0m \u001b[0mpinv\u001b[0m \u001b[0;32mas\u001b[0m \u001b[0mfunc\u001b[0m\u001b[0;34m\u001b[0m\u001b[0m\n\u001b[0;32m--> 925\u001b[0;31m         \u001b[0;32mreturn\u001b[0m \u001b[0masmatrix\u001b[0m\u001b[0;34m(\u001b[0m\u001b[0mfunc\u001b[0m\u001b[0;34m(\u001b[0m\u001b[0mself\u001b[0m\u001b[0;34m)\u001b[0m\u001b[0;34m)\u001b[0m\u001b[0;34m\u001b[0m\u001b[0m\n\u001b[0m\u001b[1;32m    926\u001b[0m \u001b[0;34m\u001b[0m\u001b[0m\n\u001b[1;32m    927\u001b[0m     \u001b[0;32mdef\u001b[0m \u001b[0mgetA\u001b[0m\u001b[0;34m(\u001b[0m\u001b[0mself\u001b[0m\u001b[0;34m)\u001b[0m\u001b[0;34m:\u001b[0m\u001b[0;34m\u001b[0m\u001b[0m\n",
            "\u001b[0;32m/usr/local/lib/python3.6/dist-packages/scipy/linalg/basic.py\u001b[0m in \u001b[0;36minv\u001b[0;34m(a, overwrite_a, check_finite)\u001b[0m\n\u001b[1;32m    817\u001b[0m         \u001b[0minv_a\u001b[0m\u001b[0;34m,\u001b[0m \u001b[0minfo\u001b[0m \u001b[0;34m=\u001b[0m \u001b[0mgetri\u001b[0m\u001b[0;34m(\u001b[0m\u001b[0mlu\u001b[0m\u001b[0;34m,\u001b[0m \u001b[0mpiv\u001b[0m\u001b[0;34m,\u001b[0m \u001b[0mlwork\u001b[0m\u001b[0;34m=\u001b[0m\u001b[0mlwork\u001b[0m\u001b[0;34m,\u001b[0m \u001b[0moverwrite_lu\u001b[0m\u001b[0;34m=\u001b[0m\u001b[0;36m1\u001b[0m\u001b[0;34m)\u001b[0m\u001b[0;34m\u001b[0m\u001b[0m\n\u001b[1;32m    818\u001b[0m     \u001b[0;32mif\u001b[0m \u001b[0minfo\u001b[0m \u001b[0;34m>\u001b[0m \u001b[0;36m0\u001b[0m\u001b[0;34m:\u001b[0m\u001b[0;34m\u001b[0m\u001b[0m\n\u001b[0;32m--> 819\u001b[0;31m         \u001b[0;32mraise\u001b[0m \u001b[0mLinAlgError\u001b[0m\u001b[0;34m(\u001b[0m\u001b[0;34m\"singular matrix\"\u001b[0m\u001b[0;34m)\u001b[0m\u001b[0;34m\u001b[0m\u001b[0m\n\u001b[0m\u001b[1;32m    820\u001b[0m     \u001b[0;32mif\u001b[0m \u001b[0minfo\u001b[0m \u001b[0;34m<\u001b[0m \u001b[0;36m0\u001b[0m\u001b[0;34m:\u001b[0m\u001b[0;34m\u001b[0m\u001b[0m\n\u001b[1;32m    821\u001b[0m         raise ValueError('illegal value in %d-th argument of internal '\n",
            "\u001b[0;31mLinAlgError\u001b[0m: singular matrix"
          ]
        }
      ]
    },
    {
      "metadata": {
        "id": "MI_YQ_OV_32L",
        "colab_type": "text"
      },
      "cell_type": "markdown",
      "source": [
        "####A test function: $f(\\vec{x})=(x-1)^2 + (y-2)^2$ "
      ]
    },
    {
      "metadata": {
        "id": "1gtE2z_PZxZ-",
        "colab_type": "text"
      },
      "cell_type": "markdown",
      "source": [
        "Using obscure `numpy.mgrid` tricks instead of `numpy.meshgrid`... See https://docs.scipy.org/doc/numpy/reference/generated/numpy.mgrid.html"
      ]
    },
    {
      "metadata": {
        "id": "R3jUp4RB_32M",
        "colab_type": "code",
        "colab": {}
      },
      "cell_type": "code",
      "source": [
        "f = lambda x : (x[0] - 1)**2 + (x[1] - 2)**2\n",
        "x0, x1 = np.mgrid[-2.5:3:101j, 0:4:101j]"
      ],
      "execution_count": 0,
      "outputs": []
    },
    {
      "metadata": {
        "id": "xv4dTAqEKm5t",
        "colab_type": "code",
        "outputId": "ee989f1e-4b3d-4ce5-e775-b64ca0a5f3b3",
        "colab": {
          "base_uri": "https://localhost:8080/",
          "height": 238
        }
      },
      "cell_type": "code",
      "source": [
        "print(x0,x1)"
      ],
      "execution_count": 0,
      "outputs": [
        {
          "output_type": "stream",
          "text": [
            "[[-2.5   -2.5   -2.5   ... -2.5   -2.5   -2.5  ]\n",
            " [-2.445 -2.445 -2.445 ... -2.445 -2.445 -2.445]\n",
            " [-2.39  -2.39  -2.39  ... -2.39  -2.39  -2.39 ]\n",
            " ...\n",
            " [ 2.89   2.89   2.89  ...  2.89   2.89   2.89 ]\n",
            " [ 2.945  2.945  2.945 ...  2.945  2.945  2.945]\n",
            " [ 3.     3.     3.    ...  3.     3.     3.   ]] [[0.   0.04 0.08 ... 3.92 3.96 4.  ]\n",
            " [0.   0.04 0.08 ... 3.92 3.96 4.  ]\n",
            " [0.   0.04 0.08 ... 3.92 3.96 4.  ]\n",
            " ...\n",
            " [0.   0.04 0.08 ... 3.92 3.96 4.  ]\n",
            " [0.   0.04 0.08 ... 3.92 3.96 4.  ]\n",
            " [0.   0.04 0.08 ... 3.92 3.96 4.  ]]\n"
          ],
          "name": "stdout"
        }
      ]
    },
    {
      "metadata": {
        "id": "cznpFdnzK_p-",
        "colab_type": "code",
        "outputId": "8198f0f0-b4a5-4b52-ef04-94ba4297f140",
        "colab": {
          "base_uri": "https://localhost:8080/",
          "height": 286
        }
      },
      "cell_type": "code",
      "source": [
        "plt.contourf(x0, x1, f([x0,x1]))"
      ],
      "execution_count": 0,
      "outputs": [
        {
          "output_type": "execute_result",
          "data": {
            "text/plain": [
              "<matplotlib.contour.QuadContourSet at 0x7f17e36e6cc0>"
            ]
          },
          "metadata": {
            "tags": []
          },
          "execution_count": 29
        },
        {
          "output_type": "display_data",
          "data": {
            "image/png": "[encoded data removed]",
            "text/plain": [
              "<matplotlib.figure.Figure at 0x7f17e3700748>"
            ]
          },
          "metadata": {
            "tags": []
          }
        }
      ]
    },
    {
      "metadata": {
        "id": "ecreO3eE_32T",
        "colab_type": "text"
      },
      "cell_type": "markdown",
      "source": [
        "####The `multi_newton` function"
      ]
    },
    {
      "metadata": {
        "id": "tJfAHwvM_32W",
        "colab_type": "code",
        "colab": {}
      },
      "cell_type": "code",
      "source": [
        "def multi_newton(f, xguess, h = 1e-6, accuracy = 1e-6, nmax = 100, want_points = False, debug = False, gamma = 1.0):\n",
        "    xbar = ml.matrix(xguess, dtype = np.float64).T # to get a column vector\n",
        "    xpoints = [xbar.A1[0]]\n",
        "    ypoints = [xbar.A1[1]]\n",
        "    for i in range(nmax):\n",
        "        H = hessian(f, xbar.A1)\n",
        "        grad = gradient(f, xbar.A1) # to get a column vector\n",
        "        if debug:\n",
        "            print(\"iteration \", i)\n",
        "            print(\"xbar\", xbar)\n",
        "            print(\"grad=\", grad)\n",
        "            print(\"H=\", H)\n",
        "            print(\"H.I=\", H.I)\n",
        "            print(\"H.I.dot(grad)\", H.I.dot(grad))\n",
        "        x = xbar - gamma * H.I.dot(grad)\n",
        "        if debug: print(\"x=\", x)\n",
        "        xpoints.append(x.A1[0])\n",
        "        ypoints.append(x.A1[1])\n",
        "        if np.sum((x.A1 - xbar.A1)**2) < accuracy**2:\n",
        "            if not want_points:\n",
        "                return x.A1\n",
        "            else:\n",
        "                return x.A1, xpoints, ypoints\n",
        "        else:\n",
        "            xbar = x\n",
        "    raise ArithmeticError(\"Failed to converge\")"
      ],
      "execution_count": 0,
      "outputs": []
    },
    {
      "metadata": {
        "id": "0D0UDYazLutN",
        "colab_type": "code",
        "outputId": "8b1a21f2-e84b-4fef-8285-31f2b394f98e",
        "colab": {
          "base_uri": "https://localhost:8080/",
          "height": 34
        }
      },
      "cell_type": "code",
      "source": [
        "multi_newton(f, [1,1])"
      ],
      "execution_count": 0,
      "outputs": [
        {
          "output_type": "execute_result",
          "data": {
            "text/plain": [
              "array([1., 2.])"
            ]
          },
          "metadata": {
            "tags": []
          },
          "execution_count": 31
        }
      ]
    },
    {
      "metadata": {
        "id": "xie4_82eLzFR",
        "colab_type": "code",
        "outputId": "5896fcc5-bbf2-4099-fe86-d52fc65e3d84",
        "colab": {
          "base_uri": "https://localhost:8080/",
          "height": 697
        }
      },
      "cell_type": "code",
      "source": [
        "multi_newton(f, [1,1], debug = True)"
      ],
      "execution_count": 0,
      "outputs": [
        {
          "output_type": "stream",
          "text": [
            "iteration  0\n",
            "xbar [[1.]\n",
            " [1.]]\n",
            "grad= [[ 0.]\n",
            " [-2.]]\n",
            "H= [[1.99995576 0.        ]\n",
            " [0.         1.99998351]]\n",
            "H.I= [[ 0.50001106 -0.        ]\n",
            " [ 0.          0.50000412]]\n",
            "H.I.dot(grad) [[ 0.        ]\n",
            " [-1.00000824]]\n",
            "x= [[1.        ]\n",
            " [2.00000824]]\n",
            "iteration  1\n",
            "xbar [[1.        ]\n",
            " [2.00000824]]\n",
            "grad= [[-1.11023148e-16]\n",
            " [ 1.64881136e-05]]\n",
            "H= [[2. 0.]\n",
            " [0. 2.]]\n",
            "H.I= [[ 0.5 -0. ]\n",
            " [ 0.   0.5]]\n",
            "H.I.dot(grad) [[-5.55115739e-17]\n",
            " [ 8.24405679e-06]]\n",
            "x= [[1.]\n",
            " [2.]]\n",
            "iteration  2\n",
            "xbar [[1.]\n",
            " [2.]]\n",
            "grad= [[-1.11022239e-16]\n",
            " [-1.55431226e-15]]\n",
            "H= [[2.00000000e+00 1.00974196e-16]\n",
            " [1.00974196e-16 2.00000000e+00]]\n",
            "H.I= [[ 5.0000000e-01 -2.5243549e-17]\n",
            " [-2.5243549e-17  5.0000000e-01]]\n",
            "H.I.dot(grad) [[-5.55111195e-17]\n",
            " [-7.77156128e-16]]\n",
            "x= [[1.]\n",
            " [2.]]\n"
          ],
          "name": "stdout"
        },
        {
          "output_type": "execute_result",
          "data": {
            "text/plain": [
              "array([1., 2.])"
            ]
          },
          "metadata": {
            "tags": []
          },
          "execution_count": 32
        }
      ]
    },
    {
      "metadata": {
        "id": "yF4YqGIwK3Pb",
        "colab_type": "code",
        "outputId": "38bf0d16-de54-4dfc-f9b6-03f901375472",
        "colab": {
          "base_uri": "https://localhost:8080/",
          "height": 286
        }
      },
      "cell_type": "code",
      "source": [
        "minx, x0points, x1points = multi_newton(f, [1,1], want_points = True)\n",
        "\n",
        "plt.contour(x0, x1, f([x0,x1]))\n",
        "plt.plot(x0points, x1points, '-or')"
      ],
      "execution_count": 0,
      "outputs": [
        {
          "output_type": "execute_result",
          "data": {
            "text/plain": [
              "[<matplotlib.lines.Line2D at 0x7f17e0dfb668>]"
            ]
          },
          "metadata": {
            "tags": []
          },
          "execution_count": 36
        },
        {
          "output_type": "display_data",
          "data": {
            "image/png": "[encoded data removed]",
            "text/plain": [
              "<matplotlib.figure.Figure at 0x7f17e0d600b8>"
            ]
          },
          "metadata": {
            "tags": []
          }
        }
      ]
    },
    {
      "metadata": {
        "id": "TIrFa5cV_32b",
        "colab_type": "text"
      },
      "cell_type": "markdown",
      "source": [
        "####A somewhat more difficult test function"
      ]
    },
    {
      "metadata": {
        "id": "yJggLZpe_32c",
        "colab_type": "code",
        "colab": {}
      },
      "cell_type": "code",
      "source": [
        "fharder = lambda x : 1 - x[0]*np.exp(-x[0]) + (x[1] - 2)**2"
      ],
      "execution_count": 0,
      "outputs": []
    },
    {
      "metadata": {
        "id": "YsMNEjiB_32f",
        "colab_type": "text"
      },
      "cell_type": "markdown",
      "source": [
        "####Testing `multi_newton` on the new test function"
      ]
    },
    {
      "metadata": {
        "id": "rWLq2cdq_32f",
        "colab_type": "code",
        "outputId": "1e92aa8d-31dc-4b68-88ae-585a89637a5b",
        "colab": {
          "base_uri": "https://localhost:8080/",
          "height": 323
        }
      },
      "cell_type": "code",
      "source": [
        "minx, x0points, x1points = multi_newton(fharder, [1.8,2.8], want_points = True)\n",
        "x0, x1 = np.mgrid[-2.5:4:101j, 0:4:101j]\n",
        "cs = plt.contour(x0, x1, fharder([x0,x1]), 100)\n",
        "plt.colorbar(cs)\n",
        "print(x0points, x1points)\n",
        "plt.plot(x0points, x1points, \"-or\")"
      ],
      "execution_count": 0,
      "outputs": [
        {
          "output_type": "stream",
          "text": [
            "[1.8, -2.1983358501279326, -1.4365352011962584, -0.7274950710460142, -0.0941298905775868, 0.42835729020751223, 0.7920926146505111, 0.9642127195718708, 0.9987703048382844, 0.9999985711336329, 0.9999999998775031, 1.0000000000284008] [2.8, 1.9998713237523558, 2.000000045209486, 1.999999999916413, 2.000000000027438, 1.9999999999719271, 1.9999999999996825, 1.9999999999996825, 1.9999999999996825, 1.9999999999996825, 1.9999999999996825, 1.9999999999996825]\n"
          ],
          "name": "stdout"
        },
        {
          "output_type": "execute_result",
          "data": {
            "text/plain": [
              "[<matplotlib.lines.Line2D at 0x7f17e059e320>]"
            ]
          },
          "metadata": {
            "tags": []
          },
          "execution_count": 42
        },
        {
          "output_type": "display_data",
          "data": {
            "image/png": "[encoded data removed]",
            "text/plain": [
              "<matplotlib.figure.Figure at 0x7f17e06d7048>"
            ]
          },
          "metadata": {
            "tags": []
          }
        }
      ]
    },
    {
      "metadata": {
        "id": "e2iTSCu8MNxB",
        "colab_type": "code",
        "colab": {}
      },
      "cell_type": "code",
      "source": [
        ""
      ],
      "execution_count": 0,
      "outputs": []
    }
  ]
}