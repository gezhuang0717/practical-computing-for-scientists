{
  "nbformat": 4,
  "nbformat_minor": 0,
  "metadata": {
    "colab": {
      "name": "lecture08.ipynb",
      "version": "0.3.2",
      "provenance": [],
      "collapsed_sections": [
        "_CQbA4UBubPI",
        "s_K16zWtubPL",
        "Tzw7jjAVubPv",
        "9XGJJhXmubPw",
        "WyeletXtubP4",
        "ybq3Lsv8T0_o",
        "Jnpot6JMubP_"
      ],
      "include_colab_link": true
    },
    "kernelspec": {
      "name": "python3",
      "display_name": "Python 3"
    }
  },
  "cells": [
    {
      "cell_type": "markdown",
      "metadata": {
        "id": "view-in-github",
        "colab_type": "text"
      },
      "source": [
        "<a href=\"https://colab.research.google.com/github/wdconinc/practical-computing-for-scientists/blob/master/Lectures/lecture08.ipynb\" target=\"_parent\"><img src=\"https://colab.research.google.com/assets/colab-badge.svg\" alt=\"Open In Colab\"/></a>"
      ]
    },
    {
      "metadata": {
        "id": "_CQbA4UBubPI",
        "colab_type": "text"
      },
      "cell_type": "markdown",
      "source": [
        "#Lecture #08"
      ]
    },
    {
      "metadata": {
        "id": "s_K16zWtubPL",
        "colab_type": "text"
      },
      "cell_type": "markdown",
      "source": [
        "##Standard Preamble"
      ]
    },
    {
      "metadata": {
        "id": "ycEXz4ktubPM",
        "colab_type": "code",
        "colab": {}
      },
      "cell_type": "code",
      "source": [
        "%matplotlib inline\n",
        "import numpy as np\n",
        "import scipy as sp\n",
        "import matplotlib.pyplot as plt\n",
        "import math"
      ],
      "execution_count": 0,
      "outputs": []
    },
    {
      "metadata": {
        "id": "Tzw7jjAVubPv",
        "colab_type": "text"
      },
      "cell_type": "markdown",
      "source": [
        "##Bits and Bytes"
      ]
    },
    {
      "metadata": {
        "id": "9XGJJhXmubPw",
        "colab_type": "text"
      },
      "cell_type": "markdown",
      "source": [
        "Let's talk about how integers are represented in decimal, binary and hexadecimal. \n",
        "\n",
        "* A `bit` = \"binary digit\" = 0 or 1. True or False.\n",
        "* A `byte` = 8 bits. Has $2^8$ = 256 possible values\n",
        "  * Written, in binary format as, e.g 0b00100110\n",
        "\n",
        "prefix|bit8|bit7|bit6|bit5|bit4|bit3|bit2|bit1|\n",
        "-------------------|--------------------\n",
        " 0b| 128 | 64 |32 |16|8|4|2|1\n",
        "  \n",
        "  * Hexadecimal (base 16) format. Made of two 4 bit \"nibbles\" which are denoted by the numbers 0-9, and the letters A=10, B=11, C=12, D=14, E=14,F=15 \n",
        "\n",
        "prefix|nibble 2 | nibble 1\n",
        "---------|---------\n",
        "0x | 16  | 1\n",
        "\n",
        "  * Written as 0x##\n",
        "  * So 0x10 = 16 in decimal. 0x21 = 33, etc\n",
        "  \n",
        "* An `int` = 4 bytes on a 32 bit system, 8 bytes on a 64 bit system \n",
        "* A `float` = at least 8 bytes\n",
        "\n",
        "### Exercise: print binary and hex as decimal\n",
        "\n",
        "Start by doing `help(int)`. There is a way to feed a character string such as '0b00100110' in to make an `int`. Figure out how to use that feature, make an integer variable and use `print` to print it (by default in decimal)."
      ]
    },
    {
      "metadata": {
        "id": "OJHJL-CvubPy",
        "colab_type": "code",
        "colab": {}
      },
      "cell_type": "code",
      "source": [
        "help(int)"
      ],
      "execution_count": 0,
      "outputs": []
    },
    {
      "metadata": {
        "id": "gKRejBaDubP1",
        "colab_type": "code",
        "colab": {}
      },
      "cell_type": "code",
      "source": [
        "print(int('0b00100110', base = 0))\n",
        "print(int('100110', base = 2))\n",
        "print(0b00100110)\n",
        "print(0o46)\n",
        "print(0x26)"
      ],
      "execution_count": 0,
      "outputs": []
    },
    {
      "metadata": {
        "id": "WyeletXtubP4",
        "colab_type": "text"
      },
      "cell_type": "markdown",
      "source": [
        "##Floating point numbers and precision"
      ]
    },
    {
      "metadata": {
        "id": "ybq3Lsv8T0_o",
        "colab_type": "text"
      },
      "cell_type": "markdown",
      "source": [
        "### Exercise: ###\n",
        "Find a floating point number x, such that ```print(x)``` and  ```print(x+1)``` have the same output.  It's important to make sure that we enter and print out the numbers in a way that preserves and shows the precision. Do it like this:\n",
        "\n",
        "```Python\n",
        "x = 1.0e7 + 1.0  # ten million + 1\n",
        "print(\"%f\" % x)\n",
        "```"
      ]
    },
    {
      "metadata": {
        "id": "voqFPznUubP6",
        "colab_type": "code",
        "colab": {}
      },
      "cell_type": "code",
      "source": [
        "x = 9.0071e7 + 1.0\n",
        "print(\"%f\" % x)\n",
        "print(2**5)"
      ],
      "execution_count": 0,
      "outputs": []
    },
    {
      "metadata": {
        "id": "Jnpot6JMubP_",
        "colab_type": "text"
      },
      "cell_type": "markdown",
      "source": [
        "###Floating point representation"
      ]
    },
    {
      "metadata": {
        "id": "9RcU-pTUubQA",
        "colab_type": "text"
      },
      "cell_type": "markdown",
      "source": [
        "Nowadays, almost all computers represent floating point numbers in the same way, following the standard `IEEE-754` (Institute of Electrical and Electronics Engineers):\n",
        "\n",
        "$$ X = S \\times M \\times 2^{E-e} $$ \n",
        "\n",
        "* **X** = the number we are representing\n",
        "* **S** = the sign +/- (1 bit): 0 = positive, 1= negative\n",
        "* **E** = an exponent \n",
        " * 8 bits (0-255) for 32 bit floats (called single precision)\n",
        " * 11 bits (0-2047) for 64 bit floats (double precision)\n",
        "* **e** = a constant _bias_\n",
        " * 127 (32 bit) or 1023 (64 bit)\n",
        " * So E-e goes from (-127,+127) or (-1023,+1023)\n",
        "* **M** the _mantissa_ \n",
        " * M=1.F where F is a fraction between 0 and 1\n",
        " * The value of F is encoded in n = 23 or 52 bits.\n",
        " * $\\epsilon_m = 1/2^n$ is the _machine precision_\n",
        " \n",
        "http://www.h-schmidt.net/FloatConverter/IEEE754.html\n"
      ]
    }
  ]
}