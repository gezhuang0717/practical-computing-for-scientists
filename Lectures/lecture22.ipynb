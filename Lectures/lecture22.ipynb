{
  "nbformat": 4,
  "nbformat_minor": 0,
  "metadata": {
    "colab": {
      "name": "lecture22.ipynb",
      "version": "0.3.2",
      "provenance": [],
      "collapsed_sections": [
        "Xa3P0rR5XULh",
        "b44ZUNbzXULp",
        "9yj6uqGsXULq",
        "RIaNo0eXXUL1",
        "EAQvKxaMMupo",
        "y-OhKiJEMupp",
        "AgNqQxKNMups",
        "81COx5CKMupu",
        "OjtaTvTQMuqB",
        "1DuElPc9MuqF",
        "ALTj9mtaMuqH",
        "q1zaslUMXUMD"
      ],
      "include_colab_link": true
    },
    "kernelspec": {
      "name": "python3",
      "display_name": "Python 3"
    }
  },
  "cells": [
    {
      "cell_type": "markdown",
      "metadata": {
        "id": "view-in-github",
        "colab_type": "text"
      },
      "source": [
        "<a href=\"https://colab.research.google.com/github/wdconinc/practical-computing-for-scientists/blob/master/Lectures/lecture22.ipynb\" target=\"_parent\"><img src=\"https://colab.research.google.com/assets/colab-badge.svg\" alt=\"Open In Colab\"/></a>"
      ]
    },
    {
      "metadata": {
        "id": "Xa3P0rR5XULh",
        "colab_type": "text"
      },
      "cell_type": "markdown",
      "source": [
        "# Lecture #22"
      ]
    },
    {
      "metadata": {
        "id": "nmdo4OhGXULk",
        "colab_type": "code",
        "colab": {}
      },
      "cell_type": "code",
      "source": [
        "%matplotlib inline\n",
        "import numpy as np\n",
        "import scipy as sp\n",
        "import matplotlib.pyplot as plt\n",
        "import math\n",
        "import scipy.integrate as ig"
      ],
      "execution_count": 0,
      "outputs": []
    },
    {
      "metadata": {
        "id": "b44ZUNbzXULp",
        "colab_type": "text"
      },
      "cell_type": "markdown",
      "source": [
        "##In our last episode"
      ]
    },
    {
      "metadata": {
        "id": "nPqzXbN1XULp",
        "colab_type": "text"
      },
      "cell_type": "markdown",
      "source": [
        "* 2nd order ODEs\n",
        "  * Vectorizing Runge-Kutta\n",
        "  * Adaptive step Runge-Kutta\n",
        "  * Hermite's equation\n",
        "  * Air drag\n",
        "  * The physical pendulum\n",
        "  \n",
        "Regardless of whether we use fixed step or adaptive step Runge-Kutta ODE solvers, we only obtain the values of the solution at discrete points. Can we determine the value of the solution at arbitrary points in between? We will use interpolation routines for this!"
      ]
    },
    {
      "metadata": {
        "id": "9yj6uqGsXULq",
        "colab_type": "text"
      },
      "cell_type": "markdown",
      "source": [
        "### Vectorizing `solve_rk4` and the physical pendulum"
      ]
    },
    {
      "metadata": {
        "id": "X_Rox9QQXULs",
        "colab_type": "code",
        "colab": {}
      },
      "cell_type": "code",
      "source": [
        "def vsolve_rk4(f,t,y0):\n",
        "    y0 = np.asarray(y0)\n",
        "    t = np.asarray(t)\n",
        "    y = np.zeros((len(t), len(y0)))\n",
        "    y[0] = y0\n",
        "    for i in range(0,len(t)-1):\n",
        "        h = t[i+1] - t[i]\n",
        "        k1 = h*f(y[i], t[i])\n",
        "        k2 = h*f(y[i] + k1/2.0, t[i] + h/2.0)\n",
        "        k3 = h*f(y[i] + k2/2.0, t[i] + h/2.0)\n",
        "        k4 = h*f(y[i] + k3, t[i]+h)\n",
        "        y[i+1] = y[i] + 1.0/6.0 * (k1 + 2*k2 + 2*k3 + k4)\n",
        "    return y"
      ],
      "execution_count": 0,
      "outputs": []
    },
    {
      "metadata": {
        "id": "HpQch3VRXULv",
        "colab_type": "code",
        "colab": {}
      },
      "cell_type": "code",
      "source": [
        "def fpend(y,t):\n",
        "    yprime = np.zeros_like(y)\n",
        "    yprime[0] = y[1]\n",
        "    yprime[1] = -15*np.sin(y[0])\n",
        "    return yprime\n",
        "\n",
        "y0 = [math.pi/4.0, 0]\n",
        "\n",
        "t = np.linspace(0, 3)\n",
        "ypend = vsolve_rk4(fpend,t,y0)\n",
        "plt.plot(t, ypend[:,0], \"-og\", ms = 3)\n",
        "plt.plot([2*math.pi/math.sqrt(15)]*10, np.linspace(-.8,.8,10), \"r\")\n",
        "plt.annotate(\"$T_{ideal}=2\\pi/\\sqrt{15}$\", (1.622,.8), (0.5,0.8), arrowprops = {\"arrowstyle\": '->'})"
      ],
      "execution_count": 0,
      "outputs": []
    },
    {
      "metadata": {
        "id": "RIaNo0eXXUL1",
        "colab_type": "text"
      },
      "cell_type": "markdown",
      "source": [
        "##Using `scipy.integrate.odeint`"
      ]
    },
    {
      "metadata": {
        "colab_type": "code",
        "id": "aR7Q-UyID17s",
        "colab": {}
      },
      "cell_type": "code",
      "source": [
        "yodeint = ig.odeint(fpend, y0, t)\n",
        "plt.plot(t, yodeint[:,0], '-or', ms = 3)"
      ],
      "execution_count": 0,
      "outputs": []
    },
    {
      "metadata": {
        "id": "EAQvKxaMMupo",
        "colab_type": "text"
      },
      "cell_type": "markdown",
      "source": [
        "##Interpolation"
      ]
    },
    {
      "metadata": {
        "id": "TUE2EEKGMupp",
        "colab_type": "text"
      },
      "cell_type": "markdown",
      "source": [
        "Imagine that I know the value of a function $y_i=f(x_i)$ at a set of points $x_i$, but I don't know the function itself. For example, perhaps I obtained $\\{x_i,y_i\\}$ from numerically solving a differential equation. With just that information, it's hard to utilize some of the techniques we've developed:\n",
        "\n",
        "* Taking derivatives\n",
        "* Doing integrals\n",
        "* Finding roots and minima/maxima\n",
        "* Plotting the points as a curve\n",
        "\n",
        "_Interpolation_ refers to any procedure which gives us a function $y(x)$ that estimates the true value of the function $f(x)$ for values of $x$ in the range $x_0< x < x_N$. Generally, we want a procedure that goes through each of our points, i.e., one that satisfies $y(x_i)=y_i$, and we want $y(x)$ to be nicely behaved in between the points.\n"
      ]
    },
    {
      "metadata": {
        "id": "y-OhKiJEMupp",
        "colab_type": "text"
      },
      "cell_type": "markdown",
      "source": [
        "###Polynomial interpolation"
      ]
    },
    {
      "metadata": {
        "id": "uOepSA8qMupr",
        "colab_type": "text"
      },
      "cell_type": "markdown",
      "source": [
        "You know that any two points define (i.e., can be used to get the equation of) a straight line, and may also know that any three points define a parabola. In general, if I have $N$ points $\\{x_i,y_i\\}$, I can find an $N-1$ order polynomial that goes through each of the points. This polynomial can be written as:\n",
        "\n",
        "\\begin{align} y(x)   &=   \\frac{(x-x_1)(x-x_2)\\ldots(x-x_{N-1})}{(x_0-x_1)(x_0-x_2)\\ldots(x_0-x_{N-1})}y_0 \\\\\n",
        "&+ \\frac{(x-x_0)(x-x_2)\\ldots(x-x_{N-1})}{(x_1-x_0)(x_1-x_2)\\ldots(x_1-x_{N-1})}y_1\\\\\n",
        "&+ \\ldots \\\\\n",
        "&+  \\frac{(x-x_0)(x-x_1)\\ldots(x-x_{N-1})}{(x_{N-1}-x_0)(x_{N-1}-x_2)\\ldots(x_{N-1}-x_{N-2})}y_{N-1}\n",
        "\\end{align}\n",
        "\n",
        "This is _Lagrange's formula_ using Lagrange's _cardinal functions $h_i(x)$_. Note, it's kind of clever. If I pick $x=x_0$ the first term is just $y_0$ and _all other terms are zero_. If I pick $x=x_1$ then the second term is $y_1$ and all other terms are zero. And so on. This equation clearly satisfies $y(x_i)=y_i$, it's differentiable and smooth because it's a polynomial, and looks pretty nice."
      ]
    },
    {
      "metadata": {
        "id": "AgNqQxKNMups",
        "colab_type": "text"
      },
      "cell_type": "markdown",
      "source": [
        "####A special case: linear interpolation"
      ]
    },
    {
      "metadata": {
        "id": "rfaVQVJ9Mupt",
        "colab_type": "text"
      },
      "cell_type": "markdown",
      "source": [
        "If I have two points, $x_i$ and $x_{i+1}$, Lagrange's equation reduces to\n",
        "\n",
        "\\begin{align} y(x) & = \\frac{(x-x_{i+1})}{(x_i-x_{i+1})}y_{i} + \\frac{(x-x_{i})}{(x_{i+1}-x_{i})}y_{i+1} \\\\\n",
        "&= \\frac{(x_{i+1}-x)}{(x_{i+1}-x_{i})}y_{i} + \\frac{(x-x_{i})}{(x_{i+1}-x_{i})}y_{i+1}\\\\\n",
        "&= A y_{i} + B y_{i+1}\n",
        "\\end{align}"
      ]
    },
    {
      "metadata": {
        "id": "81COx5CKMupu",
        "colab_type": "text"
      },
      "cell_type": "markdown",
      "source": [
        "###The good, the bad and the ugly of polynomial interpolation."
      ]
    },
    {
      "metadata": {
        "id": "GthaRpZ_Mupw",
        "colab_type": "text"
      },
      "cell_type": "markdown",
      "source": [
        "__The good:__ Continuous, smooth, goes through the points, straightforward\n",
        "\n",
        "__The bad:__ If I have 100 points, I'd be computing terms with $x^{99}$\n",
        "\n",
        "__The ugly:__"
      ]
    },
    {
      "metadata": {
        "id": "OxiNzoMIMupx",
        "colab_type": "code",
        "colab": {}
      },
      "cell_type": "code",
      "source": [
        "import scipy.interpolate as ip\n",
        "x = [i for i in range(1,20)]\n",
        "y = [i for i in range(1,20)]\n",
        "fl = ip.lagrange(x, y)\n",
        "xx = np.linspace(0, 20, 200)\n",
        "plt.plot(x, y, 'or', xx, fl(xx), '-b', ms = 3)"
      ],
      "execution_count": 0,
      "outputs": []
    },
    {
      "metadata": {
        "id": "CDrNeCytMup7",
        "colab_type": "code",
        "colab": {}
      },
      "cell_type": "code",
      "source": [
        "X1 = np.linspace(-5, +5, 25)\n",
        "X2 = np.linspace(-5, +5, 2500)\n",
        "f2 = lambda x: 1 / (1 + x**2)\n",
        "Y1 = f2(X1)\n",
        "plt.plot(X1, Y1, 'ok')\n",
        "f2_interp = ip.lagrange(X1, Y1)\n",
        "plt.plot(X2, f2_interp(X2), '-r')\n",
        "plt.ylim(-2,2)"
      ],
      "execution_count": 0,
      "outputs": []
    },
    {
      "metadata": {
        "id": "OjtaTvTQMuqB",
        "colab_type": "text"
      },
      "cell_type": "markdown",
      "source": [
        "##Splines"
      ]
    },
    {
      "metadata": {
        "id": "l2QwN7iOMuqE",
        "colab_type": "text"
      },
      "cell_type": "markdown",
      "source": [
        "The idea behind splines is to do local interpolation, say between $x_i$ and $x_{i+1}$, with a low order polynomial and then stitch together the local interpolations to get $y(x)$. The stitching certainly entails making sure the function is continuous, but could also involve conditions on the first and higher order derivatives. "
      ]
    },
    {
      "metadata": {
        "id": "1DuElPc9MuqF",
        "colab_type": "text"
      },
      "cell_type": "markdown",
      "source": [
        "###Cubic splines"
      ]
    },
    {
      "metadata": {
        "id": "TjDys1VaMuqG",
        "colab_type": "text"
      },
      "cell_type": "markdown",
      "source": [
        "Linear interpolation is bad/unrealistic because the first derivative is discontinuous. This makes the function look unphysical, since it is, and also could cause problems for routines that rely on the first or, worse, second derivative. Cubic splines attempt to solve this problem by interpolating between two points $\\{x_i,y_i\\}$ and $\\{x_{i+1},y_{i+1}\\}$ with a cubic equation \n",
        "\n",
        "$$y(x)=a+b x+c x^2 + d x^3$$\n",
        "\n",
        "Since the equation is a cubic, the second derivative will (in general) be a linear function and the first will be a quadratic. The curve will have a nice smooth appearance. \n",
        "\n",
        "A cubic has 4 unknowns so we need two more constraints in addition to the requirement that the curve passes through $\\{x_i,y_i\\}$ and $\\{x_{i+1},y_{i+1}\\}$. They come from requiring that the derivative $y_i'=y(x_i)$ is the same when computed in adjacent intervals $[x_{i-1},x_{i}]$ and $[x_{i},x_{i+1}]$.  We can do this for every point except the two endpoints $\\{x_0,y_0\\}$ and $\\{x_{N-1},y_{N-1}\\}$, so we don't have quite enough information\n",
        "\n"
      ]
    },
    {
      "metadata": {
        "id": "ALTj9mtaMuqH",
        "colab_type": "text"
      },
      "cell_type": "markdown",
      "source": [
        "###Interpolating the physical pendulum solution"
      ]
    },
    {
      "metadata": {
        "id": "jdcXSjdKMuqJ",
        "colab_type": "code",
        "colab": {}
      },
      "cell_type": "code",
      "source": [
        "import scipy.interpolate as ip"
      ],
      "execution_count": 0,
      "outputs": []
    },
    {
      "metadata": {
        "id": "urfBgpDLMuqL",
        "colab_type": "code",
        "colab": {}
      },
      "cell_type": "code",
      "source": [
        "# [shift-enter] tells you that it does a cubic spline interpolation by default\n",
        "fip = ip.InterpolatedUnivariateSpline(t, yodeint[:,0])\n",
        "tt = np.linspace(0, 3, 200)\n",
        "plt.plot(t, yodeint[:,0], 'ok', tt, fip(tt), \"-r\", ms = 5)"
      ],
      "execution_count": 0,
      "outputs": []
    },
    {
      "metadata": {
        "id": "q1zaslUMXUMD",
        "colab_type": "text"
      },
      "cell_type": "markdown",
      "source": [
        "##Little project: plot the period as a function of initial angle"
      ]
    },
    {
      "metadata": {
        "id": "edq-FOcVXUMF",
        "colab_type": "text"
      },
      "cell_type": "markdown",
      "source": [
        "* Loop over initial angles\n",
        "* For each use odeint to solve the diff. eq.\n",
        "* Then, make an interpolated function\n",
        "* Then, find the position of the first maximum with `scipy.optimize.minimize`"
      ]
    },
    {
      "metadata": {
        "id": "OM1TBI_MXUMG",
        "colab_type": "code",
        "colab": {}
      },
      "cell_type": "code",
      "source": [
        "import scipy.optimize as op"
      ],
      "execution_count": 0,
      "outputs": []
    },
    {
      "metadata": {
        "id": "OGpMbLaLXUMI",
        "colab_type": "code",
        "colab": {}
      },
      "cell_type": "code",
      "source": [
        "t = np.linspace(0, 3, 30)\n",
        "tt = np.linspace(0, 3, 300)\n",
        "thetas = []\n",
        "periods = []\n",
        "for i in range(1, 10):\n",
        "    theta_0 = i*0.1*math.pi/2.0\n",
        "    thetas.append(theta_0)\n",
        "    y0 = [theta_0, 0]\n",
        "    y = ig.odeint(fpend, y0, t)\n",
        "    plt.plot(t, y[:,0], 'o', ms = 3)\n",
        "    f = ip.InterpolatedUnivariateSpline(t, y[:,0])\n",
        "    plt.plot(tt, f(tt))\n",
        "    fneg = lambda x: -1*f(x)\n",
        "    res = op.minimize_scalar(fneg, (1.25,1.8,2.25), method = 'golden')\n",
        "    res = op.minimize_scalar(fneg, (1.25,1.8,2.25), method = 'brent')\n",
        "    print(theta_0, res.x)\n",
        "    periods.append(res.x / (2*math.pi/math.sqrt(15)))"
      ],
      "execution_count": 0,
      "outputs": []
    },
    {
      "metadata": {
        "id": "MpnGEbqfXUMO",
        "colab_type": "code",
        "colab": {}
      },
      "cell_type": "code",
      "source": [
        "plt.plot(thetas, periods, \"-og\")\n",
        "plt.xlabel('initial angle - $\\\\theta_0$ (radians)')\n",
        "plt.ylabel('$T/T_{ideal}$')"
      ],
      "execution_count": 0,
      "outputs": []
    },
    {
      "metadata": {
        "id": "DEO8UakNXUMS",
        "colab_type": "code",
        "colab": {}
      },
      "cell_type": "code",
      "source": [
        ""
      ],
      "execution_count": 0,
      "outputs": []
    }
  ]
}