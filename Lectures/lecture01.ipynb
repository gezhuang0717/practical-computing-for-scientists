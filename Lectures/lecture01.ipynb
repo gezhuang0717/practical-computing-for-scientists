{
  "nbformat": 4,
  "nbformat_minor": 0,
  "metadata": {
    "colab": {
      "name": "lecture01.ipynb",
      "version": "0.3.2",
      "provenance": [],
      "collapsed_sections": [],
      "include_colab_link": true
    },
    "kernelspec": {
      "display_name": "Python 3",
      "language": "python",
      "name": "python3"
    }
  },
  "cells": [
    {
      "cell_type": "markdown",
      "metadata": {
        "id": "view-in-github",
        "colab_type": "text"
      },
      "source": [
        "<a href=\"https://colab.research.google.com/github/wdconinc/practical-computing-for-scientists/blob/master/Lectures/lecture01.ipynb\" target=\"_parent\"><img src=\"https://colab.research.google.com/assets/colab-badge.svg\" alt=\"Open In Colab\"/></a>"
      ]
    },
    {
      "metadata": {
        "id": "wuPxH2WBhzf0",
        "colab_type": "text"
      },
      "cell_type": "markdown",
      "source": [
        "# Welcome to Practical Computing for Scientists!"
      ]
    },
    {
      "metadata": {
        "id": "Bep9Nb0Zhzf1",
        "colab_type": "text"
      },
      "cell_type": "markdown",
      "source": [
        "We'll be using a set of free, open source, software libraries, the most important of which are `numpy`, `scipy`, and `matplotlib`. Although you can install a python environment on your local computer, I will strongly encourage you to use Google's Colaboratory environment at https://colab.research.google.com."
      ]
    },
    {
      "metadata": {
        "id": "NwVVe0SMhzf2",
        "colab_type": "text"
      },
      "cell_type": "markdown",
      "source": [
        "## Google Colaboratory\n",
        "\n",
        "1. If you do not have the Chrome browser installed, or have an old version, go to https://www.google.com/chrome/browser/. You will want to have a recent version of the Chrome browser installed for the best experience.\n",
        "2. Log in with your W&M Apps account at https://colab.research.google.com.\n",
        "3. Any files you create in Google Colaboratory will show up in the "
      ]
    },
    {
      "metadata": {
        "id": "94QHLo45hzf4",
        "colab_type": "text"
      },
      "cell_type": "markdown",
      "source": [
        "## Software installation\n",
        "\n",
        "The python environment is distributed in a big package called `Anaconda`. Installation is pretty easy and more or less operating system independent:\n",
        "\n",
        "1. Start by going to https://store.continuum.io/cshop/anaconda/  and click \"Download Anaconda\" in the upper right\n",
        "2. Now you have a choice if you are on Windows or Linux: 64-bit vs 32-bit\n",
        "  1. Windows: http://windows.microsoft.com/en-us/windows7/find-out-32-or-64-bit\n",
        "  2. Linux: at the command prompt type `file /bin/lsmod` and hit enter. \n",
        "3. Download the appropriate installer (and fight each other for bandwidth)\n",
        "4. When it asks, you want a private installation -- \"Just Me\"\n",
        "5. Take Anaconda's defaults, in particular allow it to modify `$PATH` and register Anaconda as the default version of `Python 2.7`. It is possible that this could have consequences for other programs but I don't think so. Come to me with problems.\n",
        "7. When and if it asks, have it install the ipython-notebook"
      ]
    },
    {
      "metadata": {
        "id": "fa0eEM8Lhzf4",
        "colab_type": "text"
      },
      "cell_type": "markdown",
      "source": [
        "## How to run IPython"
      ]
    },
    {
      "metadata": {
        "id": "u2wGhrFZhzf5",
        "colab_type": "text"
      },
      "cell_type": "markdown",
      "source": [
        "* **Windows**:  You need to find the cmd.exe prompt in order to run the program\n",
        "  * `Windows icon -> All Programs -> Accessories -> Command Prompt`\n",
        "  * type `ipython notebook`. It will grind away and you'll eventually see some console output. You may also have a tab open on your browser. \n",
        "  * If no tab appears, or you are using IE, have a look at the console output. You should see `The IPython Notebook is running at: http://localhost:8888` (or, perhaps some other port `8889`, etc.)  Type that URL into Chrome. \n",
        "  * There is also an Anaconda directory which you can find under `All Programs`. Feel free to try running by clicking links in there.\n",
        "* **Mac & Linux**:  You will need to open a terminal window then `ipython notebook` as above."
      ]
    },
    {
      "metadata": {
        "id": "ph9AVWUDhzf6",
        "colab_type": "text"
      },
      "cell_type": "markdown",
      "source": [
        "## Does it Work??"
      ]
    },
    {
      "metadata": {
        "id": "W0dR7hfnhzf6",
        "colab_type": "text"
      },
      "cell_type": "markdown",
      "source": [
        "Try typing the following gibberish. After each line hit `[enter]`. At the end hit `[shift]+[enter]`. "
      ]
    },
    {
      "metadata": {
        "id": "XWqM8GC3hzf7",
        "colab_type": "code",
        "colab": {}
      },
      "cell_type": "code",
      "source": [
        "%matplotlib inline\n",
        "import numpy as np\n",
        "import scipy as sp\n",
        "import matplotlib.pyplot as plt\n",
        "\n",
        "f = lambda z: sp.exp(-z/4)*sp.cos(z)\n",
        "x = np.linspace(0,10,200)\n",
        "#print(x)\n",
        "plt.plot(x,f(x),'or')"
      ],
      "execution_count": 0,
      "outputs": []
    },
    {
      "metadata": {
        "id": "vM5a195whzf_",
        "colab_type": "code",
        "colab": {}
      },
      "cell_type": "code",
      "source": [
        "plt.axis?"
      ],
      "execution_count": 0,
      "outputs": []
    },
    {
      "metadata": {
        "id": "rZ_5CsF5hzgD",
        "colab_type": "text"
      },
      "cell_type": "markdown",
      "source": [
        "Obviously, this is a plot of $e^{-x/4} \\cos(x)$!  Notice a few interesting things:\n",
        "* The business with `import numpy as np` allows the ipython program know about `numpy` and then we can use functions and other features in `numpy` by doing `np.function(arguments)`\n",
        "* `x` is an array of numbers. Somehow the cosine and exponential functions take arrays, rather than single numbers. We'll learn more about this as the course goes on.\n",
        "* There is that strange `lambda` used to define `f` which is a function (function object, to be precise). `lambda` is one of a number of protected words in Python: _you can't use it as a variable_. Kind of annoying for physics, I know! We'll learn much more about functions as the course progresses.\n",
        "* $e^{-x/4} \\cos(x)$ is some pretty nicely rendered mathematical text. \n",
        "  * I wrote it like this: `$e^{-x/4} \\cos(x)$`. \n",
        "  * That's $LaTeX$ format. You'll be able to mix regular text, $LaTeX$, and plots inside of these notebooks.\n",
        "  * If you don't know $LaTeX$ you \n",
        "    (a) probably haven't had 251 yet and\n",
        "    (b) should certainly learn it. \n",
        "  It's painfully finicky, keystroke heavy, and provides cryptic error messages. But there is nothing better out there.\n",
        "\n",
        "### Now, explore a bit\n",
        "* Try changing numerical arguments in the functions above. What do they do?\n",
        "* Try calling some other common functions, guessing at their names.\n",
        "* Add a third argument to the plot command, '-'. Then, try changing the - to something else. An asterisk, an o, multiple dashes, etc.\n",
        "* Put a `#` in front of the print statement.\n"
      ]
    },
    {
      "metadata": {
        "id": "4_DsRyk4hzgD",
        "colab_type": "text"
      },
      "cell_type": "markdown",
      "source": [
        "# Introduction to Python - I"
      ]
    },
    {
      "metadata": {
        "id": "mQCHdVPkhzgE",
        "colab_type": "text"
      },
      "cell_type": "markdown",
      "source": [
        "<img src=\"https://imgs.xkcd.com/comics/python.png\" />\n",
        "\n",
        "Topics: Basic python syntax, numerical variables, assignment, reserved words, calculator arithmetic, mathematical functions"
      ]
    },
    {
      "metadata": {
        "id": "3UKHVW3qhzgF",
        "colab_type": "text"
      },
      "cell_type": "markdown",
      "source": [
        "## Basic syntax"
      ]
    },
    {
      "metadata": {
        "id": "WF0iWoGFhzgG",
        "colab_type": "text"
      },
      "cell_type": "markdown",
      "source": [
        "* As in most programming languages, Python programs are written in plain old ASCII text. That text is then read by a program which converts it into a set of instructions that can be executed on the computer.\n",
        "  * In languages like C or FORTRAN this happens all in one fell swoop, with a program called a _compiler_ reading the text and compiling a list of instructions in the CPU's native tongue. \n",
        "  * In Python each line is read, interpreted and executed one by one. This has advantages and disadvantages.\n",
        "    * The advantage is that it's easier to interact with the program.\n",
        "    * The disadvantage is that it's generally slower. Sometimes by a lot.\n",
        "* The basic unit of code is a line, ended with [enter]\n",
        "* Lines are executed from top to bottom, one by one\n",
        "  * flow control statements (`if/else`) choose between lines of code to execute\n",
        "  * loops (`for or while`) can make a group of lines repeatedly execute\n",
        "  * function calls `f(x,y)` execute a block of lines defined elsewhere\n",
        "* variables `x,y` store the state of the program\n",
        "* certain _reserved words_ do useful things, like `print` \n",
        "\n",
        "### Try this\n",
        "\n",
        "The mandatory first line in any language!"
      ]
    },
    {
      "metadata": {
        "id": "ZhDlol_IhzgG",
        "colab_type": "code",
        "colab": {}
      },
      "cell_type": "code",
      "source": [
        "print(\"hello world\")"
      ],
      "execution_count": 0,
      "outputs": []
    },
    {
      "metadata": {
        "id": "3kV4otYrhzgJ",
        "colab_type": "text"
      },
      "cell_type": "markdown",
      "source": [
        "Most variables in python can be printed in this way.\n",
        "\n",
        "### Variables and assignments \n",
        "Now try this, what will happen?"
      ]
    },
    {
      "metadata": {
        "id": "C9dKZzxohzgJ",
        "colab_type": "code",
        "colab": {}
      },
      "cell_type": "code",
      "source": [
        "a = 3\n",
        "b = a\n",
        "print(a, b)"
      ],
      "execution_count": 0,
      "outputs": []
    },
    {
      "metadata": {
        "id": "EvX1iwp6hzgN",
        "colab_type": "code",
        "colab": {}
      },
      "cell_type": "code",
      "source": [
        "a = 4\n",
        "print(a, b)"
      ],
      "execution_count": 0,
      "outputs": []
    },
    {
      "metadata": {
        "id": "P2BhTMc0hzgR",
        "colab_type": "text"
      },
      "cell_type": "markdown",
      "source": [
        "The `=` sign is the assignment operator. \n",
        "* In the above `a = 3` assigns `3` to `a`, so `a` _becomes another name_ for `3`.  \n",
        "* Then, `b = a` assigns `a` to `b`, so `b` is another name for `a`, which is another name for `3`, so `b` is another name for `3`. \n",
        "* Then later `4` is assigned to `a`\n",
        "\n",
        "So, what exactly are `3` and `4`?\n",
        "\n",
        "### Types\n",
        "Try this"
      ]
    },
    {
      "metadata": {
        "id": "BNI4mz3YhzgS",
        "colab_type": "code",
        "colab": {}
      },
      "cell_type": "code",
      "source": [
        "type(3)"
      ],
      "execution_count": 0,
      "outputs": []
    },
    {
      "metadata": {
        "id": "-awEBa1BhzgV",
        "colab_type": "code",
        "colab": {}
      },
      "cell_type": "code",
      "source": [
        "type(b)"
      ],
      "execution_count": 0,
      "outputs": []
    },
    {
      "metadata": {
        "id": "gcANiSashzgX",
        "colab_type": "code",
        "colab": {}
      },
      "cell_type": "code",
      "source": [
        "print (b, \"is 3\")"
      ],
      "execution_count": 0,
      "outputs": []
    },
    {
      "metadata": {
        "id": "WYWmtKrChzga",
        "colab_type": "code",
        "colab": {}
      },
      "cell_type": "code",
      "source": [
        "print (a, \"is\", b)"
      ],
      "execution_count": 0,
      "outputs": []
    },
    {
      "metadata": {
        "id": "eg5N5HDLhzgd",
        "colab_type": "text"
      },
      "cell_type": "markdown",
      "source": [
        "3 and 4 are \"objects\" of type \"int\". Object has a technical meaning but for right now it means what you think it means. They are the \"stuff\" of the program. Since `a` and `b` are other names for `4` and `3` when you ask about the type of `a` and `b` you learn about the type of `4` and `3`.\n",
        "\n",
        "### Changing types\n",
        "What about this?"
      ]
    },
    {
      "metadata": {
        "id": "AePjJ_N2hzgd",
        "colab_type": "code",
        "colab": {}
      },
      "cell_type": "code",
      "source": [
        "a = 16.5\n",
        "print(a)\n",
        "type(a)"
      ],
      "execution_count": 0,
      "outputs": []
    },
    {
      "metadata": {
        "id": "v03IlB27hzgi",
        "colab_type": "text"
      },
      "cell_type": "markdown",
      "source": [
        "Now, `a` is another name for `16.5` which is a \"floating point\" number, a real number that's not an integer. \n",
        "\n",
        "Note, in other languages, like C/C++ or FORTRAN, this is _not_ the behavior you'd get. In those languages every variable has a _fixed type_ which you state up front. Here's the C++ equivalent:\n",
        "\n",
        "```c++\n",
        "  int a = 3;\n",
        "  a = 16.5;\n",
        "  std::cout << \"Hey, a = \" << a << std::endl;\n",
        "```\n",
        "Which prints: \n",
        "\n",
        "`Hey, a = 16`\n",
        "\n",
        "So, in C++ the program does it's best to convert a floating point number into an integer, in this case by rounding down. If you try something whackier:\n",
        "\n",
        "```c++\n",
        "  int a = 3;\n",
        "  a = \"hello world\";\n",
        "  std::cout << \"Hey, a = \" << a << std::endl;\n",
        "```\n",
        "\n",
        "The compiler complains bitterly:\n",
        "\n",
        "`error: invalid conversion from ‘const char*’ to ‘int’ [-fpermissive]`\n",
        "\n",
        "C++ is an example of a _strongly typed_ language. The compiler is very picky and makes you state very clearly exactly what you mean.  Python is _dynamically typed_ (some say _weakly typed_),  which makes it more flexible."
      ]
    },
    {
      "metadata": {
        "id": "QBpaoBi9hzgi",
        "colab_type": "text"
      },
      "cell_type": "markdown",
      "source": [
        "### Basic calculations\n",
        "Try these:"
      ]
    },
    {
      "metadata": {
        "id": "K5zxcM7Hhzgj",
        "colab_type": "code",
        "colab": {}
      },
      "cell_type": "code",
      "source": [
        "x = 3\n",
        "y = 4\n",
        "print(x*y)"
      ],
      "execution_count": 0,
      "outputs": []
    },
    {
      "metadata": {
        "id": "hIod6AdThzgl",
        "colab_type": "code",
        "colab": {}
      },
      "cell_type": "code",
      "source": [
        "print(x**y)\n",
        "print(x+y)\n",
        "print(x-y)"
      ],
      "execution_count": 0,
      "outputs": []
    },
    {
      "metadata": {
        "id": "leGPkVxohzgn",
        "colab_type": "text"
      },
      "cell_type": "markdown",
      "source": [
        "What will this do?"
      ]
    },
    {
      "metadata": {
        "id": "qJPm8Fdlhzgo",
        "colab_type": "code",
        "colab": {}
      },
      "cell_type": "code",
      "source": [
        "z = x / y\n",
        "print(z)"
      ],
      "execution_count": 0,
      "outputs": []
    },
    {
      "metadata": {
        "id": "OyjwlfMHhzgs",
        "colab_type": "text"
      },
      "cell_type": "markdown",
      "source": [
        "To get the behavior you probably want you need to tell the interpreter that the thing on the right should be interpreted as a float. Note: the second line isn't what you want either. You need to tell it _before_ the division occurs."
      ]
    },
    {
      "metadata": {
        "id": "dg_QRhiIhzgt",
        "colab_type": "code",
        "colab": {}
      },
      "cell_type": "code",
      "source": [
        "z = x / float(y)\n",
        "print(z)"
      ],
      "execution_count": 0,
      "outputs": []
    },
    {
      "metadata": {
        "id": "-aOdKKo5hzgx",
        "colab_type": "code",
        "colab": {}
      },
      "cell_type": "code",
      "source": [
        "print(float(x/y))"
      ],
      "execution_count": 0,
      "outputs": []
    },
    {
      "metadata": {
        "id": "ZZ3dDfVShzg1",
        "colab_type": "text"
      },
      "cell_type": "markdown",
      "source": [
        "### Python as a calculator"
      ]
    },
    {
      "metadata": {
        "id": "BgXvCaBRhzg3",
        "colab_type": "code",
        "colab": {}
      },
      "cell_type": "code",
      "source": [
        "import math\n",
        "\n",
        "print(math.cos(math.pi))"
      ],
      "execution_count": 0,
      "outputs": []
    },
    {
      "metadata": {
        "id": "Z6f2xdH8hzg5",
        "colab_type": "text"
      },
      "cell_type": "markdown",
      "source": [
        "This lets the Python interpreter know about the _module_ `math`. Modules are just a collection of function definitions and object types.  You access the functions inside a module as `function.module`\n",
        "\n",
        "You can also do\n",
        "\n",
        "```python\n",
        "from math import *\n",
        "print(cos(pi))\n",
        "```\n",
        "\n",
        "This is fine for calculator work but be a little wary of it in general as it pollutes the program with all the names inside of `math`.  For example, both `math` and `scipy` have `cos` functions.\n",
        "\n",
        "Speaking of names in `math`, how do we learn more about math?"
      ]
    },
    {
      "metadata": {
        "id": "5AYmWXidhzg6",
        "colab_type": "code",
        "colab": {}
      },
      "cell_type": "code",
      "source": [
        "math?"
      ],
      "execution_count": 0,
      "outputs": []
    },
    {
      "metadata": {
        "id": "Flss6Vkhhzg7",
        "colab_type": "text"
      },
      "cell_type": "markdown",
      "source": [
        "That tells us a little bit, but more information would be useful."
      ]
    },
    {
      "metadata": {
        "id": "mALFOmHThzg8",
        "colab_type": "code",
        "colab": {}
      },
      "cell_type": "code",
      "source": [
        "help(math)"
      ],
      "execution_count": 0,
      "outputs": []
    },
    {
      "metadata": {
        "id": "zWqJq63khzg-",
        "colab_type": "text"
      },
      "cell_type": "markdown",
      "source": [
        "Now, try typing `math.` and then hit [tab]"
      ]
    },
    {
      "metadata": {
        "id": "J_byHHCqhzg-",
        "colab_type": "code",
        "colab": {}
      },
      "cell_type": "code",
      "source": [
        "math."
      ],
      "execution_count": 0,
      "outputs": []
    },
    {
      "metadata": {
        "id": "mGSQlcoPhzhA",
        "colab_type": "text"
      },
      "cell_type": "markdown",
      "source": [
        "One of the good things about Python is that the interpreter, particularly the iPython interpreter, provides a lot of help. This enabled by a feature of the language: the objects in Python know about themselves. They are _introspective_.\n",
        "\n",
        "### Play around with math\n",
        "* Call a few of the various functions\n",
        "* Call a function of a function of a variable.\n",
        "* Understand how degrees and radians work.\n"
      ]
    },
    {
      "metadata": {
        "id": "2zzroa3rhzhB",
        "colab_type": "text"
      },
      "cell_type": "markdown",
      "source": [
        "### Bits and Bytes\n",
        "\n",
        "Before moving on let's talk about how integers are represented in decimal, binary and hex. \n",
        "\n",
        "* A `bit` = \"binary digit\" = 0 or 1. True or False.\n",
        "* A `byte` = 8 bits. Has $2^8$ = 256 possible values\n",
        "  * Written, in binary format as, e.g 0b00100110\n",
        "\n",
        "prefix|bit8|bit7|bit6|bit5|bit4|bit3|bit2|bit1|\n",
        "-------------------|--------------------\n",
        " 0b| 128 | 64 |32 |16|8|4|2|1\n",
        "  \n",
        "  * Hexadecimal (base 16) format. Made of two 4 bit \"nibbles\" which are denoted by the numbers 0-9, and the letters A=10, B=11, C=12, D=14, E=14,F=15 \n",
        "\n",
        "prefix|nibble 2 | nibble 1\n",
        "---------|---------\n",
        "0x | 16  | 1\n",
        "\n",
        "  * Written as 0x##\n",
        "  * So 0x10 = 16 in decimal. 0x21 = 37, etc\n",
        "  \n",
        "* An `int` = 4 bytes on a 32 bit system, 8 bytes on a 64 bit system \n",
        "* A `float` = at least 8 bytes\n",
        "\n",
        "### Exercise: print binary and hex as decimal\n",
        "\n",
        "Start by doing `help(int)`. There is a way to feed a character string such as '0b00100110' in to make an `int`. Figure out how to use that feature, make an integer variable and use `print` to print it (by default in decimal).\n"
      ]
    },
    {
      "metadata": {
        "id": "I7Gd_tajhzhB",
        "colab_type": "code",
        "colab": {}
      },
      "cell_type": "code",
      "source": [
        "help(int)"
      ],
      "execution_count": 0,
      "outputs": []
    },
    {
      "metadata": {
        "id": "VakzUfz8hzhE",
        "colab_type": "code",
        "colab": {}
      },
      "cell_type": "code",
      "source": [
        ""
      ],
      "execution_count": 0,
      "outputs": []
    },
    {
      "metadata": {
        "id": "WhYdu5lRhzhH",
        "colab_type": "text"
      },
      "cell_type": "markdown",
      "source": [
        "### Reading Assignment\n",
        "\n",
        "For next time, read section 3 and section 4.1-6 of the [official python tutorial](https://docs.python.org/2/tutorial/index.html)"
      ]
    }
  ]
}