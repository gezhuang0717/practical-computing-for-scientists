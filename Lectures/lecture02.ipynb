{
  "nbformat": 4,
  "nbformat_minor": 0,
  "metadata": {
    "colab": {
      "name": "lecture02.ipynb",
      "version": "0.3.2",
      "provenance": [],
      "collapsed_sections": [
        "MmMFM5kQe06k",
        "igHIJIjYe06w",
        "7ZvjkeLUe06y",
        "wxDdgtPPe06z",
        "3sG_N0Gme060",
        "QTuCiNXue065",
        "5u4u277se07D",
        "2k0wTVele07X",
        "ZFs87tBBe07e",
        "UsOi6XU7e076",
        "-C9edFFPe08U",
        "H7g4p47De08U",
        "ukKCTKeRe08d",
        "ZAg_1NaJe08k",
        "VlTZyKLLe08w",
        "seDFGfpCe09H",
        "RwAUZwmYe0-8",
        "W0uT9vZne0_C",
        "77jz5QQhe0_I",
        "IIydsxnekAQ8",
        "sgbdLr4ue0_J",
        "bXPchnfEe0_K"
      ],
      "include_colab_link": true
    },
    "kernelspec": {
      "name": "python3",
      "display_name": "Python 3"
    }
  },
  "cells": [
    {
      "cell_type": "markdown",
      "metadata": {
        "id": "view-in-github",
        "colab_type": "text"
      },
      "source": [
        "<a href=\"https://colab.research.google.com/github/wdconinc/practical-computing-for-scientists/blob/master/Lectures/lecture02.ipynb\" target=\"_parent\"><img src=\"https://colab.research.google.com/assets/colab-badge.svg\" alt=\"Open In Colab\"/></a>"
      ]
    },
    {
      "metadata": {
        "id": "MmMFM5kQe06k",
        "colab_type": "text"
      },
      "cell_type": "markdown",
      "source": [
        "#Lecture #02"
      ]
    },
    {
      "metadata": {
        "id": "kqKdkKt0e06l",
        "colab_type": "text"
      },
      "cell_type": "markdown",
      "source": [
        "When we left off, we had made our first plot, customized it a bit, and learned about the `help` feature:"
      ]
    },
    {
      "metadata": {
        "id": "ILVd35KVe06n",
        "colab_type": "code",
        "colab": {}
      },
      "cell_type": "code",
      "source": [
        "%matplotlib inline\n",
        "import numpy as np\n",
        "import scipy as sp\n",
        "import matplotlib.pyplot as plt\n",
        "\n",
        "f = lambda z: sp.exp(-z/4)*sp.cos(z)\n",
        "x = np.linspace(0,10,200)\n",
        "#print(x)\n",
        "plt.plot(x,f(x),'.r')"
      ],
      "execution_count": 0,
      "outputs": []
    },
    {
      "metadata": {
        "id": "igHIJIjYe06w",
        "colab_type": "text"
      },
      "cell_type": "markdown",
      "source": [
        "Obviously, this is a plot of $e^{-x/4} \\cos(x)$!  Notice a few interesting things:\n",
        "* The business with `import numpy as np` allows the ipython program know about `numpy` and then we can use functions and other features in `numpy` by doing `np.function(arguments)`\n",
        "* `x` is an array of numbers. Somehow the cosine and exponential functions take arrays, rather than single numbers. We'll learn more about this as the course goes on.\n",
        "* There is that strange `lambda` used to define `f` which is a function (function object, to be precise). `lambda` is one of a number of protected words in Python: _you can't use it as a variable_. Kind of annoying for physics, I know! We'll learn much more about functions as the course progresses.\n",
        "* $e^{-x/4} \\cos(x)$ is some pretty nicely rendered mathematical text. \n",
        "  * I wrote it like this: `$e^{-x/4} \\cos(x)$`. \n",
        "  * That's $LaTeX$ format. You'll be able to mix regular text, $LaTeX$, and plots inside of these notebooks.\n",
        "  * If you don't know $LaTeX$ you \n",
        "    (a) probably haven't had PHYS 251 yet and\n",
        "    (b) should certainly learn it. \n",
        "  It's painfully finicky, keystroke heavy, and provides cryptic error messages. But there is nothing better out there.\n",
        "\n",
        "### Now, explore a bit\n",
        "* Try changing numerical arguments in the functions above. What do they do?\n",
        "* Try calling some other common functions, guessing at their names.\n",
        "* Add a third argument to the plot command, '-'. Then, try changing the - to something else. An asterisk, an o, multiple dashes, etc.\n",
        "* Add or remove the `#` in front of the print statement.\n"
      ]
    },
    {
      "metadata": {
        "id": "7ZvjkeLUe06y",
        "colab_type": "text"
      },
      "cell_type": "markdown",
      "source": [
        "#Introduction to Python - I"
      ]
    },
    {
      "metadata": {
        "id": "ChPxG17Ae06y",
        "colab_type": "text"
      },
      "cell_type": "markdown",
      "source": [
        "<img src=\"https://imgs.xkcd.com/comics/python.png\" />\n",
        "\n",
        "Topics: Basic python syntax, numerical variables, assignment, reserved words, calculator arithmetic, mathematical functions"
      ]
    },
    {
      "metadata": {
        "id": "wxDdgtPPe06z",
        "colab_type": "text"
      },
      "cell_type": "markdown",
      "source": [
        "##Basic syntax"
      ]
    },
    {
      "metadata": {
        "id": "3sG_N0Gme060",
        "colab_type": "text"
      },
      "cell_type": "markdown",
      "source": [
        "* As in most programming languages, Python programs are written in plain old ASCII text. That text is then read by a program which converts it into a set of instructions that can be executed on the computer.\n",
        "  * In languages like C or FORTRAN this happens all in one fell swoop, with a program called a _compiler_ reading the text and compiling a list of instructions in the CPU's native tongue. \n",
        "  * In Python each line is read, interpreted and executed one by one. This has advantages and disadvantages.\n",
        "    * The advantage is that it's easier to interact with the program.\n",
        "    * The disadvantage is that it's generally slower. Sometimes by a lot.\n",
        "* The basic unit of code is a line, ended with [enter]\n",
        "* Lines are executed from top to bottom, one by one\n",
        "  * flow control statements (`if/else`) choose between lines of code to execute\n",
        "  * loops (`for or while`) can make a group of lines repeatedly execute\n",
        "  * function calls `f(x,y)` execute a block of lines defined elsewhere\n",
        "* variables `x,y` store the state of the program\n",
        "* certain _reserved words_ do useful things, like `print` \n",
        "\n",
        "### Try this\n",
        "\n",
        "The mandatory first line in any language!"
      ]
    },
    {
      "metadata": {
        "id": "iiDYtK6Ie061",
        "colab_type": "code",
        "colab": {}
      },
      "cell_type": "code",
      "source": [
        "print(\"hello world\")"
      ],
      "execution_count": 0,
      "outputs": []
    },
    {
      "metadata": {
        "id": "QTuCiNXue065",
        "colab_type": "text"
      },
      "cell_type": "markdown",
      "source": [
        "Most variables in python can be printed in this way.\n",
        "\n",
        "### Variables and assignments \n",
        "Now try this, what will happen?"
      ]
    },
    {
      "metadata": {
        "id": "S4C4MICke067",
        "colab_type": "code",
        "colab": {}
      },
      "cell_type": "code",
      "source": [
        "a = 3\n",
        "b = a\n",
        "print(a, b)"
      ],
      "execution_count": 0,
      "outputs": []
    },
    {
      "metadata": {
        "id": "uHCHV1yje06-",
        "colab_type": "code",
        "colab": {}
      },
      "cell_type": "code",
      "source": [
        "a = 4\n",
        "print(a, b)"
      ],
      "execution_count": 0,
      "outputs": []
    },
    {
      "metadata": {
        "id": "5u4u277se07D",
        "colab_type": "text"
      },
      "cell_type": "markdown",
      "source": [
        "The `=` sign is the assignment operator. \n",
        "* In the above `a = 3` assigns `3` to `a`, so `a` _becomes another name_ for `3`.  \n",
        "* Then, `b = a` assigns `a` to `b`, so `b` is another name for `a`, which is another name for `3`, so `b` is another name for `3`. \n",
        "* Then later `4` is assigned to `a`\n",
        "\n",
        "So, what exactly are `3` and `4`?\n",
        "\n",
        "### Types\n",
        "Try this"
      ]
    },
    {
      "metadata": {
        "id": "357elnEAe07D",
        "colab_type": "code",
        "colab": {}
      },
      "cell_type": "code",
      "source": [
        "type(3)"
      ],
      "execution_count": 0,
      "outputs": []
    },
    {
      "metadata": {
        "id": "1qrlV4-je07I",
        "colab_type": "code",
        "colab": {}
      },
      "cell_type": "code",
      "source": [
        "type(b)"
      ],
      "execution_count": 0,
      "outputs": []
    },
    {
      "metadata": {
        "id": "XQHUP3Kpe07M",
        "colab_type": "code",
        "colab": {}
      },
      "cell_type": "code",
      "source": [
        "print(b, \"is 3\")"
      ],
      "execution_count": 0,
      "outputs": []
    },
    {
      "metadata": {
        "id": "0VGkLLjee07S",
        "colab_type": "code",
        "colab": {}
      },
      "cell_type": "code",
      "source": [
        "print(a, \"is b\")"
      ],
      "execution_count": 0,
      "outputs": []
    },
    {
      "metadata": {
        "id": "2k0wTVele07X",
        "colab_type": "text"
      },
      "cell_type": "markdown",
      "source": [
        "3 and 4 are \"objects\" of type \"int\". Object has a technical meaning but for right now it means what you think it means. They are the \"stuff\" of the program. Since `a` and `b` are other names for `4` and `3` when you ask about the type of `a` and `b` you learn about the type of `4` and `3`.\n",
        "\n",
        "### Changing types\n",
        "What about this?"
      ]
    },
    {
      "metadata": {
        "id": "fHZ1FhaCe07Y",
        "colab_type": "code",
        "colab": {}
      },
      "cell_type": "code",
      "source": [
        "a = 16.5\n",
        "print(a)\n",
        "type(a)"
      ],
      "execution_count": 0,
      "outputs": []
    },
    {
      "metadata": {
        "id": "2wQq5lXie07d",
        "colab_type": "text"
      },
      "cell_type": "markdown",
      "source": [
        "Now, `a` is another name for `16.5` which is a \"floating point\" number, a real number that's not an integer. \n",
        "\n",
        "Note, in other languages, like C/C++ or FORTRAN, this is _not_ the behavior you'd get. In those languages every variable has a _fixed type_ which you state up front. Here's the C++ equivalent:\n",
        "\n",
        "```c++\n",
        "  int a = 3;\n",
        "  a = 16.5;\n",
        "  std::cout << \"Hey, a = \" << a << std::endl;\n",
        "```\n",
        "Which prints: \n",
        "\n",
        "`Hey, a = 16`\n",
        "\n",
        "So, in C++ the program does it's best to convert a floating point number into an integer, in this case by rounding down. If you try something whackier:\n",
        "\n",
        "```c++\n",
        "  int a = 3;\n",
        "  a = \"hello world\";\n",
        "  std::cout << \"Hey, a = \" << a << std::endl;\n",
        "```\n",
        "\n",
        "The compiler complains bitterly:\n",
        "\n",
        "`error: invalid conversion from ‘const char*’ to ‘int’ [-fpermissive]`\n",
        "\n",
        "C++ is an example of a _strongly typed_ language. The compiler is very picky and makes you state very clearly exactly what you mean.  Python is _dynamically typed_ (some say _weakly typed_),  which makes it more flexible."
      ]
    },
    {
      "metadata": {
        "id": "ZFs87tBBe07e",
        "colab_type": "text"
      },
      "cell_type": "markdown",
      "source": [
        "### Basic calculations\n",
        "Try these:"
      ]
    },
    {
      "metadata": {
        "id": "8_bV_xC2e07f",
        "colab_type": "code",
        "colab": {}
      },
      "cell_type": "code",
      "source": [
        "x = 3\n",
        "y = 4\n",
        "print(x*y)"
      ],
      "execution_count": 0,
      "outputs": []
    },
    {
      "metadata": {
        "id": "geBYOUzke07n",
        "colab_type": "code",
        "colab": {}
      },
      "cell_type": "code",
      "source": [
        "print(x**y)\n",
        "print(x+y)\n",
        "print(x-y)"
      ],
      "execution_count": 0,
      "outputs": []
    },
    {
      "metadata": {
        "id": "5-KrcqKDe07s",
        "colab_type": "code",
        "colab": {}
      },
      "cell_type": "code",
      "source": [
        "z = x / y\n",
        "print(z)"
      ],
      "execution_count": 0,
      "outputs": []
    },
    {
      "metadata": {
        "id": "WsaL_7KOguSV",
        "colab_type": "code",
        "colab": {}
      },
      "cell_type": "code",
      "source": [
        "z = x // y\n",
        "print(z)"
      ],
      "execution_count": 0,
      "outputs": []
    },
    {
      "metadata": {
        "id": "S_OlNUvPe07w",
        "colab_type": "code",
        "colab": {}
      },
      "cell_type": "code",
      "source": [
        "# In Python 2 (if you ever need it) work around by doing the following:\n",
        "z = x / float(y)\n",
        "print(type(z))\n",
        "print(z)"
      ],
      "execution_count": 0,
      "outputs": []
    },
    {
      "metadata": {
        "id": "Vjfev4eBe073",
        "colab_type": "code",
        "colab": {}
      },
      "cell_type": "code",
      "source": [
        "q = 0.75\n",
        "print(type(q))"
      ],
      "execution_count": 0,
      "outputs": []
    },
    {
      "metadata": {
        "id": "UsOi6XU7e076",
        "colab_type": "text"
      },
      "cell_type": "markdown",
      "source": [
        "### Python as a calculator"
      ]
    },
    {
      "metadata": {
        "id": "JPMpySUXe077",
        "colab_type": "code",
        "colab": {}
      },
      "cell_type": "code",
      "source": [
        "import math\n",
        "\n",
        "print(math.cos(math.pi/4))"
      ],
      "execution_count": 0,
      "outputs": []
    },
    {
      "metadata": {
        "id": "3Vndoji1e07_",
        "colab_type": "text"
      },
      "cell_type": "markdown",
      "source": [
        "This lets the Python interpreter know about the _module_ `math`. Modules are just a collection of function definitions and object types.  You access the functions inside a module as `function.module`\n",
        "\n",
        "You can also do\n",
        "\n",
        "```python\n",
        "from math import *\n",
        "print(cos(pi))\n",
        "```\n",
        "\n",
        "This is fine for calculator work but be a little wary of it in general as it pollutes the program with all the names inside of `math`.  For example, both `math` and `scipy` have `cos` functions.\n",
        "\n",
        "Speaking of names in `math`, how do we learn more about math?"
      ]
    },
    {
      "metadata": {
        "id": "VqhKblw9e08A",
        "colab_type": "code",
        "colab": {}
      },
      "cell_type": "code",
      "source": [
        "math?"
      ],
      "execution_count": 0,
      "outputs": []
    },
    {
      "metadata": {
        "id": "Jtgu-qkve08H",
        "colab_type": "text"
      },
      "cell_type": "markdown",
      "source": [
        "That tells us a little bit, but more information would be useful."
      ]
    },
    {
      "metadata": {
        "id": "WDDbLVGpe08J",
        "colab_type": "code",
        "colab": {}
      },
      "cell_type": "code",
      "source": [
        "help(math)"
      ],
      "execution_count": 0,
      "outputs": []
    },
    {
      "metadata": {
        "id": "N3NSO9Qee08O",
        "colab_type": "text"
      },
      "cell_type": "markdown",
      "source": [
        "Now, try typing `math` and then hit [shift+tab]. Then `math.` and hit [tab]."
      ]
    },
    {
      "metadata": {
        "id": "EeO49EZSe08Q",
        "colab_type": "code",
        "colab": {}
      },
      "cell_type": "code",
      "source": [
        "math."
      ],
      "execution_count": 0,
      "outputs": []
    },
    {
      "metadata": {
        "id": "-C9edFFPe08U",
        "colab_type": "text"
      },
      "cell_type": "markdown",
      "source": [
        "One of the good things about Python is that the interpreter, particularly the iPython interpreter, provides a lot of help. This enabled by a feature of the language: the objects in Python know about themselves. They are _introspective_.\n",
        "\n",
        "### Play around with math\n",
        "* Call a few of the various functions\n",
        "* Call a function of a function of a variable.\n",
        "* Understand how degrees and radians work.\n"
      ]
    },
    {
      "metadata": {
        "id": "H7g4p47De08U",
        "colab_type": "text"
      },
      "cell_type": "markdown",
      "source": [
        "### Reserved Words\n",
        "\n",
        "Python has a number of _reserved words_ that have special meanings:\n",
        "\n",
        "\n",
        "#### Keywords\n",
        "\n",
        "These cannot be used as variables. Doing so will result in a syntax error\n",
        "\n",
        "```\n",
        "and       del       from      not       while\n",
        "as        elif      global    or        with\n",
        "assert    else      if        pass      yield\n",
        "break     except    import    print\n",
        "class     exec      in        raise\n",
        "continue  finally   is        return\n",
        "def       for       lambda    try\n",
        "```\n",
        "\n",
        "#### Operators\n",
        "\n",
        "```\n",
        "+       -       *       **      /       //      %\n",
        "<<      >>      &       |       ^       ~\n",
        "<       >       <=      >=      ==      !=      <>\n",
        "```\n",
        "\n",
        "#### Delimeters\n",
        "\n",
        "These grammatical symbols mark the beginning or end of a sequence of characters, needed to resolve ambiguities.\n",
        "\n",
        "```\n",
        "(       )       [       ]       {       }      @\n",
        ",       :       .       `       =       ;\n",
        "+=      -=      *=      /=      //=     %=\n",
        "&=      |=      ^=      >>=     <<=     **=\n",
        "```\n",
        "\n",
        "##### In English:\n",
        "\n",
        "\"Let's eat grandma!\"  vs. \"Let's eat, grandma!\"\n",
        "\n",
        "##### In Python:"
      ]
    },
    {
      "metadata": {
        "id": "nNKZDeRDe08W",
        "colab_type": "code",
        "colab": {}
      },
      "cell_type": "code",
      "source": [
        "# assign the variable v0 to be another name for 10\n",
        "v0 = 10\n",
        "# assign the array variable at position 0 in the array v to be another name for 10\n",
        "v = [0, 1]\n",
        "v[0] = 10\n",
        "print(v0, v[0])"
      ],
      "execution_count": 0,
      "outputs": []
    },
    {
      "metadata": {
        "id": "ukKCTKeRe08d",
        "colab_type": "text"
      },
      "cell_type": "markdown",
      "source": [
        "#### Built-ins\n",
        "\n",
        "These are functions that are automatically imported by the python interpreter. A fairly comprehensive way of listing these is calling `dir` on the module `__builtins__`"
      ]
    },
    {
      "metadata": {
        "id": "1Y_j3y0ie08e",
        "colab_type": "code",
        "colab": {}
      },
      "cell_type": "code",
      "source": [
        "dir(__builtins__)"
      ],
      "execution_count": 0,
      "outputs": []
    },
    {
      "metadata": {
        "id": "ZAg_1NaJe08k",
        "colab_type": "text"
      },
      "cell_type": "markdown",
      "source": [
        "All these can be understood via `help`. The python documentation also has complete descriptions:\n",
        "\n",
        "[Built in types](https://docs.python.org/3/library/stdtypes.html)\n",
        "\n",
        "[Built in functions](https://docs.python.org/3/library/functions.html#built-in-funcs)\n",
        "\n",
        "[Built in constants](https://docs.python.org/3/library/constants.html#built-in-consts)\n",
        "\n",
        "#### What happens if I try to us a builtin word as a variable?\n",
        "\n",
        "Often, nothing, unless you want to use the original object that the reserved word was another name for.\n",
        "\n",
        "Example: range"
      ]
    },
    {
      "metadata": {
        "id": "ihguEUYye08m",
        "colab_type": "code",
        "colab": {}
      },
      "cell_type": "code",
      "source": [
        "help(range)"
      ],
      "execution_count": 0,
      "outputs": []
    },
    {
      "metadata": {
        "id": "E6h_fBSZe08r",
        "colab_type": "code",
        "colab": {}
      },
      "cell_type": "code",
      "source": [
        "print(type(range))\n",
        "range = [1,2]\n",
        "print(type(range))"
      ],
      "execution_count": 0,
      "outputs": []
    },
    {
      "metadata": {
        "id": "VlTZyKLLe08w",
        "colab_type": "text"
      },
      "cell_type": "markdown",
      "source": [
        "##Defining Functions"
      ]
    },
    {
      "metadata": {
        "id": "fPg0r8Bfe08y",
        "colab_type": "text"
      },
      "cell_type": "markdown",
      "source": [
        "Python function definition syntax:\n",
        "\n",
        "```Python\n",
        "def f(x) :\n",
        "    ''' docstring '''\n",
        "    # indented function body\n",
        "    return my_value\n",
        "```\n",
        "\n",
        "Functions are called as:\n",
        "```Python\n",
        "a = 10\n",
        "result = f(a)\n",
        "```\n",
        "Examples:"
      ]
    },
    {
      "metadata": {
        "id": "D6gP6Mgee08z",
        "colab_type": "code",
        "colab": {}
      },
      "cell_type": "code",
      "source": [
        "def f1(x):\n",
        "    ''' computes the square of x'''\n",
        "    return x**2\n",
        "print(f1(2))"
      ],
      "execution_count": 0,
      "outputs": []
    },
    {
      "metadata": {
        "id": "WAh0aksRe084",
        "colab_type": "code",
        "colab": {}
      },
      "cell_type": "code",
      "source": [
        "def f2(x,y):\n",
        "    return x**y\n",
        "print(f2(2,3))"
      ],
      "execution_count": 0,
      "outputs": []
    },
    {
      "metadata": {
        "id": "pj5JWvLJe08_",
        "colab_type": "code",
        "colab": {}
      },
      "cell_type": "code",
      "source": [
        "a = 2\n",
        "x = 4\n",
        "def f3(x):\n",
        "    a = 3\n",
        "    return x**a\n",
        "print(x,a,f3(2))"
      ],
      "execution_count": 0,
      "outputs": []
    },
    {
      "metadata": {
        "id": "seDFGfpCe09H",
        "colab_type": "text"
      },
      "cell_type": "markdown",
      "source": [
        "##Boolean Expressions"
      ]
    },
    {
      "metadata": {
        "id": "Cg3B3GRKe09I",
        "colab_type": "text"
      },
      "cell_type": "markdown",
      "source": [
        "Python has two _boolean_ constants: `True` and `False`"
      ]
    },
    {
      "metadata": {
        "id": "KsTRn_CZe09K",
        "colab_type": "code",
        "colab": {}
      },
      "cell_type": "code",
      "source": [
        "a = True\n",
        "b = False\n",
        "print(a,b)"
      ],
      "execution_count": 0,
      "outputs": []
    },
    {
      "metadata": {
        "id": "TfXh4j-ze09N",
        "colab_type": "text"
      },
      "cell_type": "markdown",
      "source": [
        "We can combine them with logical operators:"
      ]
    },
    {
      "metadata": {
        "id": "fSZYPvUje09O",
        "colab_type": "code",
        "colab": {}
      },
      "cell_type": "code",
      "source": [
        "print(a and b)\n",
        "print(a or b)\n",
        "print(not(a))"
      ],
      "execution_count": 0,
      "outputs": []
    },
    {
      "metadata": {
        "id": "RwAUZwmYe0-8",
        "colab_type": "text"
      },
      "cell_type": "markdown",
      "source": [
        "##Comparisons: getting to the truth"
      ]
    },
    {
      "metadata": {
        "id": "OfBeawyse0-9",
        "colab_type": "code",
        "colab": {}
      },
      "cell_type": "code",
      "source": [
        "c = 1\n",
        "d = 2\n",
        "e = 2\n",
        "print(c==d)\n",
        "print(c!=d)\n",
        "print(e==d)\n",
        "print(c<d)\n",
        "print(c>d)\n",
        "print(c<d<e)\n",
        "print(c<d>e)\n",
        "print(c<=d)\n",
        "print(e<=d)"
      ],
      "execution_count": 0,
      "outputs": []
    },
    {
      "metadata": {
        "id": "ESAgWdXPjUO4",
        "colab_type": "code",
        "colab": {}
      },
      "cell_type": "code",
      "source": [
        "c<=d\n",
        "e<=d"
      ],
      "execution_count": 0,
      "outputs": []
    },
    {
      "metadata": {
        "id": "W0uT9vZne0_C",
        "colab_type": "text"
      },
      "cell_type": "markdown",
      "source": [
        "##Flow control: `if`, `elif`, `else`"
      ]
    },
    {
      "metadata": {
        "id": "7s0TOFDve0_D",
        "colab_type": "text"
      },
      "cell_type": "markdown",
      "source": [
        "`if`, `elif` and `else` can be used to choose which block of text to execute:\n",
        "\n",
        "```Python\n",
        "x = 0\n",
        "if boolean_expression:\n",
        "    # do some stuff\n",
        "    x = 1\n",
        "elif boolean_expression:\n",
        "    # do some other stuff\n",
        "    x = 2\n",
        "else:\n",
        "    # none of the above true\n",
        "    # take action\n",
        "    x = 3\n",
        "```\n",
        "\n",
        "Examples:"
      ]
    },
    {
      "metadata": {
        "id": "zQCcqASQe0_F",
        "colab_type": "code",
        "colab": {}
      },
      "cell_type": "code",
      "source": [
        "x = -1\n",
        "if x<0:\n",
        "    print(\"x<0\")\n",
        "elif x<2:\n",
        "    print(\"0<=x<2\")\n",
        "else:\n",
        "    print(\"x>=2\")\n",
        "    "
      ],
      "execution_count": 0,
      "outputs": []
    },
    {
      "metadata": {
        "id": "77jz5QQhe0_I",
        "colab_type": "text"
      },
      "cell_type": "markdown",
      "source": [
        "##Exercise: functions and flow control"
      ]
    },
    {
      "metadata": {
        "id": "_h_TBnFFe0_J",
        "colab_type": "text"
      },
      "cell_type": "markdown",
      "source": [
        "Write a function `letter_grade` to take in a numerical score in percent and return letter grades according to the following rubric:\n",
        "\n",
        "letter grade | numerical score (%)\n",
        "-------------|----------------\n",
        "A| >=90\n",
        "B| >=80\n",
        "C| >=70\n",
        "D| >=60\n",
        "F| <60 \n",
        "\n",
        "Use `if`, `elif`, `else` to control the flow"
      ]
    },
    {
      "metadata": {
        "id": "IIydsxnekAQ8",
        "colab_type": "text"
      },
      "cell_type": "markdown",
      "source": [
        "### Possible solution"
      ]
    },
    {
      "metadata": {
        "id": "tsfid3Z0jr_K",
        "colab_type": "code",
        "colab": {}
      },
      "cell_type": "code",
      "source": [
        "def letter_grade(pct_score):\n",
        "    ''' return the letter grade based on the percent score'''\n",
        "    if(pct_score>=90):\n",
        "        return 'A'\n",
        "    elif(pct_score>=80):\n",
        "        return 'B'\n",
        "    else:\n",
        "        return 'F'\n",
        "      \n",
        "print(letter_grade(91))\n",
        "print(letter_grade(85))\n",
        "print(letter_grade(75))"
      ],
      "execution_count": 0,
      "outputs": []
    },
    {
      "metadata": {
        "id": "HzWxXwxqkJV3",
        "colab_type": "code",
        "colab": {}
      },
      "cell_type": "code",
      "source": [
        "help(letter_grade)"
      ],
      "execution_count": 0,
      "outputs": []
    },
    {
      "metadata": {
        "id": "sgbdLr4ue0_J",
        "colab_type": "text"
      },
      "cell_type": "markdown",
      "source": [
        "##Bits and Bytes"
      ]
    },
    {
      "metadata": {
        "id": "bXPchnfEe0_K",
        "colab_type": "text"
      },
      "cell_type": "markdown",
      "source": [
        "Before moving on let's talk about how integers are represented in decimal, binary and hex. \n",
        "\n",
        "* A `bit` = \"binary digit\" = 0 or 1. True or False.\n",
        "* A `byte` = 8 bits. Has $2^8$ = 256 possible values\n",
        "  * Written, in binary format as, e.g 0b00100110\n",
        "\n",
        "prefix|bit8|bit7|bit6|bit5|bit4|bit3|bit2|bit1|\n",
        "-------------------|--------------------\n",
        " 0b| 128 | 64 |32 |16|8|4|2|1\n",
        "  \n",
        "  * Hexadecimal (base 16) format. Made of two 4 bit \"nibbles\" which are denoted by the numbers 0-9, and the letters A=10, B=11, C=12, D=14, E=14,F=15 \n",
        "\n",
        "prefix|nibble 2 | nibble 1\n",
        "---------|---------\n",
        "0x | 16  | 1\n",
        "\n",
        "  * Written as 0x##\n",
        "  * So 0x10 = 16 in decimal. 0x21 = 37, etc\n",
        "  \n",
        "* An `int` = 4 bytes on a 32 bit system, 8 bytes on a 64 bit system \n",
        "* A `float` = at least 8 bytes\n",
        "\n",
        "### Exercise: print binary and hex as decimal\n",
        "\n",
        "Start by doing `help(int)`. There is a way to feed a character string such as '0b00100110' in to make an `int`. Figure out how to use that feature, make an integer variable and use `print` to print it (by default in decimal)."
      ]
    },
    {
      "metadata": {
        "id": "G0txsaCue0_L",
        "colab_type": "code",
        "colab": {}
      },
      "cell_type": "code",
      "source": [
        "help(int)"
      ],
      "execution_count": 0,
      "outputs": []
    },
    {
      "metadata": {
        "id": "QLSTxYrKe0_Q",
        "colab_type": "code",
        "colab": {}
      },
      "cell_type": "code",
      "source": [
        ""
      ],
      "execution_count": 0,
      "outputs": []
    }
  ]
}