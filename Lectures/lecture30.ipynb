{
  "nbformat": 4,
  "nbformat_minor": 0,
  "metadata": {
    "colab": {
      "name": "lecture30.ipynb",
      "version": "0.3.2",
      "provenance": [],
      "collapsed_sections": [
        "6i9jXa7NfRpM",
        "uvT37SbOgXQm",
        "brEW9rIsgc1d",
        "-2m2C4bTsqL1",
        "vUDZFCXWmKRG",
        "HyEgK9vLrQBv"
      ],
      "include_colab_link": true
    },
    "kernelspec": {
      "name": "python3",
      "display_name": "Python 3"
    }
  },
  "cells": [
    {
      "cell_type": "markdown",
      "metadata": {
        "id": "view-in-github",
        "colab_type": "text"
      },
      "source": [
        "<a href=\"https://colab.research.google.com/github/wdconinc/practical-computing-for-scientists/blob/master/Lectures/lecture30.ipynb\" target=\"_parent\"><img src=\"https://colab.research.google.com/assets/colab-badge.svg\" alt=\"Open In Colab\"/></a>"
      ]
    },
    {
      "metadata": {
        "id": "0aH_RqD-fJy-",
        "colab_type": "text"
      },
      "cell_type": "markdown",
      "source": [
        "# Lecture 30: Machine Learning"
      ]
    },
    {
      "metadata": {
        "id": "6i9jXa7NfRpM",
        "colab_type": "text"
      },
      "cell_type": "markdown",
      "source": [
        "## Introduction"
      ]
    },
    {
      "metadata": {
        "id": "bnR3GnrffT0T",
        "colab_type": "text"
      },
      "cell_type": "markdown",
      "source": [
        "What is machine learning?\n",
        "> Machine learning (ML) is a field of artificial intelligence that uses *statistical techniques* to give computer systems the ability to *learn*, e.g., progressively improve performance on a specific task, from *data*, without being explicitly programmed. ([Wikipedia](https://en.wikipedia.org/wiki/Machine_learning))\n",
        "\n",
        "Examples in the sciences:\n",
        "- identification of classes of events in particle physics detectors,\n",
        "- creation of additional samples that behave similarly to an existing set of samples (quickly creating background events from painstakingly simulated events),\n",
        "- identifcation of features of images (find templates),\n",
        "- predicting trends in observables without knowing the causal relationships,\n",
        "- ..."
      ]
    },
    {
      "metadata": {
        "id": "uvT37SbOgXQm",
        "colab_type": "text"
      },
      "cell_type": "markdown",
      "source": [
        "## Classes of Machine Learning Problems"
      ]
    },
    {
      "metadata": {
        "id": "brEW9rIsgc1d",
        "colab_type": "text"
      },
      "cell_type": "markdown",
      "source": [
        "#### Supervised, unsupervised, reinforcement learning?\n",
        "\n",
        "- Supervised learning is the machine learning task of learning a function that maps an input to an output based on example input-output pairs. ([link text](https://en.wikipedia.org/wiki/Supervised_learning))\n",
        "- Unsupervised learning is a branch of machine learning that learns from test data that has not been labeled, classified or categorized. ([Wikipedia](https://en.wikipedia.org/wiki/Unsupervised_learning))\n",
        "- Reinforcement learning is an area of machine learning concerned with how software agents ought to take actions in an environment so as to maximize some notion of cumulative reward. ([Wikipedia](https://en.wikipedia.org/wiki/Reinforcement_learning))\n",
        "\n",
        "Examples:\n",
        "- supervised learning:\n",
        "  - identify patterns of harmful cancerour growth in MRI images based on a training data set where identication was performed using biopsy,\n",
        "  - classify detected oscillations in gravitational wave detectors as signal or background based on simulations of such events.\n",
        "- unsupervised learning:\n",
        "  - classify events into multiple clusters without using a training data set,\n",
        "- reinforcement learning:\n",
        "  - predict spam/no-spam for emails with reinforcement on the correctness of the prediction,\n",
        "  - predict the evoluation of an experimental observable based on past history and other variables, with reinforcement on the correctness of the predictions.\n",
        "\n",
        "\n",
        "#### Classification, regression?\n",
        "\n",
        "- Classification is the problem of identifying to which of a set of categories (sub-populations) a new observation belongs, on the basis of a training set of data containing observations (or instances) whose category membership is known. ([Wikipedia](https://en.wikipedia.org/wiki/Statistical_classification))\n",
        "- Regression analysis is a set of statistical processes for estimating the relationships among variables. It includes many techniques for modeling and analyzing several variables, when the focus is on the relationship between a dependent variable and one or more independent variables (or 'predictors'). ([Wikipedia](https://en.wikipedia.org/wiki/Regression_analysis))\n",
        "\n",
        "Summary for supervised learning: targets are either categories (classification) or continuous variables (regression)."
      ]
    },
    {
      "metadata": {
        "id": "jEAgDuiPkYs5",
        "colab_type": "text"
      },
      "cell_type": "markdown",
      "source": [
        "## Linear Regression"
      ]
    },
    {
      "metadata": {
        "id": "NDFYV4GnkakO",
        "colab_type": "text"
      },
      "cell_type": "markdown",
      "source": [
        "A dependent variable or *target* is dependent on a set of independent or input variables or *features*.\n",
        "\n",
        "Example:\n",
        "- measured voltage across a resistor is dependent on the applied current.\n",
        "\n",
        "<img src=\"https://upload.wikimedia.org/wikipedia/commons/3/3a/Linear_regression.svg\" width=\"50%\">"
      ]
    },
    {
      "metadata": {
        "colab_type": "text",
        "id": "sZA6RKeumHeo"
      },
      "cell_type": "markdown",
      "source": [
        "We have solve this problem before: linear regression is a fit of a straight line $\\hat{y}_i = w \\cdot x_i + b$ to a set of points $y_i$. We will call $w$ the weight and $b$ the bias for this linear relationship.\n",
        "\n",
        "We determined a cost or loss function:\n",
        "$$ C = \\frac{1}{2} \\sum_i^N \\frac{(\\hat{y}_i - y_i)^2}{\\sigma_i^2} $$\n",
        "We didn't include the factor two before, but it will prove useful here. For simplicity we will also work in normalized variables where $\\sigma = 1$.\n",
        "\n",
        "We then determined the values for $w$ and $b$ for which $C$ is minimized:\n",
        "$$ \\frac{\\partial C}{\\partial w} \\Big|_{w,b} = 0 $$\n",
        "$$ \\frac{\\partial C}{\\partial b} \\Big|_{w,b} = 0 $$\n",
        "or\n",
        "$$ \\nabla_{w,b} C \\big|_{w,b} = 0 $$\n",
        "or\n",
        "$$ \\sum_i^N (\\hat{y}_i - y_i) \\nabla_{w,b}\\hat{y}_i = \\sum_i^N (\\hat{y}_i - y_i) \\Big( \\begin{array}{c} x_i \\\\ 1 \\end{array} \\Big) = 0 $$\n",
        "\n",
        "Based on the gradient of $C$ in the $w,b$ plane we can use gradient descent to find the minimum:\n",
        "$$ \\{w,b\\}_{n+1} = \\{w,b\\}_n - \\gamma \\nabla_{w,b} C|_{\\{w,b\\}_n} $$"
      ]
    },
    {
      "metadata": {
        "id": "-2m2C4bTsqL1",
        "colab_type": "text"
      },
      "cell_type": "markdown",
      "source": [
        "### Extension to large number of input features"
      ]
    },
    {
      "metadata": {
        "id": "fPn56DDcsy3e",
        "colab_type": "text"
      },
      "cell_type": "markdown",
      "source": [
        "From a single input feature $x$ we can easily extend this to many input features $\\vec{x}$. In this case, we have a weight associated with each component of $\\vec{x}$, in other words a vector of weights $\\vec{w}$."
      ]
    },
    {
      "metadata": {
        "id": "vUDZFCXWmKRG",
        "colab_type": "text"
      },
      "cell_type": "markdown",
      "source": [
        "### Modifications to the traditional approach when $N$ is large"
      ]
    },
    {
      "metadata": {
        "id": "RgBhn2OGmN_g",
        "colab_type": "text"
      },
      "cell_type": "markdown",
      "source": [
        "When $N$ is large, calculating $C$ becomes expensive. The gradient descent algorithm will also work well enough if we do not take all $N$ into account, assuming that we have a representative set of points. We use therefore\n",
        "$$ C = \\frac{1}{2} \\sum_i^{K \\le N} \\frac{(\\hat{y}_i - y_i)^2}{\\sigma_i^2} $$\n",
        "where $K$ is the size of a mini-batch of training data.\n",
        "\n",
        "For $K = N$ we reproduce the original algorithm. For $1 < K < N$ we use the average loss gradient over $K$ training point. For $K = 1$ we update the estimate for ${w,b}$ individually for each training input.\n",
        "\n",
        "This is batched ($K>1$) or stochastic ($K=1$) gradient descent, the most commonly used cost minimization technique for machine learning algorithms.\n",
        "\n"
      ]
    },
    {
      "metadata": {
        "id": "HyEgK9vLrQBv",
        "colab_type": "text"
      },
      "cell_type": "markdown",
      "source": [
        "### Training, Validation, Testing"
      ]
    },
    {
      "metadata": {
        "id": "QvC7A62VrUn-",
        "colab_type": "text"
      },
      "cell_type": "markdown",
      "source": [
        "When saw in the traditional approach that we can easily overfit data. We would like to prevent this. The main approach we will use is separating our training set into three sets:\n",
        "- the training data set (e.g. 70%) on which we train our algorithm,\n",
        "- the validation data set (e.g. 20%) on which we will test the predictive power of our trained algorithm,\n",
        "- the test data set (e.g. 10%) on which we ultimately test our trained algorithm. This will be our gold standard.\n",
        "\n",
        "There are other approaches to prevent overfitting. In particular you may encounter regularization terms in the cost function:\n",
        "$$ C = \\frac{1}{2} \\sum_i^N (\\hat{y}_i - y_i)^2 + \\frac{\\lambda}{2} \\sum_{w_i \\in \\{w\\}} w_i^2 $$\n",
        "This quadratic regularizer on the weights will force the training algorithm to prefer those solutions where the weights $w$ are small. Since overfitting is associated with fine-tuned weights $w$ which are very large, this will counteract the tendency to overfit."
      ]
    },
    {
      "metadata": {
        "id": "akT0D4E6qEP0",
        "colab_type": "text"
      },
      "cell_type": "markdown",
      "source": [
        "### Example: Linear Regression on Diabetes Test Data"
      ]
    },
    {
      "metadata": {
        "id": "1RMv1hNCqLIP",
        "colab_type": "text"
      },
      "cell_type": "markdown",
      "source": [
        "We will use scikit-learn or `sklearn` as the package for machine learning. It acts as the `scipy` but for machine learning."
      ]
    },
    {
      "metadata": {
        "id": "C_dvYCJZqKFg",
        "colab_type": "code",
        "colab": {}
      },
      "cell_type": "code",
      "source": [
        "import matplotlib.pyplot as plt\n",
        "import numpy as np\n",
        "\n",
        "from sklearn import datasets, linear_model\n",
        "from sklearn.metrics import mean_squared_error, r2_score"
      ],
      "execution_count": 0,
      "outputs": []
    },
    {
      "metadata": {
        "id": "E44wIuphqYwK",
        "colab_type": "code",
        "colab": {}
      },
      "cell_type": "code",
      "source": [
        "# Load the diabetes dataset\n",
        "diabetes = datasets.load_diabetes()"
      ],
      "execution_count": 0,
      "outputs": []
    },
    {
      "metadata": {
        "id": "Qi4OQ8HyqanC",
        "colab_type": "code",
        "outputId": "3ae99aa1-46ac-421d-a477-43e0abcd8210",
        "colab": {
          "base_uri": "https://localhost:8080/",
          "height": 833
        }
      },
      "cell_type": "code",
      "source": [
        "# Explore the data set\n",
        "print(len(diabetes.data), \"observations\")\n",
        "print(diabetes.feature_names)\n",
        "print(np.std(diabetes.data[:,0]), np.std(diabetes.data[:,1]), np.std(diabetes.data[:,2]), np.std(diabetes.data[:,3]))\n",
        "print(diabetes.data)\n",
        "print(diabetes.target)"
      ],
      "execution_count": 0,
      "outputs": [
        {
          "output_type": "stream",
          "text": [
            "442 observations\n",
            "['age', 'sex', 'bmi', 'bp', 's1', 's2', 's3', 's4', 's5', 's6']\n",
            "0.04756514941545118 0.04756514941544942 0.047565149415453895 0.04756514941544984\n",
            "[[ 0.03807591  0.05068012  0.06169621 ... -0.00259226  0.01990842\n",
            "  -0.01764613]\n",
            " [-0.00188202 -0.04464164 -0.05147406 ... -0.03949338 -0.06832974\n",
            "  -0.09220405]\n",
            " [ 0.08529891  0.05068012  0.04445121 ... -0.00259226  0.00286377\n",
            "  -0.02593034]\n",
            " ...\n",
            " [ 0.04170844  0.05068012 -0.01590626 ... -0.01107952 -0.04687948\n",
            "   0.01549073]\n",
            " [-0.04547248 -0.04464164  0.03906215 ...  0.02655962  0.04452837\n",
            "  -0.02593034]\n",
            " [-0.04547248 -0.04464164 -0.0730303  ... -0.03949338 -0.00421986\n",
            "   0.00306441]]\n",
            "[151.  75. 141. 206. 135.  97. 138.  63. 110. 310. 101.  69. 179. 185.\n",
            " 118. 171. 166. 144.  97. 168.  68.  49.  68. 245. 184. 202. 137.  85.\n",
            " 131. 283. 129.  59. 341.  87.  65. 102. 265. 276. 252.  90. 100.  55.\n",
            "  61.  92. 259.  53. 190. 142.  75. 142. 155. 225.  59. 104. 182. 128.\n",
            "  52.  37. 170. 170.  61. 144.  52. 128.  71. 163. 150.  97. 160. 178.\n",
            "  48. 270. 202. 111.  85.  42. 170. 200. 252. 113. 143.  51.  52. 210.\n",
            "  65. 141.  55. 134.  42. 111.  98. 164.  48.  96.  90. 162. 150. 279.\n",
            "  92.  83. 128. 102. 302. 198.  95.  53. 134. 144. 232.  81. 104.  59.\n",
            " 246. 297. 258. 229. 275. 281. 179. 200. 200. 173. 180.  84. 121. 161.\n",
            "  99. 109. 115. 268. 274. 158. 107.  83. 103. 272.  85. 280. 336. 281.\n",
            " 118. 317. 235.  60. 174. 259. 178. 128.  96. 126. 288.  88. 292.  71.\n",
            " 197. 186.  25.  84.  96. 195.  53. 217. 172. 131. 214.  59.  70. 220.\n",
            " 268. 152.  47.  74. 295. 101. 151. 127. 237. 225.  81. 151. 107.  64.\n",
            " 138. 185. 265. 101. 137. 143. 141.  79. 292. 178.  91. 116.  86. 122.\n",
            "  72. 129. 142.  90. 158.  39. 196. 222. 277.  99. 196. 202. 155.  77.\n",
            " 191.  70.  73.  49.  65. 263. 248. 296. 214. 185.  78.  93. 252. 150.\n",
            "  77. 208.  77. 108. 160.  53. 220. 154. 259.  90. 246. 124.  67.  72.\n",
            " 257. 262. 275. 177.  71.  47. 187. 125.  78.  51. 258. 215. 303. 243.\n",
            "  91. 150. 310. 153. 346.  63.  89.  50.  39. 103. 308. 116. 145.  74.\n",
            "  45. 115. 264.  87. 202. 127. 182. 241.  66.  94. 283.  64. 102. 200.\n",
            " 265.  94. 230. 181. 156. 233.  60. 219.  80.  68. 332. 248.  84. 200.\n",
            "  55.  85.  89.  31. 129.  83. 275.  65. 198. 236. 253. 124.  44. 172.\n",
            " 114. 142. 109. 180. 144. 163. 147.  97. 220. 190. 109. 191. 122. 230.\n",
            " 242. 248. 249. 192. 131. 237.  78. 135. 244. 199. 270. 164.  72.  96.\n",
            " 306.  91. 214.  95. 216. 263. 178. 113. 200. 139. 139.  88. 148.  88.\n",
            " 243.  71.  77. 109. 272.  60.  54. 221.  90. 311. 281. 182. 321.  58.\n",
            " 262. 206. 233. 242. 123. 167.  63. 197.  71. 168. 140. 217. 121. 235.\n",
            " 245.  40.  52. 104. 132.  88.  69. 219.  72. 201. 110.  51. 277.  63.\n",
            " 118.  69. 273. 258.  43. 198. 242. 232. 175.  93. 168. 275. 293. 281.\n",
            "  72. 140. 189. 181. 209. 136. 261. 113. 131. 174. 257.  55.  84.  42.\n",
            " 146. 212. 233.  91. 111. 152. 120.  67. 310.  94. 183.  66. 173.  72.\n",
            "  49.  64.  48. 178. 104. 132. 220.  57.]\n"
          ],
          "name": "stdout"
        }
      ]
    },
    {
      "metadata": {
        "id": "jZSjPszNuG1y",
        "colab_type": "code",
        "outputId": "e28b3201-ea53-486c-d3bd-fbbad4785d69",
        "colab": {
          "base_uri": "https://localhost:8080/",
          "height": 357
        }
      },
      "cell_type": "code",
      "source": [
        "# Use only one feature\n",
        "#diabetes_X = diabetes.data[:, np.newaxis, 2]\n",
        "diabetes_X = diabetes.data[:, :10]\n",
        "# Print the first 10 observations\n",
        "print(diabetes_X[:10])"
      ],
      "execution_count": 0,
      "outputs": [
        {
          "output_type": "stream",
          "text": [
            "[[ 0.03807591  0.05068012  0.06169621  0.02187235 -0.0442235  -0.03482076\n",
            "  -0.04340085 -0.00259226  0.01990842 -0.01764613]\n",
            " [-0.00188202 -0.04464164 -0.05147406 -0.02632783 -0.00844872 -0.01916334\n",
            "   0.07441156 -0.03949338 -0.06832974 -0.09220405]\n",
            " [ 0.08529891  0.05068012  0.04445121 -0.00567061 -0.04559945 -0.03419447\n",
            "  -0.03235593 -0.00259226  0.00286377 -0.02593034]\n",
            " [-0.08906294 -0.04464164 -0.01159501 -0.03665645  0.01219057  0.02499059\n",
            "  -0.03603757  0.03430886  0.02269202 -0.00936191]\n",
            " [ 0.00538306 -0.04464164 -0.03638469  0.02187235  0.00393485  0.01559614\n",
            "   0.00814208 -0.00259226 -0.03199144 -0.04664087]\n",
            " [-0.09269548 -0.04464164 -0.04069594 -0.01944209 -0.06899065 -0.07928784\n",
            "   0.04127682 -0.0763945  -0.04118039 -0.09634616]\n",
            " [-0.04547248  0.05068012 -0.04716281 -0.01599922 -0.04009564 -0.02480001\n",
            "   0.00077881 -0.03949338 -0.06291295 -0.03835666]\n",
            " [ 0.06350368  0.05068012 -0.00189471  0.06662967  0.09061988  0.10891438\n",
            "   0.02286863  0.01770335 -0.03581673  0.00306441]\n",
            " [ 0.04170844  0.05068012  0.06169621 -0.04009932 -0.01395254  0.00620169\n",
            "  -0.02867429 -0.00259226 -0.01495648  0.01134862]\n",
            " [-0.07090025 -0.04464164  0.03906215 -0.03321358 -0.01257658 -0.03450761\n",
            "  -0.02499266 -0.00259226  0.06773633 -0.01350402]]\n"
          ],
          "name": "stdout"
        }
      ]
    },
    {
      "metadata": {
        "id": "OIRWDl22y4et",
        "colab_type": "code",
        "outputId": "355911f3-d88c-4202-8b4f-5c4127214564",
        "colab": {
          "base_uri": "https://localhost:8080/",
          "height": 34
        }
      },
      "cell_type": "code",
      "source": [
        "# Use a random permutation of the data\n",
        "perm = np.arange(len(diabetes.data))\n",
        "np.random.seed(0)\n",
        "perm = np.random.permutation(len(diabetes.data))\n",
        "print(perm[:10])"
      ],
      "execution_count": 0,
      "outputs": [
        {
          "output_type": "stream",
          "text": [
            "[362 249 271 435 400 403  12 399 198 205]\n"
          ],
          "name": "stdout"
        }
      ]
    },
    {
      "metadata": {
        "id": "8Ce4l6q-tZB1",
        "colab_type": "code",
        "colab": {}
      },
      "cell_type": "code",
      "source": [
        "# Split the data into training/testing sets\n",
        "diabetes_X_train = diabetes_X[perm][:-20]\n",
        "diabetes_X_test = diabetes_X[perm][-20:]\n",
        "\n",
        "# Split the targets into training/testing sets\n",
        "diabetes_y_train = diabetes.target[perm][:-20]\n",
        "diabetes_y_test = diabetes.target[perm][-20:]"
      ],
      "execution_count": 0,
      "outputs": []
    },
    {
      "metadata": {
        "id": "VfhYAshAtahm",
        "colab_type": "code",
        "outputId": "c49cd9f8-693f-49eb-b7bb-c8365efa57ae",
        "colab": {
          "base_uri": "https://localhost:8080/",
          "height": 34
        }
      },
      "cell_type": "code",
      "source": [
        "print(len(diabetes_X_train), \" vs \", len(diabetes_X_test))"
      ],
      "execution_count": 0,
      "outputs": [
        {
          "output_type": "stream",
          "text": [
            "422  vs  20\n"
          ],
          "name": "stdout"
        }
      ]
    },
    {
      "metadata": {
        "id": "JpuoXz-Ttssj",
        "colab_type": "code",
        "outputId": "95fb4429-cf21-4f35-cc48-285aac7c380c",
        "colab": {
          "base_uri": "https://localhost:8080/",
          "height": 517
        }
      },
      "cell_type": "code",
      "source": [
        "plt.plot(diabetes_X_train, diabetes_y_train, '.b')"
      ],
      "execution_count": 0,
      "outputs": [
        {
          "output_type": "execute_result",
          "data": {
            "text/plain": [
              "[<matplotlib.lines.Line2D at 0x7f16754c0f28>,\n",
              " <matplotlib.lines.Line2D at 0x7f1675498780>,\n",
              " <matplotlib.lines.Line2D at 0x7f1675498f60>,\n",
              " <matplotlib.lines.Line2D at 0x7f1675498748>,\n",
              " <matplotlib.lines.Line2D at 0x7f1675498b38>,\n",
              " <matplotlib.lines.Line2D at 0x7f16754985c0>,\n",
              " <matplotlib.lines.Line2D at 0x7f1675498e80>,\n",
              " <matplotlib.lines.Line2D at 0x7f1675498208>,\n",
              " <matplotlib.lines.Line2D at 0x7f16754984e0>,\n",
              " <matplotlib.lines.Line2D at 0x7f1675498518>]"
            ]
          },
          "metadata": {
            "tags": []
          },
          "execution_count": 213
        },
        {
          "output_type": "display_data",
          "data": {
            "image/png": "[encoded data removed]",
            "text/plain": [
              "<matplotlib.figure.Figure at 0x7f16740fca90>"
            ]
          },
          "metadata": {
            "tags": []
          }
        }
      ]
    },
    {
      "metadata": {
        "id": "bBIYCBYFuXCW",
        "colab_type": "code",
        "outputId": "3758abe1-5a7f-461a-f158-868b070761a3",
        "colab": {
          "base_uri": "https://localhost:8080/",
          "height": 34
        }
      },
      "cell_type": "code",
      "source": [
        "# Create linear regression object\n",
        "regr = linear_model.LinearRegression()\n",
        "\n",
        "# Train the model using the training sets\n",
        "regr.fit(diabetes_X_train, diabetes_y_train)"
      ],
      "execution_count": 0,
      "outputs": [
        {
          "output_type": "execute_result",
          "data": {
            "text/plain": [
              "LinearRegression(copy_X=True, fit_intercept=True, n_jobs=1, normalize=False)"
            ]
          },
          "metadata": {
            "tags": []
          },
          "execution_count": 214
        }
      ]
    },
    {
      "metadata": {
        "id": "GNZ4dm4te5OO",
        "colab_type": "code",
        "outputId": "2ea01d0b-d043-405c-c98c-999b333d4d9e",
        "colab": {
          "base_uri": "https://localhost:8080/",
          "height": 119
        }
      },
      "cell_type": "code",
      "source": [
        "# Make predictions using the training set\n",
        "diabetes_y_train_pred = regr.predict(diabetes_X_train)\n",
        "\n",
        "# Make predictions using the testing set\n",
        "diabetes_y_test_pred = regr.predict(diabetes_X_test)\n",
        "\n",
        "# The coefficients\n",
        "print('Coefficients: \\n', regr.coef_)\n",
        "# The mean squared error\n",
        "print(\"Mean squared error on training data: %.2f\"\n",
        "      % mean_squared_error(diabetes_y_train, diabetes_y_train_pred))\n",
        "print(\"Mean squared error on test data: %.2f\"\n",
        "      % mean_squared_error(diabetes_y_test, diabetes_y_test_pred))\n",
        "\n",
        "# Explained variance score: 1 is perfect prediction\n",
        "print('Variance score: %.2f' % r2_score(diabetes_y_test, diabetes_y_test_pred))\n"
      ],
      "execution_count": 0,
      "outputs": [
        {
          "output_type": "stream",
          "text": [
            "Coefficients: \n",
            " [  -3.78606011 -235.47377739  533.3485139   321.69200267 -827.89481203\n",
            "  521.12370087  115.57077061  159.58767508  742.51130661   55.80177895]\n",
            "Mean squared error on training data: 2847.72\n",
            "Mean squared error on test data: 3171.52\n",
            "Variance score: 0.64\n"
          ],
          "name": "stdout"
        }
      ]
    },
    {
      "metadata": {
        "id": "Xq75Dn7BvAe0",
        "colab_type": "code",
        "outputId": "c3fbb020-7842-4310-eb37-6a2a59d9407d",
        "colab": {
          "base_uri": "https://localhost:8080/",
          "height": 942
        }
      },
      "cell_type": "code",
      "source": [
        "# Plot outputs\n",
        "plt.scatter(diabetes_X_train, diabetes_y_train, color='lightgray')\n",
        "plt.plot(diabetes_X_train, diabetes_y_train_pred, color='lightgray', linewidth = 3)\n",
        "\n",
        "plt.scatter(diabetes_X_test, diabetes_y_test,   color='black')\n",
        "plt.plot(diabetes_X_test, diabetes_y_test_pred, color='blue', linewidth = 3)"
      ],
      "execution_count": 0,
      "outputs": [
        {
          "output_type": "error",
          "ename": "ValueError",
          "evalue": "ignored",
          "traceback": [
            "\u001b[0;31m---------------------------------------------------------------------------\u001b[0m",
            "\u001b[0;31mValueError\u001b[0m                                Traceback (most recent call last)",
            "\u001b[0;32m<ipython-input-216-8da3efd122fb>\u001b[0m in \u001b[0;36m<module>\u001b[0;34m()\u001b[0m\n\u001b[0;32m----> 1\u001b[0;31m \u001b[0mplt\u001b[0m\u001b[0;34m.\u001b[0m\u001b[0mscatter\u001b[0m\u001b[0;34m(\u001b[0m\u001b[0mdiabetes_X_train\u001b[0m\u001b[0;34m,\u001b[0m \u001b[0mdiabetes_y_train\u001b[0m\u001b[0;34m,\u001b[0m \u001b[0mcolor\u001b[0m\u001b[0;34m=\u001b[0m\u001b[0;34m'lightgray'\u001b[0m\u001b[0;34m)\u001b[0m\u001b[0;34m\u001b[0m\u001b[0m\n\u001b[0m\u001b[1;32m      2\u001b[0m \u001b[0mplt\u001b[0m\u001b[0;34m.\u001b[0m\u001b[0mplot\u001b[0m\u001b[0;34m(\u001b[0m\u001b[0mdiabetes_X_train\u001b[0m\u001b[0;34m,\u001b[0m \u001b[0mdiabetes_y_train_pred\u001b[0m\u001b[0;34m,\u001b[0m \u001b[0mcolor\u001b[0m\u001b[0;34m=\u001b[0m\u001b[0;34m'lightgray'\u001b[0m\u001b[0;34m,\u001b[0m \u001b[0mlinewidth\u001b[0m \u001b[0;34m=\u001b[0m \u001b[0;36m3\u001b[0m\u001b[0;34m)\u001b[0m\u001b[0;34m\u001b[0m\u001b[0m\n\u001b[1;32m      3\u001b[0m \u001b[0;34m\u001b[0m\u001b[0m\n\u001b[1;32m      4\u001b[0m \u001b[0mplt\u001b[0m\u001b[0;34m.\u001b[0m\u001b[0mscatter\u001b[0m\u001b[0;34m(\u001b[0m\u001b[0mdiabetes_X_test\u001b[0m\u001b[0;34m,\u001b[0m \u001b[0mdiabetes_y_test\u001b[0m\u001b[0;34m,\u001b[0m   \u001b[0mcolor\u001b[0m\u001b[0;34m=\u001b[0m\u001b[0;34m'black'\u001b[0m\u001b[0;34m)\u001b[0m\u001b[0;34m\u001b[0m\u001b[0m\n\u001b[1;32m      5\u001b[0m \u001b[0mplt\u001b[0m\u001b[0;34m.\u001b[0m\u001b[0mplot\u001b[0m\u001b[0;34m(\u001b[0m\u001b[0mdiabetes_X_test\u001b[0m\u001b[0;34m,\u001b[0m \u001b[0mdiabetes_y_test_pred\u001b[0m\u001b[0;34m,\u001b[0m \u001b[0mcolor\u001b[0m\u001b[0;34m=\u001b[0m\u001b[0;34m'blue'\u001b[0m\u001b[0;34m,\u001b[0m \u001b[0mlinewidth\u001b[0m \u001b[0;34m=\u001b[0m \u001b[0;36m3\u001b[0m\u001b[0;34m)\u001b[0m\u001b[0;34m\u001b[0m\u001b[0m\n",
            "\u001b[0;32m/usr/local/lib/python3.6/dist-packages/matplotlib/pyplot.py\u001b[0m in \u001b[0;36mscatter\u001b[0;34m(x, y, s, c, marker, cmap, norm, vmin, vmax, alpha, linewidths, verts, edgecolors, hold, data, **kwargs)\u001b[0m\n\u001b[1;32m   3376\u001b[0m                          \u001b[0mvmin\u001b[0m\u001b[0;34m=\u001b[0m\u001b[0mvmin\u001b[0m\u001b[0;34m,\u001b[0m \u001b[0mvmax\u001b[0m\u001b[0;34m=\u001b[0m\u001b[0mvmax\u001b[0m\u001b[0;34m,\u001b[0m \u001b[0malpha\u001b[0m\u001b[0;34m=\u001b[0m\u001b[0malpha\u001b[0m\u001b[0;34m,\u001b[0m\u001b[0;34m\u001b[0m\u001b[0m\n\u001b[1;32m   3377\u001b[0m                          \u001b[0mlinewidths\u001b[0m\u001b[0;34m=\u001b[0m\u001b[0mlinewidths\u001b[0m\u001b[0;34m,\u001b[0m \u001b[0mverts\u001b[0m\u001b[0;34m=\u001b[0m\u001b[0mverts\u001b[0m\u001b[0;34m,\u001b[0m\u001b[0;34m\u001b[0m\u001b[0m\n\u001b[0;32m-> 3378\u001b[0;31m                          edgecolors=edgecolors, data=data, **kwargs)\n\u001b[0m\u001b[1;32m   3379\u001b[0m     \u001b[0;32mfinally\u001b[0m\u001b[0;34m:\u001b[0m\u001b[0;34m\u001b[0m\u001b[0m\n\u001b[1;32m   3380\u001b[0m         \u001b[0max\u001b[0m\u001b[0;34m.\u001b[0m\u001b[0m_hold\u001b[0m \u001b[0;34m=\u001b[0m \u001b[0mwashold\u001b[0m\u001b[0;34m\u001b[0m\u001b[0m\n",
            "\u001b[0;32m/usr/local/lib/python3.6/dist-packages/matplotlib/__init__.py\u001b[0m in \u001b[0;36minner\u001b[0;34m(ax, *args, **kwargs)\u001b[0m\n\u001b[1;32m   1715\u001b[0m                     warnings.warn(msg % (label_namer, func.__name__),\n\u001b[1;32m   1716\u001b[0m                                   RuntimeWarning, stacklevel=2)\n\u001b[0;32m-> 1717\u001b[0;31m             \u001b[0;32mreturn\u001b[0m \u001b[0mfunc\u001b[0m\u001b[0;34m(\u001b[0m\u001b[0max\u001b[0m\u001b[0;34m,\u001b[0m \u001b[0;34m*\u001b[0m\u001b[0margs\u001b[0m\u001b[0;34m,\u001b[0m \u001b[0;34m**\u001b[0m\u001b[0mkwargs\u001b[0m\u001b[0;34m)\u001b[0m\u001b[0;34m\u001b[0m\u001b[0m\n\u001b[0m\u001b[1;32m   1718\u001b[0m         \u001b[0mpre_doc\u001b[0m \u001b[0;34m=\u001b[0m \u001b[0minner\u001b[0m\u001b[0;34m.\u001b[0m\u001b[0m__doc__\u001b[0m\u001b[0;34m\u001b[0m\u001b[0m\n\u001b[1;32m   1719\u001b[0m         \u001b[0;32mif\u001b[0m \u001b[0mpre_doc\u001b[0m \u001b[0;32mis\u001b[0m \u001b[0;32mNone\u001b[0m\u001b[0;34m:\u001b[0m\u001b[0;34m\u001b[0m\u001b[0m\n",
            "\u001b[0;32m/usr/local/lib/python3.6/dist-packages/matplotlib/axes/_axes.py\u001b[0m in \u001b[0;36mscatter\u001b[0;34m(self, x, y, s, c, marker, cmap, norm, vmin, vmax, alpha, linewidths, verts, edgecolors, **kwargs)\u001b[0m\n\u001b[1;32m   3953\u001b[0m         \u001b[0my\u001b[0m \u001b[0;34m=\u001b[0m \u001b[0mnp\u001b[0m\u001b[0;34m.\u001b[0m\u001b[0mma\u001b[0m\u001b[0;34m.\u001b[0m\u001b[0mravel\u001b[0m\u001b[0;34m(\u001b[0m\u001b[0my\u001b[0m\u001b[0;34m)\u001b[0m\u001b[0;34m\u001b[0m\u001b[0m\n\u001b[1;32m   3954\u001b[0m         \u001b[0;32mif\u001b[0m \u001b[0mx\u001b[0m\u001b[0;34m.\u001b[0m\u001b[0msize\u001b[0m \u001b[0;34m!=\u001b[0m \u001b[0my\u001b[0m\u001b[0;34m.\u001b[0m\u001b[0msize\u001b[0m\u001b[0;34m:\u001b[0m\u001b[0;34m\u001b[0m\u001b[0m\n\u001b[0;32m-> 3955\u001b[0;31m             \u001b[0;32mraise\u001b[0m \u001b[0mValueError\u001b[0m\u001b[0;34m(\u001b[0m\u001b[0;34m\"x and y must be the same size\"\u001b[0m\u001b[0;34m)\u001b[0m\u001b[0;34m\u001b[0m\u001b[0m\n\u001b[0m\u001b[1;32m   3956\u001b[0m \u001b[0;34m\u001b[0m\u001b[0m\n\u001b[1;32m   3957\u001b[0m         \u001b[0;32mif\u001b[0m \u001b[0ms\u001b[0m \u001b[0;32mis\u001b[0m \u001b[0;32mNone\u001b[0m\u001b[0;34m:\u001b[0m\u001b[0;34m\u001b[0m\u001b[0m\n",
            "\u001b[0;31mValueError\u001b[0m: x and y must be the same size"
          ]
        },
        {
          "output_type": "display_data",
          "data": {
            "image/png": "[encoded data removed]",
            "text/plain": [
              "<matplotlib.figure.Figure at 0x7f16756dc390>"
            ]
          },
          "metadata": {
            "tags": []
          }
        }
      ]
    }
  ]
}