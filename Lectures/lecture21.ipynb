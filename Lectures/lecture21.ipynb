{
  "nbformat": 4,
  "nbformat_minor": 0,
  "metadata": {
    "colab": {
      "name": "lecture21.ipynb",
      "version": "0.3.2",
      "provenance": [],
      "collapsed_sections": [
        "ViW_XDpQ1PR7",
        "7i44nbmV1PSB",
        "TFd0egUd1PSD",
        "ziI4Rloa1PSF",
        "suZX3SiFDwQg",
        "AZJEDpBpFvx7",
        "mStF_Nxikbpn",
        "fnZz3s-Y1PSS",
        "iSd7N5jG1PSd",
        "ez9vWqDV1PSl",
        "9CRpEHf41PSz",
        "9I4vHMhA1PS7",
        "VYr-mnQQ1PS_",
        "RIaNo0eXXUL1"
      ],
      "include_colab_link": true
    },
    "kernelspec": {
      "name": "python3",
      "display_name": "Python 3"
    }
  },
  "cells": [
    {
      "cell_type": "markdown",
      "metadata": {
        "id": "view-in-github",
        "colab_type": "text"
      },
      "source": [
        "<a href=\"https://colab.research.google.com/github/wdconinc/practical-computing-for-scientists/blob/master/Lectures/lecture21.ipynb\" target=\"_parent\"><img src=\"https://colab.research.google.com/assets/colab-badge.svg\" alt=\"Open In Colab\"/></a>"
      ]
    },
    {
      "metadata": {
        "id": "ViW_XDpQ1PR7",
        "colab_type": "text"
      },
      "cell_type": "markdown",
      "source": [
        "# Lecture #21"
      ]
    },
    {
      "metadata": {
        "id": "SGdC1dgX1PR-",
        "colab_type": "code",
        "colab": {}
      },
      "cell_type": "code",
      "source": [
        "%matplotlib inline\n",
        "import numpy as np\n",
        "import scipy as sp\n",
        "import matplotlib.pyplot as plt\n",
        "import math\n",
        "import numpy.matlib as ml"
      ],
      "execution_count": 0,
      "outputs": []
    },
    {
      "metadata": {
        "id": "7i44nbmV1PSB",
        "colab_type": "text"
      },
      "cell_type": "markdown",
      "source": [
        "##In our last episode"
      ]
    },
    {
      "metadata": {
        "id": "CKX0kGcR1PSD",
        "colab_type": "text"
      },
      "cell_type": "markdown",
      "source": [
        "* 1st order ODEs\n",
        "  * the Runge-Kutta 4th order method coded"
      ]
    },
    {
      "metadata": {
        "id": "TFd0egUd1PSD",
        "colab_type": "text"
      },
      "cell_type": "markdown",
      "source": [
        "## Solving 1st order Ordinary Differential Equations (ODEs)"
      ]
    },
    {
      "metadata": {
        "id": "ziI4Rloa1PSF",
        "colab_type": "text"
      },
      "cell_type": "markdown",
      "source": [
        "### 4th order Runge-Kutta"
      ]
    },
    {
      "metadata": {
        "id": "DKWnKawL7MHU",
        "colab_type": "text"
      },
      "cell_type": "markdown",
      "source": [
        "Now that we know how to derive the general Runge-Kutta methods, we could (given enough time) derive the most commonly used Runge-Kutta method of 4th order. This method has a truncation error of $\\mathcal{O}(h^5)$ per step.\n",
        "￼\n",
        "For the 4th order Runge-Kutta method we use:\n",
        "$$ y_{n+1} = y_{n} + h\\sum_{i=1}^4 b_i k_i $$\n",
        "with the $k_i$ evaluated at\n",
        "$$ k_1 = f\\big(t_n + c_1 h, y_n\\big) $$\n",
        "$$ k_2 = f\\big(t_n + c_2 h, y_n + h (a_{21} k_1)\\big) $$\n",
        "$$ k_3 = f\\big(t_n + c_3 h, y_n + h (a_{31} k_1 + a_{32} k_2)\\big) $$\n",
        "$$ k_4 = f\\big(t_n + c_4 h, y_n + h (a_{41} k_1 + a_{42} k_2 + a_{43} k_3)\\big) $$\n",
        "and with the coefficients\n",
        "$$ b_1 = \\frac{1}{6} \\quad b_2 = \\frac{1}{3} \\quad b_3 = \\frac{1}{3} \\quad b_4 = \\frac{1}{6} $$\n",
        "$$ c_1 = 0 \\quad c_2 = \\frac{1}{2} \\quad c_3 = \\frac{1}{2} \\quad c_4 = 1 $$\n",
        "$$ a_{21} = \\frac{1}{2} \\quad a_{32} = \\frac{1}{2} \\quad a_{43} = 1 $$\n"
      ]
    },
    {
      "metadata": {
        "id": "a2TB2h_o1PSG",
        "colab_type": "code",
        "colab": {}
      },
      "cell_type": "code",
      "source": [
        "def solve_rk4(f, t, y0):\n",
        "    y = np.zeros_like(t)\n",
        "    y[0] = y0\n",
        "    for i in range(0, len(t) - 1):\n",
        "        h = t[i+1] - t[i]\n",
        "        k1 = h*f(y[i], t[i])\n",
        "        k2 = h*f(y[i] + k1/2, t[i] + h/2)\n",
        "        k3 = h*f(y[i] + k2/2, t[i] + h/2)\n",
        "        k4 = h*f(y[i] + k3, t[i] + h)\n",
        "        y[i+1] = y[i] + 1/6 * (k1 + 2*k2 + 2*k3 + k4)\n",
        "    return y"
      ],
      "execution_count": 0,
      "outputs": []
    },
    {
      "metadata": {
        "id": "cqOZOEdn4NR6",
        "colab_type": "code",
        "colab": {}
      },
      "cell_type": "code",
      "source": [
        "f1 = lambda y, t: -y*t\n",
        "f1_exsol = lambda t: np.exp(-0.5*t**2)\n",
        "t = np.linspace(0, 2, 25)\n",
        "plt.plot(t,f1_exsol(t))\n",
        "y0 = 1\n",
        "y1_rk4 = solve_rk4(f1, t, y0)\n",
        "plt.plot(t, y1_rk4, \"--og\", ms = 4)"
      ],
      "execution_count": 0,
      "outputs": []
    },
    {
      "metadata": {
        "id": "OTYPQmGf4SCP",
        "colab_type": "code",
        "colab": {}
      },
      "cell_type": "code",
      "source": [
        "plt.plot(t, f1_exsol(t) - y1_rk4)"
      ],
      "execution_count": 0,
      "outputs": []
    },
    {
      "metadata": {
        "id": "-wMlL1Li1PSJ",
        "colab_type": "code",
        "colab": {}
      },
      "cell_type": "code",
      "source": [
        "f2 = lambda y,t: -np.sin(t)\n",
        "f2_exact = lambda t: np.cos(t)\n",
        "y0 = 1\n",
        "t = np.linspace(0,60,120)\n",
        "plt.plot(t, f2_exact(t))\n",
        "Y2solution = solve_rk4(f2, t, y0)\n",
        "plt.plot(t, Y2solution, '--og', ms = 3)"
      ],
      "execution_count": 0,
      "outputs": []
    },
    {
      "metadata": {
        "id": "p62cDt7c1PSO",
        "colab_type": "code",
        "colab": {}
      },
      "cell_type": "code",
      "source": [
        "plt.plot(t, f2_exact(t) - Y2solution)"
      ],
      "execution_count": 0,
      "outputs": []
    },
    {
      "metadata": {
        "id": "suZX3SiFDwQg",
        "colab_type": "text"
      },
      "cell_type": "markdown",
      "source": [
        "### 4th-5th order Runge-Kutta: adaptive steps"
      ]
    },
    {
      "metadata": {
        "id": "Q_fiBiraD0XU",
        "colab_type": "text"
      },
      "cell_type": "markdown",
      "source": [
        "There is one more improvement we can make to our Runge-Kutta method: *adaptive step sizes*. Instead of specifying the set of points ourselves in advance, let's let the algorithm figure it out!\n",
        "\n",
        "We could use an approach similar to the bisection algorithm or the trapezoid rule: we start with a step size $h$ and we keep reducing the step size $h$ to $h/2$ until the difference becomes smaller than a preset tolerance. However, this is inefficient and requires that we recalculate the entire problem multiple times.\n",
        "\n",
        "Instead we choose to use a specific set of 4th and 5th order Runge-Kutta coefficients which have a lot of overlap. For each $y_{n+1}$ which we calculate with the 4th order Runge-Kutta coefficients, we *also* calculate $z_{n+1}$ with the 5th order Runge-Kutta coefficients.\n",
        "\n",
        "Since the two orders have a truncation error that differs by 1 order of $h$, we can use the difference to determine a better value for $h$ given some tolerance."
      ]
    },
    {
      "metadata": {
        "id": "AZJEDpBpFvx7",
        "colab_type": "text"
      },
      "cell_type": "markdown",
      "source": [
        "#### 4th-5th order Runge-Kutta-Fehlberg"
      ]
    },
    {
      "metadata": {
        "colab_type": "text",
        "id": "Mj6ICNJlGtSH"
      },
      "cell_type": "markdown",
      "source": [
        "For the 4th-5th order Runge-Kutta-Fehlberg method we evaluate the $k_i$ evaluated at\n",
        "$$ k_1 = f\\big(t_n, y_n\\big) $$\n",
        "\n",
        "$$ k_2 = f\\Big(t_n + \\frac{1}{4} h_n, y_n + \\frac{1}{4} h_n k_1\\Big) $$\n",
        "\n",
        "$$ k_3 = f\\Big(t_n + \\frac{3}{8} h_n, y_n + h_n\\big(\\frac{3}{32} k_1 + \\frac{9}{32} k_2\\big)\\Big) $$\n",
        "\n",
        "$$ k_4 = f\\Big(t_n + \\frac{12}{13} h_n, y_n + h_n\\big(\\frac{1932}{2197} k_1 - \\frac{7200}{2197} k_2 + \\frac{7296}{2197} k_3\\big)\\Big) $$\n",
        "\n",
        "$$ k_5 = f\\Big(t_n + h_n, y_n + h_n\\big(\\frac{439}{216} k_1 - 8 k_2 + \\frac{3680}{513} k_3 - \\frac{845}{4104} k_4\\big)\\Big) $$\n",
        "\n",
        "$$ k_6 = f\\Big(t_n + \\frac{1}{2} h_n, y_n + h_n\\big(-\\frac{8}{27} k_1 +2 k_2 - \\frac{3544}{2565} k_3 + \\frac{1859}{4104} k_4 - \\frac{11}{40} k_5\\big)\\Big) $$\n",
        "\n",
        "We can then determine the 4th order point\n",
        "$$ y_{n+1} = y_{n} + h_n\\Big( \\frac{25}{216} k_1 + \\frac{1408}{2565} k_3 + \\frac{2197}{4104} k_4 - \\frac{1}{5} k_5 \\Big) $$\n",
        "and the 5th order point\n",
        "$$ z_{n+1} = y_{n} + h_n\\Big( \\frac{16}{135} k_1 + \\frac{6656}{12825} k_3 + \\frac{28561}{56430} k_4 - \\frac{9}{50} k_5 - \\frac{2}{55} k_6\\Big) $$\n",
        "\n",
        "Now we can compare the determinations for $y_{n+1}$ and for $z_{n+1}$, and detemine the optimal step size $h_{n+1}$ for a precision tolerance $tol$:\n",
        "$$ h_{n+1} = h_n \\sqrt[4]{\\frac{h_n \\, tol}{2 |z_{n+1} - y_{n+1}|}} $$"
      ]
    },
    {
      "metadata": {
        "colab_type": "code",
        "id": "Yv2iRTJGMxZH",
        "colab": {}
      },
      "cell_type": "code",
      "source": [
        "def solve_rk45(f, t0, t1, y0, tol = 1e-6, maxn = 200):\n",
        "    t = np.array([t0], dtype=np.float64)\n",
        "    y = np.array([y0], dtype=np.float64)\n",
        "    z = np.array([y0], dtype=np.float64)\n",
        "    h = (t1 - t0) / maxn # initial step\n",
        "    i = 0\n",
        "    while t[i] < t1 and i < maxn:\n",
        "        t = np.append(t, 0)\n",
        "        y = np.append(y, 0)\n",
        "        z = np.append(z, 0)\n",
        "        t[i+1] = t[i] + h\n",
        "\n",
        "        k1 = h*f(y[i], t[i])\n",
        "        k2 = h*f(y[i] + k1/4, t[i] + h/4)\n",
        "        k3 = h*f(y[i] + 3*k1/32 + 9*k2/32, t[i] + 3*h/8)\n",
        "        k4 = h*f(y[i] + 1932*k1/2197 - 7200*k2/2197 + 7296*k3/2197, t[i] + 12*h/13)\n",
        "        k5 = h*f(y[i] + 439*k1/216 - 8*k2 + 3680*k3/513 - 845*k4/4104, t[i] + h)\n",
        "        k6 = h*f(y[i] - 8*k1/27 + 2*k2 - 3544*k3/2565 + 1859*k4/4104 - 11*k5/40, t[i] + h/2)\n",
        "        y[i+1] = y[i] + 25*k1/216 + 1408*k3/2565 + 2197*k4/4104 - k5/5\n",
        "        z[i+1] = y[i] + 16*k1/135 + 6656*k3/12825 + 28561*k4/56430 - 9*k5/50 + 2*k6/55\n",
        "\n",
        "        if math.fabs(z[i+1] - y[i+1]) > 0:\n",
        "            h = h * (h * tol / 2 / math.fabs(z[i+1] - y[i+1]))**0.25\n",
        "            \n",
        "        i = i+1\n",
        "            \n",
        "    if i == maxn:\n",
        "        return ArithmeticError(\"Failed to converge\")\n",
        "\n",
        "    return t, y"
      ],
      "execution_count": 0,
      "outputs": []
    },
    {
      "metadata": {
        "colab_type": "code",
        "id": "iIwEA6_jWooZ",
        "colab": {}
      },
      "cell_type": "code",
      "source": [
        "f1 = lambda y, t: -y*t\n",
        "f1_exsol = lambda t: np.exp(-0.5*t**2)\n",
        "t0 = 0\n",
        "t1 = 2\n",
        "y0 = 1\n",
        "t = np.linspace(t0, t1, 25)\n",
        "plt.plot(t,f1_exsol(t))\n",
        "t1solution, y1_rk45 = solve_rk45(f1, t0, t1, y0)\n",
        "plt.plot(t1solution, y1_rk45, \"--og\", ms = 4)"
      ],
      "execution_count": 0,
      "outputs": []
    },
    {
      "metadata": {
        "colab_type": "code",
        "id": "zye49LtRWoog",
        "colab": {}
      },
      "cell_type": "code",
      "source": [
        "print(\"Average step size %f in %d steps\" % ((t1-t0)/len(t1solution), len(t1solution)))\n",
        "plt.plot(t1solution, f1_exsol(t1solution) - y1_rk45)"
      ],
      "execution_count": 0,
      "outputs": []
    },
    {
      "metadata": {
        "colab_type": "code",
        "id": "WdU5-KgNMxZN",
        "colab": {}
      },
      "cell_type": "code",
      "source": [
        "f2 = lambda y,t: -np.sin(t)\n",
        "f2_exact = lambda t: np.cos(t)\n",
        "t0 = 0\n",
        "t1 = 60\n",
        "y0 = 1\n",
        "t = np.linspace(t0, t1, 120)\n",
        "plt.plot(t,f2_exact(t))\n",
        "t2solution, y2solution = solve_rk45(f2, t0, t1, y0)\n",
        "plt.plot(t2solution, y2solution, '--og', ms = 3)"
      ],
      "execution_count": 0,
      "outputs": []
    },
    {
      "metadata": {
        "colab_type": "code",
        "id": "PkBrPKJeMxZR",
        "colab": {}
      },
      "cell_type": "code",
      "source": [
        "print(\"Average step size %f in %d steps\" % ((t1-t0)/len(t2solution), len(t2solution)))\n",
        "plt.plot(t2solution, f2_exact(t2solution) - y2solution)"
      ],
      "execution_count": 0,
      "outputs": []
    },
    {
      "metadata": {
        "id": "mStF_Nxikbpn",
        "colab_type": "text"
      },
      "cell_type": "markdown",
      "source": [
        "#### Variations in step size based on the behavior of the function"
      ]
    },
    {
      "metadata": {
        "colab_type": "code",
        "id": "kljBk12diod3",
        "colab": {}
      },
      "cell_type": "code",
      "source": [
        "f3 = lambda y,t: -np.sin(t**2)\n",
        "t0 = 0\n",
        "t1 = 10\n",
        "y0 = 1\n",
        "t3solution, y3solution = solve_rk45(f3, t0, t1, y0)\n",
        "plt.plot(t3solution, y3solution, '-og', ms = 4)"
      ],
      "execution_count": 0,
      "outputs": []
    },
    {
      "metadata": {
        "id": "fnZz3s-Y1PSS",
        "colab_type": "text"
      },
      "cell_type": "markdown",
      "source": [
        "## Beyond 1st order ODE: Solving Hermite's Equation"
      ]
    },
    {
      "metadata": {
        "id": "bhad7ycx1PST",
        "colab_type": "text"
      },
      "cell_type": "markdown",
      "source": [
        "Hermite's differential equation is:\n",
        "\n",
        "$$ y'' - 2ty' + 2ny = 0 $$\n",
        "\n",
        "This is 2nd order ODE. To solve it numerically we introduce a new variable, the velocity - $v$. Then the 2nd order equation can be written as 2 first order equations:\n",
        "\n",
        "$ y' = v $\n",
        "\n",
        "$ v' = 2tv-2ny$\n",
        "\n",
        "We'll now treat $y,v$ as 0th and 1st elements of an array. We'll adopt a general notation $y_{ij}$ where $j$ labels the variable and $i$ the timestep. So, for a timestep $i$ the above two equations would be\n",
        "\n",
        "$ y_{i0}' = y_{i1} $\n",
        "\n",
        "$ y_{i1}' = 2t_{i} y_{i1} -2ny_{i0}$  \n",
        "\n",
        "In the vectorized RK4 solver below $y_{ij}$ is the element `y[i,j]` of the 2D array.\n"
      ]
    },
    {
      "metadata": {
        "id": "1tAbtvYS1PSU",
        "colab_type": "code",
        "colab": {}
      },
      "cell_type": "code",
      "source": [
        "#### hermite function with n, default order 2\n",
        "def fhn(y, t, n = 2):\n",
        "    yprime = np.zeros_like(y)\n",
        "    yprime[0] = y[1]\n",
        "    yprime[1] = 2*t*y[1] - 2*n*y[0]\n",
        "    return yprime"
      ],
      "execution_count": 0,
      "outputs": []
    },
    {
      "metadata": {
        "id": "3IsS2a9vClgg",
        "colab_type": "text"
      },
      "cell_type": "markdown",
      "source": [
        "As a given, we know the initial conditions at $x = 0$: $y(0) = -2$ and $y'(0) = 0$."
      ]
    },
    {
      "metadata": {
        "id": "d6P6iZzF1PSX",
        "colab_type": "code",
        "colab": {}
      },
      "cell_type": "code",
      "source": [
        "y0 = [-2,0]"
      ],
      "execution_count": 0,
      "outputs": []
    },
    {
      "metadata": {
        "id": "iSd7N5jG1PSd",
        "colab_type": "text"
      },
      "cell_type": "markdown",
      "source": [
        "###Playing around with arrays"
      ]
    },
    {
      "metadata": {
        "id": "qdt3e2111PSf",
        "colab_type": "text"
      },
      "cell_type": "markdown",
      "source": [
        "This is the sort of testing I had to do in order to vectorize `solve_rk4`"
      ]
    },
    {
      "metadata": {
        "id": "luFjV-gp1PSh",
        "colab_type": "code",
        "colab": {}
      },
      "cell_type": "code",
      "source": [
        "v = np.zeros((4,2))\n",
        "print(v)\n",
        "w = np.asarray([1,2])\n",
        "print(w)\n",
        "v[1] = w\n",
        "print(v)"
      ],
      "execution_count": 0,
      "outputs": []
    },
    {
      "metadata": {
        "id": "ez9vWqDV1PSl",
        "colab_type": "text"
      },
      "cell_type": "markdown",
      "source": [
        "###Vectorizing `solve_rk4`"
      ]
    },
    {
      "metadata": {
        "id": "o8ujjCcx1PSm",
        "colab_type": "code",
        "colab": {}
      },
      "cell_type": "code",
      "source": [
        "def vsolve_rk4(f,t,y0):\n",
        "    y0 = np.asarray(y0)\n",
        "    t = np.asarray(t)\n",
        "    y = np.zeros((len(t),len(y0)))\n",
        "    y[0] = y0\n",
        "    for i in range(0, len(t) - 1):\n",
        "        h = t[i+1] - t[i]\n",
        "        k1 = h*f(y[i], t[i])\n",
        "        k2 = h*f(y[i] + k1/2, t[i] + h/2)\n",
        "        k3 = h*f(y[i] + k2/2, t[i] + h/2)\n",
        "        k4 = h*f(y[i] + k3, t[i] + h)\n",
        "        y[i+1] = y[i] + 1/6 * (k1 + 2*k2 + 2*k3 + k4)\n",
        "    return y"
      ],
      "execution_count": 0,
      "outputs": []
    },
    {
      "metadata": {
        "id": "5qt4qxPI1PSq",
        "colab_type": "code",
        "colab": {}
      },
      "cell_type": "code",
      "source": [
        "n = 2\n",
        "t = np.linspace(0, 2, 50)\n",
        "fh = lambda y, t: fhn(y, t, n)\n",
        "H = sp.special.hermite(n)\n",
        "plt.plot(t, H(t))\n",
        "y = vsolve_rk4(fh, t, y0)\n",
        "plt.plot(t, y[:,0], \"or\", ms = 3)"
      ],
      "execution_count": 0,
      "outputs": []
    },
    {
      "metadata": {
        "id": "uQKLBtdI1PSv",
        "colab_type": "code",
        "colab": {}
      },
      "cell_type": "code",
      "source": [
        "plt.plot(H(t) - y[:,0])"
      ],
      "execution_count": 0,
      "outputs": []
    },
    {
      "metadata": {
        "id": "9CRpEHf41PSz",
        "colab_type": "text"
      },
      "cell_type": "markdown",
      "source": [
        "###Physical pendulum"
      ]
    },
    {
      "metadata": {
        "id": "EmbFkTlv1PS0",
        "colab_type": "text"
      },
      "cell_type": "markdown",
      "source": [
        "The ODE for a pendulum is:\n",
        "\n",
        "$$\\theta'' + \\frac{mgh}{I}\\sin\\theta = 0$$\n",
        "\n",
        "This is the _physical_ pendulum, in contrast to the case $\\sin\\theta\\approx\\theta$ which is the _idealized_ or small angle pendulum.  I solve it below for a meterstick rotated around its end.  \n",
        "\n",
        "Idealized pendula undergo simple harmonic motion with $T_{ideal}=2\\pi/\\sqrt{mgh/I}$. For a meterstick rotating around its end, $I=\\frac{1}{3} m \\ell^2$ and $mgh/I=(10)(\\ell/2)/ (1/3) \\ell^2 = 30/2=15 s^{-2}$. So $T_{ideal}=2\\pi/\\sqrt{15}=1.622$."
      ]
    },
    {
      "metadata": {
        "id": "8GbJ1QPA1PS2",
        "colab_type": "code",
        "colab": {}
      },
      "cell_type": "code",
      "source": [
        "def fpend(y,t):\n",
        "    yprime = np.zeros_like(y)\n",
        "    yprime[0] = y[1]\n",
        "    yprime[1] = -15 * np.sin(y[0])\n",
        "    return yprime\n",
        "y0 = [math.pi/4.0, 0]\n",
        "\n",
        "t = np.linspace(0,3)\n",
        "ypend = vsolve_rk4(fpend, t, y0)\n",
        "plt.plot(t, ypend[:,0], \"-og\", ms = 3)\n",
        "plt.plot([2*math.pi/math.sqrt(15)]*10, np.linspace(-.8,.8,10), \"r\")\n",
        "plt.annotate(\"$T_{ideal} = 2\\pi/\\sqrt{15}$\", (1.622,.8), (0.5,0.8), arrowprops = {\"arrowstyle\":'->'})"
      ],
      "execution_count": 0,
      "outputs": []
    },
    {
      "metadata": {
        "id": "9I4vHMhA1PS7",
        "colab_type": "text"
      },
      "cell_type": "markdown",
      "source": [
        "###Physical pendulum vs the \"ideal\" $\\sin\\theta \\approx \\theta$ approximation"
      ]
    },
    {
      "metadata": {
        "id": "CK69nLV31PS9",
        "colab_type": "text"
      },
      "cell_type": "markdown",
      "source": [
        "In the physical pendulum, the torque is proportional to $\\sin\\theta$ and acts as a restoring force. The difference in torque between the physical and ideal pendula is then proportional to:\n",
        "\n",
        "$$ \\sin\\theta - \\theta = -\\frac{\\theta^3}{3!} + \\frac{\\theta^5}{5!} + \\mathcal{O}(\\theta^7) $$\n",
        "\n",
        "In class, we used $\\theta_0=\\pi/4$ and released the meterstick from rest, so $\\theta_0$ is the maximum amplitude.  Plugging $\\theta_0$ into the expansion, shows that $\\theta>\\sin\\theta$ for all  $\\theta\\leq\\theta_0$. Thus, since the restoring force is smaller, we expect the physical pendulum has a longer period, as observed.\n",
        "\n",
        "Note, this is even a bigger effect if one chooses a larger $\\theta_0$. "
      ]
    },
    {
      "metadata": {
        "id": "VYr-mnQQ1PS_",
        "colab_type": "text"
      },
      "cell_type": "markdown",
      "source": [
        "###Air drag on a projectile"
      ]
    },
    {
      "metadata": {
        "id": "YE_GVAzX1PTA",
        "colab_type": "text"
      },
      "cell_type": "markdown",
      "source": [
        "The drag force on an object like a baseball can be written as:\n",
        "\n",
        "$$F_D = \\frac{1}{2} \\rho C_D A v^2$$\n",
        "\n",
        "Where $C_D\\approx \\frac{1}{2}$ is the drag coefficient, $\\rho$ is the density of air, $A$ is the cross-sectional area of the baseball and $v$ is the velocity. \n",
        "\n",
        "Consider throwing the ball vertically. Newton's 2nd law tells us:\n",
        "\n",
        "$$y'' = -g + \\frac{\\rho C_D A}{m} \\frac{v^3}{|v|}$$\n",
        "\n",
        "Plugging in numbers I found $\\frac{\\rho C_D A}{m}=0.01 m^{-1}$. The differential equation can then be solved as before. As usual, I plot the analytical solution to the problem, or a related problem, as a check. In this case, if we just set $C_D=0$ the calculation should agree with the familiar parabolic equation."
      ]
    },
    {
      "metadata": {
        "id": "mYKdN1ZA1PTC",
        "colab_type": "code",
        "colab": {}
      },
      "cell_type": "code",
      "source": [
        "def f1d_drag(y,t):\n",
        "    yprime = np.zeros_like(y)\n",
        "    yprime[0] = y[1]\n",
        "    yprime[1] = 0.01 * (-np.sign(y[1])) * y[1]**2 - 10\n",
        "    return yprime\n",
        "\n",
        "f1d_nodrag = lambda x0, v0, a, t: x0 + v0*t + 0.5*a*t**2\n",
        "\n",
        "y0 = [0,40]\n",
        "t = np.linspace(0,8)\n",
        "plt.plot(t, f1d_nodrag(0, 40, -10, t))\n",
        "ydrag = vsolve_rk4(f1d_drag, t, y0)\n",
        "plt.plot(t, ydrag[:,0], \"ro\", ms = 3)"
      ],
      "execution_count": 0,
      "outputs": []
    },
    {
      "metadata": {
        "id": "RIaNo0eXXUL1",
        "colab_type": "text"
      },
      "cell_type": "markdown",
      "source": [
        "##Using `scipy.integrate.odeint`"
      ]
    },
    {
      "metadata": {
        "colab_type": "code",
        "id": "aR7Q-UyID17s",
        "colab": {}
      },
      "cell_type": "code",
      "source": [
        "import scipy.integrate as ig\n",
        "yodeint = ig.odeint(f1d_drag, y0, t)\n",
        "plt.plot(t, f1d_nodrag(0, 40, -10, t))\n",
        "plt.plot(t, ydrag[:,0], '-y', ms = 3)\n",
        "plt.plot(t, yodeint[:,0], 'ro', ms = 3)"
      ],
      "execution_count": 0,
      "outputs": []
    },
    {
      "metadata": {
        "id": "7CkNzf45D_uM",
        "colab_type": "code",
        "colab": {}
      },
      "cell_type": "code",
      "source": [
        "plt.plot(t, ydrag[:,0] - yodeint[:,0])"
      ],
      "execution_count": 0,
      "outputs": []
    },
    {
      "metadata": {
        "id": "R9TEqfsMExGr",
        "colab_type": "code",
        "colab": {}
      },
      "cell_type": "code",
      "source": [
        ""
      ],
      "execution_count": 0,
      "outputs": []
    }
  ]
}